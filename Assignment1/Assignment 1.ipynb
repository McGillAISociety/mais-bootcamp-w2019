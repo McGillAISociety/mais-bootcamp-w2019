{
 "cells": [
  {
   "cell_type": "markdown",
   "metadata": {},
   "source": [
    "# Assignment 1"
   ]
  },
  {
   "cell_type": "markdown",
   "metadata": {},
   "source": [
    "This assignment provides a brief introduction to the machine learning process that we will cover in depth in this course. We want to show a simple workflow of how you can use the sklearn library for machine learning. We will be using the MNIST handwritten digits dataset to dive into the machine learning process."
   ]
  },
  {
   "cell_type": "markdown",
   "metadata": {},
   "source": [
    "## Imports"
   ]
  },
  {
   "cell_type": "markdown",
   "metadata": {},
   "source": [
    "First let us import some libraries.\n",
    "\n",
    "1) numpy - http://www.numpy.org/ - A library for dealing with N-dimensional arrays in python. Numpy provides efficient implementations of common numerical computations used in linear algebra.\n",
    "\n",
    "2) sklearn - https://scikit-learn.org/stable/ - A data analysis library that provides implementations of many machine learning algorithms (and much more!).\n",
    "\n",
    "3) matplotlib - https://matplotlib.org/ - A python 2D plotting library used for visualizations (data, charts, etc.)\n",
    "\n",
    "These libraries (and many more) are often used together and built on top of each other. For example, sklearn depends on numpy and uses numpy arrays under the hood."
   ]
  },
  {
   "cell_type": "code",
   "execution_count": 1,
   "metadata": {},
   "outputs": [],
   "source": [
    "import numpy as np\n",
    "import matplotlib.pyplot as plt\n",
    "%matplotlib inline\n",
    "\n",
    "from scipy import io\n",
    "from sklearn.datasets import fetch_mldata\n",
    "from sklearn.model_selection import train_test_split\n",
    "from sklearn.preprocessing import OneHotEncoder, MinMaxScaler,StandardScaler\n",
    "from sklearn.metrics import accuracy_score\n",
    "from sklearn.linear_model import LinearRegression, Ridge, LogisticRegression\n",
    "from sklearn.ensemble import RandomForestClassifier, AdaBoostClassifier\n",
    "from sklearn.svm import LinearSVC, SVC\n",
    "from sklearn.decomposition import PCA\n",
    "from sklearn.neural_network import MLPClassifier"
   ]
  },
  {
   "cell_type": "markdown",
   "metadata": {},
   "source": [
    "For this homework assignment, we will be using the MNIST dataset. The MNIST data is a collection of black and white 28x28 images, each picturing a handwritten digit. These were collected from digits people write at the post office, and now this dataset is a standard benchmark to evaluate models against used in the machine learning community. We have provided the .mat file in the assignment repository."
   ]
  },
  {
   "cell_type": "code",
   "execution_count": 2,
   "metadata": {},
   "outputs": [
    {
     "name": "stdout",
     "output_type": "stream",
     "text": [
      "{'__header__': b'MATLAB 5.0 MAT-file Platform: posix, Created on: Sun Mar 30 03:19:02 2014', '__version__': '1.0', '__globals__': [], 'mldata_descr_ordering': array([[array(['label'], dtype='<U5'), array(['data'], dtype='<U4')]],\n",
      "      dtype=object), 'data': array([[0, 0, 0, ..., 0, 0, 0],\n",
      "       [0, 0, 0, ..., 0, 0, 0],\n",
      "       [0, 0, 0, ..., 0, 0, 0],\n",
      "       ...,\n",
      "       [0, 0, 0, ..., 0, 0, 0],\n",
      "       [0, 0, 0, ..., 0, 0, 0],\n",
      "       [0, 0, 0, ..., 0, 0, 0]], dtype=uint8), 'label': array([[0., 0., 0., ..., 9., 9., 9.]])}\n"
     ]
    }
   ],
   "source": [
    "mnist = io.loadmat('mnist-original.mat', struct_as_record=True) #Loads Matlab File. Struct_as_record (True = Numpy Record array) else numpy arrays with objects\n",
    "print(mnist) #What are we reading it to? Its numpy arrays?\n",
    "X = mnist['data'].astype('float64').T # Transpose the matrix because we want each row to be an example\n",
    "y = mnist['label'].astype('int64').T"
   ]
  },
  {
   "cell_type": "markdown",
   "metadata": {},
   "source": [
    "## Data Exploration"
   ]
  },
  {
   "cell_type": "markdown",
   "metadata": {},
   "source": [
    "Let us first explore this data a little bit."
   ]
  },
  {
   "cell_type": "code",
   "execution_count": 3,
   "metadata": {},
   "outputs": [
    {
     "name": "stdout",
     "output_type": "stream",
     "text": [
      "(70000, 784) (70000, 1)\n"
     ]
    }
   ],
   "source": [
    "print(X.shape, y.shape)"
   ]
  },
  {
   "cell_type": "markdown",
   "metadata": {},
   "source": [
    "The X matrix here contains all the digit pictures. The data is (n_samples x n_features), meaning this data contains 70000 pictures, each with 784 features (the 28x28 image is flattened into a single row). The y vector contains the label for each digit, so we know which digit (or class - class means category) is in each picture."
   ]
  },
  {
   "cell_type": "markdown",
   "metadata": {},
   "source": [
    "Let's try and visualize this data a bit. Change around the index variable to explore more."
   ]
  },
  {
   "cell_type": "code",
   "execution_count": 4,
   "metadata": {},
   "outputs": [
    {
     "name": "stdout",
     "output_type": "stream",
     "text": [
      "(28, 28)\n"
     ]
    },
    {
     "data": {
      "text/plain": [
       "<matplotlib.image.AxesImage at 0x278755c82b0>"
      ]
     },
     "execution_count": 4,
     "metadata": {},
     "output_type": "execute_result"
    },
    {
     "data": {
      "image/png": "[encoded data removed]",
      "text/plain": [
       "<Figure size 432x288 with 1 Axes>"
      ]
     },
     "metadata": {
      "needs_background": "light"
     },
     "output_type": "display_data"
    }
   ],
   "source": [
    "index = 15000 #15000, 28999, 67345\n",
    "image = X[index].reshape((28, 28)) #Tuple for reshape size. Ordering Default is C. \n",
    "print(image.shape) # Shows the pixel values at each cell in the matrix. Ranges from 0-255\n",
    "plt.title('Label is ' + str(y[index]))\n",
    "plt.imshow(image, cmap='gray')"
   ]
  },
  {
   "cell_type": "markdown",
   "metadata": {},
   "source": [
    "Notice that each pixel value ranges from 0-255. When we train our models, a good practice is to *standardize* the data so different features can be compared more equally (it also speeds up computation). Here we will use a simple standardization, squeezing all values into the [0, 1] interval range. This kind of standardization is called min-max normalization. For other methods, see https://en.wikipedia.org/wiki/Feature_scaling"
   ]
  },
  {
   "cell_type": "code",
   "execution_count": 5,
   "metadata": {},
   "outputs": [
    {
     "name": "stdout",
     "output_type": "stream",
     "text": [
      "Wall time: 1.39 s\n"
     ]
    }
   ],
   "source": [
    "%%time\n",
    "MMSc = MinMaxScaler()\n",
    "X=MMSc.fit_transform(X) #Fits Compute the Max and the Min,then transform it with the scaling\n",
    "#X = X / 255 # Shorthand for dividing all values in the X matrix by 255. Numpy provides lots of shortcuts like this."
   ]
  },
  {
   "cell_type": "markdown",
   "metadata": {},
   "source": [
    "When we train our model, we want it to have the lowest error. Error presents itself in 2 ways: bias (how close our model is to the ideal model), and variance (how much our model varies with different datasets). If we train our model on a chunk of data, and then test our model on that same data, we will only witness the first type of error - bias. However, if we test on new, unseen data, that will reflect both bias and variance. This is the reasoning behind cross validation."
   ]
  },
  {
   "cell_type": "markdown",
   "metadata": {},
   "source": [
    "So, we want to have 2 datasets, train and test, each used for the named purpose exclusively."
   ]
  },
  {
   "cell_type": "code",
   "execution_count": 6,
   "metadata": {},
   "outputs": [
    {
     "name": "stdout",
     "output_type": "stream",
     "text": [
      "Wall time: 316 ms\n"
     ]
    }
   ],
   "source": [
    "%%time\n",
    "X_train, X_test, y_train, y_test = train_test_split(X, y, test_size=0.25)"
   ]
  },
  {
   "cell_type": "code",
   "execution_count": 7,
   "metadata": {},
   "outputs": [
    {
     "name": "stdout",
     "output_type": "stream",
     "text": [
      "(52500, 784) (17500, 784)\n",
      "Wall time: 0 ns\n"
     ]
    }
   ],
   "source": [
    "%%time\n",
    "print(X_train.shape, X_test.shape)"
   ]
  },
  {
   "cell_type": "markdown",
   "metadata": {},
   "source": [
    "## Applying Models"
   ]
  },
  {
   "cell_type": "markdown",
   "metadata": {},
   "source": [
    "Now we will walk you through applying various models to try and achieve the lowest error rate on this data."
   ]
  },
  {
   "cell_type": "markdown",
   "metadata": {},
   "source": [
    "Each of our labels is a number from 0-9. That is, our labels are categorical. If we simply did regression on this data, the labels would imply some sort of ordering and distance between the classes (imagine we were classing colors instead, there is no notion of distance or order i.e. 8 is not \"more\" of a digit than 7). We can fix this issue by one-hot encoding our labels. So, instead of each label being a simple digit, each label is a vector of 10 entries. 9 of those entries are zero, and only 1 entry is equal to one, corresponding to the index of the digit. This way, the distance between the labels are the same."
   ]
  },
  {
   "cell_type": "code",
   "execution_count": 8,
   "metadata": {},
   "outputs": [
    {
     "name": "stdout",
     "output_type": "stream",
     "text": [
      "Wall time: 22 ms\n"
     ]
    }
   ],
   "source": [
    "%%time\n",
    "import warnings\n",
    "warnings.filterwarnings('ignore', module='sklearn')\n",
    "\n",
    "#Use One Hot Encoder for Cause Nominal Label.\n",
    "enc = OneHotEncoder(sparse=False)\n",
    "y_hot = enc.fit_transform(y.reshape(-1, 1))\n",
    "y_train_hot = enc.transform(y_train.reshape(-1, 1))\n",
    "y_hot.shape"
   ]
  },
  {
   "cell_type": "markdown",
   "metadata": {},
   "source": [
    "Remember how the first sample is the digit zero? Let's now look at the new label at that index."
   ]
  },
  {
   "cell_type": "code",
   "execution_count": 9,
   "metadata": {},
   "outputs": [
    {
     "data": {
      "text/plain": [
       "array([1., 0., 0., 0., 0., 0., 0., 0., 0., 0.])"
      ]
     },
     "execution_count": 9,
     "metadata": {},
     "output_type": "execute_result"
    }
   ],
   "source": [
    "y_hot[0]"
   ]
  },
  {
   "cell_type": "markdown",
   "metadata": {},
   "source": [
    "### Linear Regression"
   ]
  },
  {
   "cell_type": "markdown",
   "metadata": {},
   "source": [
    "There are 3 steps to build your model: \n",
    "\n",
    "1) Create the model\n",
    "\n",
    "2) Train the model\n",
    "\n",
    "3) Use your model to make predictions\n",
    "\n",
    "In the sklearn API, this is made very clear. First you instantiate the model (constructor), then you call train it with the `fit` method, then you can make predictions on new data with the `test` method."
   ]
  },
  {
   "cell_type": "markdown",
   "metadata": {},
   "source": [
    "First, let's do a basic linear regression."
   ]
  },
  {
   "cell_type": "code",
   "execution_count": 10,
   "metadata": {},
   "outputs": [
    {
     "name": "stdout",
     "output_type": "stream",
     "text": [
      "Wall time: 7.33 s\n"
     ]
    }
   ],
   "source": [
    "%%time\n",
    "# Instantiate the model\n",
    "linear = LinearRegression()\n",
    "# Fit the model (train)\n",
    "linear.fit(X_train, y_train_hot)"
   ]
  },
  {
   "cell_type": "code",
   "execution_count": 11,
   "metadata": {},
   "outputs": [
    {
     "name": "stdout",
     "output_type": "stream",
     "text": [
      "train acc:  0.8595047619047619\n",
      "test acc:  0.8517142857142858\n",
      "(10, 784)\n",
      "Wall time: 292 ms\n"
     ]
    }
   ],
   "source": [
    "%%time\n",
    "# use trained model to predict both train and test sets\n",
    "y_train_pred = linear.predict(X_train)\n",
    "y_test_pred = linear.predict(X_test)\n",
    "\n",
    "# print accuracies\n",
    "print('train acc: ', accuracy_score(y_train_pred.argmax(axis=1), y_train))\n",
    "print('test acc: ', accuracy_score(y_test_pred.argmax(axis=1), y_test))\n",
    "print(linear.coef_.shape)\n",
    "#Why is it 10 rows?"
   ]
  },
  {
   "cell_type": "markdown",
   "metadata": {},
   "source": [
    "Note on interpretability: you can view the weights of your model with `linear.coef_`"
   ]
  },
  {
   "cell_type": "markdown",
   "metadata": {},
   "source": [
    "### Ridge Regression"
   ]
  },
  {
   "cell_type": "markdown",
   "metadata": {},
   "source": [
    "Ridge Regression (L2) is one method of preventing a common problem in machine learning called \"overfitting\". Remember when we split our examples into training and test sets? Overfitting occurs when the model performs well on the training set but not on the test set. This means that the model does not generalize well to previously unseen examples.\n",
    "\n",
    "Let us try Ridge Regression and see if we get better results"
   ]
  },
  {
   "cell_type": "code",
   "execution_count": 12,
   "metadata": {},
   "outputs": [
    {
     "name": "stdout",
     "output_type": "stream",
     "text": [
      "train acc:  0.8593142857142857\n",
      "test acc:  0.8524\n",
      "Wall time: 1.97 s\n"
     ]
    }
   ],
   "source": [
    "%%time\n",
    "ridge = Ridge(alpha=1)\n",
    "ridge.fit(X_train, y_train_hot)\n",
    "print('train acc: ', accuracy_score(ridge.predict(X_train).argmax(axis=1), y_train))\n",
    "print('test acc: ', accuracy_score(ridge.predict(X_test).argmax(axis=1), y_test))"
   ]
  },
  {
   "cell_type": "markdown",
   "metadata": {},
   "source": [
    "The alpha controls how much to penalize the weights. Play around with it to see if you can improve the test accuracy."
   ]
  },
  {
   "cell_type": "markdown",
   "metadata": {},
   "source": [
    "Now you have seen how to use some basic models to fit and evaluate your data. You will now walk through working with more models. Fill in code where needed."
   ]
  },
  {
   "cell_type": "markdown",
   "metadata": {},
   "source": [
    "### Logistic Regression"
   ]
  },
  {
   "cell_type": "markdown",
   "metadata": {},
   "source": [
    "We will now do logistic regression. From now on, the models will automatically one-hot the labels (so we don't need to worry about it)."
   ]
  },
  {
   "cell_type": "code",
   "execution_count": 13,
   "metadata": {},
   "outputs": [
    {
     "name": "stdout",
     "output_type": "stream",
     "text": [
      "train acc:  0.9192761904761905\n",
      "test acc:  0.9148\n",
      "Wall time: 10.3 s\n"
     ]
    }
   ],
   "source": [
    "%%time\n",
    "logreg = LogisticRegression(C=0.01, multi_class='multinomial', solver='saga', tol=0.1)\n",
    "logreg.fit(X_train, y_train)\n",
    "print('train acc: ', accuracy_score(logreg.predict(X_train), y_train))\n",
    "print('test acc: ', accuracy_score(logreg.predict(X_test), y_test))"
   ]
  },
  {
   "cell_type": "markdown",
   "metadata": {},
   "source": [
    "Our accuracy has jumped ~5%! Why is this? Logistic Regression is a more complex model - instead of computing raw scores as in linear regression, it does one extra step and squashes values between 0 and 1. This means our model now optimizes over *probabilities* instead of raw scores. This makes sense since our vectors are 1-hot encoded."
   ]
  },
  {
   "cell_type": "markdown",
   "metadata": {},
   "source": [
    "The C hyperparameter controls inverse regularization strength (inverse for this model only). Reguralization is important to make sure our model doesn't overfit (perform much better on train data than test data). Play around with the C parameter to try and get better results! You should be able to hit 92%."
   ]
  },
  {
   "cell_type": "markdown",
   "metadata": {},
   "source": [
    "### Question 1) Random Forest"
   ]
  },
  {
   "cell_type": "markdown",
   "metadata": {},
   "source": [
    "Decision Trees are a completely different type of classifier. They essentially break up the possible space by repeatedly \"splitting\" on features to keep narrowing down the possibilities. Decision Trees are normally individually very week, so we typically average them together in bunches called Random Forest."
   ]
  },
  {
   "cell_type": "markdown",
   "metadata": {},
   "source": [
    "Now you have seen many examples for how to construct, fit, and evaluate a model. Now do the same for Random Forest using the [documentation here](http://scikit-learn.org/stable/modules/generated/sklearn.ensemble.RandomForestClassifier.html). You should be able to create one easily without needing to specify any constructor parameters."
   ]
  },
  {
   "cell_type": "code",
   "execution_count": 48,
   "metadata": {},
   "outputs": [
    {
     "name": "stderr",
     "output_type": "stream",
     "text": [
      "C:\\Users\\HP USER\\Documents\\mais-bootcamp-w2019\\Assignment1\\.mais-env\\lib\\site-packages\\ipykernel_launcher.py:5: DataConversionWarning: A column-vector y was passed when a 1d array was expected. Please change the shape of y to (n_samples,), for example using ravel().\n",
      "  \"\"\"\n"
     ]
    },
    {
     "name": "stdout",
     "output_type": "stream",
     "text": [
      "1.0\n",
      "0.9634285714285714\n",
      "Wall time: 23.5 s\n"
     ]
    }
   ],
   "source": [
    "%%time\n",
    "warnings.filterwarnings('ignore', module='sklearn')\n",
    "## YOUR CODE HERE - call the constructor\n",
    "RFC = RandomForestClassifier(n_estimators=33 ,min_samples_split=3);\n",
    "## YOUR CODE HERE - fit the rf model (just like logistic regression)\n",
    "RFC.fit(X_train, y_train)\n",
    "## YOUR CODE HERE - print training accuracy\n",
    "print(accuracy_score(RFC.predict(X_train), y_train))\n",
    "## YOUR CODE HERE - print test accuracy\n",
    "print(accuracy_score(RFC.predict(X_test), y_test))\n",
    "\n",
    "#Why the more you decrease your treshold the higher the accuracy? Less overfitting? Using all feature overfits. so...\n",
    "\n",
    "#40n-est,min-sample-2, train = 1.0, test = 0.964"
   ]
  },
  {
   "cell_type": "markdown",
   "metadata": {},
   "source": [
    "That train accuracy is amazing, let's see if we can boost up the test accuracy a bit (since that's what really counts). Try and play around with the hyperparameters to see if you can edge out more accuracy (look at the documentation for parameters in the constructor). Focus on `n_estimators`, `min_samples_split`, `max_features`. You should be able to hit ~97%."
   ]
  },
  {
   "cell_type": "markdown",
   "metadata": {},
   "source": [
    "### SVC"
   ]
  },
  {
   "cell_type": "markdown",
   "metadata": {},
   "source": [
    "A support vector classifier is another completely different type of classifier. It tries to find the best separating hyperplane through your data."
   ]
  },
  {
   "cell_type": "markdown",
   "metadata": {},
   "source": [
    "The SVC will toast our laptops unless we reduce the data dimensionality. Let's keep 80% of the variation, and get rid of the rest. (This will cause a slight drop in performance, but not by much)."
   ]
  },
  {
   "cell_type": "code",
   "execution_count": 15,
   "metadata": {},
   "outputs": [
    {
     "name": "stdout",
     "output_type": "stream",
     "text": [
      "Wall time: 14.1 s\n"
     ]
    }
   ],
   "source": [
    "%%time\n",
    "pca = PCA(n_components=0.8, whiten=True)\n",
    "X_train_pca = pca.fit_transform(X_train)\n",
    "X_test_pca = pca.transform(X_test)"
   ]
  },
  {
   "cell_type": "markdown",
   "metadata": {},
   "source": [
    "Great! Now let's take a look at what that actually did."
   ]
  },
  {
   "cell_type": "code",
   "execution_count": 16,
   "metadata": {},
   "outputs": [
    {
     "name": "stdout",
     "output_type": "stream",
     "text": [
      "Wall time: 0 ns\n"
     ]
    },
    {
     "data": {
      "text/plain": [
       "(52500, 43)"
      ]
     },
     "execution_count": 16,
     "metadata": {},
     "output_type": "execute_result"
    }
   ],
   "source": [
    "%%time\n",
    "X_train_pca.shape"
   ]
  },
  {
   "cell_type": "markdown",
   "metadata": {},
   "source": [
    "Remember, before we had 784 (28x28) features! However, PCA found just 43 basis features that explain 80% of the data. So, we went to just 5% of the original input space, but we still retained 80% of the information! Nice."
   ]
  },
  {
   "cell_type": "markdown",
   "metadata": {},
   "source": [
    "This [blog post](http://colah.github.io/posts/2014-10-Visualizing-MNIST/) explains dimensionality reduction with MNIST quite well. It's a short read (<10 mins), and it contains some pretty cool visualizations."
   ]
  },
  {
   "cell_type": "markdown",
   "metadata": {},
   "source": [
    "Now let's train our first SVC. The LinearSVC can only find a linear decision boundary (the hyperplane)."
   ]
  },
  {
   "cell_type": "code",
   "execution_count": 17,
   "metadata": {},
   "outputs": [
    {
     "name": "stdout",
     "output_type": "stream",
     "text": [
      "train acc:  0.8928380952380952\n",
      "test acc:  0.8912571428571429\n",
      "Wall time: 3.14 s\n"
     ]
    }
   ],
   "source": [
    "%%time\n",
    "lsvc = LinearSVC(dual=False, tol=0.01)\n",
    "lsvc.fit(X_train_pca, y_train)\n",
    "print('train acc: ', accuracy_score(lsvc.predict(X_train_pca), y_train))\n",
    "print('test acc: ', accuracy_score(lsvc.predict(X_test_pca), y_test))"
   ]
  },
  {
   "cell_type": "markdown",
   "metadata": {},
   "source": [
    "SVMs are really interesting because they have something called the *dual formulation*, in which the computation is expressed as training point inner products. This means that data can be lifted into higher dimensions easily with this \"kernel trick\". Data that is not linearly separable in a lower dimension can be linearly separable in a higher dimension - which is why we conduct the transform. Let us experiment."
   ]
  },
  {
   "cell_type": "markdown",
   "metadata": {},
   "source": [
    "A transformation that lifts the data into a higher-dimensional space is called a *kernel*. A polynomial kernel expands the feature space by computing all the polynomial cross terms to a specific degree."
   ]
  },
  {
   "cell_type": "markdown",
   "metadata": {},
   "source": [
    "### Question 2) Poly SVC"
   ]
  },
  {
   "cell_type": "code",
   "execution_count": 18,
   "metadata": {},
   "outputs": [
    {
     "name": "stdout",
     "output_type": "stream",
     "text": [
      "train acc:  0.9962666666666666\n",
      "test acc:  0.9797714285714286\n",
      "Wall time: 5min 34s\n"
     ]
    }
   ],
   "source": [
    "%%time\n",
    "psvc = SVC(kernel='poly', degree=3, tol=0.01, cache_size=4000)\n",
    "## YOUR CODE HERE - fit the psvc model\n",
    "psvc.fit(X_train_pca,y_train)\n",
    "## YOUR CODE HERE - print training accuracy\n",
    "## YOUR CODE HERE - print test accuracy\n",
    "print('train acc: ', accuracy_score(psvc.predict(X_train_pca), y_train))\n",
    "print('test acc: ', accuracy_score(psvc.predict(X_test_pca), y_test))"
   ]
  },
  {
   "cell_type": "markdown",
   "metadata": {},
   "source": [
    "Play around with the degree of the polynomial kernel to see what accuracy you can get."
   ]
  },
  {
   "cell_type": "markdown",
   "metadata": {},
   "source": [
    "### Question 3) RBF SVC"
   ]
  },
  {
   "cell_type": "markdown",
   "metadata": {},
   "source": [
    "The RBF kernel uses the gaussian function to create an infinite dimensional space - a gaussian peak at each datapoint. Now fiddle with the `C` and `gamma` parameters of the gaussian kernel below to see what you can get. [Here's documentation](http://scikit-learn.org/stable/modules/generated/sklearn.svm.SVC.html)"
   ]
  },
  {
   "cell_type": "code",
   "execution_count": 21,
   "metadata": {},
   "outputs": [
    {
     "name": "stdout",
     "output_type": "stream",
     "text": [
      "train acc:  0.9930095238095238\n",
      "test acc:  0.9814857142857143\n",
      "Wall time: 4min 53s\n"
     ]
    }
   ],
   "source": [
    "%%time\n",
    "rsvc = SVC(kernel='rbf', tol=0.01, cache_size=4000)\n",
    "rsvc.fit(X_train_pca,y_train)\n",
    "## YOUR CODE HERE - fit the rsvc model\n",
    "## YOUR CODE HERE - print training accuracy\n",
    "## YOUR CODE HERE - print test accuracy\n",
    "print('train acc: ', accuracy_score(rsvc.predict(X_train_pca), y_train))\n",
    "print('test acc: ', accuracy_score(rsvc.predict(X_test_pca), y_test))"
   ]
  },
  {
   "cell_type": "markdown",
   "metadata": {},
   "source": [
    "Isn't that just amazing accuracy?\n",
    "Yes it is!"
   ]
  },
  {
   "cell_type": "markdown",
   "metadata": {},
   "source": [
    "## Basic Neural Network"
   ]
  },
  {
   "cell_type": "markdown",
   "metadata": {},
   "source": [
    "You should never do neural networks in sklearn. Use Pytorch, Keras, etc. However, we will use sklearn for demonstrative purposes."
   ]
  },
  {
   "cell_type": "markdown",
   "metadata": {},
   "source": [
    "Basic neural networks proceed in layers. Each layer has a certain number of nodes, representing how expressive that layer can be. Below is a sample network, with an input layer, one hidden (middle) layer of 50 neurons, and finally the output layer."
   ]
  },
  {
   "cell_type": "markdown",
   "metadata": {},
   "source": [
    "### Question 4) Neural Network"
   ]
  },
  {
   "cell_type": "code",
   "execution_count": 24,
   "metadata": {},
   "outputs": [
    {
     "name": "stdout",
     "output_type": "stream",
     "text": [
      "Iteration 1, loss = 0.96307042\n",
      "Iteration 2, loss = 0.31342861\n",
      "Iteration 3, loss = 0.22754207\n",
      "Iteration 4, loss = 0.18508414\n",
      "Iteration 5, loss = 0.15739911\n",
      "Iteration 6, loss = 0.13757427\n",
      "Iteration 7, loss = 0.12246427\n",
      "Iteration 8, loss = 0.11094952\n",
      "Iteration 9, loss = 0.10133812\n",
      "Iteration 10, loss = 0.09344143\n",
      "Iteration 11, loss = 0.08662443\n",
      "Iteration 12, loss = 0.08106383\n",
      "Iteration 13, loss = 0.07575060\n",
      "Iteration 14, loss = 0.07143970\n",
      "Iteration 15, loss = 0.06759744\n",
      "Iteration 16, loss = 0.06410072\n",
      "Iteration 17, loss = 0.06071151\n",
      "Iteration 18, loss = 0.05788274\n",
      "Iteration 19, loss = 0.05518750\n",
      "Iteration 20, loss = 0.05302146\n",
      "Iteration 21, loss = 0.05057589\n",
      "Iteration 22, loss = 0.04832855\n",
      "Iteration 23, loss = 0.04679681\n",
      "Iteration 24, loss = 0.04470247\n",
      "Iteration 25, loss = 0.04319554\n",
      "Iteration 26, loss = 0.04164175\n",
      "Iteration 27, loss = 0.04002928\n",
      "Iteration 28, loss = 0.03867764\n",
      "Iteration 29, loss = 0.03743344\n",
      "Iteration 30, loss = 0.03617724\n",
      "Iteration 31, loss = 0.03497384\n",
      "Iteration 32, loss = 0.03381524\n",
      "Iteration 33, loss = 0.03264889\n",
      "Iteration 34, loss = 0.03177086\n",
      "Iteration 35, loss = 0.03066193\n",
      "Iteration 36, loss = 0.02974190\n",
      "Iteration 37, loss = 0.02886869\n",
      "Iteration 38, loss = 0.02816805\n",
      "Iteration 39, loss = 0.02731901\n",
      "Iteration 40, loss = 0.02643588\n",
      "Iteration 41, loss = 0.02598395\n",
      "Iteration 42, loss = 0.02511650\n",
      "Iteration 43, loss = 0.02418371\n",
      "Iteration 44, loss = 0.02374918\n",
      "Iteration 45, loss = 0.02302296\n",
      "Iteration 46, loss = 0.02232008\n",
      "Iteration 47, loss = 0.02169111\n",
      "Iteration 48, loss = 0.02121846\n",
      "Iteration 49, loss = 0.02056456\n",
      "Iteration 50, loss = 0.01990182\n",
      "Iteration 51, loss = 0.01955111\n",
      "Iteration 52, loss = 0.01885942\n",
      "Iteration 53, loss = 0.01841570\n",
      "Iteration 54, loss = 0.01798387\n",
      "Iteration 55, loss = 0.01731300\n",
      "Iteration 56, loss = 0.01696325\n",
      "Iteration 57, loss = 0.01659115\n",
      "Iteration 58, loss = 0.01592826\n",
      "Iteration 59, loss = 0.01569293\n",
      "Iteration 60, loss = 0.01516601\n",
      "Iteration 61, loss = 0.01485083\n",
      "Iteration 62, loss = 0.01431422\n",
      "Iteration 63, loss = 0.01417741\n",
      "Iteration 64, loss = 0.01377488\n",
      "Iteration 65, loss = 0.01312666\n",
      "Iteration 66, loss = 0.01281048\n",
      "Iteration 67, loss = 0.01266492\n",
      "Iteration 68, loss = 0.01220316\n",
      "Iteration 69, loss = 0.01185749\n",
      "Iteration 70, loss = 0.01175682\n",
      "Iteration 71, loss = 0.01132628\n",
      "Iteration 72, loss = 0.01096683\n",
      "Iteration 73, loss = 0.01069192\n",
      "Iteration 74, loss = 0.01035394\n",
      "Iteration 75, loss = 0.01013857\n",
      "Iteration 76, loss = 0.00999344\n",
      "Iteration 77, loss = 0.00970290\n",
      "Iteration 78, loss = 0.00943616\n",
      "Iteration 79, loss = 0.00910193\n",
      "Iteration 80, loss = 0.00904203\n",
      "Iteration 81, loss = 0.00865677\n",
      "Iteration 82, loss = 0.00853081\n",
      "Iteration 83, loss = 0.00824727\n",
      "Iteration 84, loss = 0.00799709\n",
      "Iteration 85, loss = 0.00787272\n",
      "Iteration 86, loss = 0.00761844\n",
      "Iteration 87, loss = 0.00745599\n",
      "Iteration 88, loss = 0.00713913\n",
      "Iteration 89, loss = 0.00702254\n",
      "Iteration 90, loss = 0.00684314\n",
      "Iteration 91, loss = 0.00684151\n",
      "Iteration 92, loss = 0.00658297\n",
      "Iteration 93, loss = 0.00633167\n",
      "Iteration 94, loss = 0.00627191\n",
      "Iteration 95, loss = 0.00603484\n",
      "Iteration 96, loss = 0.00585356\n",
      "Iteration 97, loss = 0.00584938\n",
      "Iteration 98, loss = 0.00557490\n",
      "Iteration 99, loss = 0.00544264\n",
      "Iteration 100, loss = 0.00528129\n",
      "Iteration 101, loss = 0.00518241\n",
      "Iteration 102, loss = 0.00511223\n",
      "Iteration 103, loss = 0.00489617\n",
      "Iteration 104, loss = 0.00478687\n",
      "Iteration 105, loss = 0.00465243\n",
      "Iteration 106, loss = 0.00454120\n",
      "Iteration 107, loss = 0.00441275\n",
      "Iteration 108, loss = 0.00435456\n",
      "Iteration 109, loss = 0.00425732\n",
      "Iteration 110, loss = 0.00407315\n",
      "Iteration 111, loss = 0.00418356\n",
      "Iteration 112, loss = 0.00387007\n",
      "Iteration 113, loss = 0.00368637\n",
      "Iteration 114, loss = 0.00376074\n",
      "Iteration 115, loss = 0.00374372\n",
      "Iteration 116, loss = 0.00353107\n",
      "Iteration 117, loss = 0.00342062\n",
      "Iteration 118, loss = 0.00334928\n",
      "Iteration 119, loss = 0.00331445\n",
      "Iteration 120, loss = 0.00324617\n",
      "Iteration 121, loss = 0.00331213\n",
      "Iteration 122, loss = 0.00302227\n",
      "Iteration 123, loss = 0.00291147\n",
      "Iteration 124, loss = 0.00282714\n",
      "Iteration 125, loss = 0.00278799\n",
      "Iteration 126, loss = 0.00283326\n",
      "Iteration 127, loss = 0.00302679\n",
      "Iteration 128, loss = 0.00269847\n",
      "Iteration 129, loss = 0.00262497\n",
      "Iteration 130, loss = 0.00264895\n",
      "Iteration 131, loss = 0.00249142\n",
      "Iteration 132, loss = 0.00244509\n",
      "Iteration 133, loss = 0.00230471\n",
      "Iteration 134, loss = 0.00231802\n",
      "Iteration 135, loss = 0.00242229\n",
      "Iteration 136, loss = 0.00229700\n",
      "Iteration 137, loss = 0.00212595\n",
      "Iteration 138, loss = 0.00206529\n",
      "Iteration 139, loss = 0.00207470\n",
      "Iteration 140, loss = 0.00211460\n",
      "Iteration 141, loss = 0.00209360\n",
      "Iteration 142, loss = 0.00211643\n",
      "Iteration 143, loss = 0.00198680\n",
      "Iteration 144, loss = 0.00184193\n",
      "Iteration 145, loss = 0.00176345\n",
      "Iteration 146, loss = 0.00172057\n",
      "Iteration 147, loss = 0.00169968\n",
      "Iteration 148, loss = 0.00176547\n",
      "Iteration 149, loss = 0.00238956\n",
      "Iteration 150, loss = 0.00199934\n",
      "Iteration 151, loss = 0.00173750\n",
      "Iteration 152, loss = 0.00152595\n",
      "Iteration 153, loss = 0.00145606\n",
      "Iteration 154, loss = 0.00139892\n",
      "Iteration 155, loss = 0.00140929\n",
      "Iteration 156, loss = 0.00139010\n",
      "Iteration 157, loss = 0.00149044\n",
      "Iteration 158, loss = 0.00160896\n",
      "Iteration 159, loss = 0.00243320\n",
      "Iteration 160, loss = 0.00256285\n",
      "Iteration 161, loss = 0.00155315\n",
      "Iteration 162, loss = 0.00125839\n",
      "Iteration 163, loss = 0.00118466\n",
      "Iteration 164, loss = 0.00114622\n",
      "Iteration 165, loss = 0.00117672\n",
      "Iteration 166, loss = 0.00117688\n",
      "Iteration 167, loss = 0.00117377\n",
      "Iteration 168, loss = 0.00115908\n",
      "Iteration 169, loss = 0.00116686\n",
      "Iteration 170, loss = 0.00125499\n",
      "Iteration 171, loss = 0.00247583\n",
      "Iteration 172, loss = 0.00360825\n",
      "Iteration 173, loss = 0.00180327\n",
      "Training loss did not improve more than tol=0.000100 for 10 consecutive epochs. Stopping.\n",
      "train acc:  1.0\n",
      "test acc:  0.9722285714285714\n"
     ]
    }
   ],
   "source": [
    "nn = MLPClassifier(hidden_layer_sizes=(90,), solver='adam', verbose=1)\n",
    "## YOUR CODE HERE - fit the nn\n",
    "nn.fit(X_train_pca,y_train)\n",
    "## YOUR CODE HERE - print training accuracy\n",
    "## YOUR CODE HERE - print test accuracy\n",
    "print('train acc: ', accuracy_score(nn.predict(X_train_pca), y_train))\n",
    "print('test acc: ', accuracy_score(nn.predict(X_test_pca), y_test))"
   ]
  },
  {
   "cell_type": "markdown",
   "metadata": {},
   "source": [
    "Fiddle around with the hiddle layers. Change the number of neurons, add more layers, experiment. You should be able to hit 98% accuracy."
   ]
  },
  {
   "cell_type": "markdown",
   "metadata": {},
   "source": [
    "Neural networks are optimized with a technique called gradient descent (a neural net is just one big function - so we can take the gradient with respect to all its parameters, then just go opposite the gradient to try and find the minimum). This is why it requires many iterations to converge."
   ]
  },
  {
   "cell_type": "markdown",
   "metadata": {},
   "source": [
    "## Turning In"
   ]
  },
  {
   "cell_type": "markdown",
   "metadata": {},
   "source": [
    "1. Convert this notebook to a regular python file (file -> download as -> python)\n",
    "\n",
    "2. Submit both the notebook and python file via a pull request as specified in the README"
   ]
  },
  {
   "cell_type": "code",
   "execution_count": null,
   "metadata": {},
   "outputs": [],
   "source": []
  }
 ],
 "metadata": {
  "kernelspec": {
   "display_name": "Python (MAIS-202)",
   "language": "python",
   "name": ".mais-env"
  },
  "language_info": {
   "codemirror_mode": {
    "name": "ipython",
    "version": 3
   },
   "file_extension": ".py",
   "mimetype": "text/x-python",
   "name": "python",
   "nbconvert_exporter": "python",
   "pygments_lexer": "ipython3",
   "version": "3.6.5"
  },
  "toc": {
   "base_numbering": 1,
   "nav_menu": {},
   "number_sections": false,
   "sideBar": false,
   "skip_h1_title": false,
   "title_cell": "Table of Contents",
   "title_sidebar": "Contents",
   "toc_cell": false,
   "toc_position": {},
   "toc_section_display": false,
   "toc_window_display": false
  }
 },
 "nbformat": 4,
 "nbformat_minor": 2
}
