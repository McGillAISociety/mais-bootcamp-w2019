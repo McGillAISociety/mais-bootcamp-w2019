{
 "cells": [
  {
   "cell_type": "markdown",
   "metadata": {},
   "source": [
    "# Assignment 2"
   ]
  },
  {
   "cell_type": "markdown",
   "metadata": {},
   "source": [
    "In this assignment, we will start with utilizing Sci-Kit learn to implement a linear regression model similar to what we did in Assignment 1. Afterwards, we will be dropping Sci-Kit learning and implementing these algorithms from scratch without the use of machine learning libraries. While you would likely never have to implement your own linear regression algorithm from scratch in practice, such a skill is valuable to have as you progress further into the field and find many scenarios where you actually may need to perform such implementations manually. Additionally, implementing algorithms from scratch will help you better understand the underlying mathematics behind each model.     "
   ]
  },
  {
   "cell_type": "markdown",
   "metadata": {},
   "source": [
    "## Import Libraries"
   ]
  },
  {
   "cell_type": "markdown",
   "metadata": {},
   "source": [
    "We will be using the following libraries for this homework assignment. For the questions requiring manual implementation, the pre-existing implementations from Sci-Kit Learn should *not* be used."
   ]
  },
  {
   "cell_type": "code",
<<<<<<< HEAD
   "execution_count": 22,
=======
   "execution_count": 2,
>>>>>>> d6145a4e929dffb59ba1519112626a0777ba580a
   "metadata": {
    "scrolled": true
   },
   "outputs": [],
   "source": [
    "import numpy as np\n",
    "import pandas as pd\n",
    "import matplotlib.pyplot as plt\n",
    "import operator\n",
    "%matplotlib inline\n",
    "import math\n",
<<<<<<< HEAD
=======
    "from numpy.linalg import inv\n",
>>>>>>> d6145a4e929dffb59ba1519112626a0777ba580a
    "\n",
    "from sklearn.linear_model import LinearRegression\n",
    "from sklearn.preprocessing import PolynomialFeatures\n",
    "from sklearn.metrics import mean_squared_error"
   ]
  },
  {
   "cell_type": "markdown",
   "metadata": {},
   "source": [
    "## Preparing Data"
   ]
  },
  {
   "cell_type": "markdown",
   "metadata": {
    "collapsed": true
   },
   "source": [
    "The file named **dataset1.csv** includes data that was generated from an n-degree polynomial with some gaussian noise. The data has 2 columns - first column is the feature (input) and the second column is its label (output). The first step is to load the data and split them into training, validation, and test sets. A reminder that the purpose of each of the splitted sets are as follows:\n",
    "\n",
    "* **Training Set**: The sample of data used to fit the model\n",
    "* **Validation Set**: The sample of data used to provide an unbiased evaluation of a model fit on the training dataset while tuning model hyperparameters. (playing with the parameters)\n",
    "* **Test Set**: The sample of data used to provide an unbiased evaluation of a final model fit on the training dataset.\n",
    "\n",
    "In the section below, we load the csv file and split the data randomnly into 3 equal sets. \n",
    "\n",
    "*Note that in practice, we usually aim for around a 70-20-10 split for train, valid, and test respectively, but due to limited data in our case, we will do an even split in order to have sufficient data for evaluation* "
   ]
  },
  {
   "cell_type": "code",
<<<<<<< HEAD
   "execution_count": 23,
=======
   "execution_count": 3,
>>>>>>> d6145a4e929dffb59ba1519112626a0777ba580a
   "metadata": {
    "scrolled": false
   },
   "outputs": [],
   "source": [
    "# Load the data and split into 3 equal sets\n",
    "data = pd.read_csv('dataset1.csv', header=None)\n",
    "data = data.iloc[:, :-1]\n",
    "\n",
    "train, valid, test = np.split(data, [int(.33*len(data)), int(.66*len(data))])\n",
    "\n",
    "# We sort the data in order for plotting purposes later\n",
    "train.sort_values(by=[0], inplace=True)\n",
    "valid.sort_values(by=[0], inplace=True)\n",
    "test.sort_values(by=[0], inplace=True)"
   ]
  },
  {
   "cell_type": "markdown",
   "metadata": {},
   "source": [
    "Let's take a look at what our data looks like"
   ]
  },
  {
   "cell_type": "code",
<<<<<<< HEAD
   "execution_count": 24,
=======
   "execution_count": 4,
>>>>>>> d6145a4e929dffb59ba1519112626a0777ba580a
   "metadata": {},
   "outputs": [
    {
     "data": {
      "image/png": "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\n",
      "text/plain": [
       "<Figure size 432x288 with 1 Axes>"
      ]
     },
     "metadata": {},
     "output_type": "display_data"
    }
   ],
   "source": [
    "plt.scatter(train[0], train[1], s=10)\n",
    "plt.show()"
   ]
  },
  {
   "cell_type": "markdown",
   "metadata": {},
   "source": [
    "Let's apply a linear regression model using Sci-Kit learn and see what the results look like."
   ]
  },
  {
   "cell_type": "code",
<<<<<<< HEAD
   "execution_count": 25,
=======
   "execution_count": 5,
>>>>>>> d6145a4e929dffb59ba1519112626a0777ba580a
   "metadata": {},
   "outputs": [
    {
     "ename": "NameError",
     "evalue": "name 'x' is not defined",
     "output_type": "error",
     "traceback": [
      "\u001b[1;31m---------------------------------------------------------------------------\u001b[0m",
      "\u001b[1;31mNameError\u001b[0m                                 Traceback (most recent call last)",
      "\u001b[1;32m<ipython-input-25-97c9b3c31cda>\u001b[0m in \u001b[0;36m<module>\u001b[1;34m()\u001b[0m\n\u001b[0;32m     16\u001b[0m \u001b[1;31m# Plot the results\u001b[0m\u001b[1;33m\u001b[0m\u001b[1;33m\u001b[0m\u001b[0m\n\u001b[0;32m     17\u001b[0m \u001b[0mplt\u001b[0m\u001b[1;33m.\u001b[0m\u001b[0mscatter\u001b[0m\u001b[1;33m(\u001b[0m\u001b[0mtrain_x\u001b[0m\u001b[1;33m,\u001b[0m \u001b[0mtrain_y\u001b[0m\u001b[1;33m,\u001b[0m \u001b[0ms\u001b[0m\u001b[1;33m=\u001b[0m\u001b[1;36m10\u001b[0m\u001b[1;33m)\u001b[0m\u001b[1;33m\u001b[0m\u001b[0m\n\u001b[1;32m---> 18\u001b[1;33m \u001b[0mplt\u001b[0m\u001b[1;33m.\u001b[0m\u001b[0mplot\u001b[0m\u001b[1;33m(\u001b[0m\u001b[0mx\u001b[0m\u001b[1;33m,\u001b[0m \u001b[0my_pred\u001b[0m\u001b[1;33m,\u001b[0m \u001b[0mcolor\u001b[0m\u001b[1;33m=\u001b[0m\u001b[1;34m'r'\u001b[0m\u001b[1;33m)\u001b[0m\u001b[1;33m\u001b[0m\u001b[0m\n\u001b[0m\u001b[0;32m     19\u001b[0m \u001b[0mplt\u001b[0m\u001b[1;33m.\u001b[0m\u001b[0mshow\u001b[0m\u001b[1;33m(\u001b[0m\u001b[1;33m)\u001b[0m\u001b[1;33m\u001b[0m\u001b[0m\n",
      "\u001b[1;31mNameError\u001b[0m: name 'x' is not defined"
     ]
    },
    {
     "data": {
<<<<<<< HEAD
      "image/png": "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\n",
=======
      "image/png": "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\n",
>>>>>>> d6145a4e929dffb59ba1519112626a0777ba580a
      "text/plain": [
       "<Figure size 432x288 with 1 Axes>"
      ]
     },
     "metadata": {},
     "output_type": "display_data"
    }
   ],
   "source": [
    "# Reshape arrays since sci-kit learn only takes in 2D arrays\n",
    "train_x = np.array(train[0])\n",
    "train_y = np.array(train[1])\n",
    "valid_x = np.array(valid[0])\n",
    "valid_y = np.array(valid[1])\n",
    "train_x = train_x.reshape(-1, 1)\n",
    "train_y = train_y.reshape(-1, 1)\n",
    "valid_x = valid_x.reshape(-1, 1)\n",
    "valid_y = valid_y.reshape(-1, 1)\n",
    "\n",
    "\n",
    "\n",
    "# Apply linear regression model\n",
    "model = LinearRegression()\n",
    "model.fit(train_x, train_y)\n",
    "y_pred = model.predict(train_x)\n",
    "\n",
    "# Plot the results\n",
    "plt.scatter(train_x, train_y, s=10)\n",
    "plt.plot(train_x, y_pred, color='r')\n",
    "plt.show()"
   ]
  },
  {
   "cell_type": "markdown",
   "metadata": {},
   "source": [
    "By analyzing the line of best fit above, we can see that a straight line is unable to capture the patterns of the data. \n",
    "This is an example of underfitting. As seen in the latest lecture, we can generate a higher order equation by adding powers of the original features as new features. \n",
    "\n",
    "The linear model,: \n",
    "\n",
    "&nbsp;&nbsp;&nbsp;&nbsp;&nbsp;&nbsp; ** $y(x)$ = $w_1 x$ + $w_0$ ** \n",
    "\n",
    "can be transformed to a polynomial model such as:\n",
    "\n",
    "&nbsp;&nbsp;&nbsp;&nbsp;&nbsp;&nbsp; ** $y(x)$ = $w_2 x^2$ + $w_1 x$ + $w_0$ ** \n",
    "\n",
    "Note that this is still considered to be linear model as the coefficients/weights associated with the features are still linear. x<sup>2</sup> is only a feature. However the curve that we would be fitting in this case is quadratic in nature.\n",
    "\n",
    "Below we show an example of a quadratic curve being fit to the data"
   ]
  },
  {
   "cell_type": "code",
<<<<<<< HEAD
   "execution_count": null,
   "metadata": {},
   "outputs": [],
=======
   "execution_count": 6,
   "metadata": {},
   "outputs": [
    {
     "data": {
      "image/png": "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\n",
      "text/plain": [
       "<Figure size 432x288 with 1 Axes>"
      ]
     },
     "metadata": {},
     "output_type": "display_data"
    }
   ],
>>>>>>> d6145a4e929dffb59ba1519112626a0777ba580a
   "source": [
    "# Create polynomial features with degree 2\n",
    "polynomial_features = PolynomialFeatures(degree=2)\n",
    "x_poly = polynomial_features.fit_transform(train_x)\n",
    "\n",
    "# Apply linear regression\n",
    "model = LinearRegression()\n",
    "model.fit(x_poly, train_y)\n",
    "y_poly_pred = model.predict(x_poly)\n",
    "\n",
    "# Plot the results\n",
    "plt.scatter(train_x, train_y, s=10)\n",
    "plt.plot(train_x, y_poly_pred, color='r')\n",
    "plt.show()"
   ]
  },
  {
   "cell_type": "markdown",
   "metadata": {},
   "source": [
    "As you can see, we get a slightly better fit with a quadratic curve. Let's use the model to make predictions on our validation set and compute the mean squared error, which is the error which we wish to minimize."
   ]
  },
  {
   "cell_type": "code",
<<<<<<< HEAD
   "execution_count": null,
   "metadata": {},
   "outputs": [],
=======
   "execution_count": 7,
   "metadata": {},
   "outputs": [
    {
     "name": "stdout",
     "output_type": "stream",
     "text": [
      "Mean Squared Error: 20.485214511024232\n"
     ]
    },
    {
     "data": {
      "image/png": "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\n",
      "text/plain": [
       "<Figure size 432x288 with 1 Axes>"
      ]
     },
     "metadata": {},
     "output_type": "display_data"
    }
   ],
>>>>>>> d6145a4e929dffb59ba1519112626a0777ba580a
   "source": [
    "# Make predictions using pretrained model\n",
    "valid_y_poly_pred = model.predict(polynomial_features.fit_transform(valid_x))\n",
    "\n",
    "# Calculate root mean squared error\n",
    "mse = mean_squared_error(valid_y, valid_y_poly_pred)\n",
    "print(\"Mean Squared Error: {}\".format(mse))\n",
    "\n",
    "# Plot the prediction results\n",
    "plt.scatter(valid_x, valid_y, s=10)\n",
    "plt.plot(valid_x, valid_y_poly_pred, color='r')\n",
    "plt.show()"
   ]
  },
  {
   "cell_type": "markdown",
   "metadata": {},
   "source": [
    "## Question 1: Polynomial Regression Using Sci-Kit Learn\n",
    "\n",
    "Now it is your turn! Following the same format as above, implement a 10-degree polynomial regression model on the training data and plot your results. Use your model to predict the output of the validation set and calculate the mean square error. Report and plot the results. "
   ]
  },
  {
   "cell_type": "code",
<<<<<<< HEAD
   "execution_count": null,
   "metadata": {},
   "outputs": [],
=======
   "execution_count": 8,
   "metadata": {},
   "outputs": [
    {
     "data": {
      "image/png": "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\n",
      "text/plain": [
       "<Figure size 432x288 with 1 Axes>"
      ]
     },
     "metadata": {},
     "output_type": "display_data"
    },
    {
     "data": {
      "image/png": "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\n",
      "text/plain": [
       "<Figure size 432x288 with 1 Axes>"
      ]
     },
     "metadata": {},
     "output_type": "display_data"
    },
    {
     "name": "stdout",
     "output_type": "stream",
     "text": [
      "Mean Squared Error: 3.6214901322885944\n"
     ]
    }
   ],
>>>>>>> d6145a4e929dffb59ba1519112626a0777ba580a
   "source": [
    "### YOUR CODE HERE - Fit a 10-degree polynomial using Sci-Kit Learn\n",
    "polynomial_features_degree10 = PolynomialFeatures(degree=10)\n",
    "x_poly10 = polynomial_features_degree10.fit_transform(train_x)\n",
    "\n",
    "model = LinearRegression()\n",
    "model.fit(x_poly10, train_y)\n",
    "y_poly_pred10 = model.predict(x_poly10)\n",
    "\n",
    "### YOUR CODE HERE - Plot your the curve on the training data set\n",
    "plt.scatter(train_x, train_y, s=10)\n",
    "plt.plot(train_x, y_poly_pred10, color='r')\n",
    "plt.show()\n",
    "\n",
    "### YOUR CODE HERE - Use model to predict output of validation set\n",
    "valid_y_poly_pred10 = model.predict(polynomial_features_degree10.fit_transform(valid_x))\n",
    "plt.scatter(valid_x, valid_y, s=10)\n",
    "plt.plot(valid_x, valid_y_poly_pred10, color='r')\n",
    "plt.show()\n",
    "\n",
    "### YOUR CODE HERE - Calculate the RMSE (root mean square error). Report and plot the curve on the validation set.\n",
    "mse = mean_squared_error(valid_y, valid_y_poly_pred10)\n",
    "rmse = math.sqrt(mse)\n",
    "print(\"Mean Squared Error: {}\".format(rmse))\n"
   ]
  },
  {
   "cell_type": "markdown",
   "metadata": {},
   "source": [
    "#### Did the root mean squared error go up or down as compared to the 2-degree polynomial curve? Why do you think this is the case?\n",
    "\n",
    "------- ANSWER HERE -----------\n",
    "\n",
    "The RMSE went down, because we have a better fitting model since we augmented the number of features, however the coefficients/weights are still linear.\n",
    "\n",
    "I generate a higher order equation by adding powers of the original features as new features. It is still considered to be linear model as the coefficients/weights associated with the features are still linear. x<sup>2</sup> is only a feature. However the curve that we would be fitting in this case would be of degree 10 in nature."
   ]
  },
  {
   "cell_type": "markdown",
   "metadata": {},
   "source": [
    "Now repeat the above for a 20-degree polynomial regression model."
   ]
  },
  {
   "cell_type": "code",
<<<<<<< HEAD
   "execution_count": null,
   "metadata": {},
   "outputs": [],
=======
   "execution_count": 9,
   "metadata": {},
   "outputs": [
    {
     "data": {
      "image/png": "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\n",
      "text/plain": [
       "<Figure size 432x288 with 1 Axes>"
      ]
     },
     "metadata": {},
     "output_type": "display_data"
    },
    {
     "data": {
      "image/png": "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\n",
      "text/plain": [
       "<Figure size 432x288 with 1 Axes>"
      ]
     },
     "metadata": {},
     "output_type": "display_data"
    },
    {
     "name": "stdout",
     "output_type": "stream",
     "text": [
      "Mean Squared Error: 10.299790291882664\n"
     ]
    }
   ],
>>>>>>> d6145a4e929dffb59ba1519112626a0777ba580a
   "source": [
    "### YOUR CODE HERE - Fit a 20-degree polynomial using Sci-Kit Learn\n",
    "polynomial_features_degree20 = PolynomialFeatures(degree=20)\n",
    "x_poly20 = polynomial_features_degree20.fit_transform(train_x)\n",
    "model = LinearRegression()\n",
    "model.fit(x_poly20, train_y)\n",
    "y_poly_pred20 = model.predict(x_poly20)\n",
    "\n",
    "### YOUR CODE HERE - Plot your the curve on the training data set\n",
    "plt.scatter(train_x, train_y, s=10)\n",
    "plt.plot(train_x, y_poly_pred20, color='r')\n",
    "plt.show()\n",
    "\n",
    "### YOUR CODE HERE - Use model to predict output of validation set\n",
    "valid_y_poly_pred20 = model.predict(polynomial_features_degree20.fit_transform(valid_x))\n",
    "plt.scatter(valid_x, valid_y, s=10)\n",
    "plt.plot(valid_x, valid_y_poly_pred20, color='r')\n",
    "plt.show()\n",
<<<<<<< HEAD
    "\n",
    "\n",
=======
    "\n",
    "\n",
>>>>>>> d6145a4e929dffb59ba1519112626a0777ba580a
    "### YOUR CODE HERE - Calculate the RMSE. Report and plot the curve on the validation set.\n",
    "mse = mean_squared_error(valid_y, valid_y_poly_pred20)\n",
    "rmse = math.sqrt(mse)\n",
    "print(\"Mean Squared Error: {}\".format(rmse))"
   ]
  },
  {
   "cell_type": "markdown",
   "metadata": {},
   "source": [
    "#### How does the mean square error compare to the previous two models? Why do you think this is the case?\n",
    "\n",
    "-------- ANSWER HERE -----------\n",
    "\n",
    "The RMSE (root mean square error) is very big now, because the model is now overfitting."
   ]
  },
  {
   "cell_type": "markdown",
   "metadata": {},
   "source": [
    "## Question 2: Manual Implementation"
   ]
  },
  {
   "cell_type": "markdown",
   "metadata": {},
   "source": [
    "Now it's time to appreciate the hard work that open source developers have put, in order to allow you to implemenent machine learning models without doing any math! No more Sci-Kit learn (or any other libraries like Tensorflow, Pytorch, etc) for the rest of this assignment!"
   ]
  },
  {
   "cell_type": "markdown",
   "metadata": {},
   "source": [
    "Your first step is to fit a **10-degree polynomial** to the dataset we have been using above. Then using your results, calculate the mean squared error on both the training and validation set. You may use general utility libraries like numpy and pandas matrix computations and data manipulation, but pre-existing implementations of the model itself is prohibited.\n",
    "\n",
    "A reminder that in polynomial regression, we are looking for a solution for the equation:\n",
    "\n",
    "&nbsp;&nbsp;&nbsp;&nbsp;&nbsp;&nbsp; ** $Y(X)$ = $W^T$ * $\\phi(X)$ ** \n",
    "\n",
    "where\n",
    "\n",
    "&nbsp;&nbsp;&nbsp;&nbsp;&nbsp;&nbsp; ** $\\phi(X)$ = [ $1$, $X$, $X^2$, $X^3$, ..... $X^n$ ] **\n",
    " \n",
    "and the ordinary least square solution in closed form is:\n",
    "\n",
    "&nbsp;&nbsp;&nbsp;&nbsp;&nbsp;&nbsp;** $W$ = $(X^T X)^{-1}X^TY$ **\n",
    "\n",
    "Make sure to review the slides, do some research, and/or ask for clarification if this doesn't make sense. You must understand the underlying math before being able to implement this properly.\n",
    "\n",
    "*Suggestion - Use the original pandas dataframes variables named train, valid, and test instead of the reshaped arrays that were used specifically for Sci-Kit Learn. It will make your computations cleaner and more inuitive.*"
   ]
  },
  {
   "cell_type": "code",
<<<<<<< HEAD
   "execution_count": 46,
   "metadata": {
    "scrolled": true
   },
   "outputs": [
    {
     "name": "stdout",
     "output_type": "stream",
     "text": [
      "[[1.]\n",
      " [1.]\n",
      " [1.]\n",
      " [1.]\n",
      " [1.]\n",
      " [1.]\n",
      " [1.]\n",
      " [1.]\n",
      " [1.]\n",
      " [1.]\n",
      " [1.]\n",
      " [1.]\n",
      " [1.]\n",
      " [1.]\n",
      " [1.]\n",
      " [1.]\n",
      " [1.]\n",
      " [1.]\n",
      " [1.]\n",
      " [1.]\n",
      " [1.]\n",
      " [1.]\n",
      " [1.]\n",
      " [1.]\n",
      " [1.]\n",
      " [1.]\n",
      " [1.]\n",
      " [1.]\n",
      " [1.]\n",
      " [1.]\n",
      " [1.]\n",
      " [1.]\n",
      " [1.]\n",
      " [1.]\n",
      " [1.]\n",
      " [1.]\n",
      " [1.]\n",
      " [1.]\n",
      " [1.]\n",
      " [1.]\n",
      " [1.]\n",
      " [1.]\n",
      " [1.]\n",
      " [1.]\n",
      " [1.]\n",
      " [1.]\n",
      " [1.]\n",
      " [1.]\n",
      " [1.]]\n"
=======
   "execution_count": 29,
   "metadata": {
    "scrolled": false
   },
   "outputs": [
    {
     "data": {
      "image/png": "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\n",
      "text/plain": [
       "<Figure size 432x288 with 1 Axes>"
      ]
     },
     "metadata": {},
     "output_type": "display_data"
    },
    {
     "name": "stdout",
     "output_type": "stream",
     "text": [
      "[77.5370069]\n"
     ]
    },
    {
     "data": {
      "image/png": "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\n",
      "text/plain": [
       "<Figure size 432x288 with 1 Axes>"
      ]
     },
     "metadata": {},
     "output_type": "display_data"
    },
    {
     "name": "stdout",
     "output_type": "stream",
     "text": [
      "[48.62217133]\n"
>>>>>>> d6145a4e929dffb59ba1519112626a0777ba580a
     ]
    }
   ],
   "source": [
    "### YOUR CODE HERE - Create the polynomial matrix ϕ(X)\n",
<<<<<<< HEAD
    "matrix = np.array()\n",
    "one = np.ones((49,1))\n",
    "print(one)\n",
    "\n",
    "### YOUR CODE HERE - Find the weighted matrix W\n",
=======
    "one = np.ones((49,1))         #Creating an array of 1\n",
    "power2 = np.power(train_x, 2) #Power 2 of X\n",
    "power3 = np.power(train_x, 3) #Power 3 of X\n",
    "power4 = np.power(train_x, 4) #Power 4 of X\n",
    "power5 = np.power(train_x, 5) #Power 5 of X\n",
    "power6 = np.power(train_x, 6) #Power 6 of X\n",
    "power7 = np.power(train_x, 7) #Power 7 of X\n",
    "power8 = np.power(train_x, 8) #Power 8 of X\n",
    "power9 = np.power(train_x, 9) #Power 9 of X\n",
    "power10 = np.power(train_x, 10) #Power 10 of X\n",
    "\n",
    "#Concatenating all the arrays in a matrix of arrays\n",
    "matrix = np.concatenate((one, train_x, power2, power3, power4, power5, power6, power7, power8, power9, power10), axis = 1)\n",
    "#print(matrix.shape) matrix shape of (49,11) since we are looking to do a linear regression of degree 10 \n",
    "\n",
    "### YOUR CODE HERE - Find the weighted matrix W ===> W=(X^(T)*X)^(-1)*X^(T)*y)\n",
    "matrixT = matrix.transpose()          #Transposed matrix \n",
    "dotProduct = np.dot(matrixT, matrix)  #matrix dot product\n",
    "inverse = inv(dotProduct)             #inverse matrix \n",
    "dotProduct2 = np.dot(inverse, matrixT)#dot product between (X^T*X)^(-1) and transposed matrix\n",
    "w = np.dot(dotProduct2, train_y)      #dot product between the result of (X^T*X)^(-1) * transposed matrix and train_y\n",
>>>>>>> d6145a4e929dffb59ba1519112626a0777ba580a
    "\n",
    "### YOUR CODE HERE - Make predictions on the training set and calculate the root mean squared error. Plot the results.\n",
    "wT = w.transpose()\n",
    "y = np.array(wT*train_x)\n",
    "y = np.sum(y, axis=1)\n",
    "y = y.reshape(49,1)\n",
    "\n",
    "plt.plot(train_x, y, linestyle='-', color='r')\n",
    "plt.scatter(train_x, train_y) \n",
    "plt.show()\n",
    "\n",
    "#Calculating MSE\n",
    "n = len(train_x)\n",
    "error = train_y - y \n",
    "squaredError = np.power(error, 2)\n",
    "sumOfSquaredError = np.sum(squaredError, axis=0)\n",
    "mse = (1/n) * sumOfSquaredError\n",
    "print(mse)\n",
    "\n",
    "### YOUR CODE HERE - Make predictions on the validation set and calculate the mean squared error. Plot the results.\n",
    "y2 = np.array(wT*valid_x)\n",
    "y2 = np.sum(y2, axis=1)\n",
    "y2 = y2.reshape(50,1)\n",
    "plt.plot(valid_x, y2, linestyle='-', color='r')\n",
    "plt.scatter(valid_x, valid_y) \n",
    "plt.show()\n",
    "\n",
    "\n",
    "#Calculating MSE2\n",
    "n2 = len(valid_x)\n",
    "error2 = valid_y - y2 \n",
    "squaredError2 = np.power(error2, 2)\n",
    "sumOfSquaredError2 = np.sum(squaredError2, axis=0)\n",
    "mse2 = (1/n2) * sumOfSquaredError2\n",
    "print(mse2)\n"
   ]
  },
  {
   "cell_type": "markdown",
   "metadata": {},
   "source": [
    "For the rest of the assignment, we will use the other dataset named **dataset2.csv**. First load the csv and split the model into train, valid, and test sets as shown earlier in the assignment."
   ]
  },
  {
   "cell_type": "code",
<<<<<<< HEAD
   "execution_count": 26,
   "metadata": {},
   "outputs": [],
=======
   "execution_count": 30,
   "metadata": {},
   "outputs": [
    {
     "name": "stdout",
     "output_type": "stream",
     "text": [
      "<class 'pandas.core.series.Series'>\n"
     ]
    }
   ],
>>>>>>> d6145a4e929dffb59ba1519112626a0777ba580a
   "source": [
    "### YOUR CODE HERE - Load dataset2.csv and split into 3 equal sets\n",
    "data2 = pd.read_csv('dataset2.csv', header=None)\n",
    "data2 = data2.iloc[:, :-1]\n",
    "train2, valid2, test2 = np.split(data2, [int(.33*len(data2)), int(.66*len(data2))])\n",
    "\n",
<<<<<<< HEAD
    "\n",
    "### YOUR CODE HERE - Sort the data in order for plotting purposes later\n",
    "train2.sort_values(by=[0], inplace=True)\n",
    "valid2.sort_values(by=[0], inplace=True)\n",
    "test2.sort_values(by=[0], inplace=True)"
=======
    "\n",
    "### YOUR CODE HERE - Sort the data in order for plotting purposes later\n",
    "train2.sort_values(by=[0], inplace=True)\n",
    "valid2.sort_values(by=[0], inplace=True)\n",
    "test2.sort_values(by=[0], inplace=True)\n",
    "\n",
    "x = train2[0]\n",
    "y = train2[1]\n",
    "print(type(x))"
>>>>>>> d6145a4e929dffb59ba1519112626a0777ba580a
   ]
  },
  {
   "cell_type": "markdown",
   "metadata": {},
   "source": [
    "Plot the data below to see what it looks like"
   ]
  },
  {
   "cell_type": "code",
<<<<<<< HEAD
   "execution_count": 27,
=======
   "execution_count": 31,
>>>>>>> d6145a4e929dffb59ba1519112626a0777ba580a
   "metadata": {},
   "outputs": [
    {
     "data": {
      "image/png": "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\n",
      "text/plain": [
       "<Figure size 432x288 with 1 Axes>"
      ]
     },
     "metadata": {},
     "output_type": "display_data"
    }
   ],
   "source": [
    "### YOUR CODE HERE - Plot the points for dataset2\n",
<<<<<<< HEAD
    "plt.scatter(train2[0], train2[1], s=10)\n",
=======
    "plt.scatter(x, y, s=10)\n",
>>>>>>> d6145a4e929dffb59ba1519112626a0777ba580a
    "plt.show()"
   ]
  },
  {
   "cell_type": "markdown",
   "metadata": {},
   "source": [
    "If done properly, you should see that the points fall under a relatively straight line with minor deviations. Looks like a perfect example to implement a linear regression model using the **gradient descent** method ..... without the use of any machine learning libraries!\n",
    "\n",
    "Since the data falls along a straight line, we can assume the solution follows the form:\n",
    "\n",
    "&nbsp;&nbsp;&nbsp;&nbsp;&nbsp;&nbsp; ** $y(x)$ = $m x$ + $b$ **\n",
    "\n",
    "A reminder that in gradient descent, we essentially want to iteratively get closer to the minimum of our objective function (the mean squared error), such that:\n",
    " \n",
    " &nbsp;&nbsp;&nbsp;&nbsp;&nbsp;&nbsp; ** MSE($w_0$) > MSE($w_1$) > MSE($w_2$) > ...**\n",
    "\n",
    "The algorithm is as follows:\n",
    "\n",
    "&nbsp;&nbsp;&nbsp;&nbsp;&nbsp;&nbsp; ** 1) Pick initial $w_0$ randomnly. **\n",
    "\n",
    "&nbsp;&nbsp;&nbsp;&nbsp;&nbsp;&nbsp; ** 2) For $k=1,2..$ $\\Rightarrow$ $w_{k+1}$ = $w_k$ - $\\alpha$  $g(w_k)$  where $\\alpha > 0$ is the learning rate and $g(w_k)$ is the gradient. **\n",
    "\n",
    "&nbsp;&nbsp;&nbsp;&nbsp;&nbsp;&nbsp; ** End when | $w_k$ + $1$ - $w_k$ | < $\\epsilon$ **\n",
    "\n",
    "\n",
    "Make sure to review the slides, do some research, and/or ask for clarification if this doesn't make sense. There are many resources online for gradient descent. You must understand the underlying math before being able to implement this properly.\n",
    "\n",
    "Now once you understand, it is time to implement the gradient descent below. You may set the learning rate to 1e-6 or whatever value you think is best. As usual, calculate the mean squared error and plot your results. This time, training should be done using the training and validation sets, while the final mean squared error should be computed using the testing set."
   ]
  },
  {
   "cell_type": "code",
<<<<<<< HEAD
   "execution_count": null,
   "metadata": {},
   "outputs": [],
=======
   "execution_count": 32,
   "metadata": {},
   "outputs": [
    {
     "name": "stdout",
     "output_type": "stream",
     "text": [
      "The mean square error is:  0.09349722471469685\n"
     ]
    },
    {
     "data": {
      "image/png": "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\n",
      "text/plain": [
       "<Figure size 432x288 with 1 Axes>"
      ]
     },
     "metadata": {},
     "output_type": "display_data"
    }
   ],
>>>>>>> d6145a4e929dffb59ba1519112626a0777ba580a
   "source": [
    "### YOUR CODE HERE - Implement gradient decent\n",
    "### YOUR CODE HERE - Calculate the the mean squared error and plot the results.\n",
    "train_x2 = np.array(train2[0])\n",
    "train_y2 = np.array(train2[1])\n",
    "valid_x2 = np.array(valid2[0])\n",
    "valid_y2 = np.array(valid2[1])\n",
    "train_x2 = train_x2.reshape(-1, 1)\n",
    "train_y2 = train_y2.reshape(-1, 1)\n",
    "valid_x2 = valid_x2.reshape(-1, 1)\n",
    "valid_y2 = valid_y2.reshape(-1, 1)\n",
    "\n",
    "def gradient_descent(x,y):\n",
    "    m = b = 0\n",
    "    iterations = 3000\n",
    "    n = len(x)\n",
    "    learning_rate = 0.008  \n",
    "    for i in range(iterations):\n",
    "        y_predicted = m * x + b                                 #calculate the current y at each iteration with current m and current b \n",
    "        cost = (1/n) * sum([val**2 for val in (y-y_predicted)]) #We use MSE function as a cost function: sum all the difference between y-y_predicted using a for loop, and for each of those values, take their square. Do the sum of all those values divided by the number of elements\n",
    "        md = -(2/n)*sum(x*(y-y_predicted))                      #Partial derivative of m\n",
    "        bd = -(2/n)*sum(y-y_predicted)                          #Partial derivative of b\n",
    "        m = m - learning_rate * md                              #updating the value of m\n",
    "        b = b - learning_rate * bd                              #updating the value of b\n",
    "        \n",
    "    return(m,b,float(cost))\n",
    "    \n",
    "m, b, mse = gradient_descent(train_x2,train_y2)\n",
    "print('The mean square error is: ', mse)\n",
    "plt.plot(train_x2, m*train_x2 + b, linestyle='-', color='r')\n",
    "plt.scatter(train_x2, train_y2) \n",
    "plt.show()"
   ]
  },
  {
   "cell_type": "markdown",
   "metadata": {},
   "source": [
    "## Turning In"
   ]
  },
  {
   "cell_type": "markdown",
   "metadata": {},
   "source": [
    "1. Convert this notebook to a regular python file (file -> download as -> python)\n",
    "\n",
    "2. Submit both the notebook and python file via a pull request as specified in the README"
   ]
  }
 ],
 "metadata": {
  "kernelspec": {
   "display_name": "Python 3",
   "language": "python",
   "name": "python3"
  },
  "language_info": {
   "codemirror_mode": {
    "name": "ipython",
    "version": 3
   },
   "file_extension": ".py",
   "mimetype": "text/x-python",
   "name": "python",
   "nbconvert_exporter": "python",
   "pygments_lexer": "ipython3",
   "version": "3.6.5"
  },
  "toc": {
   "base_numbering": 1,
   "nav_menu": {},
   "number_sections": false,
   "sideBar": false,
   "skip_h1_title": false,
   "title_cell": "Table of Contents",
   "title_sidebar": "Contents",
   "toc_cell": false,
   "toc_position": {},
   "toc_section_display": false,
   "toc_window_display": false
  }
 },
 "nbformat": 4,
 "nbformat_minor": 2
}
