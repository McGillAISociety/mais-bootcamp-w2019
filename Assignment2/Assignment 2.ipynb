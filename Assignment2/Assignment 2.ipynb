{
 "cells": [
  {
   "cell_type": "markdown",
   "metadata": {},
   "source": [
    "# Assignment 2"
   ]
  },
  {
   "cell_type": "markdown",
   "metadata": {},
   "source": [
    "In this assignment, we will start with utilizing Sci-Kit learn to implement a linear regression model similar to what we did in Assignment 1. Afterwards, we will be dropping Sci-Kit learning and implementing these algorithms from scratch without the use of machine learning libraries. While you would likely never have to implement your own linear regression algorithm from scratch in practice, such a skill is valuable to have as you progress further into the field and find many scenarios where you actually may need to perform such implementations manually. Additionally, implementing algorithms from scratch will help you better understand the underlying mathematics behind each model.     "
   ]
  },
  {
   "cell_type": "markdown",
   "metadata": {},
   "source": [
    "## Import Libraries"
   ]
  },
  {
   "cell_type": "markdown",
   "metadata": {},
   "source": [
    "We will be using the following libraries for this homework assignment. For the questions requiring manual implementation, the pre-existing implementations from Sci-Kit Learn should *not* be used."
   ]
  },
  {
   "cell_type": "code",
   "execution_count": 52,
   "metadata": {
    "scrolled": true
   },
   "outputs": [],
   "source": [
    "import numpy as np\n",
    "import pandas as pd\n",
    "import matplotlib.pyplot as plt\n",
    "import operator\n",
    "%matplotlib inline\n",
    "\n",
    "from sklearn.linear_model import LinearRegression\n",
    "from sklearn.preprocessing import PolynomialFeatures\n",
    "from sklearn.metrics import mean_squared_error"
   ]
  },
  {
   "cell_type": "markdown",
   "metadata": {},
   "source": [
    "###### Preparing Data"
   ]
  },
  {
   "cell_type": "markdown",
   "metadata": {
    "collapsed": true
   },
   "source": [
    "The file named **dataset1.csv** includes data that was generated from an n-degree polynomial with some gaussian noise. The data has 2 columns - first column is the feature (input) and the second column is its label (output). The first step is to load the data and split them into training, validation, and test sets. A reminder that the purpose of each of the splitted sets are as follows:\n",
    "\n",
    "* **Training Set**: The sample of data used to fit the model\n",
    "* **Validation Set**: The sample of data used to provide an unbiased evaluation of a model fit on the training dataset while tuning model hyperparameters.\n",
    "* **Test Set**: The sample of data used to provide an unbiased evaluation of a final model fit on the training dataset.\n",
    "\n",
    "In the section below, we load the csv file and split the data randomnly into 3 equal sets. \n",
    "\n",
    "*Note that in practice, we usually aim for around a 70-20-10 split for train, valid, and test respectively, but due to limited data in our case, we will do an even split in order to have sufficient data for evaluation* "
   ]
  },
  {
   "cell_type": "code",
   "execution_count": 53,
   "metadata": {
    "scrolled": false
   },
   "outputs": [],
   "source": [
    "# Load the data and split into 3 equal sets\n",
    "data = pd.read_csv('dataset1.csv', header=None)\n",
    "data = data.iloc[:, :-1]\n",
    "train, valid, test = np.split(data, [int(.33*len(data)), int(.66*len(data))])\n",
    "\n",
    "# We sort the data in order for plotting purposes later\n",
    "train.sort_values(by=[0], inplace=True)\n",
    "valid.sort_values(by=[0], inplace=True)\n",
    "test.sort_values(by=[0], inplace=True)"
   ]
  },
  {
   "cell_type": "markdown",
   "metadata": {},
   "source": [
    "Let's take a look at what our data looks like"
   ]
  },
  {
   "cell_type": "code",
   "execution_count": 54,
   "metadata": {},
   "outputs": [
    {
     "data": {
      "image/png": "[encoded data removed]",
      "text/plain": [
       "<Figure size 432x288 with 1 Axes>"
      ]
     },
     "metadata": {
      "needs_background": "light"
     },
     "output_type": "display_data"
    }
   ],
   "source": [
    "plt.scatter(train[0], train[1], s=10)\n",
    "plt.show()"
   ]
  },
  {
   "cell_type": "markdown",
   "metadata": {},
   "source": [
    "Let's apply a linear regression model using Sci-Kit learn and see what the results look like."
   ]
  },
  {
   "cell_type": "code",
   "execution_count": 56,
   "metadata": {},
   "outputs": [
    {
     "data": {
      "image/png": "[encoded data removed]",
      "text/plain": [
       "<Figure size 432x288 with 1 Axes>"
      ]
     },
     "metadata": {
      "needs_background": "light"
     },
     "output_type": "display_data"
    }
   ],
   "source": [
    "# Reshape arrays since sci-kit learn only takes in 2D arrays\n",
    "train_x = np.array(train[0])\n",
    "train_y = np.array(train[1])\n",
    "valid_x = np.array(valid[0])\n",
    "valid_y = np.array(valid[1])\n",
    "train_x = train_x.reshape(-1, 1)\n",
    "train_y = train_y.reshape(-1, 1)\n",
    "valid_x = valid_x.reshape(-1, 1)\n",
    "valid_y = valid_y.reshape(-1, 1)\n",
    "\n",
    "# Apply linear regression model\n",
    "model = LinearRegression()\n",
    "model.fit(train_x, train_y)\n",
    "y_pred = model.predict(train_x)\n",
    "\n",
    "# Plot the results\n",
    "plt.scatter(train_x, train_y, s=10)\n",
    "plt.plot(train_x, y_pred, color='r')\n",
    "plt.show()"
   ]
  },
  {
   "cell_type": "markdown",
   "metadata": {},
   "source": [
    "By analyzing the line of best fit above, we can see that a straight line is unable to capture the patterns of the data. This is an example of underfitting. As seen in the latest lecture, we can generate a higher order equation by adding powers of the original features as new features. \n",
    "\n",
    "The linear model,: \n",
    "\n",
    "&nbsp;&nbsp;&nbsp;&nbsp;&nbsp;&nbsp; ** $y(x)$ = $w_1 x$ + $w_0$ ** \n",
    "\n",
    "can be transformed to a polynomial model such as:\n",
    "\n",
    "&nbsp;&nbsp;&nbsp;&nbsp;&nbsp;&nbsp; ** $y(x)$ = $w_2 x^2$ + $w_1 x$ + $w_0$ ** \n",
    "\n",
    "Note that this is still considered to be linear model as the coefficients/weights associated with the features are still linear. x<sup>2</sup> is only a feature. However the curve that we would be fitting in this case is quadratic in nature.\n",
    "\n",
    "Below we show an example of a quadratic curve being fit to the data"
   ]
  },
  {
   "cell_type": "code",
   "execution_count": 57,
   "metadata": {},
   "outputs": [
    {
     "data": {
      "image/png": "[encoded data removed]",
      "text/plain": [
       "<Figure size 432x288 with 1 Axes>"
      ]
     },
     "metadata": {
      "needs_background": "light"
     },
     "output_type": "display_data"
    }
   ],
   "source": [
    "# Create polynomial features with degree 2\n",
    "polynomial_features = PolynomialFeatures(degree=2)\n",
    "x_poly = polynomial_features.fit_transform(train_x)\n",
    "\n",
    "# Apply linear regression\n",
    "model = LinearRegression()\n",
    "model.fit(x_poly, train_y)\n",
    "y_poly_pred = model.predict(x_poly)\n",
    "\n",
    "# Plot the results\n",
    "plt.scatter(train_x, train_y, s=10)\n",
    "plt.plot(train_x, y_poly_pred, color='r')\n",
    "plt.show()"
   ]
  },
  {
   "cell_type": "markdown",
   "metadata": {},
   "source": [
    "As you can see, we get a slightly better fit with a quadratic curve. Let's use the model to make predictions on our validation set and compute the mean squared error, which is the error which we wish to minimize."
   ]
  },
  {
   "cell_type": "code",
   "execution_count": 58,
   "metadata": {},
   "outputs": [
    {
     "name": "stdout",
     "output_type": "stream",
     "text": [
      "Mean Squared Error: 20.485214511024232\n"
     ]
    },
    {
     "data": {
      "image/png": "[encoded data removed]",
      "text/plain": [
       "<Figure size 432x288 with 1 Axes>"
      ]
     },
     "metadata": {
      "needs_background": "light"
     },
     "output_type": "display_data"
    }
   ],
   "source": [
    "# Make predictions using pretrained model\n",
    "valid_y_poly_pred = model.predict(polynomial_features.fit_transform(valid_x))\n",
    "\n",
    "# Calculate root mean squared error\n",
    "mse = mean_squared_error(valid_y, valid_y_poly_pred)\n",
    "print(\"Mean Squared Error: {}\".format(mse))\n",
    "\n",
    "# Plot the prediction results\n",
    "plt.scatter(valid_x, valid_y, s=10)\n",
    "plt.plot(valid_x, valid_y_poly_pred, color='r')\n",
    "plt.show()"
   ]
  },
  {
   "cell_type": "markdown",
   "metadata": {},
   "source": [
    "## Question 1: Polynomial Regression Using Sci-Kit Learn\n",
    "\n",
    "Now it is your turn! Following the same format as above, implement a 10-degree polynomial regression model on the training data and plot your results. Use your model to predict the output of the validation set and calculate the mean square error. Report and plot the results. "
   ]
  },
  {
   "cell_type": "code",
   "execution_count": 59,
   "metadata": {},
   "outputs": [
    {
     "data": {
      "image/png": "[encoded data removed]",
      "text/plain": [
       "<Figure size 432x288 with 1 Axes>"
      ]
     },
     "metadata": {
      "needs_background": "light"
     },
     "output_type": "display_data"
    },
    {
     "name": "stdout",
     "output_type": "stream",
     "text": [
      "Mean Squared Error: 13.115190778263617\n"
     ]
    },
    {
     "data": {
      "image/png": "[encoded data removed]",
      "text/plain": [
       "<Figure size 432x288 with 1 Axes>"
      ]
     },
     "metadata": {
      "needs_background": "light"
     },
     "output_type": "display_data"
    }
   ],
   "source": [
    "### YOUR CODE HERE - Fit a 10-degree polynomial using Sci-Kit Learn\n",
    "polynomial_features = PolynomialFeatures(degree=10)\n",
    "x_poly = polynomial_features.fit_transform(train_x)\n",
    "model = LinearRegression()\n",
    "model.fit(x_poly, train_y)\n",
    "y_poly_pred = model.predict(x_poly)\n",
    "\n",
    "### YOUR CODE HERE - Plot your the curve on the training data set\n",
    "plt.scatter(train_x, train_y, s=10)\n",
    "plt.plot(train_x, y_poly_pred, color='r')\n",
    "plt.show()\n",
    "\n",
    "### YOUR CODE HERE - Use model to predict output of validation set\n",
    "valid_y_poly_pred = model.predict(polynomial_features.fit_transform(valid_x))\n",
    "\n",
    "### YOUR CODE HERE - Calculate the RMSE. Report and plot the curve on the validation set.\n",
    "mse = mean_squared_error(valid_y, valid_y_poly_pred)\n",
    "print(\"Mean Squared Error: {}\".format(mse))\n",
    "plt.scatter(valid_x, valid_y, s=10)\n",
    "plt.plot(valid_x, valid_y_poly_pred, color='r')\n",
    "plt.show()"
   ]
  },
  {
   "cell_type": "markdown",
   "metadata": {},
   "source": [
    "#### Did the root mean squared error go up or down as compared to the 2-degree polynomial curve? Why do you think this is the case?\n",
    "\n",
    "------- ANSWER HERE -----------\n",
    "The MSE decreases, a 10-degree polynomial seems more adapted to capture the variation of the data then a 2nd degree polynomial."
   ]
  },
  {
   "cell_type": "markdown",
   "metadata": {},
   "source": [
    "Now repeat the above for a 20-degree polynomial regression model."
   ]
  },
  {
   "cell_type": "code",
   "execution_count": 60,
   "metadata": {},
   "outputs": [
    {
     "data": {
      "image/png": "[encoded data removed]",
      "text/plain": [
       "<Figure size 432x288 with 1 Axes>"
      ]
     },
     "metadata": {
      "needs_background": "light"
     },
     "output_type": "display_data"
    },
    {
     "name": "stdout",
     "output_type": "stream",
     "text": [
      "Mean Squared Error: 106.08567940268014\n"
     ]
    },
    {
     "data": {
      "image/png": "[encoded data removed]",
      "text/plain": [
       "<Figure size 432x288 with 1 Axes>"
      ]
     },
     "metadata": {
      "needs_background": "light"
     },
     "output_type": "display_data"
    }
   ],
   "source": [
    "### YOUR CODE HERE - Fit a 20-degree polynomial using Sci-Kit Learn\n",
    "polynomial_features = PolynomialFeatures(degree=20)\n",
    "x_poly = polynomial_features.fit_transform(train_x)\n",
    "model = LinearRegression()\n",
    "model.fit(x_poly, train_y)\n",
    "y_poly_pred = model.predict(x_poly)\n",
    "\n",
    "### YOUR CODE HERE - Plot your the curve on the training data set\n",
    "plt.scatter(train_x, train_y, s=10)\n",
    "plt.plot(train_x, y_poly_pred, color='r')\n",
    "plt.show()\n",
    "\n",
    "### YOUR CODE HERE - Use model to predict output of validation set\n",
    "valid_y_poly_pred = model.predict(polynomial_features.fit_transform(valid_x))\n",
    "\n",
    "### YOUR CODE HERE - Calculate the RMSE. Report and plot the curve on the validation set.\n",
    "mse = mean_squared_error(valid_y, valid_y_poly_pred)\n",
    "print(\"Mean Squared Error: {}\".format(mse))\n",
    "plt.scatter(valid_x, valid_y, s=10)\n",
    "plt.plot(valid_x, valid_y_poly_pred, color='r')\n",
    "plt.show()"
   ]
  },
  {
   "cell_type": "markdown",
   "metadata": {},
   "source": [
    "#### How does the mean square error compare to the previous two models? Why do you think this is the case?\n",
    "\n",
    "-------- ANSWER HERE -----------\n",
    "It increases due to overfitting: the prediction model is too so adapted to the training model that it performs badly with unseen datasets."
   ]
  },
  {
   "cell_type": "markdown",
   "metadata": {},
   "source": [
    "## Question 2: Manual Implementation"
   ]
  },
  {
   "cell_type": "markdown",
   "metadata": {},
   "source": [
    "Now it's time to appreciate the hard work that open source developers have put, in order to allow you to implemenent machine learning models without doing any math! No more Sci-Kit learn (or any other libraries like Tensorflow, Pytorch, etc) for the rest of this assignment!"
   ]
  },
  {
   "cell_type": "markdown",
   "metadata": {},
   "source": [
    "Your first step is to fit a **10-degree polynomial** to the dataset we have been using above. Then using your results, calculate the mean squared error on both the training and validation set. You may use general utility libraries like numpy and pandas matrix computations and data manipulation, but pre-existing implementations of the model itself is prohibited.\n",
    "\n",
    "A reminder that in polynomial regression, we are looking for a solution for the equation:\n",
    "\n",
    "&nbsp;&nbsp;&nbsp;&nbsp;&nbsp;&nbsp; ** $Y(X)$ = $W^T$ * $\\phi(X)$ ** \n",
    "\n",
    "where\n",
    "\n",
    "&nbsp;&nbsp;&nbsp;&nbsp;&nbsp;&nbsp; ** $\\phi(X)$ = [ $1$, $X$, $X^2$, $X^3$, ..... $X^n$ ] **\n",
    " \n",
    "and the ordinary least square solution in closed form is:\n",
    "\n",
    "&nbsp;&nbsp;&nbsp;&nbsp;&nbsp;&nbsp;** $W$ = $(X^T X)^{-1}X^TY$ **\n",
    "\n",
    "Make sure to review the slides, do some research, and/or ask for clarification if this doesn't make sense. You must understand the underlying math before being able to implement this properly.\n",
    "\n",
    "*Suggestion - Use the original pandas dataframes variables named train, valid, and test instead of the reshaped arrays that were used specifically for Sci-Kit Learn. It will make your computations cleaner and more inuitive.*"
   ]
  },
  {
   "cell_type": "code",
   "execution_count": 122,
   "metadata": {},
   "outputs": [
    {
     "name": "stdout",
     "output_type": "stream",
     "text": [
      "(49, 49)\n",
      "(49, 1)\n",
      "(49, 49)\n",
      "(49, 10)\n"
     ]
    }
   ],
   "source": [
    "### YOUR CODE HERE - Create the polynomial matrix ϕ(X)\n",
    "exponents = np.arange(0,11)\n",
    "X = np.array(train[0])\n",
    "Y = np.array(train[1])\n",
    "Y = Y.reshape(1, -1)\n",
    "### YOUR CODE HERE - Find the weighted matrix W\n",
    "phi = np.column_stack((X, X**2, X**3, X**4, X**5, X**6, X**7, X**8, X**9, X**10))\n",
    "X = X.reshape(1, -1)\n",
    "transpose = X.T\n",
    "inv = np.linalg.inv(transpose.dot(X))\n",
    "print(inv.shape)\n",
    "W = inv.dot(transpose)\n",
    "print(W.shape)\n",
    "W = W.dot(Y)\n",
    "print(W.shape)\n",
    "### YOUR CODE HERE - Make predictions on the training set and calculate the root mean squared error. Plot the results.\n",
    "YPredicted = W.T.dot(phi)\n",
    "print(YPredicted.shape)\n",
    "### YOUR CODE HERE - Make predictions on the validation set and calculate the mean squared error. Plot the results.\n",
    "## The dimensions here don't make sense, I know W has to be a vector but from the above forumla we will get 49x49. I couldn't find\n",
    "## any online documentation to point me in the right direction"
   ]
  },
  {
   "cell_type": "markdown",
   "metadata": {},
   "source": [
    "For the rest of the assignment, we will use the other dataset named **dataset2.csv**. First load the csv and split the model into train, valid, and test sets as shown earlier in the assignment."
   ]
  },
  {
   "cell_type": "code",
   "execution_count": 124,
   "metadata": {},
   "outputs": [],
   "source": [
    "### YOUR CODE HERE - Load dataset2.csv and split into 3 equal sets\n",
    "# Load the data and split into 3 equal sets\n",
    "data2 = pd.read_csv('dataset2.csv', header=None)\n",
    "data2 = data.iloc[:, :-1]\n",
    "train2, valid2, test2 = np.split(data2, [int(.33*len(data2)), int(.66*len(data2))])\n",
    "\n",
    "### YOUR CODE HERE - Sort the data in order for plotting purposes later\n",
    "train2.sort_values(by=[0], inplace=True)\n",
    "valid2.sort_values(by=[0], inplace=True)\n",
    "test2.sort_values(by=[0], inplace=True)\n"
   ]
  },
  {
   "cell_type": "markdown",
   "metadata": {},
   "source": [
    "Plot the data below to see what it looks like"
   ]
  },
  {
   "cell_type": "code",
   "execution_count": 126,
   "metadata": {},
   "outputs": [
    {
     "data": {
      "image/png": "[encoded data removed]",
      "text/plain": [
       "<Figure size 432x288 with 1 Axes>"
      ]
     },
     "metadata": {
      "needs_background": "light"
     },
     "output_type": "display_data"
    }
   ],
   "source": [
    "### YOUR CODE HERE - Plot the points for dataset2\n",
    "plt.scatter(train[0], train[1], s=10)\n",
    "plt.show()"
   ]
  },
  {
   "cell_type": "markdown",
   "metadata": {},
   "source": [
    "If done properly, you should see that the points fall under a relatively straight line with minor deviations. Looks like a perfect example to implement a linear regression model using the **gradient descent** method ..... without the use of any machine learning libraries!\n",
    "\n",
    "Since the data falls along a straight line, we can assume the solution follows the form:\n",
    "\n",
    "&nbsp;&nbsp;&nbsp;&nbsp;&nbsp;&nbsp; ** $y(x)$ = $m x$ + $b$ **\n",
    "\n",
    "A reminder that in gradient descent, we essentially want to iteratively get closer to the minimum of our objective function (the mean squared error), such that:\n",
    " \n",
    " &nbsp;&nbsp;&nbsp;&nbsp;&nbsp;&nbsp; ** MSE($w_0$) > MSE($w_1$) > MSE($w_2$) > ...**\n",
    "\n",
    "The algorithm is as follows:\n",
    "\n",
    "&nbsp;&nbsp;&nbsp;&nbsp;&nbsp;&nbsp; ** 1) Pick initial $w_0$ randomnly. **\n",
    "\n",
    "&nbsp;&nbsp;&nbsp;&nbsp;&nbsp;&nbsp; ** 2) For $k=1,2..$ $\\Rightarrow$ $w_{k+1}$ = $w_k$ - $\\alpha$  $g(w_k)$  where $\\alpha > 0$ is the learning rate and $g(w_k)$ is the gradient. **\n",
    "\n",
    "&nbsp;&nbsp;&nbsp;&nbsp;&nbsp;&nbsp; ** End when | $w_k$ + $1$ - $w_k$ | < $\\epsilon$ **\n",
    "\n",
    "\n",
    "Make sure to review the slides, do some research, and/or ask for clarification if this doesn't make sense. There are many resources online for gradient descent. You must understand the underlying math before being able to implement this properly.\n",
    "\n",
    "Now once you understand, it is time to implement the gradient descent below. You may set the learning rate to 1e-6 or whatever value you think is best. As usual, calculate the mean squared error and plot your results. This time, training should be done using the training and validation sets, while the final mean squared error should be computed using the testing set."
   ]
  },
  {
   "cell_type": "code",
   "execution_count": 3,
   "metadata": {
    "collapsed": true
   },
   "outputs": [],
   "source": [
    "### YOUR CODE HERE - Implement gradient decent\n",
    "\n",
    "### YOUR CODE HERE - Calculate the the mean squared error and plot the results.\n",
    "\n",
    "## Since I couldn't implement the linear regression, I couldn't compute an MSE and apply gradient descent"
   ]
  },
  {
   "cell_type": "markdown",
   "metadata": {},
   "source": [
    "## Turning In"
   ]
  },
  {
   "cell_type": "markdown",
   "metadata": {},
   "source": [
    "1. Convert this notebook to a regular python file (file -> download as -> python)\n",
    "\n",
    "2. Submit both the notebook and python file via a pull request as specified in the README"
   ]
  }
 ],
 "metadata": {
  "kernelspec": {
   "display_name": "Python (MAIS-202)",
   "language": "python",
   "name": ".mais-env"
  },
  "language_info": {
   "codemirror_mode": {
    "name": "ipython",
    "version": 3
   },
   "file_extension": ".py",
   "mimetype": "text/x-python",
   "name": "python",
   "nbconvert_exporter": "python",
   "pygments_lexer": "ipython3",
   "version": "3.7.2"
  },
  "toc": {
   "base_numbering": 1,
   "nav_menu": {},
   "number_sections": false,
   "sideBar": false,
   "skip_h1_title": false,
   "title_cell": "Table of Contents",
   "title_sidebar": "Contents",
   "toc_cell": false,
   "toc_position": {},
   "toc_section_display": false,
   "toc_window_display": false
  }
 },
 "nbformat": 4,
 "nbformat_minor": 2
}
