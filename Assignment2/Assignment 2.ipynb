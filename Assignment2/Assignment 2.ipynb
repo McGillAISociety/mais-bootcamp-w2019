{
 "cells": [
  {
   "cell_type": "markdown",
   "metadata": {},
   "source": [
    "# Assignment 2"
   ]
  },
  {
   "cell_type": "markdown",
   "metadata": {},
   "source": [
    "In this assignment, we will start with utilizing Sci-Kit learn to implement a linear regression model similar to what we did in Assignment 1. Afterwards, we will be dropping Sci-Kit learning and implementing these algorithms from scratch without the use of machine learning libraries. While you would likely never have to implement your own linear regression algorithm from scratch in practice, such a skill is valuable to have as you progress further into the field and find many scenarios where you actually may need to perform such implementations manually. Additionally, implementing algorithms from scratch will help you better understand the underlying mathematics behind each model.     "
   ]
  },
  {
   "cell_type": "markdown",
   "metadata": {},
   "source": [
    "## Import Libraries"
   ]
  },
  {
   "cell_type": "markdown",
   "metadata": {},
   "source": [
    "We will be using the following libraries for this homework assignment. For the questions requiring manual implementation, the pre-existing implementations from Sci-Kit Learn should *not* be used."
   ]
  },
  {
   "cell_type": "code",
   "execution_count": 1,
   "metadata": {
    "scrolled": true
   },
   "outputs": [],
   "source": [
    "import numpy as np\n",
    "import pandas as pd\n",
    "import matplotlib.pyplot as plt\n",
    "import operator\n",
    "%matplotlib inline\n",
    "\n",
    "from sklearn.linear_model import LinearRegression\n",
    "from sklearn.preprocessing import PolynomialFeatures\n",
    "from sklearn.metrics import mean_squared_error"
   ]
  },
  {
   "cell_type": "markdown",
   "metadata": {},
   "source": [
    "## Preparing Data"
   ]
  },
  {
   "cell_type": "markdown",
   "metadata": {
    "collapsed": true
   },
   "source": [
    "The file named **dataset1.csv** includes data that was generated from an n-degree polynomial with some gaussian noise. The data has 2 columns - first column is the feature (input) and the second column is its label (output). The first step is to load the data and split them into training, validation, and test sets. A reminder that the purpose of each of the splitted sets are as follows:\n",
    "\n",
    "* **Training Set**: The sample of data used to fit the model\n",
    "* **Validation Set**: The sample of data used to provide an unbiased evaluation of a model fit on the training dataset while tuning model hyperparameters.\n",
    "* **Test Set**: The sample of data used to provide an unbiased evaluation of a final model fit on the training dataset.\n",
    "\n",
    "In the section below, we load the csv file and split the data randomnly into 3 equal sets. \n",
    "\n",
    "*Note that in practice, we usually aim for around a 70-20-10 split for train, valid, and test respectively, but due to limited data in our case, we will do an even split in order to have sufficient data for evaluation* "
   ]
  },
  {
   "cell_type": "code",
   "execution_count": 18,
   "metadata": {
    "scrolled": false
   },
   "outputs": [
    {
     "name": "stdout",
     "output_type": "stream",
     "text": [
      "            0          1   2\n",
      "0   -0.335254  -2.953401 NaN\n",
      "1    0.122457  -5.836786 NaN\n",
      "2   -0.819361  -9.321124 NaN\n",
      "3   -0.860443  -3.800950 NaN\n",
      "4    0.422628   2.100318 NaN\n",
      "5   -0.007729  -3.405798 NaN\n",
      "6   -0.627858  -6.709161 NaN\n",
      "7    0.962901  21.857697 NaN\n",
      "8   -0.427498  -3.513751 NaN\n",
      "9    0.352504  -3.073887 NaN\n",
      "10   0.448782  -0.086280 NaN\n",
      "11  -0.780743 -10.921434 NaN\n",
      "12  -0.488943 -10.539182 NaN\n",
      "13  -0.458625  -3.586555 NaN\n",
      "14   0.537657   4.146147 NaN\n",
      "15   0.765605  12.400646 NaN\n",
      "16   0.510209  -1.062215 NaN\n",
      "17  -0.283256  -6.700334 NaN\n",
      "18  -0.097897  -5.630283 NaN\n",
      "19   0.419778   1.357183 NaN\n",
      "20   0.232616   0.908847 NaN\n",
      "21  -0.184763  -5.287415 NaN\n",
      "22   0.442216  -4.053938 NaN\n",
      "23  -0.913618  -5.110324 NaN\n",
      "24  -0.698714 -11.098282 NaN\n",
      "25   0.850369  14.750550 NaN\n",
      "26   0.191167  -0.802697 NaN\n",
      "27  -0.073859  -6.728111 NaN\n",
      "28   0.411078   5.010641 NaN\n",
      "29   0.545287   3.394163 NaN\n",
      "..        ...        ...  ..\n",
      "120 -0.320002  -8.173860 NaN\n",
      "121 -0.941586  -5.081398 NaN\n",
      "122  0.960034  23.901121 NaN\n",
      "123  0.539157   0.603698 NaN\n",
      "124  0.481661   2.901607 NaN\n",
      "125 -0.421273  -5.141306 NaN\n",
      "126 -0.859347  -8.850104 NaN\n",
      "127 -0.466332  -8.592288 NaN\n",
      "128  0.225672   1.528809 NaN\n",
      "129  0.613427   2.153045 NaN\n",
      "130  0.010311   0.044069 NaN\n",
      "131  0.449532  -1.966416 NaN\n",
      "132 -0.666065   1.743793 NaN\n",
      "133  0.758337  11.295813 NaN\n",
      "134 -0.665856  -4.401262 NaN\n",
      "135  0.158440  -1.199532 NaN\n",
      "136  0.262260  -1.570944 NaN\n",
      "137  0.949064  28.894208 NaN\n",
      "138  0.901502  16.951294 NaN\n",
      "139  0.039217 -10.171068 NaN\n",
      "140  0.526354  -3.392671 NaN\n",
      "141 -0.350821  -6.755272 NaN\n",
      "142  0.193524  -4.538199 NaN\n",
      "143 -0.587559  -9.639093 NaN\n",
      "144  0.527891   1.690879 NaN\n",
      "145 -0.165273  -8.946116 NaN\n",
      "146  0.630637   5.166466 NaN\n",
      "147 -0.409602  -1.142509 NaN\n",
      "148  0.759965   2.599910 NaN\n",
      "149 -0.996609  -3.634394 NaN\n",
      "\n",
      "[150 rows x 3 columns]\n",
      "\n",
      "integer located data:\n",
      "            0          1\n",
      "0   -0.335254  -2.953401\n",
      "1    0.122457  -5.836786\n",
      "2   -0.819361  -9.321124\n",
      "3   -0.860443  -3.800950\n",
      "4    0.422628   2.100318\n",
      "5   -0.007729  -3.405798\n",
      "6   -0.627858  -6.709161\n",
      "7    0.962901  21.857697\n",
      "8   -0.427498  -3.513751\n",
      "9    0.352504  -3.073887\n",
      "10   0.448782  -0.086280\n",
      "11  -0.780743 -10.921434\n",
      "12  -0.488943 -10.539182\n",
      "13  -0.458625  -3.586555\n",
      "14   0.537657   4.146147\n",
      "15   0.765605  12.400646\n",
      "16   0.510209  -1.062215\n",
      "17  -0.283256  -6.700334\n",
      "18  -0.097897  -5.630283\n",
      "19   0.419778   1.357183\n",
      "20   0.232616   0.908847\n",
      "21  -0.184763  -5.287415\n",
      "22   0.442216  -4.053938\n",
      "23  -0.913618  -5.110324\n",
      "24  -0.698714 -11.098282\n",
      "25   0.850369  14.750550\n",
      "26   0.191167  -0.802697\n",
      "27  -0.073859  -6.728111\n",
      "28   0.411078   5.010641\n",
      "29   0.545287   3.394163\n",
      "..        ...        ...\n",
      "120 -0.320002  -8.173860\n",
      "121 -0.941586  -5.081398\n",
      "122  0.960034  23.901121\n",
      "123  0.539157   0.603698\n",
      "124  0.481661   2.901607\n",
      "125 -0.421273  -5.141306\n",
      "126 -0.859347  -8.850104\n",
      "127 -0.466332  -8.592288\n",
      "128  0.225672   1.528809\n",
      "129  0.613427   2.153045\n",
      "130  0.010311   0.044069\n",
      "131  0.449532  -1.966416\n",
      "132 -0.666065   1.743793\n",
      "133  0.758337  11.295813\n",
      "134 -0.665856  -4.401262\n",
      "135  0.158440  -1.199532\n",
      "136  0.262260  -1.570944\n",
      "137  0.949064  28.894208\n",
      "138  0.901502  16.951294\n",
      "139  0.039217 -10.171068\n",
      "140  0.526354  -3.392671\n",
      "141 -0.350821  -6.755272\n",
      "142  0.193524  -4.538199\n",
      "143 -0.587559  -9.639093\n",
      "144  0.527891   1.690879\n",
      "145 -0.165273  -8.946116\n",
      "146  0.630637   5.166466\n",
      "147 -0.409602  -1.142509\n",
      "148  0.759965   2.599910\n",
      "149 -0.996609  -3.634394\n",
      "\n",
      "[150 rows x 2 columns]\n",
      "train_size:98\n",
      "valid_size:100\n",
      "train_size:102\n"
     ]
    }
   ],
   "source": [
    "# Load the data and split into 3 equal sets\n",
    "data = pd.read_csv('dataset1.csv', header=None)\n",
    "print(\"{}\\n\".format(data))\n",
    "\n",
    "data = data.iloc[:, :-1]\n",
    "print(\"integer located data:\\n{}\".format(data))\n",
    "train, valid, test = np.split(data, [int(.33*len(data)), int(.66*len(data))])\n",
    "\n",
    "print(\"train_size:{}\\nvalid_size:{}\\ntrain_size:{}\".format(train.size,valid.size,test.size))\n",
    "\n",
    "\n",
    "# We sort the data in order for plotting purposes later\n",
    "train.sort_values(by=[0], inplace=True)\n",
    "valid.sort_values(by=[0], inplace=True)\n",
    "test.sort_values(by=[0], inplace=True)"
   ]
  },
  {
   "cell_type": "markdown",
   "metadata": {},
   "source": [
    "Let's take a look at what our data looks like"
   ]
  },
  {
   "cell_type": "code",
   "execution_count": 3,
   "metadata": {},
   "outputs": [
    {
     "data": {
      "image/png": "[encoded data removed]",
      "text/plain": [
       "<Figure size 432x288 with 1 Axes>"
      ]
     },
     "metadata": {
      "needs_background": "light"
     },
     "output_type": "display_data"
    }
   ],
   "source": [
    "plt.scatter(train[0], train[1], s=10)\n",
    "plt.show()"
   ]
  },
  {
   "cell_type": "markdown",
   "metadata": {},
   "source": [
    "Let's apply a linear regression model using Sci-Kit learn and see what the results look like."
   ]
  },
  {
   "cell_type": "code",
   "execution_count": 4,
   "metadata": {},
   "outputs": [
    {
     "data": {
      "image/png": "[encoded data removed]",
      "text/plain": [
       "<Figure size 432x288 with 1 Axes>"
      ]
     },
     "metadata": {
      "needs_background": "light"
     },
     "output_type": "display_data"
    }
   ],
   "source": [
    "# Reshape arrays since sci-kit learn only takes in 2D arrays\n",
    "train_x = np.array(train[0])\n",
    "train_y = np.array(train[1])\n",
    "valid_x = np.array(valid[0])\n",
    "valid_y = np.array(valid[1])\n",
    "train_x = train_x.reshape(-1, 1)\n",
    "train_y = train_y.reshape(-1, 1)\n",
    "valid_x = valid_x.reshape(-1, 1)\n",
    "valid_y = valid_y.reshape(-1, 1)\n",
    "\n",
    "# Apply linear regression model\n",
    "model = LinearRegression()\n",
    "model.fit(train_x, train_y)\n",
    "y_pred = model.predict(train_x)\n",
    "\n",
    "# Plot the results\n",
    "plt.scatter(train_x, train_y, s=10)\n",
    "plt.plot(train_x, y_pred, color='r')\n",
    "plt.show()"
   ]
  },
  {
   "cell_type": "markdown",
   "metadata": {},
   "source": [
    "By analyzing the line of best fit above, we can see that a straight line is unable to capture the patterns of the data. This is an example of underfitting. As seen in the latest lecture, we can generate a higher order equation by adding powers of the original features as new features. \n",
    "\n",
    "The linear model,: \n",
    "\n",
    "&nbsp;&nbsp;&nbsp;&nbsp;&nbsp;&nbsp; ** $y(x)$ = $w_1 x$ + $w_0$ ** \n",
    "\n",
    "can be transformed to a polynomial model such as:\n",
    "\n",
    "&nbsp;&nbsp;&nbsp;&nbsp;&nbsp;&nbsp; ** $y(x)$ = $w_2 x^2$ + $w_1 x$ + $w_0$ ** \n",
    "\n",
    "Note that this is still considered to be linear model as the coefficients/weights associated with the features are still linear. x<sup>2</sup> is only a feature. However the curve that we would be fitting in this case is quadratic in nature.\n",
    "\n",
    "Below we show an example of a quadratic curve being fit to the data"
   ]
  },
  {
   "cell_type": "code",
   "execution_count": 5,
   "metadata": {},
   "outputs": [
    {
     "data": {
      "image/png": "[encoded data removed]",
      "text/plain": [
       "<Figure size 432x288 with 1 Axes>"
      ]
     },
     "metadata": {
      "needs_background": "light"
     },
     "output_type": "display_data"
    }
   ],
   "source": [
    "# Create polynomial features with degree 2\n",
    "polynomial_features = PolynomialFeatures(degree=2)\n",
    "x_poly = polynomial_features.fit_transform(train_x)\n",
    "\n",
    "# Apply linear regression\n",
    "model = LinearRegression()\n",
    "model.fit(x_poly, train_y)\n",
    "y_poly_pred = model.predict(x_poly)\n",
    "\n",
    "# Plot the results\n",
    "plt.scatter(train_x, train_y, s=10)\n",
    "plt.plot(train_x, y_poly_pred, color='r')\n",
    "plt.show()"
   ]
  },
  {
   "cell_type": "markdown",
   "metadata": {},
   "source": [
    "As you can see, we get a slightly better fit with a quadratic curve. Let's use the model to make predictions on our validation set and compute the mean squared error, which is the error which we wish to minimize."
   ]
  },
  {
   "cell_type": "code",
   "execution_count": 6,
   "metadata": {},
   "outputs": [
    {
     "name": "stdout",
     "output_type": "stream",
     "text": [
      "Mean Squared Error: 20.485214511024232\n"
     ]
    },
    {
     "data": {
      "image/png": "[encoded data removed]",
      "text/plain": [
       "<Figure size 432x288 with 1 Axes>"
      ]
     },
     "metadata": {
      "needs_background": "light"
     },
     "output_type": "display_data"
    }
   ],
   "source": [
    "# Make predictions using pretrained model\n",
    "valid_y_poly_pred = model.predict(polynomial_features.fit_transform(valid_x))\n",
    "\n",
    "# Calculate root mean squared error\n",
    "mse = mean_squared_error(valid_y, valid_y_poly_pred)\n",
    "print(\"Mean Squared Error: {}\".format(mse))\n",
    "\n",
    "# Plot the prediction results\n",
    "plt.scatter(valid_x, valid_y, s=10)\n",
    "plt.plot(valid_x, valid_y_poly_pred, color='r')\n",
    "plt.show()"
   ]
  },
  {
   "cell_type": "markdown",
   "metadata": {},
   "source": [
    "## Question 1: Polynomial Regression Using Sci-Kit Learn\n",
    "\n",
    "Now it is your turn! Following the same format as above, implement a 10-degree polynomial regression model on the training data and plot your results. Use your model to predict the output of the validation set and calculate the mean square error. Report and plot the results. "
   ]
  },
  {
   "cell_type": "code",
   "execution_count": 7,
   "metadata": {},
   "outputs": [
    {
     "data": {
      "image/png": "[encoded data removed]",
      "text/plain": [
       "<Figure size 432x288 with 1 Axes>"
      ]
     },
     "metadata": {
      "needs_background": "light"
     },
     "output_type": "display_data"
    },
    {
     "data": {
      "image/png": "[encoded data removed]",
      "text/plain": [
       "<Figure size 432x288 with 1 Axes>"
      ]
     },
     "metadata": {
      "needs_background": "light"
     },
     "output_type": "display_data"
    },
    {
     "name": "stdout",
     "output_type": "stream",
     "text": [
      "Mean Squared Error of the new 10 degree polynomial prediction: 13.115190778263617\n"
     ]
    }
   ],
   "source": [
    "### YOUR CODE HERE - Fit a 10-degree polynomial using Sci-Kit Learn\n",
    "ten_poly_features = PolynomialFeatures(degree=10)\n",
    "x_ten_poly = ten_poly_features.fit_transform(train_x)\n",
    "model.fit(x_ten_poly,train_y)\n",
    "y_ten_poly_pred = model.predict(x_ten_poly)\n",
    "\n",
    "\n",
    "### YOUR CODE HERE - Plot your the curve on the training data set\n",
    "plt.scatter(train_x, train_y, s=10)\n",
    "plt.plot(train_x, y_ten_poly_pred, color='r')\n",
    "plt.show()\n",
    "\n",
    "### YOUR CODE HERE - Use model to predict output of validation set\n",
    "x_ten_poly_valid = ten_poly_features.fit_transform(valid_x)\n",
    "y_ten_poly_pred_valid = model.predict(x_ten_poly_valid)\n",
    "\n",
    "\n",
    "### YOUR CODE HERE - Calculate the RMSE. Report and plot the curve on the validation set.\n",
    "plt.scatter(valid_x,valid_y,s=10)\n",
    "plt.plot(valid_x, y_ten_poly_pred_valid, color='r')\n",
    "\n",
    "plt.show()\n",
    "\n",
    "mse = mean_squared_error(valid_y, y_ten_poly_pred_valid)\n",
    "print(\"Mean Squared Error of the new 10 degree polynomial prediction: {}\".format(mse))\n"
   ]
  },
  {
   "cell_type": "markdown",
   "metadata": {},
   "source": [
    "#### Did the root mean squared error go up or down as compared to the 2-degree polynomial curve? Why do you think this is the case?\n",
    "\n",
    "With a 2 degree polynomial, we were only able to fit a quadratic curve to the set of points in the form of a \"U\" shape. In comparison to a 10 degree, we are able to create a variety of curves that will be tailored to better fit the data. As a result, the RMSE went down in comparison to the 2-degree polynomial because the 10 degree curve allows for a better creation of a line that will adapt the curves to the data. "
   ]
  },
  {
   "cell_type": "markdown",
   "metadata": {},
   "source": [
    "Now repeat the above for a 20-degree polynomial regression model."
   ]
  },
  {
   "cell_type": "code",
   "execution_count": 8,
   "metadata": {},
   "outputs": [
    {
     "data": {
      "image/png": "[encoded data removed]",
      "text/plain": [
       "<Figure size 432x288 with 1 Axes>"
      ]
     },
     "metadata": {
      "needs_background": "light"
     },
     "output_type": "display_data"
    },
    {
     "data": {
      "image/png": "[encoded data removed]",
      "text/plain": [
       "<Figure size 432x288 with 1 Axes>"
      ]
     },
     "metadata": {
      "needs_background": "light"
     },
     "output_type": "display_data"
    },
    {
     "name": "stdout",
     "output_type": "stream",
     "text": [
      "Mean Squared Error of the new 10 degree polynomial prediction: 106.08567940268014\n"
     ]
    }
   ],
   "source": [
    "### YOUR CODE HERE - Fit a 20-degree polynomial using Sci-Kit Learn\n",
    "ten_poly_features = PolynomialFeatures(degree=20)\n",
    "x_ten_poly = ten_poly_features.fit_transform(train_x)\n",
    "model.fit(x_ten_poly,train_y)\n",
    "y_ten_poly_pred = model.predict(x_ten_poly)\n",
    "\n",
    "\n",
    "### YOUR CODE HERE - Plot your the curve on the training data set\n",
    "plt.scatter(train_x, train_y, s=10)\n",
    "plt.plot(train_x, y_ten_poly_pred, color='r')\n",
    "plt.show()\n",
    "\n",
    "### YOUR CODE HERE - Use model to predict output of validation set\n",
    "x_ten_poly_valid = ten_poly_features.fit_transform(valid_x)\n",
    "y_ten_poly_pred_valid = model.predict(x_ten_poly_valid)\n",
    "\n",
    "\n",
    "### YOUR CODE HERE - Calculate the RMSE. Report and plot the curve on the validation set.\n",
    "plt.scatter(valid_x,valid_y,s=10)\n",
    "plt.plot(valid_x, y_ten_poly_pred_valid, color='r')\n",
    "\n",
    "plt.show()\n",
    "\n",
    "mse = mean_squared_error(valid_y, y_ten_poly_pred_valid)\n",
    "print(\"Mean Squared Error of the new 10 degree polynomial prediction: {}\".format(mse))\n"
   ]
  },
  {
   "cell_type": "markdown",
   "metadata": {},
   "source": [
    "#### How does the mean square error compare to the previous two models? Why do you think this is the case?\n",
    "\n",
    "The result is worse. Having more features does not necessarily mean that our line will fit the data better. In this case, our fit line is overfitting the data and so when faced with the valdation set, it does not adapt too well to the slight variations in data."
   ]
  },
  {
   "cell_type": "markdown",
   "metadata": {},
   "source": [
    "## Question 2: Manual Implementation"
   ]
  },
  {
   "cell_type": "markdown",
   "metadata": {},
   "source": [
    "Now it's time to appreciate the hard work that open source developers have put, in order to allow you to implemenent machine learning models without doing any math! No more Sci-Kit learn (or any other libraries like Tensorflow, Pytorch, etc) for the rest of this assignment!"
   ]
  },
  {
   "cell_type": "markdown",
   "metadata": {},
   "source": [
    "Your first step is to fit a **10-degree polynomial** to the dataset we have been using above. Then using your results, calculate the mean squared error on both the training and validation set. You may use general utility libraries like numpy and pandas matrix computations and data manipulation, but pre-existing implementations of the model itself is prohibited.\n",
    "\n",
    "A reminder that in polynomial regression, we are looking for a solution for the equation:\n",
    "\n",
    "&nbsp;&nbsp;&nbsp;&nbsp;&nbsp;&nbsp; ** $Y(X)$ = $W^T$ * $\\phi(X)$ ** \n",
    "\n",
    "where\n",
    "\n",
    "&nbsp;&nbsp;&nbsp;&nbsp;&nbsp;&nbsp; ** $\\phi(X)$ = [ $1$, $X$, $X^2$, $X^3$, ..... $X^n$ ] **\n",
    " \n",
    "and the ordinary least square solution in closed form is:\n",
    "\n",
    "&nbsp;&nbsp;&nbsp;&nbsp;&nbsp;&nbsp;** $W$ = $(X^T X)^{-1}X^TY$ **\n",
    "\n",
    "Make sure to review the slides, do some research, and/or ask for clarification if this doesn't make sense. You must understand the underlying math before being able to implement this properly.\n",
    "\n",
    "*Suggestion - Use the original pandas dataframes variables named train, valid, and test instead of the reshaped arrays that were used specifically for Sci-Kit Learn. It will make your computations cleaner and more inuitive.*"
   ]
  },
  {
   "cell_type": "code",
   "execution_count": 9,
   "metadata": {},
   "outputs": [
    {
     "name": "stdout",
     "output_type": "stream",
     "text": [
      "Train set RMS Error: 8.60066434175744\n"
     ]
    },
    {
     "data": {
      "image/png": "[encoded data removed]",
      "text/plain": [
       "<Figure size 432x288 with 1 Axes>"
      ]
     },
     "metadata": {
      "needs_background": "light"
     },
     "output_type": "display_data"
    },
    {
     "name": "stdout",
     "output_type": "stream",
     "text": [
      "Validation set RMS Error: 6.996478361175605\n"
     ]
    },
    {
     "data": {
      "image/png": "[encoded data removed]",
      "text/plain": [
       "<Figure size 432x288 with 1 Axes>"
      ]
     },
     "metadata": {
      "needs_background": "light"
     },
     "output_type": "display_data"
    }
   ],
   "source": [
    "# Generating the 10 degree polynomial\n",
    "def gen_poly_matrix(X, poly=0):\n",
    "    return np.array([np.array(X**exp) for exp in range(0,poly+1)]).T\n",
    "\n",
    "phi=gen_poly_matrix(train[0],10)\n",
    "\n",
    "\n",
    "# Determining the weight matrix\n",
    "def gen_w_matrix(X,Y):\n",
    "    #Extra vars are not necessary lol... just to make it cleaner\n",
    "    X_trans= X.T #transpose X\n",
    "    X_square_matrix= np.matmul(X_trans,X)\n",
    "    inv_X_square_matrix = np.linalg.inv(X_square_matrix)\n",
    "    return np.matmul(inv_X_square_matrix,np.matmul(X_trans,Y))\n",
    "\n",
    "W = gen_w_matrix(phi,np.array(train[1]))\n",
    "\n",
    "\n",
    "def linear_y_predict(X,theta):\n",
    "    return np.matmul(X,theta.T)\n",
    "\n",
    "def rms_error(y_obs,y_pred):\n",
    "    return np.sum((y_obs-y_pred)**2)/len(y_pred)\n",
    "\n",
    "\n",
    "# Training RMS Error value and Graph of the line fit\n",
    "y_pred = linear_y_predict(phi,W)\n",
    "train_rms= rms_error(np.array(train[1]), y_pred)\n",
    "\n",
    "print(\"Train set RMS Error: {}\".format(train_rms))\n",
    "plt.scatter(train[0],train[1])\n",
    "plt.plot(train[0],y_pred,color='red')\n",
    "plt.show()\n",
    "\n",
    "\n",
    "# Validation RMS Error value and Graph of the line fit\n",
    "phi_valid=gen_poly_matrix(valid[0],10)\n",
    "W_valid = gen_w_matrix(phi_valid,np.array(valid[1]))\n",
    "y_pred_valid=linear_y_predict(phi_valid,W_valid)\n",
    "valid_rms = rms_error(np.array(valid[1]),y_pred_valid)\n",
    "\n",
    "print(\"Validation set RMS Error: {}\".format(valid_rms))\n",
    "plt.scatter(valid[0],valid[1])\n",
    "plt.plot(valid[0], y_pred_valid, color='green')\n",
    "plt.show()\n"
   ]
  },
  {
   "cell_type": "markdown",
   "metadata": {},
   "source": [
    "For the rest of the assignment, we will use the other dataset named **dataset2.csv**. First load the csv and split the model into train, valid, and test sets as shown earlier in the assignment."
   ]
  },
  {
   "cell_type": "code",
   "execution_count": 10,
   "metadata": {},
   "outputs": [],
   "source": [
    "# dataset2.csv and split into 3 equal sets\n",
    "data_2=pd.read_csv('dataset2.csv',header=None)\n",
    "train_2,valid_2,test_2 = np.split(data_2,[int(0.33*len(data_2)), int(.66*len(data_2))])\n",
    "\n",
    "# Data Sorting\n",
    "train_2.sort_values([0], inplace=True)\n",
    "valid_2.sort_values([0],inplace=True)\n",
    "test_2.sort_values([0],inplace=True)\n",
    "\n",
    "\n",
    "train_x_2 = np.array(train_2[0]).reshape(-1,1)\n",
    "train_y_2 = np.array(train_2[1]).reshape(-1,1)\n",
    "\n",
    "valid_x_2 = np.array(valid_2[0]).reshape(-1,1)\n",
    "valid_y_2 = np.array(valid_2[1]).reshape(-1,1)\n",
    "\n",
    "test_x_2 = np.array(test_2[0]).reshape(-1,1)\n",
    "test_y_2 = np.array(test_2[1]).reshape(-1,1)"
   ]
  },
  {
   "cell_type": "markdown",
   "metadata": {},
   "source": [
    "Plot the data below to see what it looks like"
   ]
  },
  {
   "cell_type": "code",
   "execution_count": 11,
   "metadata": {},
   "outputs": [
    {
     "data": {
      "text/plain": [
       "<matplotlib.collections.PathCollection at 0x7eff95580cc0>"
      ]
     },
     "execution_count": 11,
     "metadata": {},
     "output_type": "execute_result"
    },
    {
     "data": {
      "image/png": "[encoded data removed]",
      "text/plain": [
       "<Figure size 432x288 with 1 Axes>"
      ]
     },
     "metadata": {
      "needs_background": "light"
     },
     "output_type": "display_data"
    }
   ],
   "source": [
    "# Plot the points for dataset2\n",
    "plt.scatter(data_2[0],data_2[1])"
   ]
  },
  {
   "cell_type": "markdown",
   "metadata": {},
   "source": [
    "If done properly, you should see that the points fall under a relatively straight line with minor deviations. Looks like a perfect example to implement a linear regression model using the **gradient descent** method ..... without the use of any machine learning libraries!\n",
    "\n",
    "Since the data falls along a straight line, we can assume the solution follows the form:\n",
    "\n",
    "&nbsp;&nbsp;&nbsp;&nbsp;&nbsp;&nbsp; ** $y(x)$ = $m x$ + $b$ **\n",
    "\n",
    "A reminder that in gradient descent, we essentially want to iteratively get closer to the minimum of our objective function (the mean squared error), such that:\n",
    " \n",
    " &nbsp;&nbsp;&nbsp;&nbsp;&nbsp;&nbsp; ** MSE($w_0$) > MSE($w_1$) > MSE($w_2$) > ...**\n",
    "\n",
    "The algorithm is as follows:\n",
    "\n",
    "&nbsp;&nbsp;&nbsp;&nbsp;&nbsp;&nbsp; ** 1) Pick initial $w_0$ randomnly. **\n",
    "\n",
    "&nbsp;&nbsp;&nbsp;&nbsp;&nbsp;&nbsp; ** 2) For $k=1,2..$ $\\Rightarrow$ $w_{k+1}$ = $w_k$ - $\\alpha$  $g(w_k)$  where $\\alpha > 0$ is the learning rate and $g(w_k)$ is the gradient. **\n",
    "\n",
    "&nbsp;&nbsp;&nbsp;&nbsp;&nbsp;&nbsp; ** End when | $w_k$ + $1$ - $w_k$ | < $\\epsilon$ **\n",
    "\n",
    "\n",
    "Make sure to review the slides, do some research, and/or ask for clarification if this doesn't make sense. There are many resources online for gradient descent. You must understand the underlying math before being able to implement this properly.\n",
    "\n",
    "Now once you understand, it is time to implement the gradient descent below. You may set the learning rate to 1e-6 or whatever value you think is best. As usual, calculate the mean squared error and plot your results. This time, training should be done using the training and validation sets, while the final mean squared error should be computed using the testing set."
   ]
  },
  {
   "cell_type": "code",
   "execution_count": 42,
   "metadata": {},
   "outputs": [
    {
     "name": "stdout",
     "output_type": "stream",
     "text": [
      "Mean Squared Error: 0.08905927548309103\n"
     ]
    },
    {
     "data": {
      "image/png": "[encoded data removed]",
      "text/plain": [
       "<Figure size 432x288 with 1 Axes>"
      ]
     },
     "metadata": {
      "needs_background": "light"
     },
     "output_type": "display_data"
    }
   ],
   "source": [
    "def calculate_grad(x, y, m, b):\n",
    "    y_pred = m*x + b\n",
    "    N = len(x)\n",
    "    \n",
    "    #side-note I used Andrew Ng's interpretation of the cost funt\n",
    "    # where it is (1/2m)*Sum of (y_pred-y_act)^2 so the derivative cancels the 2\n",
    "    grad_m = (-1/N) * sum(x*(y-y_pred))\n",
    "    grad_b = (-1/N) * sum(y-y_pred)\n",
    "    return (grad_m, grad_b)\n",
    "\n",
    "\n",
    "def gradient_descent(x,y, epsilon= 10**-5, alpha=10**(-3)):\n",
    "    \n",
    "    #Assuming y=ax+b\n",
    "    m_prev=0\n",
    "    b_prev=0\n",
    "\n",
    "    while True:    \n",
    "        #calculate current gradient\n",
    "        grad_m,grad_b = calculate_grad(x, y, m_prev, b_prev)\n",
    "\n",
    "        m_cur = m_prev - alpha*grad_m\n",
    "        b_cur = b_prev - alpha*grad_b\n",
    "\n",
    "        diff = np.sqrt((m_cur-m_prev)**2 + (b_cur-b_prev)**2)\n",
    "        \n",
    "        #Uncomment if you want to see the distance progress\n",
    "        #print(\"Distance between Wn and Wn-1:{}\".format(diff))\n",
    "        \n",
    "        if (diff < epsilon):\n",
    "            break\n",
    "\n",
    "        m_prev = m_cur\n",
    "        b_prev = b_cur\n",
    "\n",
    "        \n",
    "    return m_cur,b_cur\n",
    "\n",
    "\n",
    "weight, beta = gradient_descent(train_x_2,train_y_2)\n",
    "\n",
    "y_valid_2_predicted = weight*valid_x_2 + beta\n",
    "\n",
    "#calculated MSE\n",
    "mse = np.power((y_valid_2_predicted - valid_y_2),2).mean()\n",
    "print(\"Mean Squared Error: {}\".format(mse))\n",
    "\n",
    "#plot\n",
    "plt.scatter(valid_x_2, valid_y_2, s=10)\n",
    "plt.plot(valid_x_2, y_valid_2_predicted, color='r')\n",
    "plt.show()\n"
   ]
  },
  {
   "cell_type": "markdown",
   "metadata": {},
   "source": [
    "## Turning In"
   ]
  },
  {
   "cell_type": "markdown",
   "metadata": {},
   "source": [
    "1. Convert this notebook to a regular python file (file -> download as -> python)\n",
    "\n",
    "2. Submit both the notebook and python file via a pull request as specified in the README"
   ]
  }
 ],
 "metadata": {
  "kernelspec": {
   "display_name": "Python 3",
   "language": "python",
   "name": "python3"
  },
  "language_info": {
   "codemirror_mode": {
    "name": "ipython",
    "version": 3
   },
   "file_extension": ".py",
   "mimetype": "text/x-python",
   "name": "python",
   "nbconvert_exporter": "python",
   "pygments_lexer": "ipython3",
   "version": "3.5.2"
  },
  "toc": {
   "base_numbering": 1,
   "nav_menu": {},
   "number_sections": false,
   "sideBar": false,
   "skip_h1_title": false,
   "title_cell": "Table of Contents",
   "title_sidebar": "Contents",
   "toc_cell": false,
   "toc_position": {},
   "toc_section_display": false,
   "toc_window_display": false
  }
 },
 "nbformat": 4,
 "nbformat_minor": 2
}
