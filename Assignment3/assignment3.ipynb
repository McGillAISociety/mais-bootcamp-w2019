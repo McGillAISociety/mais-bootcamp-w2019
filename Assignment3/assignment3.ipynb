{
 "cells": [
  {
   "cell_type": "markdown",
   "metadata": {},
   "source": [
    "# Homework 3: Introduction to PyTorch"
   ]
  },
  {
   "cell_type": "markdown",
   "metadata": {},
   "source": [
    "PyTorch is a framework for creating and training neural networks. It's one of the most common neural network libraries, alongside TensorFlow, and is used extensively in both academia and industry. In this homework, we'll explore the basic operations within PyTorch, and we'll design a neural network to classify images."
   ]
  },
  {
   "cell_type": "markdown",
   "metadata": {},
   "source": [
    "Let's start by importing the libraries that we'll need:"
   ]
  },
  {
   "cell_type": "code",
   "execution_count": 99,
   "metadata": {},
   "outputs": [],
   "source": [
    "import torch\n",
    "import torchvision\n",
    "import torch.nn as nn\n",
    "\n",
    "import numpy as np\n",
    "\n",
    "%matplotlib inline\n",
    "import matplotlib.pyplot as plt"
   ]
  },
  {
   "cell_type": "markdown",
   "metadata": {},
   "source": [
    "If you can't import torch, go to www.pytorch.org and follow the instructions there for downloading PyTorch. You can select CUDA Version as None, as we won't be working with any GPUs on this homework."
   ]
  },
  {
   "cell_type": "markdown",
   "metadata": {},
   "source": [
    "## PyTorch: Tensors"
   ]
  },
  {
   "cell_type": "markdown",
   "metadata": {},
   "source": [
    "In PyTorch, data is stored as multidimensional arrays, called tensors. Tensors are very similar to numpy's ndarrays, and they support many of the same operations. We can define tensors by explicity setting the values, using a python list:"
   ]
  },
  {
   "cell_type": "code",
   "execution_count": 100,
   "metadata": {},
   "outputs": [
    {
     "name": "stdout",
     "output_type": "stream",
     "text": [
      "A:\n",
      "tensor([[ 1,  2],\n",
      "        [ 4, -3]])\n",
      "\n",
      "\n",
      "B:\n",
      "tensor([[ 3,  1],\n",
      "        [-2,  3]])\n"
     ]
    }
   ],
   "source": [
    "A = torch.tensor([[1, 2], [4, -3]])\n",
    "B = torch.tensor([[3, 1], [-2, 3]])\n",
    "\n",
    "print(\"A:\")\n",
    "print(A)\n",
    "\n",
    "print('\\n')\n",
    "\n",
    "print(\"B:\")\n",
    "print(B)"
   ]
  },
  {
   "cell_type": "markdown",
   "metadata": {},
   "source": [
    "Just like numpy, PyTorch supports operations like addition, multiplication, transposition, dot products, and concatenation of tensors. Look up and fill in the operations for the following:"
   ]
  },
  {
   "cell_type": "code",
   "execution_count": 102,
   "metadata": {},
   "outputs": [
    {
     "name": "stdout",
     "output_type": "stream",
     "text": [
      "Sum of A and B:\n",
      "tensor([[4, 3],\n",
      "        [2, 0]])\n",
      "\n",
      "\n",
      "Elementwise product of A and B:\n",
      "tensor([[ 3,  2],\n",
      "        [-8, -9]])\n",
      "\n",
      "\n",
      "Matrix product of A and B:\n",
      "tensor([[-1,  7],\n",
      "        [18, -5]])\n",
      "\n",
      "\n",
      "Transposition of A:\n",
      "tensor([[ 1,  4],\n",
      "        [ 2, -3]])\n",
      "\n",
      "\n",
      "Concatenation of A and B in the 0th dimension:\n",
      "tensor([[ 1,  2],\n",
      "        [ 4, -3],\n",
      "        [ 3,  1],\n",
      "        [-2,  3]])\n",
      "\n",
      "\n",
      "Concatenation of A and B in the 1st dimension:\n"
     ]
    },
    {
     "data": {
      "text/plain": [
       "tensor([[ 1,  2,  3,  1],\n",
       "        [ 4, -3, -2,  3]])"
      ]
     },
     "execution_count": 102,
     "metadata": {},
     "output_type": "execute_result"
    }
   ],
   "source": [
    "print(\"Sum of A and B:\")\n",
    "print(A + B)\n",
    "\n",
    "print('\\n')\n",
    "\n",
    "print(\"Elementwise product of A and B:\")\n",
    "print(A * B)\n",
    "\n",
    "print('\\n')\n",
    "\n",
    "print(\"Matrix product of A and B:\")\n",
    "print(A @ B)\n",
    "\n",
    "print('\\n')\n",
    "\n",
    "print(\"Transposition of A:\")\n",
    "print(A.t())\n",
    "\n",
    "print('\\n')\n",
    "\n",
    "print(\"Concatenation of A and B in the 0th dimension:\")\n",
    "print(torch.cat((A, B), 0))\n",
    "\n",
    "print('\\n')\n",
    "\n",
    "print(\"Concatenation of A and B in the 1st dimension:\")\n",
    "torch.cat((A, B), 1)\n"
   ]
  },
  {
   "cell_type": "markdown",
   "metadata": {},
   "source": [
    "PyTorch also has tools for creating large tensors automatically, without explicity specifying the values. Find the corresponding tensor initialzers and fill in below. Your print statements should look like the following:\n",
    "\n",
    "3x4x5 Tensor of Zeros:\n",
    "```\n",
    "tensor([[[0., 0., 0., 0., 0.],\n",
    "         [0., 0., 0., 0., 0.],\n",
    "         [0., 0., 0., 0., 0.],\n",
    "         [0., 0., 0., 0., 0.]],\n",
    "\n",
    "        [[0., 0., 0., 0., 0.],\n",
    "         [0., 0., 0., 0., 0.],\n",
    "         [0., 0., 0., 0., 0.],\n",
    "         [0., 0., 0., 0., 0.]],\n",
    "\n",
    "        [[0., 0., 0., 0., 0.],\n",
    "         [0., 0., 0., 0., 0.],\n",
    "         [0., 0., 0., 0., 0.],\n",
    "         [0., 0., 0., 0., 0.]]])\n",
    "```\n",
    "\n",
    "\n",
    "5x5 Tensor with random elements sampled from a standard normal distrubtion: (these should be randomly generated values)\n",
    "```\n",
    "tensor([[ 0.2850,  0.5033, -1.8570, -1.6525,  0.3613],\n",
    "        [-0.7505,  0.4573, -0.2454,  0.1668,  0.7241],\n",
    "        [ 0.2976,  0.9827, -0.4879, -1.1144, -1.8235],\n",
    "        [-0.0264,  0.7341, -0.2235,  0.5306,  0.8385],\n",
    "        [ 0.2740,  0.3522, -0.5244, -0.1132,  0.5135]])\n",
    "```\n",
    "\n",
    "Tensor created from a range:\n",
    "```\n",
    "tensor([0, 1, 2, 3, 4, 5, 6, 7, 8, 9])\n",
    "```\n"
   ]
  },
  {
   "cell_type": "code",
   "execution_count": 103,
   "metadata": {},
   "outputs": [
    {
     "name": "stdout",
     "output_type": "stream",
     "text": [
      "3x4x5 Tensor of Zeros:\n",
      "tensor([[[0., 0., 0., 0., 0.],\n",
      "         [0., 0., 0., 0., 0.],\n",
      "         [0., 0., 0., 0., 0.],\n",
      "         [0., 0., 0., 0., 0.]],\n",
      "\n",
      "        [[0., 0., 0., 0., 0.],\n",
      "         [0., 0., 0., 0., 0.],\n",
      "         [0., 0., 0., 0., 0.],\n",
      "         [0., 0., 0., 0., 0.]],\n",
      "\n",
      "        [[0., 0., 0., 0., 0.],\n",
      "         [0., 0., 0., 0., 0.],\n",
      "         [0., 0., 0., 0., 0.],\n",
      "         [0., 0., 0., 0., 0.]]])\n",
      "\n",
      "\n",
      "5x5 Tensor with random elements sampled from a standard normal distrubtion:\n",
      "tensor([[ 0.4411, -1.1914,  0.6226, -0.3104,  1.8314],\n",
      "        [ 0.5396, -0.4625, -0.2878,  1.4065,  0.0725],\n",
      "        [-0.6029,  0.0834,  1.1033, -0.6728, -0.4240],\n",
      "        [ 2.1358, -1.6102,  0.3926, -1.3238, -1.6759],\n",
      "        [-1.4247,  0.1249,  2.3325, -2.3038, -0.0484]])\n",
      "\n",
      "\n",
      "Tensor created from a range:\n",
      "tensor([0, 1, 2, 3, 4, 5, 6, 7, 8, 9])\n"
     ]
    }
   ],
   "source": [
    "print(\"3x4x5 Tensor of Zeros:\")\n",
    "print(torch.zeros((3, 4, 5)))\n",
    "\n",
    "print('\\n')\n",
    "\n",
    "print(\"5x5 Tensor with random elements sampled from a standard normal distrubtion:\")\n",
    "print(torch.randn((5,5)))\n",
    "\n",
    "print('\\n')\n",
    "\n",
    "print(\"Tensor created from a range:\")\n",
    "print(torch.arange(10))\n"
   ]
  },
  {
   "cell_type": "markdown",
   "metadata": {},
   "source": [
    "Now, use PyTorch tensors to complete the following computation:\n",
    "\n",
    "Create a tensor of integers from the range 0 to 99, inclusive. Add 0.5 to each element in the tensor, and square each element of the result. Then, negate each element of the tensor, and apply the exponential to each element (i.e., change each element x into e^x). Now, sum all the elements of the tensor. Multiply this tensor by 2 and square each element and print your result.\n",
    "\n",
    "If you're right, you should get something very close to $$\\pi \\approx 3.14 .$$"
   ]
  },
  {
   "cell_type": "code",
   "execution_count": 104,
   "metadata": {},
   "outputs": [
    {
     "name": "stdout",
     "output_type": "stream",
     "text": [
      "tensor(3.1409)\n"
     ]
    }
   ],
   "source": [
    "val = torch.arange(100).float()\n",
    "val += 0.5\n",
    "val *= val\n",
    "val *= -1\n",
    "val = torch.exp(val)\n",
    "val = torch.sum(val)\n",
    "val *= 2\n",
    "val *= val\n",
    "\n",
    "print(val)"
   ]
  },
  {
   "cell_type": "markdown",
   "metadata": {},
   "source": [
    "Now we'll try writing a computation that's prevalent throughout a lot of deep learning algorithms - calculating the softmax function:\n",
    "$$softmax(x_i) = \\frac{e^{x_i}}{\\sum_{j = 0}^{n - 1} e^{x_j}}$$\n",
    "Calculate the softmax function for the $val$ tensor below where $n$ is the number of elements in $val$, and $x_i$ is each element in $val$. DO NOT use the built-in softmax function. We should end up with a tensor that represents a probability distribution that sums to 1. (hint: you should calculate the sum of the exponents first)"
   ]
  },
  {
   "cell_type": "code",
   "execution_count": 105,
   "metadata": {},
   "outputs": [
    {
     "name": "stdout",
     "output_type": "stream",
     "text": [
      "tensor([7.8013e-05, 2.1206e-04, 5.7645e-04, 1.5669e-03, 4.2594e-03, 1.1578e-02,\n",
      "        3.1473e-02, 8.5552e-02, 2.3255e-01, 6.3215e-01])\n",
      "tensor(1.0000)\n"
     ]
    }
   ],
   "source": [
    "val1 = torch.arange(10).float()\n",
    "exp1 = torch.exp(val1)\n",
    "result1 = exp1 / torch.sum(exp1)\n",
    "\n",
    "\n",
    "print(result1)\n",
    "print(torch.sum(result1))"
   ]
  },
  {
   "cell_type": "markdown",
   "metadata": {},
   "source": [
    "To do this, you'll need to use the PyTorch documentation at https://pytorch.org/docs/stable/torch.html. Luckily, PyTorch has very well-written docs."
   ]
  },
  {
   "cell_type": "markdown",
   "metadata": {},
   "source": [
    "## PyTorch: Autograd"
   ]
  },
  {
   "cell_type": "markdown",
   "metadata": {},
   "source": [
    "Autograd is PyTorch's automatic differentiation tool: It allows us to compute gradients by keeping track of all the operations that have happened to a tensor. In the context of neural networks, we'll interpret these gradient calculations as backpropagating a loss through a network."
   ]
  },
  {
   "cell_type": "markdown",
   "metadata": {},
   "source": [
    "To understand how autograd works, we first need to understand the idea of a __computation graph__. A computation graph is a directed, acyclic graph (DAG) that contains a blueprint of a sequence of operations. For a neural network, these computations consist of matrix multiplications, bias additions, ReLUs, softmaxes, etc. Nodes in this graph consist of the operations themselves, while the edges represent tensors that flow forward along this graph."
   ]
  },
  {
   "cell_type": "markdown",
   "metadata": {},
   "source": [
    "In PyTorch, the creation of this graph is __dynamic__. This means that tensors themselves keep track of their own computational history, and this history is build as the tensors flow through the network; this is unlike TensorFlow, where an external controller keeps track of the entire computation graph. This dynamic creation of the computation graph allows for lots of cool control-flows that are not possible (or at least very difficult) in TensorFlow."
   ]
  },
  {
   "cell_type": "markdown",
   "metadata": {},
   "source": [
    "![alt text](https://raw.githubusercontent.com/pytorch/pytorch/master/docs/source/_static/img/dynamic_graph.gif)\n",
    "<center>_Dynamic computation graphs are cool!_</center>\n",
    "_ _"
   ]
  },
  {
   "cell_type": "markdown",
   "metadata": {},
   "source": [
    "Let's take a look at a simple computation to see what autograd is doing. First, let's create two tensors and add them together. To signal to PyTorch that we want to build a computation graph, we must set the flag requires_grad to be True when creating a tensor."
   ]
  },
  {
   "cell_type": "code",
   "execution_count": 106,
   "metadata": {},
   "outputs": [],
   "source": [
    "a = torch.tensor([1, 2], dtype=torch.float, requires_grad=True)\n",
    "b = torch.tensor([8, 3], dtype=torch.float, requires_grad=True)\n",
    "\n",
    "c = a + b"
   ]
  },
  {
   "cell_type": "markdown",
   "metadata": {},
   "source": [
    "Now, since a and b are both part of our computation graph, c will automatically be added:"
   ]
  },
  {
   "cell_type": "code",
   "execution_count": 107,
   "metadata": {},
   "outputs": [
    {
     "data": {
      "text/plain": [
       "True"
      ]
     },
     "execution_count": 107,
     "metadata": {},
     "output_type": "execute_result"
    }
   ],
   "source": [
    "c.requires_grad"
   ]
  },
  {
   "cell_type": "markdown",
   "metadata": {},
   "source": [
    "When we add a tensor to our computation graph in this way, our tensor now has a grad_fn attribute. This attribute tells autograd how this tensor was generated, and what tensor(s) this particular node was created from."
   ]
  },
  {
   "cell_type": "markdown",
   "metadata": {},
   "source": [
    "In the case of c, its grad_fn is of type AddBackward1, PyTorch's notation for a tensor that was created by adding two tensors together:"
   ]
  },
  {
   "cell_type": "code",
   "execution_count": 108,
   "metadata": {},
   "outputs": [
    {
     "data": {
      "text/plain": [
       "<AddBackward0 at 0x7fe025ea09b0>"
      ]
     },
     "execution_count": 108,
     "metadata": {},
     "output_type": "execute_result"
    }
   ],
   "source": [
    "c.grad_fn"
   ]
  },
  {
   "cell_type": "markdown",
   "metadata": {},
   "source": [
    "Every grad_fn has an attribute called next_functions: This attribute lets the grad_fn pass on its gradient to the tensors that were used to compute it."
   ]
  },
  {
   "cell_type": "code",
   "execution_count": 109,
   "metadata": {},
   "outputs": [
    {
     "data": {
      "text/plain": [
       "((<AccumulateGrad at 0x7fe025ea0710>, 0),\n",
       " (<AccumulateGrad at 0x7fe025ea0048>, 0))"
      ]
     },
     "execution_count": 109,
     "metadata": {},
     "output_type": "execute_result"
    }
   ],
   "source": [
    "c.grad_fn.next_functions"
   ]
  },
  {
   "cell_type": "markdown",
   "metadata": {},
   "source": [
    "If we extract the tensor values corresponding to each of these functions, we can see a and b! "
   ]
  },
  {
   "cell_type": "code",
   "execution_count": 110,
   "metadata": {},
   "outputs": [
    {
     "name": "stdout",
     "output_type": "stream",
     "text": [
      "tensor([1., 2.], requires_grad=True)\n",
      "tensor([8., 3.], requires_grad=True)\n"
     ]
    }
   ],
   "source": [
    "print(c.grad_fn.next_functions[0][0].variable)\n",
    "print(c.grad_fn.next_functions[1][0].variable)"
   ]
  },
  {
   "cell_type": "markdown",
   "metadata": {},
   "source": [
    "In this way, autograd allows a tensor to record its entire computational history, implicitly creating a computational graph -- All dynamically and on-the-fly!"
   ]
  },
  {
   "cell_type": "markdown",
   "metadata": {},
   "source": [
    "## PyTorch: Modules and Parameters"
   ]
  },
  {
   "cell_type": "markdown",
   "metadata": {},
   "source": [
    "In PyTorch, collections of operations are encapsulated as __modules__. One way to visualize a module is to take a section of a computational graph and collapse it into a single node. Not only are modules useful for encapsulation, they have the ability to keep track of tensors that are contained inside of them: To do this, simply wrap a tensor with the class torch.nn.Parameter."
   ]
  },
  {
   "cell_type": "markdown",
   "metadata": {},
   "source": [
    "To define a module, we must subclass the type torch.nn.Module. In addition, we must define a _forward_ method that tells PyTorch how to traverse through a module."
   ]
  },
  {
   "cell_type": "markdown",
   "metadata": {},
   "source": [
    "For example, let's define a logistic regression module. This module will contain two parameters: The weight vector and the bias. Calling the _forward_ method will output a probability between zero and one."
   ]
  },
  {
   "cell_type": "code",
   "execution_count": 111,
   "metadata": {},
   "outputs": [],
   "source": [
    "class LogisticRegression(nn.Module):\n",
    "    \n",
    "    def __init__(self):\n",
    "        \n",
    "        super().__init__()\n",
    "        self.weight = nn.Parameter(torch.randn(10))\n",
    "        self.bias = nn.Parameter(torch.randn(1))\n",
    "        self.sigmoid = nn.Sigmoid()\n",
    "        \n",
    "    def forward(self, vector):\n",
    "        return self.sigmoid(torch.dot(vector, self.weight) + self.bias)\n",
    "        "
   ]
  },
  {
   "cell_type": "markdown",
   "metadata": {},
   "source": [
    "Note that we have fixed the dimension of our weight to be 10, so our module will only accept 10-dimensional data."
   ]
  },
  {
   "cell_type": "markdown",
   "metadata": {},
   "source": [
    "We can now create a random vector and pass it through the module:"
   ]
  },
  {
   "cell_type": "code",
   "execution_count": 112,
   "metadata": {},
   "outputs": [],
   "source": [
    "module = LogisticRegression()\n",
    "vector = torch.randn(10)\n",
    "output = module(vector)"
   ]
  },
  {
   "cell_type": "code",
   "execution_count": 113,
   "metadata": {},
   "outputs": [
    {
     "data": {
      "text/plain": [
       "tensor([0.9750], grad_fn=<SigmoidBackward>)"
      ]
     },
     "execution_count": 113,
     "metadata": {},
     "output_type": "execute_result"
    }
   ],
   "source": [
    "output"
   ]
  },
  {
   "cell_type": "markdown",
   "metadata": {},
   "source": [
    "Now, say that our loss function is mean-squared-error and our target value is 1. We can then write our loss as:"
   ]
  },
  {
   "cell_type": "code",
   "execution_count": 114,
   "metadata": {},
   "outputs": [],
   "source": [
    "loss = (output - 1) ** 2"
   ]
  },
  {
   "cell_type": "code",
   "execution_count": 115,
   "metadata": {},
   "outputs": [
    {
     "data": {
      "text/plain": [
       "tensor([0.0006], grad_fn=<PowBackward0>)"
      ]
     },
     "execution_count": 115,
     "metadata": {},
     "output_type": "execute_result"
    }
   ],
   "source": [
    "loss"
   ]
  },
  {
   "cell_type": "markdown",
   "metadata": {},
   "source": [
    "To minimize this loss, we just call loss.backward(), and all the gradients will be computed for us! Note that wrapping a tensor as a Parameter will automatically set requires_grad = True."
   ]
  },
  {
   "cell_type": "code",
   "execution_count": 116,
   "metadata": {},
   "outputs": [],
   "source": [
    "loss.backward()"
   ]
  },
  {
   "cell_type": "code",
   "execution_count": 117,
   "metadata": {},
   "outputs": [
    {
     "name": "stdout",
     "output_type": "stream",
     "text": [
      "tensor([-1.9337e-04,  2.8436e-03, -1.9324e-03,  3.6033e-04, -9.7965e-04,\n",
      "         2.6674e-04,  1.7656e-03, -6.2952e-04,  2.4166e-03,  1.8601e-05])\n",
      "tensor([-0.0012])\n"
     ]
    }
   ],
   "source": [
    "print(module.weight.grad)\n",
    "print(module.bias.grad)"
   ]
  },
  {
   "cell_type": "markdown",
   "metadata": {},
   "source": [
    "## Fully-connected Networks for Image Classification"
   ]
  },
  {
   "cell_type": "markdown",
   "metadata": {
    "collapsed": true
   },
   "source": [
    "Using this knowledge, you will create a neural network in PyTorch for image classification on the CIFAR-10 dataset. PyTorch uses the $DataLoader$ class for you to load data into batches to feed to your learning algorithms - we highly suggest you familiarze yourself with this as well as the Dataset API here: https://pytorch.org/docs/stable/data.html. Fill in the below code to instantiate 3 DataLoaders for your training, validation and test sets. We would prefer that you NOT use the `torchvision.transform` API - we want you to get some practice in data preprocessing! Here are the transformations we want you to perform:\n",
    "1. Split the `val_and_test_set` into two separate datasets (each with 5000 elements)\n",
    "2. Convert all the `np.array` elements into `torch.tensor` elements.\n",
    "3. All values will be pixel values in our images are in the range of [0, 256]. Normalize this so that each pixel is in the range [0, 1].\n",
    "3. Flatten all images. All your images will be of shape (32, 32, 3), we need them as flat (32 * 32 * 3) size tensors as input to our neural network.\n",
    "4. Load everything into a DataLoader. (check how this works in the PyTorch docs!) \n",
    "\n",
    "Be sure to have the options `shuffle=True` (so that your dataset is shuffled so that samples from the dataset are not correlated) and also `batch_size=32` or larger. This is a standard minibatch size. If you're curious about what batch size does (and are somewhat familiar with statistics), here's a great answer https://stats.stackexchange.com/questions/316464/how-does-batch-size-affect-convergence-of-sgd-and-why."
   ]
  },
  {
   "cell_type": "code",
   "execution_count": 118,
   "metadata": {},
   "outputs": [
    {
     "name": "stdout",
     "output_type": "stream",
     "text": [
      "Files already downloaded and verified\n",
      "Files already downloaded and verified\n"
     ]
    }
   ],
   "source": [
    "trainset = torchvision.datasets.CIFAR10(root='./data', train=True, download=True)\n",
    "val_and_test_set = torchvision.datasets.CIFAR10(root='./data', train=False, download=True)\n",
    "\n",
    "valset, testset = torch.utils.data.random_split(val_and_test_set, (5000, 5000))\n",
    "\n",
    "transform = lambda data: list(map(lambda pair: (torchvision.transforms.ToTensor()(pair[0]).view(32*32*3)/255, pair[1]), data))\n",
    "\n",
    "trainloader = torch.utils.data.DataLoader(\n",
    "    transform(trainset),\n",
    "    batch_size=32,\n",
    "    shuffle=True)\n",
    "valloader = torch.utils.data.DataLoader(\n",
    "    transform(valset), batch_size=32, shuffle=True)\n",
    "testloader = torch.utils.data.DataLoader(transform(trainset))\n",
    "\n",
    "classes = ('plane', 'car', 'bird', 'cat', 'deer', 'dog', 'frog', 'horse', 'ship', 'truck')"
   ]
  },
  {
   "cell_type": "markdown",
   "metadata": {},
   "source": [
    "CIFAR-10 consists of 32 x 32 color images, each corresponding to a unique class indicating the object present within the image. Use Matplotlib to print out the first few images."
   ]
  },
  {
   "cell_type": "code",
   "execution_count": 119,
   "metadata": {},
   "outputs": [
    {
     "data": {
      "image/png": "[encoded data removed]",
      "text/plain": [
       "<Figure size 432x288 with 1 Axes>"
      ]
     },
     "metadata": {
      "needs_background": "light"
     },
     "output_type": "display_data"
    },
    {
     "data": {
      "image/png": "[encoded data removed]",
      "text/plain": [
       "<Figure size 432x288 with 1 Axes>"
      ]
     },
     "metadata": {
      "needs_background": "light"
     },
     "output_type": "display_data"
    },
    {
     "data": {
      "image/png": "[encoded data removed]",
      "text/plain": [
       "<Figure size 432x288 with 1 Axes>"
      ]
     },
     "metadata": {
      "needs_background": "light"
     },
     "output_type": "display_data"
    },
    {
     "data": {
      "image/png": "[encoded data removed]",
      "text/plain": [
       "<Figure size 432x288 with 1 Axes>"
      ]
     },
     "metadata": {
      "needs_background": "light"
     },
     "output_type": "display_data"
    },
    {
     "data": {
      "image/png": "[encoded data removed]",
      "text/plain": [
       "<Figure size 432x288 with 1 Axes>"
      ]
     },
     "metadata": {
      "needs_background": "light"
     },
     "output_type": "display_data"
    },
    {
     "data": {
      "image/png": "[encoded data removed]",
      "text/plain": [
       "<Figure size 432x288 with 1 Axes>"
      ]
     },
     "metadata": {
      "needs_background": "light"
     },
     "output_type": "display_data"
    },
    {
     "data": {
      "image/png": "[encoded data removed]",
      "text/plain": [
       "<Figure size 432x288 with 1 Axes>"
      ]
     },
     "metadata": {
      "needs_background": "light"
     },
     "output_type": "display_data"
    },
    {
     "data": {
      "image/png": "[encoded data removed]",
      "text/plain": [
       "<Figure size 432x288 with 1 Axes>"
      ]
     },
     "metadata": {
      "needs_background": "light"
     },
     "output_type": "display_data"
    },
    {
     "data": {
      "image/png": "[encoded data removed]",
      "text/plain": [
       "<Figure size 432x288 with 1 Axes>"
      ]
     },
     "metadata": {
      "needs_background": "light"
     },
     "output_type": "display_data"
    },
    {
     "data": {
      "image/png": "[encoded data removed]",
      "text/plain": [
       "<Figure size 432x288 with 1 Axes>"
      ]
     },
     "metadata": {
      "needs_background": "light"
     },
     "output_type": "display_data"
    }
   ],
   "source": [
    "### YOUR CODE HERE - Grab a few examples from trainset and plot them\n",
    "for i in range(10):\n",
    "    plt.figure()\n",
    "    plt.imshow(trainset[i][0])"
   ]
  },
  {
   "cell_type": "markdown",
   "metadata": {},
   "source": [
    "Now try to build and train a plain neural network that properly classifies images in the CIFAR-10 dataset. Try to achieve at least around 40% accuracy (the higher the better!).\n",
    "\n",
    "Take a look at the PyTorch documentation for some help in how to do this.\n",
    "\n",
    "Google is your friend -- Looking things up on the PyTorch docs and on StackOverflow will be helpful."
   ]
  },
  {
   "cell_type": "code",
   "execution_count": 136,
   "metadata": {},
   "outputs": [],
   "source": [
    "class NeuralNet(nn.Module):\n",
    "    \n",
    "    def __init__(self, input_dim, hidden_dim, output_dim):\n",
    "        super().__init__()\n",
    "        self.hidden_weight = nn.Parameter(torch.randn((hidden_dim, input_dim)))\n",
    "#         self.hidden_bias = nn.Parameter(torch.randn(hidden_dim))\n",
    "        self.output_weight = nn.Parameter(torch.randn((output_dim, hidden_dim)))\n",
    "#         self.output_bias = nn.Parameter(torch.randn(output_dim))\n",
    "        self.sigmoid = nn.Sigmoid()\n",
    "        \n",
    "    def forward(self, data):\n",
    "#         print((self.output_weight @ self.sigmoid(\n",
    "#                     self.hidden_weight @ data + self.hidden_bias)).size())\n",
    "#         temp = torch.exp(self.output_weight @ self.sigmoid(\n",
    "#                     self.hidden_weight @ data + self.hidden_bias))\n",
    "#                          + self.output_bias)\n",
    "#         hidden_vec = self.hidden_weight @ data + self.hidden_bias\n",
    "#         print((self.hidden_weight @ data.t()).size())\n",
    "#         print((self.square_hidden_bias.size()))\n",
    "#         self.hidden_bias.expand_as(hidden_vec)\n",
    "        return (self.output_weight @ self.sigmoid(self.hidden_weight @ data.t())).t()"
   ]
  },
  {
   "cell_type": "code",
   "execution_count": 143,
   "metadata": {},
   "outputs": [
    {
     "name": "stdout",
     "output_type": "stream",
     "text": [
      "(epoch, train_loss, val_acc) = (0, 7.925333426003264, 0.1502)\n",
      "(epoch, train_loss, val_acc) = (1, 3.9050786081827837, 0.1996)\n",
      "(epoch, train_loss, val_acc) = (2, 3.288580323745254, 0.1644)\n",
      "(epoch, train_loss, val_acc) = (3, 3.21389027489963, 0.2458)\n",
      "(epoch, train_loss, val_acc) = (4, 3.0036994411025533, 0.3082)\n",
      "(epoch, train_loss, val_acc) = (5, 2.868292956800699, 0.2514)\n",
      "(epoch, train_loss, val_acc) = (6, 2.670505795658817, 0.2572)\n",
      "(epoch, train_loss, val_acc) = (7, 2.6523560422853407, 0.2172)\n",
      "(epoch, train_loss, val_acc) = (8, 2.6605506217105983, 0.2494)\n",
      "(epoch, train_loss, val_acc) = (9, 2.625302022493427, 0.2368)\n",
      "(epoch, train_loss, val_acc) = (10, 2.4631900608882793, 0.275)\n",
      "(epoch, train_loss, val_acc) = (11, 2.46140598999104, 0.3282)\n",
      "(epoch, train_loss, val_acc) = (12, 2.481129748349913, 0.281)\n",
      "(epoch, train_loss, val_acc) = (13, 2.4620029164367354, 0.2746)\n",
      "(epoch, train_loss, val_acc) = (14, 2.399803040581335, 0.3062)\n",
      "(epoch, train_loss, val_acc) = (15, 2.3563162404150058, 0.291)\n",
      "(epoch, train_loss, val_acc) = (16, 2.3360876227065837, 0.3156)\n",
      "(epoch, train_loss, val_acc) = (17, 2.341995360907727, 0.2968)\n",
      "(epoch, train_loss, val_acc) = (18, 2.2590642097434093, 0.3358)\n",
      "(epoch, train_loss, val_acc) = (19, 2.239538660738915, 0.3274)\n",
      "(epoch, train_loss, val_acc) = (20, 2.2905951438618257, 0.3016)\n",
      "(epoch, train_loss, val_acc) = (21, 2.303395914024675, 0.2604)\n",
      "(epoch, train_loss, val_acc) = (22, 2.233222758777616, 0.278)\n",
      "(epoch, train_loss, val_acc) = (23, 2.212833319119132, 0.3234)\n",
      "(epoch, train_loss, val_acc) = (24, 2.1994650283076407, 0.2974)\n",
      "(epoch, train_loss, val_acc) = (25, 2.1892088555557487, 0.3544)\n",
      "(epoch, train_loss, val_acc) = (26, 2.1744185836362444, 0.3724)\n",
      "(epoch, train_loss, val_acc) = (27, 2.1723164159826034, 0.3002)\n",
      "(epoch, train_loss, val_acc) = (28, 2.119190449525512, 0.3128)\n",
      "(epoch, train_loss, val_acc) = (29, 2.1239606958128134, 0.342)\n",
      "(epoch, train_loss, val_acc) = (30, 2.12281933718588, 0.325)\n",
      "(epoch, train_loss, val_acc) = (31, 2.1258725692123, 0.3338)\n",
      "(epoch, train_loss, val_acc) = (32, 2.0931407041604597, 0.3608)\n",
      "(epoch, train_loss, val_acc) = (40, 2.028613519226216, 0.3212)\n",
      "(epoch, train_loss, val_acc) = (41, 2.0055665322320246, 0.2758)\n",
      "(epoch, train_loss, val_acc) = (42, 1.998275967873752, 0.346)\n",
      "(epoch, train_loss, val_acc) = (43, 1.9939828815936127, 0.3556)\n",
      "(epoch, train_loss, val_acc) = (44, 1.9900959784299688, 0.3712)\n",
      "(epoch, train_loss, val_acc) = (45, 1.9988046190483937, 0.298)\n",
      "(epoch, train_loss, val_acc) = (46, 2.0115548462266735, 0.3186)\n",
      "(epoch, train_loss, val_acc) = (47, 1.9906588547212987, 0.3606)\n",
      "(epoch, train_loss, val_acc) = (48, 1.968501922265124, 0.363)\n",
      "(epoch, train_loss, val_acc) = (49, 2.002223022611036, 0.2876)\n",
      "(epoch, train_loss, val_acc) = (50, 1.9857764250181154, 0.3526)\n",
      "(epoch, train_loss, val_acc) = (51, 1.9617298543262542, 0.3046)\n",
      "(epoch, train_loss, val_acc) = (52, 1.9586400106329989, 0.3942)\n",
      "(epoch, train_loss, val_acc) = (53, 1.9321353883218553, 0.3402)\n",
      "(epoch, train_loss, val_acc) = (54, 1.9548741765153461, 0.3544)\n",
      "(epoch, train_loss, val_acc) = (55, 1.9377062452655531, 0.3054)\n",
      "(epoch, train_loss, val_acc) = (56, 1.9421541609980704, 0.3304)\n",
      "(epoch, train_loss, val_acc) = (57, 1.923385542245988, 0.3432)\n",
      "(epoch, train_loss, val_acc) = (58, 1.9418059816287254, 0.3266)\n",
      "(epoch, train_loss, val_acc) = (59, 1.9231899254457812, 0.3312)\n",
      "(epoch, train_loss, val_acc) = (60, 1.9371010771334667, 0.3616)\n",
      "(epoch, train_loss, val_acc) = (61, 1.9149476115854596, 0.3796)\n",
      "(epoch, train_loss, val_acc) = (62, 1.9246217185537249, 0.3686)\n",
      "(epoch, train_loss, val_acc) = (63, 1.8969313472947933, 0.349)\n",
      "(epoch, train_loss, val_acc) = (64, 1.9127622122041552, 0.345)\n",
      "(epoch, train_loss, val_acc) = (65, 1.8937234810660148, 0.3276)\n",
      "(epoch, train_loss, val_acc) = (66, 1.9099210774524809, 0.3872)\n",
      "(epoch, train_loss, val_acc) = (67, 1.9018540439587408, 0.3586)\n",
      "(epoch, train_loss, val_acc) = (68, 1.8909175083260465, 0.3714)\n",
      "(epoch, train_loss, val_acc) = (69, 1.894915543835055, 0.3582)\n",
      "(epoch, train_loss, val_acc) = (70, 1.8785112444132623, 0.3464)\n",
      "(epoch, train_loss, val_acc) = (71, 1.8866422720162896, 0.363)\n",
      "(epoch, train_loss, val_acc) = (72, 1.8900908276734258, 0.3006)\n",
      "(epoch, train_loss, val_acc) = (73, 1.8724927964000007, 0.3372)\n",
      "(epoch, train_loss, val_acc) = (74, 1.8816969431293216, 0.3818)\n",
      "(epoch, train_loss, val_acc) = (75, 1.8586791325896808, 0.3888)\n",
      "(epoch, train_loss, val_acc) = (76, 1.8676925440743728, 0.3712)\n",
      "(epoch, train_loss, val_acc) = (77, 1.852643908023529, 0.3644)\n",
      "(epoch, train_loss, val_acc) = (78, 1.8698442169129659, 0.3718)\n",
      "(epoch, train_loss, val_acc) = (79, 1.8546288557260064, 0.3618)\n",
      "(epoch, train_loss, val_acc) = (80, 1.843930387527456, 0.3634)\n",
      "(epoch, train_loss, val_acc) = (81, 1.8483326846181927, 0.3754)\n",
      "(epoch, train_loss, val_acc) = (82, 1.8572839022597973, 0.3684)\n",
      "(epoch, train_loss, val_acc) = (83, 1.8498580841703898, 0.3806)\n",
      "(epoch, train_loss, val_acc) = (84, 1.8531691864066144, 0.3458)\n",
      "(epoch, train_loss, val_acc) = (85, 1.8456810870692277, 0.3764)\n",
      "(epoch, train_loss, val_acc) = (86, 1.841545281163104, 0.3812)\n",
      "(epoch, train_loss, val_acc) = (87, 1.8430746048593551, 0.373)\n",
      "(epoch, train_loss, val_acc) = (88, 1.8368346094703796, 0.3424)\n",
      "(epoch, train_loss, val_acc) = (89, 1.8331659149071076, 0.3628)\n",
      "(epoch, train_loss, val_acc) = (90, 1.8291640557772977, 0.3594)\n",
      "(epoch, train_loss, val_acc) = (91, 1.845167543364883, 0.3918)\n",
      "(epoch, train_loss, val_acc) = (92, 1.8182260640065637, 0.3788)\n",
      "(epoch, train_loss, val_acc) = (93, 1.8197856972176374, 0.3798)\n",
      "(epoch, train_loss, val_acc) = (94, 1.825344592885794, 0.352)\n",
      "(epoch, train_loss, val_acc) = (95, 1.8208375790907798, 0.3734)\n",
      "(epoch, train_loss, val_acc) = (96, 1.8156658222640238, 0.3684)\n",
      "(epoch, train_loss, val_acc) = (97, 1.8143046851807958, 0.3398)\n",
      "(epoch, train_loss, val_acc) = (98, 1.8187638097898515, 0.3596)\n",
      "(epoch, train_loss, val_acc) = (99, 1.8090058615477667, 0.3724)\n"
     ]
    }
   ],
   "source": [
    "EPOCHS = 100\n",
    "LEARNING_RATE = 0.1\n",
    "INPUT_SIZE = 32 * 32 * 3\n",
    "HIDDEN_SIZE = 512\n",
    "\n",
    "OUTPUT_SIZE = 10\n",
    "\n",
    "net = NeuralNet(INPUT_SIZE, HIDDEN_SIZE, OUTPUT_SIZE)\n",
    "\n",
    "### Define an optimizer and a loss function here. We pass our network parameters to our optimizer here so we know\n",
    "### which values to update by how much.\n",
    "optimizer = torch.optim.SGD(net.parameters(), lr = LEARNING_RATE, momentum = 0.9)\n",
    "loss_fn = torch.nn.CrossEntropyLoss()\n",
    "\n",
    "\n",
    "for epoch in range(EPOCHS):\n",
    "    \n",
    "    total_loss = 0\n",
    "    \n",
    "    for images, labels in trainloader:\n",
    "                \n",
    "        ### YOUR CODE HERE - Zero gradients, call .backward(), and step the optimizer.\n",
    "        optimizer.zero_grad()\n",
    "        outputs = net(images)\n",
    "        loss = loss_fn(outputs, labels)\n",
    "        loss.backward()\n",
    "        optimizer.step()\n",
    "                \n",
    "        total_loss += loss.item()\n",
    "        \n",
    "    average_loss = total_loss / len(trainloader)\n",
    "    \n",
    "    ### Calculate validation accuracy here by iterating through the validation set.\n",
    "    ### We use torch.no_grad() here because we don't want to accumulate gradients in our function.\n",
    "    with torch.no_grad():\n",
    "        tot = 0\n",
    "        correct = 0\n",
    "        for images, labels in valloader:\n",
    "            outputs = net(images)\n",
    "            _, predicted = torch.max(outputs, 1)\n",
    "            correct += sum([(1 if y == y_ else 0) for (y, y_) in zip(predicted, labels)])\n",
    "            tot += len(outputs)\n",
    "        val_acc = correct/tot\n",
    "    \n",
    "    print(\"(epoch, train_loss, val_acc) = ({0}, {1}, {2})\".format(epoch, average_loss, val_acc))\n"
   ]
  },
  {
   "cell_type": "code",
   "execution_count": 145,
   "metadata": {},
   "outputs": [
    {
     "name": "stdout",
     "output_type": "stream",
     "text": [
      "Test accuracy: 0.38108\n"
     ]
    }
   ],
   "source": [
    "### YOUR CODE HERE - Here, we test the overall accuracy of our model.\n",
    "with torch.no_grad():\n",
    "    tot = 0\n",
    "    correct = 0\n",
    "    for images, labels in testloader:\n",
    "        outputs = net(images)\n",
    "        _, predicted = torch.max(outputs, 1)\n",
    "        correct += sum([(1 if y == y_ else 0) for (y, y_) in zip(predicted, labels)])\n",
    "        tot += len(outputs)\n",
    "    test_acc = correct/tot\n",
    "    print(\"Test accuracy:\", test_acc)"
   ]
  },
  {
   "cell_type": "markdown",
   "metadata": {},
   "source": [
    "## Submission\n",
    "For submiting, please download this notebook as a `.py` file. To do so, click on `File -> Download as -> Python (.py)`. Put the downloaded `assignment3.py` into this folder and commit the file."
   ]
  },
  {
   "cell_type": "markdown",
   "metadata": {},
   "source": [
    "## Additional Resources\n",
    "If you're interested in using PyTorch as a framework for deep learning (especially for your final projects! We highly recommend you use this!), check out the PyTorch tutorials: https://pytorch.org/tutorials/. They have tutorials for everything from image to text to reinforcement learning tasks."
   ]
  }
 ],
 "metadata": {
  "kernelspec": {
   "display_name": "Python 3",
   "language": "python",
   "name": "python3"
  },
  "language_info": {
   "codemirror_mode": {
    "name": "ipython",
    "version": 3
   },
   "file_extension": ".py",
   "mimetype": "text/x-python",
   "name": "python",
   "nbconvert_exporter": "python",
   "pygments_lexer": "ipython3",
   "version": "3.7.1"
  }
 },
 "nbformat": 4,
 "nbformat_minor": 2
}
