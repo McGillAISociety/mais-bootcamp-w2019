{
 "cells": [
  {
   "cell_type": "markdown",
   "metadata": {},
   "source": [
    "# Homework 3: Introduction to PyTorch"
   ]
  },
  {
   "cell_type": "markdown",
   "metadata": {},
   "source": [
    "PyTorch is a framework for creating and training neural networks. It's one of the most common neural network libraries, alongside TensorFlow, and is used extensively in both academia and industry. In this homework, we'll explore the basic operations within PyTorch, and we'll design a neural network to classify images."
   ]
  },
  {
   "cell_type": "markdown",
   "metadata": {},
   "source": [
    "Let's start by importing the libraries that we'll need:"
   ]
  },
  {
   "cell_type": "code",
<<<<<<< HEAD
   "execution_count": 2,
=======
   "execution_count": 32,
>>>>>>> d6145a4e929dffb59ba1519112626a0777ba580a
   "metadata": {},
   "outputs": [],
   "source": [
    "import torch\n",
    "import torchvision\n",
    "import torchvision.transforms as transforms\n",
    "import torch.nn as nn\n",
    "import math\n",
    "import numpy as np\n",
    "\n",
    "%matplotlib inline\n",
    "import matplotlib.pyplot as plt"
   ]
  },
  {
   "cell_type": "markdown",
   "metadata": {},
   "source": [
    "If you can't import torch, go to www.pytorch.org and follow the instructions there for downloading PyTorch. You can select CUDA Version as None, as we won't be working with any GPUs on this homework."
   ]
  },
  {
   "cell_type": "markdown",
   "metadata": {},
   "source": [
    "## PyTorch: Tensors"
   ]
  },
  {
   "cell_type": "markdown",
   "metadata": {},
   "source": [
    "In PyTorch, data is stored as multidimensional arrays, called tensors. Tensors are very similar to numpy's ndarrays, and they support many of the same operations. We can define tensors by explicity setting the values, using a python list:"
   ]
  },
  {
   "cell_type": "code",
<<<<<<< HEAD
   "execution_count": 3,
=======
   "execution_count": 33,
>>>>>>> d6145a4e929dffb59ba1519112626a0777ba580a
   "metadata": {},
   "outputs": [
    {
     "name": "stdout",
     "output_type": "stream",
     "text": [
      "A:\n",
      "tensor([[ 1,  2],\n",
      "        [ 4, -3]])\n",
      "\n",
      "\n",
      "B:\n",
      "tensor([[ 3,  1],\n",
      "        [-2,  3]])\n",
      "Sum of A and B:\n",
      "tensor([[4, 3],\n",
      "        [2, 0]])\n"
     ]
    }
   ],
   "source": [
    "A = torch.tensor([[1, 2], [4, -3]])\n",
    "B = torch.tensor([[3, 1], [-2, 3]])\n",
    "\n",
    "print(\"A:\")\n",
    "print(A)\n",
    "\n",
    "print('\\n')\n",
    "\n",
    "print(\"B:\")\n",
    "print(B)\n",
    "print(\"Sum of A and B:\")\n",
    "### YOUR CODE HERE\n",
    "C = A.add(B)\n",
<<<<<<< HEAD
    "print(C)\n"
=======
    "print(C)"
>>>>>>> d6145a4e929dffb59ba1519112626a0777ba580a
   ]
  },
  {
   "cell_type": "markdown",
   "metadata": {},
   "source": [
    "Just like numpy, PyTorch supports operations like addition, multiplication, transposition, dot products, and concatenation of tensors. Look up and fill in the operations for the following:"
   ]
  },
  {
   "cell_type": "code",
<<<<<<< HEAD
   "execution_count": 4,
=======
   "execution_count": 34,
>>>>>>> d6145a4e929dffb59ba1519112626a0777ba580a
   "metadata": {},
   "outputs": [
    {
     "name": "stdout",
     "output_type": "stream",
     "text": [
      "Sum of A and B:\n",
      "tensor([[4, 3],\n",
      "        [2, 0]])\n",
      "\n",
      "\n",
      "Elementwise product of A and B:\n",
      "tensor([[ 3,  2],\n",
      "        [-8, -9]])\n",
      "\n",
      "\n",
      "Matrix product of A and B:\n",
      "tensor([[-1,  7],\n",
      "        [18, -5]])\n",
      "\n",
      "\n",
      "Transposition of A:\n",
      "tensor([[ 1,  4],\n",
      "        [ 2, -3]])\n",
      "\n",
      "\n",
      "Concatenation of A and B in the 0th dimension:\n",
      "tensor([[ 1,  2],\n",
      "        [ 4, -3],\n",
      "        [ 3,  1],\n",
      "        [-2,  3]])\n",
      "\n",
      "\n",
      "Concatenation of A and B in the 1st dimension:\n",
      "tensor([[ 1,  2,  3,  1],\n",
      "        [ 4, -3, -2,  3]])\n"
     ]
    }
   ],
   "source": [
<<<<<<< HEAD
    "\n",
=======
>>>>>>> d6145a4e929dffb59ba1519112626a0777ba580a
    "#A torch.Tensor is a multi-dimensional matrix containing elements of a single data type.\n",
    "\n",
    "print(\"Sum of A and B:\")\n",
    "### YOUR CODE HERE\n",
    "C = A.add(B)\n",
    "print(C)\n",
    "\n",
    "print('\\n')\n",
    "\n",
    "print(\"Elementwise product of A and B:\")\n",
    "### YOUR CODE HERE\n",
    "Elementwiseproduct = A.mul(B)\n",
    "print(Elementwiseproduct)\n",
    "\n",
    "print('\\n')\n",
    "\n",
    "print(\"Matrix product of A and B:\")\n",
    "### YOUR CODE HERE\n",
    "matrixProduct = torch.matmul(A,B, out=None)\n",
    "print(matrixProduct)\n",
    "print('\\n')\n",
    "\n",
    "print(\"Transposition of A:\")\n",
    "### YOUR CODE HERE\n",
    "aT = A.t()\n",
    "print(aT)\n",
    "print('\\n')\n",
    "\n",
    "print(\"Concatenation of A and B in the 0th dimension:\")\n",
    "### YOUR CODE HERE\n",
    "dim0 = torch.cat((A,B), 0)\n",
    "print(dim0)\n",
    "print('\\n')\n",
    "\n",
    "print(\"Concatenation of A and B in the 1st dimension:\")\n",
    "### YOUR CODE HERE\n",
    "dim1 = torch.cat((A,B), 1)\n",
    "print(dim1)"
   ]
  },
  {
   "cell_type": "markdown",
   "metadata": {},
   "source": [
    "PyTorch also has tools for creating large tensors automatically, without explicity specifying the values. Find the corresponding tensor initialzers and fill in below. Your print statements should look like the following:\n",
    "\n",
    "3x4x5 Tensor of Zeros:\n",
    "```\n",
    "tensor([[[0., 0., 0., 0., 0.],\n",
    "         [0., 0., 0., 0., 0.],\n",
    "         [0., 0., 0., 0., 0.],\n",
    "         [0., 0., 0., 0., 0.]],\n",
    "\n",
    "        [[0., 0., 0., 0., 0.],\n",
    "         [0., 0., 0., 0., 0.],\n",
    "         [0., 0., 0., 0., 0.],\n",
    "         [0., 0., 0., 0., 0.]],\n",
    "\n",
    "        [[0., 0., 0., 0., 0.],\n",
    "         [0., 0., 0., 0., 0.],\n",
    "         [0., 0., 0., 0., 0.],\n",
    "         [0., 0., 0., 0., 0.]]])\n",
    "```\n",
    "\n",
    "\n",
    "5x5 Tensor with random elements sampled from a standard normal distrubtion: (these should be randomly generated values)\n",
    "```\n",
    "tensor([[ 0.2850,  0.5033, -1.8570, -1.6525,  0.3613],\n",
    "        [-0.7505,  0.4573, -0.2454,  0.1668,  0.7241],\n",
    "        [ 0.2976,  0.9827, -0.4879, -1.1144, -1.8235],\n",
    "        [-0.0264,  0.7341, -0.2235,  0.5306,  0.8385],\n",
    "        [ 0.2740,  0.3522, -0.5244, -0.1132,  0.5135]])\n",
    "```\n",
    "\n",
    "Tensor created from a range:\n",
    "```\n",
    "tensor([0, 1, 2, 3, 4, 5, 6, 7, 8, 9])\n",
    "```\n"
   ]
  },
  {
   "cell_type": "code",
<<<<<<< HEAD
   "execution_count": 5,
=======
   "execution_count": 35,
>>>>>>> d6145a4e929dffb59ba1519112626a0777ba580a
   "metadata": {},
   "outputs": [
    {
     "name": "stdout",
     "output_type": "stream",
     "text": [
      "3x4x5 Tensor of Zeros:\n",
      "tensor([[[0., 0., 0., 0., 0.],\n",
      "         [0., 0., 0., 0., 0.],\n",
      "         [0., 0., 0., 0., 0.],\n",
      "         [0., 0., 0., 0., 0.]],\n",
      "\n",
      "        [[0., 0., 0., 0., 0.],\n",
      "         [0., 0., 0., 0., 0.],\n",
      "         [0., 0., 0., 0., 0.],\n",
      "         [0., 0., 0., 0., 0.]],\n",
      "\n",
      "        [[0., 0., 0., 0., 0.],\n",
      "         [0., 0., 0., 0., 0.],\n",
      "         [0., 0., 0., 0., 0.],\n",
      "         [0., 0., 0., 0., 0.]]])\n",
      "\n",
      "\n",
      "5x5 Tensor with random elements sampled from a standard normal distrubtion:\n",
<<<<<<< HEAD
      "tensor([[ 0.6554, -1.4696, -1.2821, -0.9035, -0.4077],\n",
      "        [ 0.2725,  0.1421, -0.7903,  2.0567, -0.0789],\n",
      "        [ 0.9198,  0.4993, -1.3103,  0.8098,  0.0074],\n",
      "        [ 0.9138, -0.2530, -0.3540,  0.3798, -1.0734],\n",
      "        [-1.6654,  1.2357,  0.3142,  1.5374,  1.4513]])\n",
=======
      "tensor([[-0.1651,  1.4530,  0.5821, -0.8841,  2.6308],\n",
      "        [-0.8311,  0.5391, -0.1548, -0.2634,  1.9738],\n",
      "        [ 1.0072,  1.2713, -0.3958, -0.1071, -1.2369],\n",
      "        [-0.0170, -0.0503,  1.6276,  2.4009, -0.3875],\n",
      "        [ 0.5815, -0.3501, -0.0033,  0.4640,  1.2595]])\n",
>>>>>>> d6145a4e929dffb59ba1519112626a0777ba580a
      "\n",
      "\n",
      "Tensor created from a range:\n",
      "tensor([0, 1, 2, 3, 4, 5, 6, 7, 8, 9])\n"
     ]
    }
   ],
   "source": [
    "print(\"3x4x5 Tensor of Zeros:\")\n",
    "### YOUR CODE HERE\n",
    "zeros = torch.zeros(3,4,5)\n",
    "print(zeros)\n",
    "print('\\n')\n",
    "\n",
    "print(\"5x5 Tensor with random elements sampled from a standard normal distrubtion:\")\n",
    "### YOUR CODE HERE\n",
    "randomTensor = torch.randn(5,5)\n",
    "print(randomTensor)\n",
    "print('\\n')\n",
    "\n",
    "print(\"Tensor created from a range:\")\n",
    "### YOUR CODE HERE\n",
    "fromARange = torch.arange(10)\n",
<<<<<<< HEAD
    "print(fromARange)\n",
    "\n"
=======
    "print(fromARange)"
>>>>>>> d6145a4e929dffb59ba1519112626a0777ba580a
   ]
  },
  {
   "cell_type": "markdown",
   "metadata": {},
   "source": [
    "Now, use PyTorch tensors to complete the following computation:\n",
    "\n",
    "Create a tensor of integers from the range 0 to 99, inclusive. Add 0.5 to each element in the tensor, and square each element of the result. Then, negate each element of the tensor, and apply the exponential to each element (i.e., change each element x into e^x). Now, sum all the elements of the tensor. Multiply this tensor by 2 and square each element and print your result.\n",
    "\n",
    "If you're right, you should get something very close to $$\\pi \\approx 3.14 .$$"
   ]
  },
  {
   "cell_type": "code",
<<<<<<< HEAD
   "execution_count": 6,
=======
   "execution_count": 36,
>>>>>>> d6145a4e929dffb59ba1519112626a0777ba580a
   "metadata": {},
   "outputs": [
    {
     "name": "stdout",
     "output_type": "stream",
     "text": [
      "tensor(3.1409)\n"
     ]
    }
   ],
   "source": [
    "val = torch.arange(100).float()\n",
    "\n",
    "### YOUR CODE HERE\n",
    "addToEachElement = torch.add(val, (0.5))\n",
    "#print(addToEachElement)\n",
    "square = addToEachElement**2\n",
    "#print(square)\n",
    "negativeTensor = torch.neg(square)\n",
    "#print(negativeTensor)\n",
    "e=math.exp(1)\n",
    "#print(e)\n",
    "exponent= torch.pow(e, negativeTensor,out=None)\n",
    "#print(exponent)\n",
    "sum = torch.sum(exponent)\n",
    "#print(sum)\n",
    "sum2 = torch.mul(sum,2, out=None)\n",
    "#print(sum2)\n",
    "square2 = sum2**2\n",
    "print(square2)\n",
<<<<<<< HEAD
    "#print(val)\n"
=======
    "#print(val)"
>>>>>>> d6145a4e929dffb59ba1519112626a0777ba580a
   ]
  },
  {
   "cell_type": "markdown",
   "metadata": {},
   "source": [
    "Now we'll try writing a computation that's prevalent throughout a lot of deep learning algorithms - calculating the softmax function:\n",
    "$$softmax(x_i) = \\frac{e^{x_i}}{\\sum_{j = 0}^{n - 1} e^{x_j}}$$\n",
    "Calculate the softmax function for the $val$ tensor below where $n$ is the number of elements in $val$, and $x_i$ is each element in $val$. DO NOT use the built-in softmax function. We should end up with a tensor that represents a probability distribution that sums to 1. (hint: you should calculate the sum of the exponents first)"
   ]
  },
  {
   "cell_type": "code",
<<<<<<< HEAD
   "execution_count": 7,
=======
   "execution_count": 37,
>>>>>>> d6145a4e929dffb59ba1519112626a0777ba580a
   "metadata": {},
   "outputs": [
    {
     "name": "stdout",
     "output_type": "stream",
     "text": [
      "tensor([0., 1., 2., 3., 4., 5., 6., 7., 8., 9.])\n",
      "tensor([1.0000e+00, 2.7183e+00, 7.3891e+00, 2.0086e+01, 5.4598e+01, 1.4841e+02,\n",
      "        4.0343e+02, 1.0966e+03, 2.9810e+03, 8.1031e+03])\n",
      "tensor(12818.3047)\n",
      "tensor([7.8013e-05, 2.1206e-04, 5.7645e-04, 1.5669e-03, 4.2594e-03, 1.1578e-02,\n",
      "        3.1473e-02, 8.5552e-02, 2.3255e-01, 6.3215e-01])\n",
      "tensor(1.)\n"
     ]
    }
   ],
   "source": [
    "val1 = torch.arange(10).float()\n",
    "print(val1)\n",
    "\n",
    "### YOUR CODE HERE\n",
    "e=math.exp(1)\n",
    "exponent = torch.pow(e,val1,out=None)\n",
    "print(exponent)\n",
    "denominator = torch.sum(exponent)\n",
    "print(denominator)\n",
    "\n",
    "result1 =torch.div(exponent, denominator,out=None)\n",
    "print(result1)\n",
    "print(torch.sum(result1))"
   ]
  },
  {
   "cell_type": "markdown",
   "metadata": {},
   "source": [
    "To do this, you'll need to use the PyTorch documentation at https://pytorch.org/docs/stable/torch.html. Luckily, PyTorch has very well-written docs."
   ]
  },
  {
   "cell_type": "markdown",
   "metadata": {},
   "source": [
    "## PyTorch: Autograd"
   ]
  },
  {
   "cell_type": "raw",
   "metadata": {},
   "source": [
    "Autograd is PyTorch's automatic differentiation tool: \n",
    "\n",
    "It allows us to compute gradients(derivatives) by keeping track of all the operations that have happened to a tensor. In the context of neural networks, we'll interpret these gradient calculations as backpropagating a loss through a network."
   ]
  },
  {
   "cell_type": "markdown",
   "metadata": {},
   "source": [
    "To understand how autograd works, we first need to understand the idea of a __computation graph__. A computation graph is a directed, acyclic graph (DAG) that ***contains a blueprint of a sequence of operations.*** For a neural network, these computations consist of matrix multiplications, bias additions, ReLUs, softmaxes, etc. Nodes in this graph consist of the operations themselves, while the edges represent tensors that flow forward along this graph."
   ]
  },
  {
   "cell_type": "markdown",
   "metadata": {},
   "source": [
    "In PyTorch, the creation of this graph is __dynamic__. This means that tensors themselves keep track of their own computational history, and this history is build as the tensors flow through the network; this is unlike TensorFlow, where an external controller keeps track of the entire computation graph. This dynamic creation of the computation graph allows for lots of cool control-flows that are not possible (or at least very difficult) in TensorFlow."
   ]
  },
  {
   "cell_type": "markdown",
   "metadata": {},
   "source": [
    "![alt text](https://raw.githubusercontent.com/pytorch/pytorch/master/docs/source/_static/img/dynamic_graph.gif)\n",
    "<center>_Dynamic computation graphs are cool!_</center>\n",
    "_ _"
   ]
  },
  {
   "cell_type": "markdown",
   "metadata": {},
   "source": [
    "Let's take a look at a simple computation to see what autograd is doing. First, let's create two tensors and add them together. ***To signal to PyTorch that we want to build a computation graph, we must set the flag requires_grad to be True when creating a tensor.***"
   ]
  },
  {
   "cell_type": "code",
<<<<<<< HEAD
   "execution_count": 8,
   "metadata": {},
   "outputs": [],
=======
   "execution_count": 38,
   "metadata": {},
   "outputs": [
    {
     "name": "stdout",
     "output_type": "stream",
     "text": [
      "tensor([9., 5.], grad_fn=<AddBackward0>)\n"
     ]
    }
   ],
>>>>>>> d6145a4e929dffb59ba1519112626a0777ba580a
   "source": [
    "a = torch.tensor([1, 2], dtype=torch.float, requires_grad=True)\n",
    "b = torch.tensor([8, 3], dtype=torch.float, requires_grad=True)\n",
    "\n",
    "c = a + b\n",
    "print(c)"
   ]
  },
  {
   "cell_type": "markdown",
   "metadata": {},
   "source": [
    "Now, since a and b are both part of our computation graph, c will automatically be added:"
   ]
  },
  {
   "cell_type": "code",
<<<<<<< HEAD
   "execution_count": 9,
=======
   "execution_count": 39,
>>>>>>> d6145a4e929dffb59ba1519112626a0777ba580a
   "metadata": {},
   "outputs": [
    {
     "data": {
      "text/plain": [
       "True"
      ]
     },
<<<<<<< HEAD
     "execution_count": 9,
=======
     "execution_count": 39,
>>>>>>> d6145a4e929dffb59ba1519112626a0777ba580a
     "metadata": {},
     "output_type": "execute_result"
    }
   ],
   "source": [
    "c.requires_grad"
   ]
  },
  {
   "cell_type": "markdown",
   "metadata": {},
   "source": [
    "When we add a tensor to our computation graph in this way, our tensor now has a grad_fn attribute. \n",
    "\n",
    "***This attribute tells autograd how this tensor was generated, and what tensor(s) this particular node was created from.***"
   ]
  },
  {
   "cell_type": "markdown",
   "metadata": {},
   "source": [
    "***In the case of c, its grad_fn is of type AddBackward1, PyTorch's notation for a tensor that was created by adding two tensors together:***"
   ]
  },
  {
   "cell_type": "code",
<<<<<<< HEAD
   "execution_count": 10,
=======
   "execution_count": 40,
>>>>>>> d6145a4e929dffb59ba1519112626a0777ba580a
   "metadata": {},
   "outputs": [
    {
     "data": {
      "text/plain": [
<<<<<<< HEAD
       "<AddBackward0 at 0x1d114728780>"
      ]
     },
     "execution_count": 10,
=======
       "<AddBackward0 at 0x1f6f3aa20b8>"
      ]
     },
     "execution_count": 40,
>>>>>>> d6145a4e929dffb59ba1519112626a0777ba580a
     "metadata": {},
     "output_type": "execute_result"
    }
   ],
   "source": [
    "c.grad_fn"
   ]
  },
  {
   "cell_type": "markdown",
   "metadata": {},
   "source": [
    "Every grad_fn has an attribute called next_functions: ***This attribute lets the grad_fn pass on its derivative (gradient) to the tensors that were used to compute it.***\n",
    "the next_functions will allow you to traverse the recorded computation graph "
   ]
  },
  {
   "cell_type": "code",
<<<<<<< HEAD
   "execution_count": 11,
=======
   "execution_count": 41,
>>>>>>> d6145a4e929dffb59ba1519112626a0777ba580a
   "metadata": {},
   "outputs": [
    {
     "data": {
      "text/plain": [
<<<<<<< HEAD
       "((<AccumulateGrad at 0x1d114728e48>, 0),\n",
       " (<AccumulateGrad at 0x1d114728908>, 0))"
      ]
     },
     "execution_count": 11,
=======
       "((<AccumulateGrad at 0x1f6f3aa2a90>, 0),\n",
       " (<AccumulateGrad at 0x1f6f3aa2c18>, 0))"
      ]
     },
     "execution_count": 41,
>>>>>>> d6145a4e929dffb59ba1519112626a0777ba580a
     "metadata": {},
     "output_type": "execute_result"
    }
   ],
   "source": [
    "c.grad_fn.next_functions"
   ]
  },
  {
   "cell_type": "markdown",
   "metadata": {},
   "source": [
    "If we extract the tensor values corresponding to each of these functions, we can see a and b! "
   ]
  },
  {
   "cell_type": "code",
<<<<<<< HEAD
   "execution_count": 12,
=======
   "execution_count": 42,
>>>>>>> d6145a4e929dffb59ba1519112626a0777ba580a
   "metadata": {},
   "outputs": [
    {
     "name": "stdout",
     "output_type": "stream",
     "text": [
      "tensor([1., 2.], requires_grad=True)\n",
      "tensor([8., 3.], requires_grad=True)\n"
     ]
    }
   ],
   "source": [
    "print(c.grad_fn.next_functions[0][0].variable)\n",
    "print(c.grad_fn.next_functions[1][0].variable)"
   ]
  },
  {
   "cell_type": "markdown",
   "metadata": {},
   "source": [
    "In this way, ***autograd allows a tensor to record its entire computational history, implicitly creating a computational graph*** -- All dynamically and on-the-fly!"
   ]
  },
  {
   "cell_type": "markdown",
   "metadata": {},
   "source": [
    "## PyTorch: Modules and Parameters"
   ]
  },
  {
   "cell_type": "markdown",
   "metadata": {},
   "source": [
    "In PyTorch, ***collections of operations are encapsulated as __modules__.*** ***One way to visualize a module is to take a section of a computational graph and collapse it into a single node.***\n",
    "\n",
    "\n",
    "Not only are modules useful for encapsulation, ***they have the ability to keep track of tensors that are contained inside of them: To do this, simply wrap a tensor with the class torch.nn.Parameter.***"
   ]
  },
  {
   "cell_type": "markdown",
   "metadata": {},
   "source": [
    "To define a module, we must subclass the type torch.nn.Module. In addition, we must define a _forward_ method that tells PyTorch how to traverse through a module."
   ]
  },
  {
   "cell_type": "markdown",
   "metadata": {},
   "source": [
    "For example, let's define a logistic regression module. This module will contain two parameters: The weight vector and the bias. Calling the _forward_ method will output a probability between zero and one."
   ]
  },
  {
   "cell_type": "code",
<<<<<<< HEAD
   "execution_count": 13,
=======
   "execution_count": 43,
>>>>>>> d6145a4e929dffb59ba1519112626a0777ba580a
   "metadata": {},
   "outputs": [],
   "source": [
    "class LogisticRegression(nn.Module):\n",
    "    \n",
    "    def __init__(self):\n",
    "        \n",
    "        super().__init__()\n",
    "        self.weight = nn.Parameter(torch.randn(10))\n",
    "        self.bias = nn.Parameter(torch.randn(1))\n",
    "        self.sigmoid = nn.Sigmoid()\n",
    "        \n",
    "    def forward(self, vector):\n",
    "        return self.sigmoid(torch.dot(vector, self.weight) + self.bias)\n",
    "        "
   ]
  },
  {
   "cell_type": "markdown",
   "metadata": {},
   "source": [
    "Note that we have fixed the dimension of our weight to be 10, so our module will only accept 10-dimensional data."
   ]
  },
  {
   "cell_type": "markdown",
   "metadata": {},
   "source": [
    "We can now create a random vector and pass it through the module:"
   ]
  },
  {
   "cell_type": "code",
<<<<<<< HEAD
   "execution_count": 14,
=======
   "execution_count": 44,
>>>>>>> d6145a4e929dffb59ba1519112626a0777ba580a
   "metadata": {},
   "outputs": [],
   "source": [
    "module = LogisticRegression()\n",
    "vector = torch.randn(10)\n",
    "output = module(vector)"
   ]
  },
  {
   "cell_type": "code",
<<<<<<< HEAD
   "execution_count": 15,
=======
   "execution_count": 45,
>>>>>>> d6145a4e929dffb59ba1519112626a0777ba580a
   "metadata": {},
   "outputs": [
    {
     "data": {
      "text/plain": [
<<<<<<< HEAD
       "tensor([0.8533], grad_fn=<SigmoidBackward>)"
      ]
     },
     "execution_count": 15,
=======
       "tensor([0.9989], grad_fn=<SigmoidBackward>)"
      ]
     },
     "execution_count": 45,
>>>>>>> d6145a4e929dffb59ba1519112626a0777ba580a
     "metadata": {},
     "output_type": "execute_result"
    }
   ],
   "source": [
    "output"
   ]
  },
  {
   "cell_type": "markdown",
   "metadata": {},
   "source": [
    "Now, say that our loss function is mean-squared-error and our target value is 1. We can then write our loss as:"
   ]
  },
  {
   "cell_type": "code",
<<<<<<< HEAD
   "execution_count": 16,
=======
   "execution_count": 46,
>>>>>>> d6145a4e929dffb59ba1519112626a0777ba580a
   "metadata": {},
   "outputs": [],
   "source": [
    "loss = (output - 1) ** 2"
   ]
  },
  {
   "cell_type": "code",
<<<<<<< HEAD
   "execution_count": 17,
=======
   "execution_count": 47,
>>>>>>> d6145a4e929dffb59ba1519112626a0777ba580a
   "metadata": {},
   "outputs": [
    {
     "data": {
      "text/plain": [
<<<<<<< HEAD
       "tensor([0.0215], grad_fn=<PowBackward0>)"
      ]
     },
     "execution_count": 17,
=======
       "tensor([1.1069e-06], grad_fn=<PowBackward0>)"
      ]
     },
     "execution_count": 47,
>>>>>>> d6145a4e929dffb59ba1519112626a0777ba580a
     "metadata": {},
     "output_type": "execute_result"
    }
   ],
   "source": [
    "loss"
   ]
  },
  {
   "cell_type": "markdown",
   "metadata": {},
   "source": [
    "To minimize this loss, we just call loss.backward(), and all the gradients will be computed for us! Note that wrapping a tensor as a Parameter will automatically set requires_grad = True."
   ]
  },
  {
   "cell_type": "code",
<<<<<<< HEAD
   "execution_count": 18,
=======
   "execution_count": 48,
>>>>>>> d6145a4e929dffb59ba1519112626a0777ba580a
   "metadata": {},
   "outputs": [],
   "source": [
    "loss.backward()"
   ]
  },
  {
   "cell_type": "code",
<<<<<<< HEAD
   "execution_count": 19,
=======
   "execution_count": 49,
>>>>>>> d6145a4e929dffb59ba1519112626a0777ba580a
   "metadata": {},
   "outputs": [
    {
     "name": "stdout",
     "output_type": "stream",
     "text": [
<<<<<<< HEAD
      "tensor([ 0.0496,  0.0050, -0.0235, -0.0063, -0.0350, -0.0445,  0.0648,  0.0100,\n",
      "        -0.0168, -0.0296])\n",
      "tensor([-0.0367])\n"
=======
      "tensor([-6.6711e-07,  2.1069e-06, -3.7404e-06,  5.1160e-08,  6.0902e-07,\n",
      "         2.5976e-06, -2.8494e-06, -1.3179e-06,  4.3948e-06, -9.9947e-07])\n",
      "tensor([-2.2114e-06])\n"
>>>>>>> d6145a4e929dffb59ba1519112626a0777ba580a
     ]
    }
   ],
   "source": [
    "print(module.weight.grad)\n",
    "print(module.bias.grad)"
   ]
  },
  {
   "cell_type": "markdown",
   "metadata": {},
   "source": [
    "## Fully-connected Networks for Image Classification"
   ]
  },
  {
   "cell_type": "markdown",
   "metadata": {
    "collapsed": true
   },
   "source": [
    "Using this knowledge, you will create a neural network in PyTorch for image classification on the CIFAR-10 dataset. PyTorch uses the $DataLoader$ class for you to load data into batches to feed to your learning algorithms - we highly suggest you familiarze yourself with this as well as the Dataset API here: https://pytorch.org/docs/stable/data.html. Fill in the below code to instantiate 3 DataLoaders for your training, validation and test sets. We would prefer that you NOT use the `torchvision.transform` API - we want you to get some practice in data preprocessing! Here are the transformations we want you to perform:\n",
    "1. Split the `val_and_test_set` into two separate datasets (each with 5000 elements)\n",
    "2. Convert all the `np.array` elements into `torch.tensor` elements.\n",
    "3. All values will be pixel values in our images are in the range of [0, 256]. Normalize this so that each pixel is in the range [0, 1].\n",
    "3. Flatten all images. All your images will be of shape (32, 32, 3), we need them as flat (32 * 32 * 3) size tensors as input to our neural network.\n",
    "4. Load everything into a DataLoader. (check how this works in the PyTorch docs!) \n",
    "\n",
    "Be sure to have the options `shuffle=True` (so that your dataset is shuffled so that samples from the dataset are not correlated) and also `batch_size=32` or larger. This is a standard minibatch size. If you're curious about what batch size does (and are somewhat familiar with statistics), here's a great answer https://stats.stackexchange.com/questions/316464/how-does-batch-size-affect-convergence-of-sgd-and-why."
   ]
  },
  {
   "cell_type": "code",
<<<<<<< HEAD
   "execution_count": 28,
=======
   "execution_count": 62,
>>>>>>> d6145a4e929dffb59ba1519112626a0777ba580a
   "metadata": {},
   "outputs": [
    {
     "name": "stdout",
     "output_type": "stream",
     "text": [
      "Files already downloaded and verified\n",
<<<<<<< HEAD
      "Files already downloaded and verified\n",
      "50000\n",
      "5000\n",
      "5000\n",
      "<class 'iterator'>\n"
=======
      "Files already downloaded and verified\n"
>>>>>>> d6145a4e929dffb59ba1519112626a0777ba580a
     ]
    }
   ],
   "source": [
<<<<<<< HEAD
    "transformation = transforms.Compose([transforms.ToTensor(), transforms.Normalize(mean = (0.5, 0.5, 0.5), std = (0.5, 0.5, 0.5))])\n",
    "trainset = torchvision.datasets.CIFAR10(root='./data', train=True, download=True, transform = transformation)\n",
    "val_and_test_set = torchvision.datasets.CIFAR10(root='./data', train=False, download=True, transform = transformation)\n",
    "#usually we would use the transform parameter of torchvision.datasets.CIFAR10()\n",
    "#ransforms are common image transformations. They can be chained together using Compose.\n",
    "\n",
    "\n",
    "### YOUR CODE HERE\n",
    "validationset, testset = torch.utils.data.random_split(val_and_test_set, (5000,5000))\n",
    "\n",
    "trainloader = torch.utils.data.DataLoader(trainset,batch_size=32,shuffle=True,num_workers=2)\n",
    "\n",
    "valloader = torch.utils.data.DataLoader(validationset,batch_size=32,shuffle=False,num_workers=2)\n",
    "\n",
    "testloader = torch.utils.data.DataLoader(testset,batch_size=32,shuffle=False,num_workers=2)\n",
=======
    "transformation = transforms.Compose([transforms.ToTensor(), transforms.Normalize((0.5, 0.5, 0.5), (0.5, 0.5, 0.5))])\n",
    "trainset = torchvision.datasets.CIFAR10(root='./data', train=True, download=True,transform=transformation)\n",
    "val_and_test_set = torchvision.datasets.CIFAR10(root='./data', train=False, download=True, transform=transformation)\n",
    "\n",
    "### YOUR CODE HERE\n",
    "trainingsampler = torch.utils.data.SubsetRandomSampler(np.arange(5000,25000, dtype=np.int64))\n",
    "train_loader = torch.utils.data.DataLoader(trainset, batch_size=32, sampler = trainingsampler, num_workers=2)\n",
    "\n",
    "Trainingsampler = torch.utils.data.SubsetRandomSampler(np.arange(0, 5000, dtype=np.int64))\n",
    "Validationsampler = torch.utils.data.SubsetRandomSampler(np.arange(0, 5000, dtype=np.int64))\n",
    "\n",
    "Test_loader = torch.utils.data.DataLoader(val_and_test_set, batch_size=32,\n",
    "                                          sampler = Trainingsampler, shuffle=False, num_workers=2)\n",
    "Valid_loader = torch.utils.data.DataLoader(trainset, batch_size=32,\n",
    "                                          sampler = Validationsampler, shuffle=False, num_workers=2)\n",
>>>>>>> d6145a4e929dffb59ba1519112626a0777ba580a
    "\n",
    "# print(len(trainset))\n",
    "# print(len(validationset))\n",
    "# print(len(testset))\n",
    "# sample = iter(trainset)\n",
    "# print(type(sample))\n",
    "# image, index = sample\n",
    "# print(image.shape)\n",
    "# testset = np.asarray(testset)\n",
    "# print(type(testset))\n",
    "\n",
    "#torch.from_numpy(ndarray) \n",
    "\n",
    "\n",
    "\n",
    "###need to do it with the array method... \n",
    "\n",
    "classes = ('plane', 'car', 'bird', 'cat', 'deer', 'dog', 'frog', 'horse', 'ship', 'truck')"
   ]
  },
  {
   "cell_type": "markdown",
   "metadata": {},
   "source": [
    "CIFAR-10 consists of 32 x 32 color images, each corresponding to a unique class indicating the object present within the image. Use Matplotlib to print out the first few images."
   ]
  },
  {
   "cell_type": "code",
<<<<<<< HEAD
   "execution_count": 81,
=======
   "execution_count": 68,
>>>>>>> d6145a4e929dffb59ba1519112626a0777ba580a
   "metadata": {},
   "outputs": [
    {
     "data": {
      "image/png": "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\n",
      "text/plain": [
       "<Figure size 432x288 with 1 Axes>"
      ]
     },
     "metadata": {
      "needs_background": "light"
     },
     "output_type": "display_data"
    },
    {
     "name": "stdout",
     "output_type": "stream",
     "text": [
      "horse horse  ship plane\n"
     ]
    }
   ],
   "source": [
<<<<<<< HEAD
    "### YOUR CODE HERE - Grab a few examples from trainset and plot them\n",
    "\n",
    "def imshow(img):\n",
    "    img = img / 2 + 0.5     # unnormalize\n",
    "    npimg = img.numpy()\n",
    "    plt.imshow(np.transpose(npimg, (1, 2, 0)))\n",
    "    plt.show()\n",
    "\n",
    "\n",
    "# get some random training images from trainingset \n",
    "dataiter = iter(trainloader)\n",
    "images, labels = dataiter.next()\n",
    "\n",
    "# show images\n",
    "imshow(torchvision.utils.make_grid(images))\n",
    "# print labels\n",
    "print(' '.join('%5s' % classes[labels[j]] for j in range(4)))"
=======
    "### YOUR CODE HERE - Grab a few examples from trainset and plot them\n"
>>>>>>> d6145a4e929dffb59ba1519112626a0777ba580a
   ]
  },
  {
   "cell_type": "markdown",
   "metadata": {},
   "source": [
    "Now try to build and train a plain neural network that properly classifies images in the CIFAR-10 dataset. Try to achieve at least around 40% accuracy (the higher the better!).\n",
    "\n",
    "Take a look at the PyTorch documentation for some help in how to do this.\n",
    "\n",
    "Google is your friend -- Looking things up on the PyTorch docs and on StackOverflow will be helpful."
   ]
  },
  {
   "cell_type": "code",
   "execution_count": null,
   "metadata": {},
   "outputs": [],
   "source": [
    "# class NeuralNet(nn.Module):\n",
    "    \n",
    "#     def __init__(self, input_dim, hidden_dim, output_dim):\n",
    "        \n",
<<<<<<< HEAD
    "#         super().__init__()\n",
    "        \n",
    "#         ### YOUR CODE HERE\n",
    "        \n",
    "#     def forward(self, data):\n",
    "        \n",
    "#         ### YOUR CODE HERE\n",
=======
    "        super().__init__()\n",
    "        self.weight1 = nn.Parameter(torch.randn(input_dim, hidden_dim))\n",
    "        self.weight2 = nn.Parameter(torch.randn(hidden_dim, output_dim))\n",
    "        self.bias1 = nn.Parameter(torch.full((1, hidden_dim), 1.41))\n",
    "        self.bias2 = nn.Parameter(torch.full((1, output_dim), 1.41))\n",
    "        self.sigmoid = nn.Sigmoid()\n",
    "        ### YOUR CODE HERE\n",
    "        \n",
    "    def forward(self, data):\n",
    "        data = data.view(data.size()[0], -1)\n",
    "        hidden = self.sigmoid(torch.mm(data, self.weight1) + self.bias1)\n",
    "        return self.sigmoid(torch.mm(hidden, self.weight2) + self.bias2)\n",
    "        \n",
    "\n",
    "        ### YOUR CODE HERE\n",
>>>>>>> d6145a4e929dffb59ba1519112626a0777ba580a
    "\n",
    "class NeuralNet(nn.Module):\n",
    "    \n",
    "    def __init__(self):\n",
    "        super(Net, self).__init__()\n",
    "        self.conv1 = nn.Conv2d(3, 6, 5)\n",
    "        self.pool = nn.MaxPool2d(2, 2)\n",
    "        self.conv2 = nn.Conv2d(6, 16, 5)\n",
    "        self.fc1 = nn.Linear(16 * 5 * 5, 120)\n",
    "        self.fc2 = nn.Linear(120, 84)\n",
    "        self.fc3 = nn.Linear(84, 10)\n",
    "\n",
    "    def forward(self, x):\n",
    "        x = self.pool(F.relu(self.conv1(x)))\n",
    "        x = self.pool(F.relu(self.conv2(x)))\n",
    "        x = x.view(-1, 16 * 5 * 5)\n",
    "        x = F.relu(self.fc1(x))\n",
    "        x = F.relu(self.fc2(x))\n",
    "        x = self.fc3(x)\n",
    "        return x\n",
    "\n",
    "\n",
    "net = Net()\n",
    "        "
   ]
  },
  {
   "cell_type": "code",
   "execution_count": null,
   "metadata": {},
   "outputs": [],
   "source": [
    "from tqdm import tqdm\n",
    "from torch.autograd import Variable\n",
    "EPOCHS = 64\n",
    "LEARNING_RATE = 0.05\n",
    "INPUT_SIZE = 3*32*32\n",
    "HIDDEN_SIZE = 640\n",
    "\n",
    "OUTPUT_SIZE = 10\n",
    "\n",
    "net = NeuralNet(INPUT_SIZE, HIDDEN_SIZE, OUTPUT_SIZE)\n",
    "\n",
    "### Define an optimizer and a loss function here. We pass our network parameters to our optimizer here so we know\n",
    "### which values to update by how much.\n",
    "#optimizer = ...\n",
    "#loss_fn = ...\n",
    "\n",
    "optimizer = torch.optim.Adam(net.parameters(), lr=LEARNING_RATE)\n",
    "loss_fn = nn.CrossEntropyLoss()\n",
    "\n",
    "\n",
    "#print(net)\n",
    "\n",
    "for epoch in tqdm(range(EPOCHS)):\n",
    "    \n",
    "    total_loss = 0\n",
    "    \n",
    "    for images, labels in train_loader:\n",
    "                \n",
    "        ### YOUR CODE HERE - Zero gradients, call .backward(), and step the optimizer.\n",
    "       # loss = ...\n",
    "        data = torch.as_tensor(images)\n",
    "        out = net(data)\n",
    "        loss = loss_fn(out, Variable(labels))\n",
    "        optimizer.zero_grad()\n",
    "        loss.backward()\n",
    "        optimizer.step()\n",
    "        total_loss += loss.item()\n",
    "        \n",
    "    average_loss = total_loss / len(train_loader)\n",
    "    \n",
    "    ### Calculate validation accuracy here by iterating through the validation set.\n",
    "    ### We use torch.no_grad() here because we don't want to accumulate gradients in our function.\n",
    "    with torch.no_grad():\n",
    "     #  val_acc = ...\n",
    "        val_loss = 0\n",
    "    for inputs, labels in Valid_loader:\n",
    "            \n",
    "        inputs, labels = Variable(inputs), Variable(labels)\n",
    "\n",
    "        val_outputs = net(inputs)\n",
    "        val_loss_size = loss_fn(val_outputs, labels)\n",
    "        val_loss += val_loss_size.item()\n",
    "        val_acc = val_loss/len(Valid_loader)\n",
    "    print(\"(epoch, train_loss, val_acc) = ({0}, {1}, {2})\".format(epoch, average_loss, val_acc))\n"
   ]
  },
  {
   "cell_type": "code",
   "execution_count": null,
   "metadata": {},
   "outputs": [],
   "source": [
    "### YOUR CODE HERE - Here, we test the overall accuracy of our model.\n",
    "with torch.no_grad():\n",
    "    test_acc = ...\n",
    "    print(\"Test accuracy:\", test_acc)"
   ]
  },
  {
   "cell_type": "markdown",
   "metadata": {},
   "source": [
    "## Submission\n",
    "For submiting, please download this notebook as a `.py` file. To do so, click on `File -> Download as -> Python (.py)`. Put the downloaded `assignment3.py` into this folder and commit the file."
   ]
  },
  {
   "cell_type": "markdown",
   "metadata": {},
   "source": [
    "## Additional Resources\n",
    "If you're interested in using PyTorch as a framework for deep learning (especially for your final projects! We highly recommend you use this!), check out the PyTorch tutorials: https://pytorch.org/tutorials/. They have tutorials for everything from image to text to reinforcement learning tasks."
   ]
  }
 ],
 "metadata": {
  "kernelspec": {
   "display_name": "Python 3",
   "language": "python",
   "name": "python3"
  },
  "language_info": {
   "codemirror_mode": {
    "name": "ipython",
    "version": 3
   },
   "file_extension": ".py",
   "mimetype": "text/x-python",
   "name": "python",
   "nbconvert_exporter": "python",
   "pygments_lexer": "ipython3",
   "version": "3.7.1"
  }
 },
 "nbformat": 4,
 "nbformat_minor": 2
}
