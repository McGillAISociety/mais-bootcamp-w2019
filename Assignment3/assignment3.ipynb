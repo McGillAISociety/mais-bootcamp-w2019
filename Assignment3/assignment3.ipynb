{
 "cells": [
  {
   "cell_type": "markdown",
   "metadata": {},
   "source": [
    "# Homework 3: Introduction to PyTorch"
   ]
  },
  {
   "cell_type": "markdown",
   "metadata": {},
   "source": [
    "PyTorch is a framework for creating and training neural networks. It's one of the most common neural network libraries, alongside TensorFlow, and is used extensively in both academia and industry. In this homework, we'll explore the basic operations within PyTorch, and we'll design a neural network to classify images."
   ]
  },
  {
   "cell_type": "markdown",
   "metadata": {},
   "source": [
    "Let's start by importing the libraries that we'll need:"
   ]
  },
  {
   "cell_type": "code",
   "execution_count": 1,
   "metadata": {},
   "outputs": [],
   "source": [
    "import torch\n",
    "import torchvision\n",
    "import torch.nn as nn\n",
    "\n",
    "import numpy as np\n",
    "\n",
    "%matplotlib inline\n",
    "import matplotlib.pyplot as plt"
   ]
  },
  {
   "cell_type": "markdown",
   "metadata": {},
   "source": [
    "If you can't import torch, go to www.pytorch.org and follow the instructions there for downloading PyTorch. You can select CUDA Version as None, as we won't be working with any GPUs on this homework."
   ]
  },
  {
   "cell_type": "markdown",
   "metadata": {},
   "source": [
    "## PyTorch: Tensors"
   ]
  },
  {
   "cell_type": "markdown",
   "metadata": {},
   "source": [
    "In PyTorch, data is stored as multidimensional arrays, called tensors. Tensors are very similar to numpy's ndarrays, and they support many of the same operations. We can define tensors by explicity setting the values, using a python list:"
   ]
  },
  {
   "cell_type": "code",
   "execution_count": 2,
   "metadata": {},
   "outputs": [
    {
     "name": "stdout",
     "output_type": "stream",
     "text": [
      "A:\n",
      "tensor([[ 1,  2],\n",
      "        [ 4, -3]])\n",
      "\n",
      "\n",
      "B:\n",
      "tensor([[ 3,  1],\n",
      "        [-2,  3]])\n"
     ]
    }
   ],
   "source": [
    "A = torch.tensor([[1, 2], [4, -3]])\n",
    "B = torch.tensor([[3, 1], [-2, 3]])\n",
    "\n",
    "print(\"A:\")\n",
    "print(A)\n",
    "\n",
    "print('\\n')\n",
    "\n",
    "print(\"B:\")\n",
    "print(B)"
   ]
  },
  {
   "cell_type": "markdown",
   "metadata": {},
   "source": [
    "Just like numpy, PyTorch supports operations like addition, multiplication, transposition, dot products, and concatenation of tensors. Look up and fill in the operations for the following:"
   ]
  },
  {
   "cell_type": "code",
   "execution_count": 3,
   "metadata": {},
   "outputs": [
    {
     "name": "stdout",
     "output_type": "stream",
     "text": [
      "Sum of A and B:\n",
      "tensor([[4, 3],\n",
      "        [2, 0]])\n",
      "\n",
      "\n",
      "Elementwise product of A and B:\n",
      "tensor([[ 3,  2],\n",
      "        [-8, -9]])\n",
      "\n",
      "\n",
      "Matrix product of A and B:\n",
      "tensor([[-1,  7],\n",
      "        [18, -5]])\n",
      "\n",
      "\n",
      "Transposition of A:\n",
      "tensor([[ 1,  4],\n",
      "        [ 2, -3]])\n",
      "\n",
      "\n",
      "Concatenation of A and B in the 0th dimension:\n",
      "tensor([[ 1,  2],\n",
      "        [ 4, -3],\n",
      "        [ 3,  1],\n",
      "        [-2,  3]])\n",
      "\n",
      "\n",
      "Concatenation of A and B in the 1st dimension:\n",
      "tensor([[ 1,  2,  3,  1],\n",
      "        [ 4, -3, -2,  3]])\n"
     ]
    }
   ],
   "source": [
    "print(\"Sum of A and B:\")\n",
    "### YOUR CODE HERE\n",
    "print(torch.add(A, B))\n",
    "\n",
    "print('\\n')\n",
    "\n",
    "print(\"Elementwise product of A and B:\")\n",
    "### YOUR CODE HERE\n",
    "print(A * B)\n",
    "\n",
    "print('\\n')\n",
    "\n",
    "print(\"Matrix product of A and B:\")\n",
    "### YOUR CODE HERE\n",
    "print(torch.mm(A, B))\n",
    "\n",
    "print('\\n')\n",
    "\n",
    "print(\"Transposition of A:\")\n",
    "### YOUR CODE HERE\n",
    "print(torch.t(A))\n",
    "\n",
    "print('\\n')\n",
    "\n",
    "print(\"Concatenation of A and B in the 0th dimension:\")\n",
    "### YOUR CODE HERE\n",
    "print(torch.cat((A, B), dim=0))\n",
    "\n",
    "print('\\n')\n",
    "\n",
    "print(\"Concatenation of A and B in the 1st dimension:\")\n",
    "### YOUR CODE HERE\n",
    "print(torch.cat((A, B), dim=1))"
   ]
  },
  {
   "cell_type": "markdown",
   "metadata": {},
   "source": [
    "PyTorch also has tools for creating large tensors automatically, without explicity specifying the values. Find the corresponding tensor initialzers and fill in below. Your print statements should look like the following:\n",
    "\n",
    "3x4x5 Tensor of Zeros:\n",
    "```\n",
    "tensor([[[0., 0., 0., 0., 0.],\n",
    "         [0., 0., 0., 0., 0.],\n",
    "         [0., 0., 0., 0., 0.],\n",
    "         [0., 0., 0., 0., 0.]],\n",
    "\n",
    "        [[0., 0., 0., 0., 0.],\n",
    "         [0., 0., 0., 0., 0.],\n",
    "         [0., 0., 0., 0., 0.],\n",
    "         [0., 0., 0., 0., 0.]],\n",
    "\n",
    "        [[0., 0., 0., 0., 0.],\n",
    "         [0., 0., 0., 0., 0.],\n",
    "         [0., 0., 0., 0., 0.],\n",
    "         [0., 0., 0., 0., 0.]]])\n",
    "```\n",
    "\n",
    "\n",
    "5x5 Tensor with random elements sampled from a standard normal distrubtion: (these should be randomly generated values)\n",
    "```\n",
    "tensor([[ 0.2850,  0.5033, -1.8570, -1.6525,  0.3613],\n",
    "        [-0.7505,  0.4573, -0.2454,  0.1668,  0.7241],\n",
    "        [ 0.2976,  0.9827, -0.4879, -1.1144, -1.8235],\n",
    "        [-0.0264,  0.7341, -0.2235,  0.5306,  0.8385],\n",
    "        [ 0.2740,  0.3522, -0.5244, -0.1132,  0.5135]])\n",
    "```\n",
    "\n",
    "Tensor created from a range:\n",
    "```\n",
    "tensor([0, 1, 2, 3, 4, 5, 6, 7, 8, 9])\n",
    "```\n"
   ]
  },
  {
   "cell_type": "code",
   "execution_count": 4,
   "metadata": {},
   "outputs": [
    {
     "name": "stdout",
     "output_type": "stream",
     "text": [
      "3x4x5 Tensor of Zeros:\n",
      "tensor([[[0., 0., 0., 0., 0.],\n",
      "         [0., 0., 0., 0., 0.],\n",
      "         [0., 0., 0., 0., 0.],\n",
      "         [0., 0., 0., 0., 0.]],\n",
      "\n",
      "        [[0., 0., 0., 0., 0.],\n",
      "         [0., 0., 0., 0., 0.],\n",
      "         [0., 0., 0., 0., 0.],\n",
      "         [0., 0., 0., 0., 0.]],\n",
      "\n",
      "        [[0., 0., 0., 0., 0.],\n",
      "         [0., 0., 0., 0., 0.],\n",
      "         [0., 0., 0., 0., 0.],\n",
      "         [0., 0., 0., 0., 0.]]])\n",
      "\n",
      "\n",
      "5x5 Tensor with random elements sampled from a standard normal distrubtion:\n",
      "tensor([[ 0.1108, -0.7009, -0.3700, -1.1650, -0.6549],\n",
      "        [-0.9049, -1.2256,  0.6028,  0.5955, -0.1116],\n",
      "        [ 0.1440,  0.7444, -1.9643,  0.9578, -0.1517],\n",
      "        [ 0.3988, -1.1149,  0.7258, -1.0157,  0.1198],\n",
      "        [-0.8068,  0.5617, -0.0274,  1.8524, -1.2033]])\n",
      "\n",
      "\n",
      "Tensor created from a range:\n",
      "tensor([0, 1, 2, 3, 4, 5, 6, 7, 8, 9])\n"
     ]
    }
   ],
   "source": [
    "print(\"3x4x5 Tensor of Zeros:\")\n",
    "### YOUR CODE HERE\n",
    "print(torch.zeros(3, 4, 5))\n",
    "\n",
    "print('\\n')\n",
    "\n",
    "print(\"5x5 Tensor with random elements sampled from a standard normal distrubtion:\")\n",
    "### YOUR CODE HERE\n",
    "print(torch.randn(5, 5))\n",
    "\n",
    "print('\\n')\n",
    "\n",
    "print(\"Tensor created from a range:\")\n",
    "### YOUR CODE HERE\n",
    "print(torch.arange(10))"
   ]
  },
  {
   "cell_type": "markdown",
   "metadata": {},
   "source": [
    "Now, use PyTorch tensors to complete the following computation:\n",
    "\n",
    "Create a tensor of integers from the range 0 to 99, inclusive. Add 0.5 to each element in the tensor, and square each element of the result. Then, negate each element of the tensor, and apply the exponential to each element (i.e., change each element x into e^x). Now, sum all the elements of the tensor. Multiply this tensor by 2 and square each element and print your result.\n",
    "\n",
    "If you're right, you should get something very close to $$\\pi \\approx 3.14 .$$"
   ]
  },
  {
   "cell_type": "code",
   "execution_count": 5,
   "metadata": {},
   "outputs": [
    {
     "name": "stdout",
     "output_type": "stream",
     "text": [
      "tensor(3.1409)\n"
     ]
    }
   ],
   "source": [
    "val = torch.arange(100).float()\n",
    "\n",
    "### YOUR CODE HERE\n",
    "val.add_(0.5)\n",
    "\n",
    "val *= -val\n",
    "\n",
    "val.exp_()\n",
    "\n",
    "val = (torch.sum(val, dim=0) * 2) ** 2\n",
    "\n",
    "print(val)"
   ]
  },
  {
   "cell_type": "markdown",
   "metadata": {},
   "source": [
    "Now we'll try writing a computation that's prevalent throughout a lot of deep learning algorithms - calculating the softmax function:\n",
    "$$softmax(x_i) = \\frac{e^{x_i}}{\\sum_{j = 0}^{n - 1} e^{x_j}}$$\n",
    "Calculate the softmax function for the $val$ tensor below where $n$ is the number of elements in $val$, and $x_i$ is each element in $val$. DO NOT use the built-in softmax function. We should end up with a tensor that represents a probability distribution that sums to 1. (hint: you should calculate the sum of the exponents first)"
   ]
  },
  {
   "cell_type": "code",
   "execution_count": 6,
   "metadata": {},
   "outputs": [
    {
     "name": "stdout",
     "output_type": "stream",
     "text": [
      "tensor([7.8013e-05, 2.1206e-04, 5.7645e-04, 1.5669e-03, 4.2594e-03, 1.1578e-02,\n",
      "        3.1473e-02, 8.5552e-02, 2.3255e-01, 6.3215e-01])\n",
      "tensor(1.0000)\n"
     ]
    }
   ],
   "source": [
    "val1 = torch.arange(10).float()\n",
    "\n",
    "### YOUR CODE HERE\n",
    "val1.exp_()\n",
    "\n",
    "denom = torch.sum(val1)\n",
    "\n",
    "result1 = val1 / denom\n",
    "\n",
    "print(result1)\n",
    "print(torch.sum(result1))"
   ]
  },
  {
   "cell_type": "markdown",
   "metadata": {},
   "source": [
    "To do this, you'll need to use the PyTorch documentation at https://pytorch.org/docs/stable/torch.html. Luckily, PyTorch has very well-written docs."
   ]
  },
  {
   "cell_type": "markdown",
   "metadata": {},
   "source": [
    "## PyTorch: Autograd"
   ]
  },
  {
   "cell_type": "markdown",
   "metadata": {},
   "source": [
    "Autograd is PyTorch's automatic differentiation tool: It allows us to compute gradients by keeping track of all the operations that have happened to a tensor. In the context of neural networks, we'll interpret these gradient calculations as backpropagating a loss through a network."
   ]
  },
  {
   "cell_type": "markdown",
   "metadata": {},
   "source": [
    "To understand how autograd works, we first need to understand the idea of a __computation graph__. A computation graph is a directed, acyclic graph (DAG) that contains a blueprint of a sequence of operations. For a neural network, these computations consist of matrix multiplications, bias additions, ReLUs, softmaxes, etc. Nodes in this graph consist of the operations themselves, while the edges represent tensors that flow forward along this graph."
   ]
  },
  {
   "cell_type": "markdown",
   "metadata": {},
   "source": [
    "In PyTorch, the creation of this graph is __dynamic__. This means that tensors themselves keep track of their own computational history, and this history is build as the tensors flow through the network; this is unlike TensorFlow, where an external controller keeps track of the entire computation graph. This dynamic creation of the computation graph allows for lots of cool control-flows that are not possible (or at least very difficult) in TensorFlow."
   ]
  },
  {
   "cell_type": "markdown",
   "metadata": {},
   "source": [
    "![alt text](https://raw.githubusercontent.com/pytorch/pytorch/master/docs/source/_static/img/dynamic_graph.gif)\n",
    "<center>_Dynamic computation graphs are cool!_</center>\n",
    "_ _"
   ]
  },
  {
   "cell_type": "markdown",
   "metadata": {},
   "source": [
    "Let's take a look at a simple computation to see what autograd is doing. First, let's create two tensors and add them together. To signal to PyTorch that we want to build a computation graph, we must set the flag requires_grad to be True when creating a tensor."
   ]
  },
  {
   "cell_type": "code",
   "execution_count": 7,
   "metadata": {},
   "outputs": [],
   "source": [
    "a = torch.tensor([1, 2], dtype=torch.float, requires_grad=True)\n",
    "b = torch.tensor([8, 3], dtype=torch.float, requires_grad=True)\n",
    "\n",
    "c = a + b"
   ]
  },
  {
   "cell_type": "markdown",
   "metadata": {},
   "source": [
    "Now, since a and b are both part of our computation graph, c will automatically be added:"
   ]
  },
  {
   "cell_type": "code",
   "execution_count": 8,
   "metadata": {},
   "outputs": [
    {
     "data": {
      "text/plain": [
       "True"
      ]
     },
     "execution_count": 8,
     "metadata": {},
     "output_type": "execute_result"
    }
   ],
   "source": [
    "c.requires_grad"
   ]
  },
  {
   "cell_type": "markdown",
   "metadata": {},
   "source": [
    "When we add a tensor to our computation graph in this way, our tensor now has a grad_fn attribute. This attribute tells autograd how this tensor was generated, and what tensor(s) this particular node was created from."
   ]
  },
  {
   "cell_type": "markdown",
   "metadata": {},
   "source": [
    "In the case of c, its grad_fn is of type AddBackward1, PyTorch's notation for a tensor that was created by adding two tensors together:"
   ]
  },
  {
   "cell_type": "code",
   "execution_count": 9,
   "metadata": {},
   "outputs": [
    {
     "data": {
      "text/plain": [
       "<AddBackward0 at 0x258c5e72198>"
      ]
     },
     "execution_count": 9,
     "metadata": {},
     "output_type": "execute_result"
    }
   ],
   "source": [
    "c.grad_fn"
   ]
  },
  {
   "cell_type": "markdown",
   "metadata": {},
   "source": [
    "Every grad_fn has an attribute called next_functions: This attribute lets the grad_fn pass on its gradient to the tensors that were used to compute it."
   ]
  },
  {
   "cell_type": "code",
   "execution_count": 10,
   "metadata": {},
   "outputs": [
    {
     "data": {
      "text/plain": [
       "((<AccumulateGrad at 0x258c5e72668>, 0),\n",
       " (<AccumulateGrad at 0x258c5e726a0>, 0))"
      ]
     },
     "execution_count": 10,
     "metadata": {},
     "output_type": "execute_result"
    }
   ],
   "source": [
    "c.grad_fn.next_functions"
   ]
  },
  {
   "cell_type": "markdown",
   "metadata": {},
   "source": [
    "If we extract the tensor values corresponding to each of these functions, we can see a and b! "
   ]
  },
  {
   "cell_type": "code",
   "execution_count": 11,
   "metadata": {},
   "outputs": [
    {
     "name": "stdout",
     "output_type": "stream",
     "text": [
      "tensor([1., 2.], requires_grad=True)\n",
      "tensor([8., 3.], requires_grad=True)\n"
     ]
    }
   ],
   "source": [
    "print(c.grad_fn.next_functions[0][0].variable)\n",
    "print(c.grad_fn.next_functions[1][0].variable)"
   ]
  },
  {
   "cell_type": "markdown",
   "metadata": {},
   "source": [
    "In this way, autograd allows a tensor to record its entire computational history, implicitly creating a computational graph -- All dynamically and on-the-fly!"
   ]
  },
  {
   "cell_type": "markdown",
   "metadata": {},
   "source": [
    "## PyTorch: Modules and Parameters"
   ]
  },
  {
   "cell_type": "markdown",
   "metadata": {},
   "source": [
    "In PyTorch, collections of operations are encapsulated as __modules__. One way to visualize a module is to take a section of a computational graph and collapse it into a single node. Not only are modules useful for encapsulation, they have the ability to keep track of tensors that are contained inside of them: To do this, simply wrap a tensor with the class torch.nn.Parameter."
   ]
  },
  {
   "cell_type": "markdown",
   "metadata": {},
   "source": [
    "To define a module, we must subclass the type torch.nn.Module. In addition, we must define a _forward_ method that tells PyTorch how to traverse through a module."
   ]
  },
  {
   "cell_type": "markdown",
   "metadata": {},
   "source": [
    "For example, let's define a logistic regression module. This module will contain two parameters: The weight vector and the bias. Calling the _forward_ method will output a probability between zero and one."
   ]
  },
  {
   "cell_type": "code",
   "execution_count": 12,
   "metadata": {},
   "outputs": [],
   "source": [
    "class LogisticRegression(nn.Module):\n",
    "    \n",
    "    def __init__(self):\n",
    "        \n",
    "        super().__init__()\n",
    "        self.weight = nn.Parameter(torch.randn(10))\n",
    "        self.bias = nn.Parameter(torch.randn(1))\n",
    "        self.sigmoid = nn.Sigmoid()\n",
    "        \n",
    "    def forward(self, vector):\n",
    "        return self.sigmoid(torch.dot(vector, self.weight) + self.bias)\n",
    "        "
   ]
  },
  {
   "cell_type": "markdown",
   "metadata": {},
   "source": [
    "Note that we have fixed the dimension of our weight to be 10, so our module will only accept 10-dimensional data."
   ]
  },
  {
   "cell_type": "markdown",
   "metadata": {},
   "source": [
    "We can now create a random vector and pass it through the module:"
   ]
  },
  {
   "cell_type": "code",
   "execution_count": 13,
   "metadata": {},
   "outputs": [],
   "source": [
    "module = LogisticRegression()\n",
    "vector = torch.randn(10)\n",
    "output = module(vector)"
   ]
  },
  {
   "cell_type": "code",
   "execution_count": 14,
   "metadata": {},
   "outputs": [
    {
     "data": {
      "text/plain": [
       "tensor([0.9174], grad_fn=<SigmoidBackward>)"
      ]
     },
     "execution_count": 14,
     "metadata": {},
     "output_type": "execute_result"
    }
   ],
   "source": [
    "output"
   ]
  },
  {
   "cell_type": "markdown",
   "metadata": {},
   "source": [
    "Now, say that our loss function is mean-squared-error and our target value is 1. We can then write our loss as:"
   ]
  },
  {
   "cell_type": "code",
   "execution_count": 15,
   "metadata": {},
   "outputs": [],
   "source": [
    "loss = (output - 1) ** 2"
   ]
  },
  {
   "cell_type": "code",
   "execution_count": 16,
   "metadata": {},
   "outputs": [
    {
     "data": {
      "text/plain": [
       "tensor([0.0068], grad_fn=<PowBackward0>)"
      ]
     },
     "execution_count": 16,
     "metadata": {},
     "output_type": "execute_result"
    }
   ],
   "source": [
    "loss"
   ]
  },
  {
   "cell_type": "markdown",
   "metadata": {},
   "source": [
    "To minimize this loss, we just call loss.backward(), and all the gradients will be computed for us! Note that wrapping a tensor as a Parameter will automatically set requires_grad = True."
   ]
  },
  {
   "cell_type": "code",
   "execution_count": 17,
   "metadata": {},
   "outputs": [],
   "source": [
    "loss.backward()"
   ]
  },
  {
   "cell_type": "code",
   "execution_count": 18,
   "metadata": {},
   "outputs": [
    {
     "name": "stdout",
     "output_type": "stream",
     "text": [
      "tensor([ 0.0122,  0.0064, -0.0071,  0.0079, -0.0214,  0.0093,  0.0290,  0.0020,\n",
      "        -0.0024,  0.0110])\n",
      "tensor([-0.0125])\n"
     ]
    }
   ],
   "source": [
    "print(module.weight.grad)\n",
    "print(module.bias.grad)"
   ]
  },
  {
   "cell_type": "markdown",
   "metadata": {},
   "source": [
    "## Fully-connected Networks for Image Classification"
   ]
  },
  {
   "cell_type": "markdown",
   "metadata": {
    "collapsed": true
   },
   "source": [
    "Using this knowledge, you will create a neural network in PyTorch for image classification on the CIFAR-10 dataset. PyTorch uses the $DataLoader$ class for you to load data into batches to feed to your learning algorithms - we highly suggest you familiarze yourself with this as well as the Dataset API here: https://pytorch.org/docs/stable/data.html. Fill in the below code to instantiate 3 DataLoaders for your training, validation and test sets. We would prefer that you NOT use the `torchvision.transform` API - we want you to get some practice in data preprocessing! Here are the transformations we want you to perform:\n",
    "1. Split the `val_and_test_set` into two separate datasets (each with 5000 elements)\n",
    "2. Convert all the `np.array` elements into `torch.tensor` elements.\n",
    "3. All values will be pixel values in our images are in the range of [0, 256]. Normalize this so that each pixel is in the range [0, 1].\n",
    "3. Flatten all images. All your images will be of shape (32, 32, 3), we need them as flat (32 * 32 * 3) size tensors as input to our neural network.\n",
    "4. Load everything into a DataLoader. (check how this works in the PyTorch docs!) \n",
    "\n",
    "Be sure to have the options `shuffle=True` (so that your dataset is shuffled so that samples from the dataset are not correlated) and also `batch_size=32` or larger. This is a standard minibatch size. If you're curious about what batch size does (and are somewhat familiar with statistics), here's a great answer https://stats.stackexchange.com/questions/316464/how-does-batch-size-affect-convergence-of-sgd-and-why."
   ]
  },
  {
   "cell_type": "code",
   "execution_count": 19,
   "metadata": {},
   "outputs": [
    {
     "name": "stdout",
     "output_type": "stream",
     "text": [
      "Files already downloaded and verified\n",
      "Files already downloaded and verified\n"
     ]
    }
   ],
   "source": [
    "trainSet = torchvision.datasets.CIFAR10(root='./data', train=True, download=True)\n",
    "val_and_test_set = torchvision.datasets.CIFAR10(root='./data', train=False, download=True)\n",
    "\n",
    "#splitting\n",
    "valSet, testSet = torch.utils.data.random_split(val_and_test_set, [5000, 5000])\n",
    "\n",
    "#are these loops ugly? yes. but do they work? I guess??????\n",
    "\n",
    "trainNorm = []\n",
    "\n",
    "for i in range(len(trainSet)) :\n",
    "    #look so, it ain't pretty, but it works\n",
    "    trainNorm.append(tuple((torch.from_numpy(np.multiply(np.array(trainSet[i][0].getdata()), 1.0/256).flatten()).float(), trainSet[i][1])))\n",
    "\n",
    "valNorm = []\n",
    "testNorm = []\n",
    "\n",
    "for i in range(len(valSet)) :\n",
    "    valNorm.append(tuple((torch.from_numpy(np.multiply(np.array(valSet[i][0].getdata()), 1.0/256).flatten()).float(), valSet[i][1])))\n",
    "    testNorm.append(tuple((torch.from_numpy(np.multiply(np.array(testSet[i][0].getdata()), 1.0/256).flatten()).float(), testSet[i][1])))\n",
    "\n",
    "### YOUR CODE HERE\n",
    "trainloader = torch.utils.data.DataLoader(trainNorm, batch_size=32, shuffle=True)\n",
    "valloader = torch.utils.data.DataLoader(valNorm, batch_size=32, shuffle=True)\n",
    "testloader = torch.utils.data.DataLoader(testNorm, batch_size=32, shuffle=True)\n",
    "\n",
    "classes = ('plane', 'car', 'bird', 'cat', 'deer', 'dog', 'frog', 'horse', 'ship', 'truck')"
   ]
  },
  {
   "cell_type": "markdown",
   "metadata": {},
   "source": [
    "CIFAR-10 consists of 32 x 32 color images, each corresponding to a unique class indicating the object present within the image. Use Matplotlib to print out the first few images."
   ]
  },
  {
   "cell_type": "code",
   "execution_count": 20,
   "metadata": {},
   "outputs": [
    {
     "data": {
      "image/png": "[encoded data removed]",
      "text/plain": [
       "<Figure size 432x288 with 1 Axes>"
      ]
     },
     "metadata": {
      "needs_background": "light"
     },
     "output_type": "display_data"
    },
    {
     "name": "stdout",
     "output_type": "stream",
     "text": [
      "frog\n"
     ]
    },
    {
     "data": {
      "image/png": "[encoded data removed]",
      "text/plain": [
       "<Figure size 432x288 with 1 Axes>"
      ]
     },
     "metadata": {
      "needs_background": "light"
     },
     "output_type": "display_data"
    },
    {
     "name": "stdout",
     "output_type": "stream",
     "text": [
      "truck\n"
     ]
    },
    {
     "data": {
      "image/png": "[encoded data removed]",
      "text/plain": [
       "<Figure size 432x288 with 1 Axes>"
      ]
     },
     "metadata": {
      "needs_background": "light"
     },
     "output_type": "display_data"
    },
    {
     "name": "stdout",
     "output_type": "stream",
     "text": [
      "truck\n"
     ]
    }
   ],
   "source": [
    "### YOUR CODE HERE - Grab a few examples from trainset and plot them\n",
    "plt.imshow(trainSet[0][0])\n",
    "plt.show()\n",
    "print(classes[trainSet[0][1]])\n",
    "\n",
    "plt.imshow(trainSet[1][0])\n",
    "plt.show()\n",
    "print(classes[trainSet[1][1]])\n",
    "\n",
    "plt.imshow(trainSet[2][0])\n",
    "plt.show()\n",
    "print(classes[trainSet[2][1]])"
   ]
  },
  {
   "cell_type": "markdown",
   "metadata": {},
   "source": [
    "Now try to build and train a plain neural network that properly classifies images in the CIFAR-10 dataset. Try to achieve at least around 40% accuracy (the higher the better!).\n",
    "\n",
    "Take a look at the PyTorch documentation for some help in how to do this.\n",
    "\n",
    "Google is your friend -- Looking things up on the PyTorch docs and on StackOverflow will be helpful."
   ]
  },
  {
   "cell_type": "code",
   "execution_count": 21,
   "metadata": {},
   "outputs": [],
   "source": [
    "class NeuralNet(nn.Module):\n",
    "    \n",
    "    def __init__(self, input_dim, hidden_dim, output_dim):\n",
    "        \n",
    "        super().__init__()\n",
    "        \n",
    "        ### YOUR CODE HERE\n",
    "        self.iLayer = nn.Linear(input_dim, hidden_dim)\n",
    "        self.hLayerA = nn.Linear(hidden_dim, hidden_dim)\n",
    "        self.hLayerB = nn.Linear(hidden_dim, hidden_dim) #extra layer cause I've got a pc that can handle it\n",
    "        self.oLayer = nn.Linear(hidden_dim, output_dim)\n",
    "        \n",
    "    def forward(self, data):\n",
    "        \n",
    "        ### YOUR CODE HERE\n",
    "        output = nn.functional.relu(self.iLayer(data))\n",
    "        output = nn.functional.relu(self.hLayerA(output))\n",
    "        output = nn.functional.relu(self.hLayerB(output))\n",
    "        output = self.oLayer(output)\n",
    "        \n",
    "        return nn.functional.log_softmax(output, dim=0)"
   ]
  },
  {
   "cell_type": "code",
   "execution_count": 23,
   "metadata": {
    "scrolled": true
   },
   "outputs": [
    {
     "name": "stdout",
     "output_type": "stream",
     "text": [
      "NeuralNet(\n",
      "  (iLayer): Linear(in_features=3072, out_features=200, bias=True)\n",
      "  (hLayerA): Linear(in_features=200, out_features=200, bias=True)\n",
      "  (hLayerB): Linear(in_features=200, out_features=200, bias=True)\n",
      "  (oLayer): Linear(in_features=200, out_features=10, bias=True)\n",
      ")\n",
      "(epoch, train_loss, val_acc) = (0, 3.0225264958975333, 40.08)\n",
      "(epoch, train_loss, val_acc) = (1, 2.84909916137627, 42.120000000000005)\n",
      "(epoch, train_loss, val_acc) = (2, 2.7761987687987695, 43.76)\n",
      "(epoch, train_loss, val_acc) = (3, 2.717913282199769, 45.660000000000004)\n",
      "(epoch, train_loss, val_acc) = (4, 2.6820796855504287, 44.62)\n",
      "(epoch, train_loss, val_acc) = (5, 2.642695255029377, 45.48)\n",
      "(epoch, train_loss, val_acc) = (6, 2.618230707128309, 47.74)\n",
      "(epoch, train_loss, val_acc) = (7, 2.589003517775679, 48.44)\n",
      "(epoch, train_loss, val_acc) = (8, 2.571004296294863, 48.4)\n",
      "(epoch, train_loss, val_acc) = (9, 2.5493140155050287, 48.64)\n",
      "(epoch, train_loss, val_acc) = (10, 2.5291830897712586, 47.760000000000005)\n",
      "(epoch, train_loss, val_acc) = (11, 2.5093523094612897, 50.28)\n",
      "(epoch, train_loss, val_acc) = (12, 2.4924754927879866, 49.5)\n",
      "(epoch, train_loss, val_acc) = (13, 2.477468822144272, 50.28)\n",
      "(epoch, train_loss, val_acc) = (14, 2.459554296613731, 49.6)\n",
      "(epoch, train_loss, val_acc) = (15, 2.4472671498568945, 49.62)\n",
      "(epoch, train_loss, val_acc) = (16, 2.4277070602086286, 50.4)\n",
      "(epoch, train_loss, val_acc) = (17, 2.4208999158324755, 50.63999999999999)\n",
      "(epoch, train_loss, val_acc) = (18, 2.4045337949589287, 50.5)\n",
      "(epoch, train_loss, val_acc) = (19, 2.3918906189429783, 50.4)\n",
      "(epoch, train_loss, val_acc) = (20, 2.3814753817200125, 49.120000000000005)\n",
      "(epoch, train_loss, val_acc) = (21, 2.3666892208812027, 50.42)\n",
      "(epoch, train_loss, val_acc) = (22, 2.359203923229064, 50.42)\n",
      "(epoch, train_loss, val_acc) = (23, 2.353968586589157, 49.54)\n",
      "(epoch, train_loss, val_acc) = (24, 2.3350061822685, 49.14)\n"
     ]
    }
   ],
   "source": [
    "EPOCHS = 25\n",
    "LEARNING_RATE = 0.01\n",
    "INPUT_SIZE = 3072\n",
    "HIDDEN_SIZE = 200\n",
    "\n",
    "OUTPUT_SIZE = 10\n",
    "\n",
    "net = NeuralNet(INPUT_SIZE, HIDDEN_SIZE, OUTPUT_SIZE)\n",
    "\n",
    "### Define an optimizer and a loss function here. We pass our network parameters to our optimizer here so we know\n",
    "### which values to update by how much.\n",
    "optimizer = torch.optim.SGD(net.parameters(), lr=LEARNING_RATE, momentum=0.9)\n",
    "loss_fn = nn.NLLLoss()\n",
    "\n",
    "print(net)\n",
    "\n",
    "#train\n",
    "for epoch in range(EPOCHS):\n",
    "    \n",
    "    total_loss = 0\n",
    "    \n",
    "    for images, labels in trainloader :\n",
    "        ### YOUR CODE HERE - Zero gradients, call .backward(), and step the optimizer.\n",
    "        #predict\n",
    "        preds = net(images)\n",
    "        \n",
    "        #determine loss\n",
    "        loss = loss_fn(preds, labels)\n",
    "        total_loss += loss.item()\n",
    "        \n",
    "        #improve\n",
    "        optimizer.zero_grad()\n",
    "        loss.backward()\n",
    "        optimizer.step()\n",
    "        \n",
    "    average_loss = total_loss / len(trainloader)\n",
    "\n",
    "    ### Calculate validation accuracy here by iterating through the validation set.\n",
    "    ### We use torch.no_grad() here because we don't want to accumulate gradients in our function.\n",
    "    \n",
    "    with torch.no_grad():\n",
    "        \n",
    "        correct = 0\n",
    "        \n",
    "        for images, labels in valloader:\n",
    "            preds = net(images)\n",
    "            \n",
    "            pred = preds.data.max(1)[1]  #get the index of the most likely class\n",
    "            correct += pred.eq(labels.data).sum() #count if correct\n",
    "            \n",
    "        #how accurate are we???\n",
    "        val_acc = float(correct) / len(valloader.dataset) * 100\n",
    "\n",
    "        print(\"(epoch, train_loss, val_acc) = ({0}, {1}, {2})\".format(epoch, average_loss, val_acc))\n"
   ]
  },
  {
   "cell_type": "code",
   "execution_count": 24,
   "metadata": {},
   "outputs": [
    {
     "name": "stdout",
     "output_type": "stream",
     "text": [
      "Test accuracy: 50.0\n"
     ]
    }
   ],
   "source": [
    "### YOUR CODE HERE - Here, we test the overall accuracy of our model.\n",
    "with torch.no_grad():\n",
    "    \n",
    "    correct = 0\n",
    "    \n",
    "    for images, labels in testloader:\n",
    "        preds = net(images)\n",
    "\n",
    "        pred = preds.data.max(1)[1]  #get the index of the most likely class\n",
    "        correct += pred.eq(labels.data).sum() #count if correct\n",
    "\n",
    "    #how accurate are we\n",
    "    test_acc = float(correct) / len(testloader.dataset) * 100\n",
    "    \n",
    "    print(\"Test accuracy:\", test_acc)"
   ]
  },
  {
   "cell_type": "markdown",
   "metadata": {},
   "source": [
    "## Submission\n",
    "For submiting, please download this notebook as a `.py` file. To do so, click on `File -> Download as -> Python (.py)`. Put the downloaded `assignment3.py` into this folder and commit the file."
   ]
  },
  {
   "cell_type": "markdown",
   "metadata": {},
   "source": [
    "## Additional Resources\n",
    "If you're interested in using PyTorch as a framework for deep learning (especially for your final projects! We highly recommend you use this!), check out the PyTorch tutorials: https://pytorch.org/tutorials/. They have tutorials for everything from image to text to reinforcement learning tasks."
   ]
  }
 ],
 "metadata": {
  "kernelspec": {
   "display_name": "Python (MAIS-202)",
   "language": "python",
   "name": ".mais-env"
  },
  "language_info": {
   "codemirror_mode": {
    "name": "ipython",
    "version": 3
   },
   "file_extension": ".py",
   "mimetype": "text/x-python",
   "name": "python",
   "nbconvert_exporter": "python",
   "pygments_lexer": "ipython3",
   "version": "3.7.1"
  }
 },
 "nbformat": 4,
 "nbformat_minor": 2
}
