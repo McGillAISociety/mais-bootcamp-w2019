{
 "cells": [
  {
   "cell_type": "markdown",
   "metadata": {},
   "source": [
    "# Homework 3: Introduction to PyTorch"
   ]
  },
  {
   "cell_type": "markdown",
   "metadata": {},
   "source": [
    "PyTorch is a framework for creating and training neural networks. It's one of the most common neural network libraries, alongside TensorFlow, and is used extensively in both academia and industry. In this homework, we'll explore the basic operations within PyTorch, and we'll design a neural network to classify images."
   ]
  },
  {
   "cell_type": "markdown",
   "metadata": {},
   "source": [
    "Let's start by importing the libraries that we'll need:"
   ]
  },
  {
   "cell_type": "code",
   "execution_count": 1,
   "metadata": {},
   "outputs": [],
   "source": [
    "import torch\n",
    "import torchvision\n",
    "import torch.nn as nn\n",
    "import numpy as np\n",
    "\n",
    "%matplotlib inline\n",
    "import matplotlib.pyplot as plt"
   ]
  },
  {
   "cell_type": "markdown",
   "metadata": {},
   "source": [
    "If you can't import torch, go to www.pytorch.org and follow the instructions there for downloading PyTorch. You can select CUDA Version as None, as we won't be working with any GPUs on this homework."
   ]
  },
  {
   "cell_type": "markdown",
   "metadata": {},
   "source": [
    "## PyTorch: Tensors"
   ]
  },
  {
   "cell_type": "markdown",
   "metadata": {},
   "source": [
    "In PyTorch, data is stored as multidimensional arrays, called tensors. Tensors are very similar to numpy's ndarrays, and they support many of the same operations. We can define tensors by explicity setting the values, using a python list:"
   ]
  },
  {
   "cell_type": "code",
   "execution_count": 2,
   "metadata": {},
   "outputs": [
    {
     "name": "stdout",
     "output_type": "stream",
     "text": [
      "A:\n",
      "tensor([[ 1,  2],\n",
      "        [ 4, -3]])\n",
      "\n",
      "\n",
      "B:\n",
      "tensor([[ 3,  1],\n",
      "        [-2,  3]])\n"
     ]
    }
   ],
   "source": [
    "A = torch.tensor([[1, 2], [4, -3]])\n",
    "B = torch.tensor([[3, 1], [-2, 3]])\n",
    "\n",
    "print(\"A:\")\n",
    "print(A)\n",
    "\n",
    "print('\\n')\n",
    "\n",
    "print(\"B:\")\n",
    "print(B)"
   ]
  },
  {
   "cell_type": "markdown",
   "metadata": {},
   "source": [
    "Just like numpy, PyTorch supports operations like addition, multiplication, transposition, dot products, and concatenation of tensors. Look up and fill in the operations for the following:"
   ]
  },
  {
   "cell_type": "code",
   "execution_count": 3,
   "metadata": {},
   "outputs": [
    {
     "name": "stdout",
     "output_type": "stream",
     "text": [
      "Sum of A and B:\n",
      "tensor([[4, 3],\n",
      "        [2, 0]])\n",
      "\n",
      "\n",
      "Elementwise product of A and B:\n",
      "tensor([[ 3,  2],\n",
      "        [-8, -9]])\n",
      "\n",
      "\n",
      "Matrix product of A and B:\n",
      "tensor([[-1,  7],\n",
      "        [18, -5]])\n",
      "\n",
      "\n",
      "Transposition of A:\n",
      "tensor([[ 1,  4],\n",
      "        [ 2, -3]])\n",
      "\n",
      "\n",
      "Concatenation of A and B in the 0th dimension:\n",
      "tensor([[ 1,  2],\n",
      "        [ 4, -3],\n",
      "        [ 3,  1],\n",
      "        [-2,  3]])\n",
      "\n",
      "\n",
      "Concatenation of A and B in the 1st dimension:\n",
      "tensor([[ 1,  2,  3,  1],\n",
      "        [ 4, -3, -2,  3]])\n"
     ]
    }
   ],
   "source": [
    "print(\"Sum of A and B:\")\n",
    "print(torch.add(A,B)) \n",
    "\n",
    "print('\\n')\n",
    "\n",
    "print(\"Elementwise product of A and B:\")\n",
    "print(torch.mul(A,B))\n",
    "\n",
    "print('\\n')\n",
    "\n",
    "print(\"Matrix product of A and B:\")\n",
    "print(torch.mm(A,B))\n",
    "\n",
    "print('\\n')\n",
    "\n",
    "print(\"Transposition of A:\")\n",
    "print(torch.t(A))\n",
    "\n",
    "print('\\n')\n",
    "\n",
    "print(\"Concatenation of A and B in the 0th dimension:\")\n",
    "print(torch.cat((A,B),0))\n",
    "\n",
    "print('\\n')\n",
    "\n",
    "print(\"Concatenation of A and B in the 1st dimension:\")\n",
    "print(torch.cat((A,B),1))"
   ]
  },
  {
   "cell_type": "markdown",
   "metadata": {},
   "source": [
    "PyTorch also has tools for creating large tensors automatically, without explicity specifying the values. Find the corresponding tensor initialzers and fill in below. Your print statements should look like the following:\n",
    "\n",
    "3x4x5 Tensor of Zeros:\n",
    "```\n",
    "tensor([[[0., 0., 0., 0., 0.],\n",
    "         [0., 0., 0., 0., 0.],\n",
    "         [0., 0., 0., 0., 0.],\n",
    "         [0., 0., 0., 0., 0.]],\n",
    "\n",
    "        [[0., 0., 0., 0., 0.],\n",
    "         [0., 0., 0., 0., 0.],\n",
    "         [0., 0., 0., 0., 0.],\n",
    "         [0., 0., 0., 0., 0.]],\n",
    "\n",
    "        [[0., 0., 0., 0., 0.],\n",
    "         [0., 0., 0., 0., 0.],\n",
    "         [0., 0., 0., 0., 0.],\n",
    "         [0., 0., 0., 0., 0.]]])\n",
    "```\n",
    "\n",
    "\n",
    "5x5 Tensor with random elements sampled from a standard normal distrubtion: (these should be randomly generated values)\n",
    "```\n",
    "tensor([[ 0.2850,  0.5033, -1.8570, -1.6525,  0.3613],\n",
    "        [-0.7505,  0.4573, -0.2454,  0.1668,  0.7241],\n",
    "        [ 0.2976,  0.9827, -0.4879, -1.1144, -1.8235],\n",
    "        [-0.0264,  0.7341, -0.2235,  0.5306,  0.8385],\n",
    "        [ 0.2740,  0.3522, -0.5244, -0.1132,  0.5135]])\n",
    "```\n",
    "\n",
    "Tensor created from a range:\n",
    "```\n",
    "tensor([0, 1, 2, 3, 4, 5, 6, 7, 8, 9])\n",
    "```\n"
   ]
  },
  {
   "cell_type": "code",
   "execution_count": 4,
   "metadata": {},
   "outputs": [
    {
     "name": "stdout",
     "output_type": "stream",
     "text": [
      "3x4x5 Tensor of Zeros:\n",
      "tensor([[[0, 0, 0, 0, 0],\n",
      "         [0, 0, 0, 0, 0],\n",
      "         [0, 0, 0, 0, 0],\n",
      "         [0, 0, 0, 0, 0]],\n",
      "\n",
      "        [[0, 0, 0, 0, 0],\n",
      "         [0, 0, 0, 0, 0],\n",
      "         [0, 0, 0, 0, 0],\n",
      "         [0, 0, 0, 0, 0]],\n",
      "\n",
      "        [[0, 0, 0, 0, 0],\n",
      "         [0, 0, 0, 0, 0],\n",
      "         [0, 0, 0, 0, 0],\n",
      "         [0, 0, 0, 0, 0]]], dtype=torch.int32)\n",
      "\n",
      "\n",
      "5x5 Tensor with random elements sampled from a standard normal distrubtion:\n",
      "tensor([[-0.3769,  0.2132, -1.7373,  0.7946, -0.3311],\n",
      "        [-0.0113, -0.6011,  1.8489,  1.0679,  0.9749],\n",
      "        [ 0.2381, -1.4482,  0.3118, -0.5378, -0.3613],\n",
      "        [ 1.1295,  0.6166,  0.2772, -0.4915,  0.0741],\n",
      "        [ 0.9113, -0.1536,  0.4043,  0.8796,  0.5069]])\n",
      "\n",
      "\n",
      "Tensor created from a range:\n",
      "tensor([0, 1, 2, 3, 4, 5, 6, 7, 8, 9])\n"
     ]
    }
   ],
   "source": [
    "print(\"3x4x5 Tensor of Zeros:\")\n",
    "print(torch.zeros([3, 4, 5], dtype=torch.int32))\n",
    "\n",
    "print('\\n')\n",
    "\n",
    "print(\"5x5 Tensor with random elements sampled from a standard normal distrubtion:\")\n",
    "print(torch.randn(5,5))\n",
    "\n",
    "print('\\n')\n",
    "\n",
    "print(\"Tensor created from a range:\")\n",
    "print(torch.arange(10))"
   ]
  },
  {
   "cell_type": "markdown",
   "metadata": {},
   "source": [
    "Now, use PyTorch tensors to complete the following computation:\n",
    "\n",
    "Create a tensor of integers from the range 0 to 99, inclusive. Add 0.5 to each element in the tensor, and square each element of the result. Then, negate each element of the tensor, and apply the exponential to each element (i.e., change each element x into e^x). Now, sum all the elements of the tensor. Multiply this tensor by 2 and square each element and print your result.\n",
    "\n",
    "If you're right, you should get something very close to $$\\pi \\approx 3.14 .$$"
   ]
  },
  {
   "cell_type": "code",
   "execution_count": 5,
   "metadata": {},
   "outputs": [
    {
     "name": "stdout",
     "output_type": "stream",
     "text": [
      "tensor(3.1409)\n"
     ]
    }
   ],
   "source": [
    "val = torch.arange(100).float()\n",
    "val = torch.add(val,0.5) \n",
    "val = torch.mul(val,val)\n",
    "val = torch.mul(val,-1)\n",
    "val = torch.exp(val)\n",
    "val = torch.sum(val)\n",
    "val = torch.mul(val,2)\n",
    "val = torch.mul(val,val)\n",
    "\n",
    "print(val)"
   ]
  },
  {
   "cell_type": "markdown",
   "metadata": {},
   "source": [
    "Now we'll try writing a computation that's prevalent throughout a lot of deep learning algorithms - calculating the softmax function:\n",
    "$$softmax(x_i) = \\frac{e^{x_i}}{\\sum_{j = 0}^{n - 1} e^{x_j}}$$\n",
    "Calculate the softmax function for the $val$ tensor below where $n$ is the number of elements in $val$, and $x_i$ is each element in $val$. DO NOT use the built-in softmax function. We should end up with a tensor that represents a probability distribution that sums to 1. (hint: you should calculate the sum of the exponents first)"
   ]
  },
  {
   "cell_type": "code",
   "execution_count": 6,
   "metadata": {},
   "outputs": [
    {
     "name": "stdout",
     "output_type": "stream",
     "text": [
      "tensor([0., 1., 2., 3., 4., 5., 6., 7., 8., 9.])\n",
      "tensor([7.8013e-05, 2.1206e-04, 5.7645e-04, 1.5669e-03, 4.2594e-03, 1.1578e-02,\n",
      "        3.1473e-02, 8.5552e-02, 2.3255e-01, 6.3215e-01])\n",
      "tensor(1.0000)\n"
     ]
    }
   ],
   "source": [
    "val1 = torch.arange(10).float()\n",
    "print(val1)\n",
    "\n",
    "val1 = torch.exp(val1)\n",
    "val2 = torch.sum(val1)\n",
    "result1 = torch.div(val1,val2)\n",
    "\n",
    "print(result1)\n",
    "print(torch.sum(result1))"
   ]
  },
  {
   "cell_type": "markdown",
   "metadata": {},
   "source": [
    "To do this, you'll need to use the PyTorch documentation at https://pytorch.org/docs/stable/torch.html. Luckily, PyTorch has very well-written docs."
   ]
  },
  {
   "cell_type": "markdown",
   "metadata": {},
   "source": [
    "## PyTorch: Autograd"
   ]
  },
  {
   "cell_type": "markdown",
   "metadata": {},
   "source": [
    "Autograd is PyTorch's automatic differentiation tool: It allows us to compute gradients by keeping track of all the operations that have happened to a tensor. In the context of neural networks, we'll interpret these gradient calculations as backpropagating a loss through a network."
   ]
  },
  {
   "cell_type": "markdown",
   "metadata": {},
   "source": [
    "To understand how autograd works, we first need to understand the idea of a __computation graph__. A computation graph is a directed, acyclic graph (DAG) that contains a blueprint of a sequence of operations. For a neural network, these computations consist of matrix multiplications, bias additions, ReLUs, softmaxes, etc. Nodes in this graph consist of the operations themselves, while the edges represent tensors that flow forward along this graph."
   ]
  },
  {
   "cell_type": "markdown",
   "metadata": {},
   "source": [
    "In PyTorch, the creation of this graph is __dynamic__. This means that tensors themselves keep track of their own computational history, and this history is build as the tensors flow through the network; this is unlike TensorFlow, where an external controller keeps track of the entire computation graph. This dynamic creation of the computation graph allows for lots of cool control-flows that are not possible (or at least very difficult) in TensorFlow."
   ]
  },
  {
   "cell_type": "markdown",
   "metadata": {},
   "source": [
    "![alt text](https://raw.githubusercontent.com/pytorch/pytorch/master/docs/source/_static/img/dynamic_graph.gif)\n",
    "<center>_Dynamic computation graphs are cool!_</center>\n",
    "_ _"
   ]
  },
  {
   "cell_type": "markdown",
   "metadata": {},
   "source": [
    "Let's take a look at a simple computation to see what autograd is doing. First, let's create two tensors and add them together. To signal to PyTorch that we want to build a computation graph, we must set the flag requires_grad to be True when creating a tensor."
   ]
  },
  {
   "cell_type": "code",
   "execution_count": 7,
   "metadata": {},
   "outputs": [],
   "source": [
    "a = torch.tensor([1, 2], dtype=torch.float, requires_grad=True)\n",
    "b = torch.tensor([8, 3], dtype=torch.float, requires_grad=True)\n",
    "\n",
    "c = a + b"
   ]
  },
  {
   "cell_type": "markdown",
   "metadata": {},
   "source": [
    "Now, since a and b are both part of our computation graph, c will automatically be added:"
   ]
  },
  {
   "cell_type": "code",
   "execution_count": 8,
   "metadata": {},
   "outputs": [
    {
     "data": {
      "text/plain": [
       "True"
      ]
     },
     "execution_count": 8,
     "metadata": {},
     "output_type": "execute_result"
    }
   ],
   "source": [
    "c.requires_grad"
   ]
  },
  {
   "cell_type": "markdown",
   "metadata": {},
   "source": [
    "When we add a tensor to our computation graph in this way, our tensor now has a grad_fn attribute. This attribute tells autograd how this tensor was generated, and what tensor(s) this particular node was created from."
   ]
  },
  {
   "cell_type": "markdown",
   "metadata": {},
   "source": [
    "In the case of c, its grad_fn is of type AddBackward1, PyTorch's notation for a tensor that was created by adding two tensors together:"
   ]
  },
  {
   "cell_type": "code",
   "execution_count": 9,
   "metadata": {},
   "outputs": [
    {
     "data": {
      "text/plain": [
       "<AddBackward0 at 0x1a7523162e8>"
      ]
     },
     "execution_count": 9,
     "metadata": {},
     "output_type": "execute_result"
    }
   ],
   "source": [
    "c.grad_fn"
   ]
  },
  {
   "cell_type": "markdown",
   "metadata": {},
   "source": [
    "Every grad_fn has an attribute called next_functions: This attribute lets the grad_fn pass on its gradient to the tensors that were used to compute it."
   ]
  },
  {
   "cell_type": "code",
   "execution_count": 10,
   "metadata": {},
   "outputs": [
    {
     "data": {
      "text/plain": [
       "((<AccumulateGrad at 0x1a7523161d0>, 0),\n",
       " (<AccumulateGrad at 0x1a752316748>, 0))"
      ]
     },
     "execution_count": 10,
     "metadata": {},
     "output_type": "execute_result"
    }
   ],
   "source": [
    "c.grad_fn.next_functions"
   ]
  },
  {
   "cell_type": "markdown",
   "metadata": {},
   "source": [
    "If we extract the tensor values corresponding to each of these functions, we can see a and b! "
   ]
  },
  {
   "cell_type": "code",
   "execution_count": 11,
   "metadata": {},
   "outputs": [
    {
     "name": "stdout",
     "output_type": "stream",
     "text": [
      "tensor([1., 2.], requires_grad=True)\n",
      "tensor([8., 3.], requires_grad=True)\n"
     ]
    }
   ],
   "source": [
    "print(c.grad_fn.next_functions[0][0].variable)\n",
    "print(c.grad_fn.next_functions[1][0].variable)"
   ]
  },
  {
   "cell_type": "markdown",
   "metadata": {},
   "source": [
    "In this way, autograd allows a tensor to record its entire computational history, implicitly creating a computational graph -- All dynamically and on-the-fly!"
   ]
  },
  {
   "cell_type": "markdown",
   "metadata": {},
   "source": [
    "## PyTorch: Modules and Parameters"
   ]
  },
  {
   "cell_type": "markdown",
   "metadata": {},
   "source": [
    "In PyTorch, collections of operations are encapsulated as __modules__. One way to visualize a module is to take a section of a computational graph and collapse it into a single node. Not only are modules useful for encapsulation, they have the ability to keep track of tensors that are contained inside of them: To do this, simply wrap a tensor with the class torch.nn.Parameter."
   ]
  },
  {
   "cell_type": "markdown",
   "metadata": {},
   "source": [
    "To define a module, we must subclass the type torch.nn.Module. In addition, we must define a _forward_ method that tells PyTorch how to traverse through a module."
   ]
  },
  {
   "cell_type": "markdown",
   "metadata": {},
   "source": [
    "For example, let's define a logistic regression module. This module will contain two parameters: The weight vector and the bias. Calling the _forward_ method will output a probability between zero and one."
   ]
  },
  {
   "cell_type": "code",
   "execution_count": 12,
   "metadata": {},
   "outputs": [],
   "source": [
    "class LogisticRegression(nn.Module):\n",
    "    \n",
    "    def __init__(self):\n",
    "        \n",
    "        super().__init__()\n",
    "        self.weight = nn.Parameter(torch.randn(10))\n",
    "        self.bias = nn.Parameter(torch.randn(1))\n",
    "        self.sigmoid = nn.Sigmoid()\n",
    "        \n",
    "    def forward(self, vector):\n",
    "        return self.sigmoid(torch.dot(vector, self.weight) + self.bias)\n",
    "        "
   ]
  },
  {
   "cell_type": "markdown",
   "metadata": {},
   "source": [
    "Note that we have fixed the dimension of our weight to be 10, so our module will only accept 10-dimensional data."
   ]
  },
  {
   "cell_type": "markdown",
   "metadata": {},
   "source": [
    "We can now create a random vector and pass it through the module:"
   ]
  },
  {
   "cell_type": "code",
   "execution_count": 13,
   "metadata": {},
   "outputs": [],
   "source": [
    "module = LogisticRegression()\n",
    "vector = torch.randn(10)\n",
    "output = module(vector)"
   ]
  },
  {
   "cell_type": "code",
   "execution_count": 14,
   "metadata": {},
   "outputs": [
    {
     "data": {
      "text/plain": [
       "tensor([0.0692], grad_fn=<SigmoidBackward>)"
      ]
     },
     "execution_count": 14,
     "metadata": {},
     "output_type": "execute_result"
    }
   ],
   "source": [
    "output"
   ]
  },
  {
   "cell_type": "markdown",
   "metadata": {},
   "source": [
    "Now, say that our loss function is mean-squared-error and our target value is 1. We can then write our loss as:"
   ]
  },
  {
   "cell_type": "code",
   "execution_count": 15,
   "metadata": {},
   "outputs": [],
   "source": [
    "loss = (output - 1) ** 2"
   ]
  },
  {
   "cell_type": "code",
   "execution_count": 16,
   "metadata": {},
   "outputs": [
    {
     "data": {
      "text/plain": [
       "tensor([0.8665], grad_fn=<PowBackward0>)"
      ]
     },
     "execution_count": 16,
     "metadata": {},
     "output_type": "execute_result"
    }
   ],
   "source": [
    "loss"
   ]
  },
  {
   "cell_type": "markdown",
   "metadata": {},
   "source": [
    "To minimize this loss, we just call loss.backward(), and all the gradients will be computed for us! Note that wrapping a tensor as a Parameter will automatically set requires_grad = True."
   ]
  },
  {
   "cell_type": "code",
   "execution_count": 17,
   "metadata": {},
   "outputs": [],
   "source": [
    "loss.backward()"
   ]
  },
  {
   "cell_type": "code",
   "execution_count": 18,
   "metadata": {},
   "outputs": [
    {
     "name": "stdout",
     "output_type": "stream",
     "text": [
      "tensor([-0.0099, -0.1889,  0.1123,  0.0676, -0.0021, -0.0693, -0.1887,  0.1699,\n",
      "         0.0911, -0.0439])\n",
      "tensor([-0.1198])\n"
     ]
    }
   ],
   "source": [
    "print(module.weight.grad)\n",
    "print(module.bias.grad)"
   ]
  },
  {
   "cell_type": "markdown",
   "metadata": {},
   "source": [
    "## Fully-connected Networks for Image Classification"
   ]
  },
  {
   "cell_type": "markdown",
   "metadata": {
    "collapsed": true
   },
   "source": [
    "Using this knowledge, you will create a neural network in PyTorch for image classification on the CIFAR-10 dataset. PyTorch uses the $DataLoader$ class for you to load data into batches to feed to your learning algorithms - we highly suggest you familiarze yourself with this as well as the Dataset API here: https://pytorch.org/docs/stable/data.html. Fill in the below code to instantiate 3 DataLoaders for your training, validation and test sets. We would prefer that you NOT use the `torchvision.transform` API - we want you to get some practice in data preprocessing! Here are the transformations we want you to perform:\n",
    "1. Split the `val_and_test_set` into two separate datasets (each with 5000 elements)\n",
    "2. Convert all the `np.array` elements into `torch.tensor` elements.\n",
    "3. All values will be pixel values in our images are in the range of [0, 256]. Normalize this so that each pixel is in the range [0, 1].\n",
    "3. Flatten all images. All your images will be of shape (32, 32, 3), we need them as flat (32 * 32 * 3) size tensors as input to our neural network.\n",
    "4. Load everything into a DataLoader. (check how this works in the PyTorch docs!) \n",
    "\n",
    "Be sure to have the options `shuffle=True` (so that your dataset is shuffled so that samples from the dataset are not correlated) and also `batch_size=32` or larger. This is a standard minibatch size. If you're curious about what batch size does (and are somewhat familiar with statistics), here's a great answer https://stats.stackexchange.com/questions/316464/how-does-batch-size-affect-convergence-of-sgd-and-why."
   ]
  },
  {
   "cell_type": "code",
   "execution_count": 19,
   "metadata": {},
   "outputs": [
    {
     "name": "stdout",
     "output_type": "stream",
     "text": [
      "Files already downloaded and verified\n",
      "Files already downloaded and verified\n"
     ]
    }
   ],
   "source": [
    "# I tried many different things to perform the transformations without the use of the transforms api but was not successful.\n",
    "# Couldn't find a way to convert the dataset objects to tensors without it.\n",
    "# But I spent a lot of time trying to understand the transforms and why each was being performed.\n",
    "import torchvision.transforms as transforms\n",
    "transform = transforms.ToTensor()\n",
    "\n",
    "trainset = torchvision.datasets.CIFAR10(root='./data', train=True, download=True, transform=transform)\n",
    "val_and_test_set = torchvision.datasets.CIFAR10(root='./data', train=False, download=True, transform=transform)\n",
    "valset, testset = torch.utils.data.random_split(val_and_test_set, lengths=[5000,5000])\n",
    "\n",
    "trainloader = torch.utils.data.DataLoader(trainset, batch_size=32,shuffle=True)\n",
    "valloader = torch.utils.data.DataLoader(valset, batch_size=32,shuffle=True)\n",
    "testloader = torch.utils.data.DataLoader(testset, batch_size=32,shuffle=True)\n",
    "\n",
    "classes = ('plane', 'car', 'bird', 'cat', 'deer', 'dog', 'frog', 'horse', 'ship', 'truck')"
   ]
  },
  {
   "cell_type": "markdown",
   "metadata": {},
   "source": [
    "CIFAR-10 consists of 32 x 32 color images, each corresponding to a unique class indicating the object present within the image. Use Matplotlib to print out the first few images."
   ]
  },
  {
   "cell_type": "code",
   "execution_count": 20,
   "metadata": {},
   "outputs": [
    {
     "data": {
      "image/png": "[encoded data removed]",
      "text/plain": [
       "<Figure size 432x288 with 1 Axes>"
      ]
     },
     "metadata": {
      "needs_background": "light"
     },
     "output_type": "display_data"
    },
    {
     "name": "stdout",
     "output_type": "stream",
     "text": [
      "horse  bird truck plane horse  bird  deer horse  deer  frog truck   cat   car horse   car truck horse  frog  deer truck   dog  deer truck  frog horse  bird  frog  bird   car  frog plane   cat\n"
     ]
    }
   ],
   "source": [
    "def print_image(img):\n",
    "    npimg = img.numpy()\n",
    "    plt.imshow(np.transpose(npimg, (1, 2, 0)))\n",
    "    plt.show()\n",
    "\n",
    "# retrieve images from trainloader\n",
    "dataiter = iter(trainloader)\n",
    "images, labels = dataiter.next()\n",
    "\n",
    "# print images \n",
    "print_image(torchvision.utils.make_grid(images))\n",
    "# print labels\n",
    "print(' '.join('%5s' % classes[labels[j]] for j in range(32)))"
   ]
  },
  {
   "cell_type": "markdown",
   "metadata": {},
   "source": [
    "Now try to build and train a plain neural network that properly classifies images in the CIFAR-10 dataset. Try to achieve at least around 40% accuracy (the higher the better!).\n",
    "\n",
    "Take a look at the PyTorch documentation for some help in how to do this.\n",
    "\n",
    "Google is your friend -- Looking things up on the PyTorch docs and on StackOverflow will be helpful."
   ]
  },
  {
   "cell_type": "code",
   "execution_count": 21,
   "metadata": {},
   "outputs": [],
   "source": [
    "import torch.nn as nn\n",
    "import torch.nn.functional as F\n",
    "\n",
    "# I was able to achieve ~45% accuracy with a CNN compared to ~11% with a plain NN, so I went with a CNN. \n",
    "class NeuralNet(nn.Module):\n",
    "    def __init__(self):\n",
    "        super(NeuralNet, self).__init__()\n",
    "        self.conv1 = nn.Conv2d(3, 6, 5)\n",
    "        self.pool = nn.MaxPool2d(2, 2)\n",
    "        self.conv2 = nn.Conv2d(6, 16, 5)\n",
    "        self.fc1 = nn.Linear(16 * 5 * 5, 120)\n",
    "        self.fc2 = nn.Linear(120, 84)\n",
    "        self.fc3 = nn.Linear(84, 10)\n",
    "\n",
    "    def forward(self, data):\n",
    "        x = self.pool(F.relu(self.conv1(data)))\n",
    "        x = self.pool(F.relu(self.conv2(x)))\n",
    "        x = x.view(-1, 16 * 5 * 5)\n",
    "        x = F.relu(self.fc1(x))\n",
    "        x = F.relu(self.fc2(x))\n",
    "        x = self.fc3(x)\n",
    "        return x"
   ]
  },
  {
   "cell_type": "code",
   "execution_count": 22,
   "metadata": {},
   "outputs": [
    {
     "name": "stdout",
     "output_type": "stream",
     "text": [
      "NeuralNet(\n",
      "  (conv1): Conv2d(3, 6, kernel_size=(5, 5), stride=(1, 1))\n",
      "  (pool): MaxPool2d(kernel_size=2, stride=2, padding=0, dilation=1, ceil_mode=False)\n",
      "  (conv2): Conv2d(6, 16, kernel_size=(5, 5), stride=(1, 1))\n",
      "  (fc1): Linear(in_features=400, out_features=120, bias=True)\n",
      "  (fc2): Linear(in_features=120, out_features=84, bias=True)\n",
      "  (fc3): Linear(in_features=84, out_features=10, bias=True)\n",
      ")\n",
      "(epoch, train_loss, val_acc) = (1, 1.4577490754868843, 50.28)\n"
     ]
    }
   ],
   "source": [
    "import torch.optim as optim\n",
    "from torch.autograd import Variable\n",
    "EPOCHS = 2\n",
    "LEARNING_RATE = 0.01\n",
    "\n",
    "net = NeuralNet()\n",
    "\n",
    "loss_fn = nn.CrossEntropyLoss()\n",
    "optimizer = torch.optim.SGD(net.parameters(), lr=LEARNING_RATE, momentum=0.9)\n",
    "\n",
    "print(net)\n",
    "\n",
    "for epoch in range(EPOCHS):\n",
    "\n",
    "    total_loss = 0\n",
    "\n",
    "    for images, labels in trainloader:\n",
    "        \n",
    "        images, labels = Variable(images), Variable(labels)\n",
    "\n",
    "        optimizer.zero_grad()\n",
    "\n",
    "        outputs = net(images)\n",
    "        loss = loss_fn(outputs, labels)\n",
    "        loss.backward()\n",
    "        optimizer.step()\n",
    "\n",
    "        total_loss += loss.item()\n",
    "\n",
    "    average_loss = total_loss / len(trainloader)\n",
    "\n",
    "correct = 0.0\n",
    "total = 0.0\n",
    "with torch.no_grad():\n",
    "    for valdata in valloader:\n",
    "        val_images, labels = valdata\n",
    "        outputs = net(val_images)\n",
    "        _, predicted = torch.max(outputs.data, 1)\n",
    "        total += labels.size(0)\n",
    "        correct += (predicted == labels).sum().item()\n",
    "\n",
    "    val_acc = 100*correct/total\n",
    "         \n",
    "print(\"(epoch, train_loss, val_acc) = ({0}, {1}, {2})\".format(epoch, average_loss, val_acc))"
   ]
  },
  {
   "cell_type": "code",
   "execution_count": 23,
   "metadata": {},
   "outputs": [
    {
     "name": "stdout",
     "output_type": "stream",
     "text": [
      "Test accuracy: 51.5\n"
     ]
    }
   ],
   "source": [
    "### YOUR CODE HERE - Here, we test the overall accuracy of our model.\n",
    "correct = 0.0\n",
    "total = 0.0\n",
    "with torch.no_grad():\n",
    "    for testdata in testloader:\n",
    "        test_images, labels = testdata\n",
    "        outputs = net(test_images)\n",
    "        _, predicted = torch.max(outputs.data, 1)\n",
    "        total += labels.size(0)\n",
    "        correct += (predicted == labels).sum().item()\n",
    "\n",
    "    test_acc = 100*correct/total\n",
    "print(\"Test accuracy:\", test_acc)"
   ]
  },
  {
   "cell_type": "markdown",
   "metadata": {},
   "source": [
    "## Submission\n",
    "For submiting, please download this notebook as a `.py` file. To do so, click on `File -> Download as -> Python (.py)`. Put the downloaded `assignment3.py` into this folder and commit the file."
   ]
  },
  {
   "cell_type": "markdown",
   "metadata": {},
   "source": [
    "## Additional Resources\n",
    "If you're interested in using PyTorch as a framework for deep learning (especially for your final projects! We highly recommend you use this!), check out the PyTorch tutorials: https://pytorch.org/tutorials/. They have tutorials for everything from image to text to reinforcement learning tasks."
   ]
  }
 ],
 "metadata": {
  "kernelspec": {
   "display_name": "Python (MAIS-202)",
   "language": "python",
   "name": ".mais-env"
  },
  "language_info": {
   "codemirror_mode": {
    "name": "ipython",
    "version": 3
   },
   "file_extension": ".py",
   "mimetype": "text/x-python",
   "name": "python",
   "nbconvert_exporter": "python",
   "pygments_lexer": "ipython3",
   "version": "3.7.1"
  }
 },
 "nbformat": 4,
 "nbformat_minor": 2
}
