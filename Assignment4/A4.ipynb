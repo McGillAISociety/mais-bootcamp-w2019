{
 "cells": [
  {
   "cell_type": "markdown",
   "metadata": {},
   "source": [
    "# Assignment 4: Mid Point Review"
   ]
  },
  {
   "cell_type": "markdown",
   "metadata": {},
   "source": [
    "Congratulations, you have reached the midpoint of the course! The rest of the course will be focused on more advanced state of the art machine learning techniques. However, before we dive into that, this assignment will be focused on ensuring you understand all the core concepts that have been covered so far. Keep in mind, these are questions that can be asked during machine learning internship interviews, so do make sure you understand them if you want to dive into this industry!"
   ]
  },
  {
   "cell_type": "markdown",
   "metadata": {},
   "source": [
    "### 1) Linear vs Polynomial Regression\n",
    "- Describe both Linear Regression and Polynomial Regression (3 lines or less each).\n",
    "\n",
    "- Describe overfitting vs underfitting with respect to parameters.  \n"
   ]
  },
  {
   "cell_type": "markdown",
   "metadata": {
    "collapsed": true
   },
   "source": [
    "## YOUR ANSWER HERE - YOUR MAY USE MARKDOWN, LATEX, CODE, DIAGRAMS, ETC\n",
    "\n",
    "1. Linear regression: A linear approach to model the relationship between one (simple linear regression) or more (multiple linear regression) independent variables and a dependent variable. \n",
    "\n",
    "2. Polynomial regression: The dependent variable is modelled as a polynomial of the independent variable. This model could then fit a nonlinear relationship but is still considered linear if  we consider the powers as new features. \n",
    "\n",
    "3. underfitting: A low dimensional polynomial is not powerful enough to fit more complex models\n",
    "\n",
    "4. overfitting: Using a polynomial with unnecessarily high dimensions to fit model; that is, the model learn from the noise of the training set and therefore fails to generalize.\n"
   ]
  },
  {
   "cell_type": "markdown",
   "metadata": {
    "collapsed": true
   },
   "source": [
    "### 2) Logistic Regression vs. Linear SVM\n",
    "- Describe how logistic regression works (3 lines or less)\n",
    "- Describe how linear SVM works. Mention the role(s) of:\n",
    "    - support vectors\n",
    "    - margin\n",
    "    - slack variables\n",
    "    - kernels\n",
    "- Plot an example for SVM where the linear kernel is not enough to separate the data, but another kernel works"
   ]
  },
  {
   "cell_type": "markdown",
   "metadata": {
    "collapsed": true
   },
   "source": [
    "## YOUR ANSWER HERE - YOUR MAY USE MARKDOWN, LATEX, CODE, DIAGRAMS, ETC\n",
    "\n",
    "1. Logistic regression: It is used particularly when the dependent variable is binary. \n",
    "   y = e^(b0 + b1*x) / (1 + e^(b0 + b1*x))\n",
    "   \n",
    "2. Firstly, we plot each data item as a point in n-dimensional space (where n is number of features) with the value of each feature being the value of a particular coordinate (support vectors). Then, we perform classification by finding the hyper-plane that differentiate the two classes very well; that is, \n",
    "    (i) Select the hyper-plane which segregates the two classes better\n",
    "    (ii) Select the hyper-plane with higher margin\n",
    "    (iii) SVM selects the hyper-plane which classifies the classes accurately prior maximizing margin\n",
    "    (iv) SVM ignore outliers and find the hyper-plane that has maximum margin\n",
    "    (v) non separable case: kernels. These are functions which transform low dimensional input space to a higher dimensional space, and thus convert not separable problem to separable problem. Slack variables are used to allow acceptable errors to avoid overfitting.\n",
    "    \n",
    "3.https://en.wikipedia.org/wiki/Support-vector_machine#/media/File:Kernel_Machine.svg"
   ]
  },
  {
   "cell_type": "markdown",
   "metadata": {},
   "source": [
    "### 3) Linear SVM vs k-NN\n",
    "- K-Nearest Neighbours is a popular unsupervised learning algorithm. Explain the difference between supervised and unsupervised learning?\n",
    "- K-NN is an example of a lazy learning algorithm. Why is it called so. What could be a use case? Justify using a lazy learning algorithm in that case.\n",
    "- Outline the main steps for the KNN algorithm. Use text, code, plots, diagrams, etc as necessary.  \n",
    "- Plot a example dataset which works in an SVM classification and not k-NN classification. Repeat for the reverse scenario."
   ]
  },
  {
   "cell_type": "markdown",
   "metadata": {
    "collapsed": true
   },
   "source": [
    "## YOUR ANSWER HERE - YOUR MAY USE MARKDOWN, LATEX, CODE, DIAGRAMS, ETC\n",
    "\n",
    "1. Supervised learning is where you have input variables and an output variable, and you use an algorithm to learn the mapping function from the input to the output. Supervised learning problems can be grouped into regression and classification.\n",
    "    Unsupervised learning is where you only have input data and NO corresponding output variables. The goal for unsupervised learning is to model the underlying structure or distribution in the data in order to learn more about the data.\n",
    "\n",
    "2. K-NN is a lazy learner because it doesn’t learn a discriminative function from the training data but “memorizes” the training dataset, and therefore it does't have training phase. KNN Algorithm is based on feature similarity: How closely out-of-sample features resemble our training set determines how we classify a given data point. e.g majority vote classification\n",
    "\n",
    "3.  (i) A positive integer k is specified, along with a new sample\n",
    "    (ii) We select the k entries in our database which are closest to the new sample\n",
    "    (iii) We find the most common classification of these entries\n",
    "    (iv) This is the classification we give to the new sample\n"
   ]
  },
  {
   "cell_type": "markdown",
   "metadata": {},
   "source": [
    "### 4) K-NN Implementation\n",
    "- Implement the K-NN algorithm by hand (ie. Don't use the sklearn implementation)."
   ]
  },
  {
   "cell_type": "code",
   "execution_count": 1,
   "metadata": {},
   "outputs": [
    {
     "name": "stdout",
     "output_type": "stream",
     "text": [
      "Accuracy: 96.0\n"
     ]
    }
   ],
   "source": [
    "# Implement kNN by hand. It might be useful to store all distances in one array/list\n",
    "\n",
    "import pandas as pd\n",
    "import numpy as np\n",
    "import operator\n",
    "from sklearn.datasets import load_iris\n",
    "\n",
    "# loading dataset\n",
    "iris = load_iris()\n",
    "iris_df = pd.DataFrame(data= np.c_[iris['data'], iris['target']],\n",
    "                     columns= iris['feature_names'] + ['target'])\n",
    "\n",
    "# Preview dataset\n",
    "#print(iris_df.head())\n",
    "\n",
    "## YOUR CODE HERE\n",
    "\n",
    "df = iris_df.sample(frac=1).reset_index(drop=True)\n",
    "train=df.iloc[:100]\n",
    "test=df.iloc[100:]\n",
    "trainx = train.drop(columns = \"target\")\n",
    "trainy = train.target\n",
    "testx=test.drop(columns=\"target\")\n",
    "testy=test.target\n",
    "\n",
    "# step 1: \n",
    "import math\n",
    "def euclideanDistance(data1, data2, length):\n",
    "    distance = 0\n",
    "    for x in range(length):\n",
    "        distance += np.square(data1[x] - data2[x])\n",
    "    return np.sqrt(distance)\n",
    "\n",
    "# step 2:\n",
    "def knn(trainingSet, testInstance, k):\n",
    "    distances = {}\n",
    "    sort = {}\n",
    "    length = testInstance.shape[0]\n",
    "    \n",
    "# step 3:\n",
    "    for x in range(len(trainingSet)): #range 0-99\n",
    "        dist = euclideanDistance(testInstance, trainingSet.iloc[x], length) #return a distance\n",
    "        #print(dist)\n",
    "        distances[x] = dist \n",
    "    sorted_d = sorted(distances.items(), key=operator.itemgetter(1))\n",
    "    neighbors = []\n",
    "    for x in range(k):\n",
    "        neighbors.append(sorted_d[x][0])\n",
    "    classVotes = {}\n",
    "    for x in range(len(neighbors)):\n",
    "        response = trainingSet.iloc[neighbors[x]][-1]\n",
    "        if response in classVotes:\n",
    "            classVotes[response] += 1\n",
    "        else:\n",
    "            classVotes[response] = 1\n",
    "    sortedVotes = sorted(classVotes.items(), key=operator.itemgetter(1), reverse=True)\n",
    "    return sortedVotes[0][0]\n",
    "\n",
    "# ...\n",
    "\n",
    "def accuracy(target, predict):\n",
    "    return (sum(target == predict) / float(target.size))*100\n",
    "\n",
    "predictions=[]\n",
    "k = 3\n",
    "for x in range(len(testx)):\n",
    "    result = knn(train,testx.iloc[x], k)\n",
    "    predictions.append(result)\n",
    "\n",
    "accuracy = accuracy(testy,predictions)\n",
    "print('Accuracy: ' + str(accuracy))"
   ]
  },
  {
   "cell_type": "markdown",
   "metadata": {},
   "source": [
    "### 5) Ensemble Methods\n",
    "- Explain bagging and boosting. Clearly illustrate the difference between these methods. When would you use either one?\n",
    "- What is a decision tree? What is a random forest? Compare them and list 3 pros and cons of each?"
   ]
  },
  {
   "cell_type": "markdown",
   "metadata": {
    "collapsed": true
   },
   "source": [
    "## YOUR ANSWER HERE - YOUR MAY USE MARKDOWN, LATEX, CODE, DIAGRAMS, ETC\n",
    "\n",
    "1. Bagging and Boosting get N learners by generating additional data in the training stage. N new training data sets are produced by random sampling with replacement from the original set. By sampling with replacement some observations may be repeated in each new training data set. In the case of Bagging, any element has the same probability to appear in a new data set. However, for Boosting the observations are weighted and therefore some of them will take part in the new sets more often\n",
    "\n",
    "2. In decision trees, given a set of observations, the following question is asked: is every target variable in this set the same (or nearly the same)? If yes, label the set of observations with the most frequent class; if no, find the best rule that splits the observations into the purest set of observations. \n",
    "1. Easy to interpret and make for straightforward visualizations.\n",
    "2. The internal workings are capable of being observed and thus make it possible to reproduce work.\n",
    "3. Fast\n",
    "\n",
    "    Random forest builds multiple decision trees and merges them together to get a more accurate and stable prediction. \n",
    "1. Prevent the overfitting probem of DT.\n",
    "2. Less variance\n",
    "3. More accurate\n",
    "    "
   ]
  },
  {
   "cell_type": "markdown",
   "metadata": {},
   "source": [
    "### 6) PCA vs Autoencoders\n",
    "- Describe how PCA achieves dimensionality reduction. Outline the main steps of the algorithm\n",
    "- What is the importance of eigenvectors and eigenvalues in the PCA algorithm above.\n",
    "- When we compute the covariance matrix in PCA, we have to subtract the mean. Why do we do this?\n",
    "- What is Autoencoder (compare it to PCA)? Why are autoencoders better in general.\n",
    "- When is the reduced dimension of an encoder equivalent to that of a PCA"
   ]
  },
  {
   "cell_type": "markdown",
   "metadata": {
    "collapsed": true
   },
   "source": [
    "## YOUR ANSWER HERE - YOUR MAY USE MARKDOWN, LATEX, CODE, DIAGRAMS, ETC\n",
    "\n",
    "PCA reduces the number of features to be used in the final model by focusing only on the components accounting for the majority of the variance in the dataset and removes correlation between features.\n",
    "1. Subtract the mean from each of the data dimensions. It makes sure that your end result is not dominated by a single variable. So we have to standardize the data set, as it is possible that different variables are measured in different scales.\n",
    "2. Calculate the covariance matrix\n",
    "3. Finding eigenvalues and eigenvectors. The eigenvalues tell us the variance in the data set and eigenvectors tell us the corresponding direction of the variance. \n",
    "4. Sort the eigenvalues and eigenvectors and select top k eigenvalues and corresponding eigenvectors\n",
    "5. Forming the new data set in reduced dimensions\n",
    "\n",
    "\n",
    "PCA is restricted to a linear map, while auto encoders can have nonlinear enoder/decoders.\n",
    "Training an autoencoder with one dense encoder layer and one dense decoder layer and linear activation is essentially equivalent to performing PCA.\n"
   ]
  },
  {
   "cell_type": "markdown",
   "metadata": {},
   "source": [
    "### 7) Implementation\n",
    "\n",
    "In the 1980's', Alex 'Sandy' Pentland came up with 'EigenFaces'. A novel way for facial classification using dimensionality reduction. We are going to try replicate the experiment in this question. We have loaded the face dataset for you below. Here's some steps for you: \n",
    "\n",
    "- Use PCA to reduce its dimensionality.\n",
    "- Use any algorithm to train a classifier for the dataset. You may use sklearn or pytorch. (Refer to PCA demo notebook for hints)\n",
    "- (Optional) Use autoencoders for the dimensionality reduction, compare results to PCA. Any comments/conculsions?\n"
   ]
  },
  {
   "cell_type": "code",
   "execution_count": 2,
   "metadata": {},
   "outputs": [
    {
     "name": "stdout",
     "output_type": "stream",
     "text": [
      "Total dataset size:\n",
      "n_samples: 1288\n",
      "n_features: 1850\n",
      "n_classes: 7\n"
     ]
    }
   ],
   "source": [
    "# loading the faces dataset\n",
    "from sklearn.datasets import fetch_lfw_people\n",
    "\n",
    "# uncomment below to load dataset(takes ~5 mins to load data)\n",
    "lfw_people = fetch_lfw_people(min_faces_per_person=70, resize=0.4)\n",
    "\n",
    "# introspect the images arrays to find the shapes (for plotting)\n",
    "n_samples, h, w = lfw_people.images.shape\n",
    "\n",
    "# assigning features vectors\n",
    "X = lfw_people.data\n",
    "n_features = X.shape[1]\n",
    "\n",
    "# the label to predict is the id of the person\n",
    "y = lfw_people.target\n",
    "target_names = lfw_people.target_names\n",
    "n_classes = target_names.shape[0]\n",
    "\n",
    "print(\"Total dataset size:\")\n",
    "print(\"n_samples: %d\" % n_samples)\n",
    "print(\"n_features: %d\" % n_features)\n",
    "print(\"n_classes: %d\" % n_classes)\n"
   ]
  },
  {
   "cell_type": "code",
   "execution_count": 3,
   "metadata": {},
   "outputs": [
    {
     "name": "stdout",
     "output_type": "stream",
     "text": [
      "Accuracy:  53.72670807453416\n"
     ]
    }
   ],
   "source": [
    "import matplotlib.pyplot as plt\n",
    "from sklearn.preprocessing import StandardScaler\n",
    "from sklearn.decomposition import PCA\n",
    "\n",
    "# plot an example image\n",
    "plt.imshow(X[1].reshape(h,w), cmap = 'gray')\n",
    "\n",
    "### insert your code here ###\n",
    "\n",
    "StdSc = StandardScaler()\n",
    "X=StdSc.fit_transform(X)\n",
    "pca = PCA(n_components=50)\n",
    "X = pca.fit_transform(X)\n",
    "\n",
    "trainx=X[:644]\n",
    "trainy=y[:644]\n",
    "testx=X[644:]\n",
    "testy=y[644:]\n",
    "\n",
    "def accuracy(target, predict):\n",
    "    return (sum(target == predict) / float(target.size))*100\n",
    "\n",
    "from sklearn.neighbors import KNeighborsClassifier as KNC\n",
    "knn= KNC(n_neighbors=3)\n",
    "knn=knn.fit(trainx,trainy)\n",
    "pred=knn.predict(testx)\n",
    "print(\"Accuracy: \", str(accuracy(testy, pred)))\n"
   ]
  },
  {
   "cell_type": "markdown",
   "metadata": {},
   "source": [
    "## Bonus Challenge! (Optional)\n",
    "\n",
    "This will take some time. However, trust that it is a rewarding experience. There will be a prize for whoever implements it correctly!\n",
    "\n",
    "- Implement a feed forward neural network with back proprogation using stochastic gradient descent by hand. \n",
    "- Use any dataset you want and test the accuracy"
   ]
  },
  {
   "cell_type": "code",
   "execution_count": 4,
   "metadata": {},
   "outputs": [],
   "source": [
    "### your code below ###\n",
    "\n"
   ]
  }
 ],
 "metadata": {
  "kernelspec": {
   "display_name": "Python 3",
   "language": "python",
   "name": "python3"
  },
  "language_info": {
   "codemirror_mode": {
    "name": "ipython",
    "version": 3
   },
   "file_extension": ".py",
   "mimetype": "text/x-python",
   "name": "python",
   "nbconvert_exporter": "python",
   "pygments_lexer": "ipython3",
   "version": "3.7.1"
  }
 },
 "nbformat": 4,
 "nbformat_minor": 2
}
