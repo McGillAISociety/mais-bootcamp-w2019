{
 "cells": [
  {
   "cell_type": "markdown",
   "metadata": {},
   "source": [
    "# Assignment 4: Mid Point Review"
   ]
  },
  {
   "cell_type": "markdown",
   "metadata": {},
   "source": [
    "Congratulations, you have reached the midpoint of the course! The rest of the course will be focused on more advanced state of the art machine learning techniques. However, before we dive into that, this assignment will be focused on ensuring you understand all the core concepts that have been covered so far. Keep in mind, these are questions that can be asked during machine learning internship interviews, so do make sure you understand them if you want to dive into this industry!"
   ]
  },
  {
   "cell_type": "markdown",
   "metadata": {},
   "source": [
    "### 1) Linear vs Polynomial Regression\n",
    "- Describe both Linear Regression and Polynomial Regression (3 lines or less each).\n",
    "\n",
    "- Describe overfitting vs underfitting with respect to parameters.  \n"
   ]
  },
  {
   "cell_type": "markdown",
   "metadata": {
    "collapsed": true
   },
   "source": [
    "# Linear Regression\n",
    "We are trying to fit a straight line curve (y = mX + b) to some data in order to model a relationship which we believe to be linear in nature. Typically we will use least squares method which consists of minimizing the sum of squares of the vertical distance between each point and the model line. \n",
    "\n",
    "## Polynomial Regression\n",
    "Similarly, we are attemptiong to model a relationship between a dependant variable Y and a dependant variable X, this time as a polynomial of degree N (still linear with respect to the weights). This allows us to model a broader range of relationships between our data. \n",
    "\n",
    "#  Overfitting\n",
    "Overfitting in polynomial regression can occur when our polynomial modeled curve is of a too-high degree. It seems to fit our training data very well, however, the actual relationship between our data is more similar to a lower degree polynomial and thus when we apply our model to test data, the accuracy is low.\n",
    "\n",
    "#  Underfitting\n",
    "Underfitting occurs when our polynomialmodel is of too low a degree to accurately reflect the relationship between our data. It may appear to fit the training data, however, it performs poorly on the test data because it is not representative of the actual relationship between the variables. For example, our mode polynomial curve might be a degree 2, when the actual data is more similar to a degree 4. "
   ]
  },
  {
   "cell_type": "markdown",
   "metadata": {
    "collapsed": true
   },
   "source": [
    "### 2) Logistic Regression vs. Linear SVM\n",
    "- Describe how logistic regression works (3 lines or less)\n",
    "- Describe how linear SVM works. Mention the role(s) of:\n",
    "    - support vectors\n",
    "    - margin\n",
    "    - slack variables\n",
    "    - kernels\n",
    "- Plot an example for SVM where the linear kernel is not enough to separate the data, but another kernel works"
   ]
  },
  {
   "cell_type": "markdown",
   "metadata": {
    "collapsed": true
   },
   "source": [
    "## Logistic Regression\n",
    "Allows us us to fit a model a relationship where there is one or more independant variables with a dependant variable that is binary (or discrete). It is based off the sigmoid function, whose graph starts off slowly, goes up quickly then slows down. it is meant to represent the probability of an occurence (between 0 and 1).\n",
    "\n",
    "## Linear SVM\n",
    "Support Vector Machine is a supervised ml algorithm which is mostly used for classification problems. Support vectors represent the coordinates of our data points. The goal of the algorithm is to select the ebst hyperplane to segregate the data properly. The margin represents the distance between nearest data points in different partitions and the goal is to maximize the margin while still maintaining the right seperations. In order to get the best classification partitions possible, we want to penalize the model for each mistake or mismatch. For this, we introduce slack variables. They represent the deviation of the data from the margin and allow us to use a soft margin, meaning that we can relax the boundaries. Kernel functions allow us to computer a sort of dot product between vecotrs in arbitrary dimension. It can be thought of as the \"similarity\" between the vectors which helps us classify them. \n",
    "\n",
    "One example is that of 2 rings of data, one within the other as follows as exemplifies by the followjg link:\n",
    "https://towardsdatascience.com/understanding-the-kernel-trick-e0bc6112ef78\n",
    "\n",
    "Clearly a linear kernel cannot separate the data but in a higher dimension it can.\n",
    "\n"
   ]
  },
  {
   "cell_type": "markdown",
   "metadata": {},
   "source": [
    "### 3) Linear SVM vs k-NN\n",
    "- K-Nearest Neighbours is a popular unsupervised learning algorithm. Explain the difference between supervised and unsupervised learning?\n",
    "- K-NN is an example of a lazy learning algorithm. Why is it called so. What could be a use case? Justify using a lazy learning algorithm in that case.\n",
    "- Outline the main steps for the KNN algorithm. Use text, code, plots, diagrams, etc as necessary.  \n",
    "- Plot a example dataset which works in an SVM classification and not k-NN classification. Repeat for the reverse scenario."
   ]
  },
  {
   "cell_type": "markdown",
   "metadata": {
    "collapsed": true
   },
   "source": [
    "### K-NN and Lazy Learning\n",
    "In supervised learning, the data is input with the desired labels. For example, if it is a classification problem, we would input data as well as the actual answer (class) to our model for it to learn. In unsupervised learning, the classes are not defined in advanced and the algorithm must discover them itself. \n",
    "Lazy algorithms don't learn a predictive fucntion, but rather learn only from the current data (they memorize the data) and won't generalize beyond it until they are asked to do so (hence the \"lazy\"). \n",
    "K-NN is lazy because it has very little training involved. It must keep the training data when it makes a prediction since it does not generalize from it.\n",
    "K-NN can be used to predict someone's political affiliation depending on some input data such as age, social class, ethnicity,etc. A lazy learning algorithm might be useful in this case since it will use the information from the dataset which is most useful for the current data that it is predicitng on. \n",
    "\n",
    "### Main steps of K-NN\n",
    "First we must choose a distance metric, for simplicity assume we choose euclidiean distance\n",
    "\n",
    "Fist initialize a K\n",
    "For each new input data, find the K nearest neighboors using our distance metric. \n",
    "Get the labels for the selected K entries and return mode/mean/majority element depending classification or regression."
   ]
  },
  {
   "cell_type": "markdown",
   "metadata": {},
   "source": [
    "### 4) K-NN Implementation\n",
    "- Implement the K-NN algorithm by hand (ie. Don't use the sklearn implementation)."
   ]
  },
  {
   "cell_type": "code",
   "execution_count": 15,
   "metadata": {},
   "outputs": [],
   "source": [
    "# Implement kNN by hand. It might be useful to store all distances in one array/list\n",
    "\n",
    "import pandas as pd\n",
    "import numpy as np\n",
    "import math\n",
    "import operator\n",
    "from sklearn.datasets import load_iris\n",
    "\n",
    "# loading dataset\n",
    "iris = load_iris()\n",
    "iris_df = pd.DataFrame(data= np.c_[iris['data'], iris['target']],\n",
    "                     columns= iris['feature_names'] + ['target'])\n",
    "\n",
    "# Preview dataset\n",
    "iris_df.head()\n",
    "\n",
    "#Function to calculate euclidean norm between points\n",
    "def Edistance(input1, input2, length):\n",
    "    dist = 0\n",
    "    for x in range(length):\n",
    "        dist += np.square(input1[x] - input2[x])\n",
    "    return np.sqrt(dist)\n",
    "\n",
    "\n",
    "def KNN(train, test, K):\n",
    "    length = test.shape[1]\n",
    "    distances = {}\n",
    "    sort = {}\n",
    "    \n",
    "    for x in range(len(train)):\n",
    "        #get euclidean distance between points in test\n",
    "        dist = Edistance(test, train.iloc[x], length)\n",
    "        \n",
    "        # store in distances\n",
    "        distances[x] = dist[0]\n",
    "        \n",
    "    # sort the distances\n",
    "    distances_sorted = sorted(distances.items(), key = operator.itemgetter(1))\n",
    "    neigh= []\n",
    "    \n",
    "    \n",
    "    for x in range(K):\n",
    "        neigh.append(distances_sorted[x][0])\n",
    "        votes = {}\n",
    "        \n",
    "        for x in range(len(neigh)):\n",
    "            resp = train.iloc[neigh[x]][-1]\n",
    "    \n",
    "            if resp in votes:\n",
    "                votes[resp] += 1\n",
    "            else:\n",
    "                votes[resp] = 1\n",
    "                \n",
    "        Svotes = sorted(votes.items(), key = operator.itemgetter(1), reverse = True)\n",
    "        return (Svotes[0][0], neigh)\n",
    "    \n",
    "\n"
   ]
  },
  {
   "cell_type": "markdown",
   "metadata": {},
   "source": [
    "### 5) Ensemble Methods\n",
    "- Explain bagging and boosting. Clearly illustrate the difference between these methods. When would you use either one?\n",
    "- What is a decision tree? What is a random forest? Compare them and list 3 pros and cons of each?"
   ]
  },
  {
   "cell_type": "markdown",
   "metadata": {
    "collapsed": true
   },
   "source": [
    "## Bagging vs. Boosting\n",
    "\n",
    "Both represent ensemble techniques on a base learning algorithm and help us build more robusts models\n",
    "\n",
    "In bagging, a subset of features and data is used to create a model and this process is repeated on different subsets to generate different models (thus generating additional data for training). At the end, we take the average prediction of all the models. This allows us to greatly reduce variance.\n",
    "\n",
    "In Boosting, subsets of data are used to create models but then instead of continuing to create subsets at random like in bagging, a cost function is used to select the most performant ones. For example, the more performing classifiers will have a lower weight while the less will have a higher one so that future iterations focus on the misclassified data.\n",
    "\n",
    "\n",
    "## Random Forest & Decision Trees\n",
    "Decision trees are used in both classification and regression and sequences the data through different streams depending on different criteria, like going through an uspside down tree. At each step, the data is verified for a certain criteria and the stream splits depending on the different possibilities. At the end of the stream, the input is classified according to the class associated to that particular end of stream. \n",
    "\n",
    "Random forests are collections of decision trees whose results are averaged out to get a final answer. \n",
    "\n",
    "\n",
    "Decision tree pros:\n",
    "1. Very fast to code and run\n",
    "2. Are useful for both numerical and categorical data and can be used in both classification & regresion\n",
    "3. Very transparent and easy to follow what is going on in the decision making process.\n",
    "\n",
    "Decision tree cons:\n",
    "1. Overfitting is a common issue for decision trees because of how specific they are, meaning that there is likely very little validation data that fits a specific stream perfectly.\n",
    "2. They typically use greedy learning algorithms and thus do not take into account the global miminmum\n",
    "3. If they are not deep enough, the the error due to bias becomes very large.\n",
    "\n",
    "Random Forest pros:\n",
    "1. Reduced error due to variance when compared to single decision decision trees.\n",
    "2. Reduced error due to bias\n",
    "3. Limit overfitting by averaging decision trees\n",
    "\n",
    "Random Forest Cons\n",
    "1. Takes much more computation that a random forest\n",
    "2. much more difficult to intuitively get an understanding of what the model is doing\n",
    "3. unless there is a large numbe"
   ]
  },
  {
   "cell_type": "markdown",
   "metadata": {},
   "source": [
    "### 6) PCA vs Autoencoders\n",
    "- Describe how PCA achieves dimensionality reduction. Outline the main steps of the algorithm\n",
    "- What is the importance of eigenvectors and eigenvalues in the PCA algorithm above.\n",
    "- When we compute the covariance matrix in PCA, we have to subtract the mean. Why do we do this?\n",
    "- What is Autoencoder (compare it to PCA)? Why are autoencoders better in general.\n",
    "- When is the reduced dimension of an encoder equivalent to that of a PCA"
   ]
  },
  {
   "cell_type": "markdown",
   "metadata": {
    "collapsed": true
   },
   "source": [
    "PCA attempts to find a lower dimension subspace while maintaining the validity of the data.\n",
    "We choose the d<n orthogonal principal axes such that the projection of the data onto the axes retains the highest variance.\n",
    "1. Choose the first principal component U1 to have max variance. This is given by eigenvector with the largest eigein value of the covariance matrix. \n",
    "2. Continue as above, selecting the eigenvectors associated to the d largest eigen values to determine the principal components. \n",
    "When calculating the covariance matrix, it is important to substract the mean to remove the intercept. This ensures that the first principal component describes the direction of highest variance. If it is not performed, there is no guarantee that the \n",
    "principle components will maximize variance. Note that if we denote V, the matrix of all eigenvectors and L the diagonal matrix of all\n",
    "eigen values, the the covariance matrix (C) is represented by CV=VL\n",
    "\n",
    "An autoencoder similarly to pca uses dimension resuction, however it is not constrained to reduce to linear subspaces. In fact, autoencoders may not even reduce dimensionality at all.\n",
    "This allows autoencodes to be much more general when compared to PCA, since they are not constrained to linear subspaces.\n",
    "\n",
    "The reducd dimension will be identical when a single layer autoencoder is used with linear activation function\n",
    "\n"
   ]
  },
  {
   "cell_type": "markdown",
   "metadata": {},
   "source": [
    "### 7) Implementation\n",
    "\n",
    "In the 1980's', Alex 'Sandy' Pentland came up with 'EigenFaces'. A novel way for facial classification using dimensionality reduction. We are going to try replicate the experiment in this question. We have loaded the face dataset for you below. Here's some steps for you: \n",
    "\n",
    "- Use PCA to reduce its dimensionality.\n",
    "- Use any algorithm to train a classifier for the dataset. You may use sklearn or pytorch. (Refer to PCA demo notebook for hints)\n",
    "- (Optional) Use autoencoders for the dimensionality reduction, compare results to PCA. Any comments/conculsions?\n"
   ]
  },
  {
   "cell_type": "code",
   "execution_count": 7,
   "metadata": {},
   "outputs": [
    {
     "name": "stdout",
     "output_type": "stream",
     "text": [
      "Total dataset size:\n",
      "n_samples: 760\n",
      "n_features: 1850\n",
      "n_classes: 3\n"
     ]
    }
   ],
   "source": [
    "# loading the faces dataset\n",
    "from sklearn.datasets import fetch_lfw_people\n",
    "\n",
    "# uncomment below to load dataset(takes ~5 mins to load data)\n",
    "lfw_people = fetch_lfw_people(min_faces_per_person=70, resize=0.4)\n",
    "\n",
    "# introspect the images arrays to find the shapes (for plotting)\n",
    "n_samples, h, w = lfw_people.images.shape\n",
    "\n",
    "# assigning features vectors\n",
    "X = lfw_people.data\n",
    "n_features = X.shape[1]\n",
    "\n",
    "# the label to predict is the id of the person\n",
    "y = lfw_people.target\n",
    "target_names = lfw_people.target_names\n",
    "n_classes = target_names.shape[0]\n",
    "\n",
    "print(\"Total dataset size:\")\n",
    "print(\"n_samples: %d\" % n_samples)\n",
    "print(\"n_features: %d\" % n_features)\n",
    "print(\"n_classes: %d\" % n_classes)\n",
    "\n",
    "from sklearn.model_selection import train_test_split\n",
    "X_train, X_test, y_train, y_test = train_test_split(X, y, test_size=0.2)\n"
   ]
  },
  {
   "cell_type": "code",
   "execution_count": 15,
   "metadata": {},
   "outputs": [
    {
     "data": {
      "image/png": "[encoded data removed]",
      "text/plain": [
       "<Figure size 432x288 with 1 Axes>"
      ]
     },
     "metadata": {
      "needs_background": "light"
     },
     "output_type": "display_data"
    },
    {
     "name": "stdout",
     "output_type": "stream",
     "text": [
      "Iteration 1, loss = 1.03101430\n",
      "Validation score: 0.688525\n",
      "Iteration 2, loss = 0.51224097\n",
      "Validation score: 0.688525\n",
      "Iteration 3, loss = 0.37621611\n",
      "Validation score: 0.754098\n",
      "Iteration 4, loss = 0.24712022\n",
      "Validation score: 0.803279\n",
      "Iteration 5, loss = 0.17171254\n",
      "Validation score: 0.852459\n",
      "Iteration 6, loss = 0.13085614\n",
      "Validation score: 0.918033\n",
      "Iteration 7, loss = 0.10360583\n",
      "Validation score: 0.934426\n",
      "Iteration 8, loss = 0.08178097\n",
      "Validation score: 0.918033\n",
      "Iteration 9, loss = 0.06538321\n",
      "Validation score: 0.901639\n",
      "Iteration 10, loss = 0.05314006\n",
      "Validation score: 0.901639\n",
      "Validation score did not improve more than tol=0.000100 for two consecutive epochs. Stopping.\n"
     ]
    }
   ],
   "source": [
    "# plot an example image\n",
    "import matplotlib.pyplot as plt\n",
    "from sklearn.decomposition import PCA\n",
    "from sklearn.neural_network import MLPClassifier\n",
    "from sklearn.metrics import classification_report\n",
    "\n",
    "plt.imshow(X[1].reshape(h,w), cmap = 'gray')\n",
    "plt.show()\n",
    "### insert your code here ###\n",
    "myPCA = PCA(n_components = 100, whiten=True).fit(X_train)\n",
    "\n",
    "X_train_reduced = myPCA.transform(X_train)\n",
    "X_test_reduced = myPCA.transform(X_test)\n",
    "\n",
    "classifier = MLPClassifier(hidden_layer_sizes=(1024), batch_size=128,verbose=True, early_stopping=True).fit(X_train_reduced, y_train)\n",
    "\n",
    "y_predicted = classifier.predict(X_test_reduced)\n",
    "\n",
    "classReport = classification_report(y_test, y_predicted, target_names = target_names)\n",
    "\n"
   ]
  },
  {
   "cell_type": "markdown",
   "metadata": {},
   "source": [
    "## Bonus Challenge! (Optional)\n",
    "\n",
    "This will take some time. However, trust that it is a rewarding experience. There will be a prize for whoever implements it correctly!\n",
    "\n",
    "- Implement a feed forward neural network with back proprogation using stochastic gradient descent by hand. \n",
    "- Use any dataset you want and test the accuracy"
   ]
  },
  {
   "cell_type": "code",
   "execution_count": 60,
   "metadata": {
    "collapsed": true
   },
   "outputs": [],
   "source": [
    "### your code below ###\n",
    "\n"
   ]
  }
 ],
 "metadata": {
  "kernelspec": {
   "display_name": "Python 3",
   "language": "python",
   "name": "python3"
  },
  "language_info": {
   "codemirror_mode": {
    "name": "ipython",
    "version": 3
   },
   "file_extension": ".py",
   "mimetype": "text/x-python",
   "name": "python",
   "nbconvert_exporter": "python",
   "pygments_lexer": "ipython3",
   "version": "3.7.2"
  }
 },
 "nbformat": 4,
 "nbformat_minor": 2
}
