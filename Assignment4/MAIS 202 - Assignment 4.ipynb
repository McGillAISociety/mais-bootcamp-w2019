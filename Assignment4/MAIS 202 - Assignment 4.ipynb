{
 "cells": [
  {
   "cell_type": "markdown",
   "metadata": {},
   "source": [
    "# Assignment 4: Mid Point Review"
   ]
  },
  {
   "cell_type": "markdown",
   "metadata": {},
   "source": [
    "Congratulations, you have reached the midpoint of the course! The rest of the course will be focused on more advanced state of the art machine learning techniques. However, before we dive into that, this assignment will be focused on ensuring you understand all the core concepts that have been covered so far. Keep in mind, these are questions that can be asked during machine learning internship interviews, so do make sure you understand them if you want to dive into this industry!"
   ]
  },
  {
   "cell_type": "markdown",
   "metadata": {},
   "source": [
    "### 1) Linear vs Polynomial Regression\n",
    "- Describe both Linear Regression and Polynomial Regression (3 lines or less each).\n",
    "\n",
    "- Describe overfitting vs underfitting with respect to parameters.  \n"
   ]
  },
  {
   "cell_type": "code",
   "execution_count": 1,
   "metadata": {},
   "outputs": [],
   "source": [
    "## YOUR ANSWER HERE - YOUR MAY USE MARKDOWN, LATEX, CODE, DIAGRAMS, ETC\n",
    "#linear regression is a regression model which assume e a linear relationship between input variables and single\n",
    "#output variable. The output is a linear combination of input variables Y = a0 + a1x1 + a2x2 + ...\n",
    "#Polynomial is a special case of linear regression used when a linear relatoinship cannot accurately fit the data\n",
    "#points. Polynomial regression can take x, x^2, x^3,... as variables and assume a linear relatoinships between output\n",
    "#and these variables. Y = a0 + a1x + a2x^2 + a3x^3 +...\n",
    "#Overfitting is when a model learns too much detail and noise in the training data and no longer accurately predict the\n",
    "#performance of test data. The parameters are note generalized emougj for model to make predictions on data \n",
    "#with unfamiliar error\n",
    "#Underfitting is when a model cannot fit the data well enough, specifically, when a model shows low variance and high bias"
   ]
  },
  {
   "cell_type": "markdown",
   "metadata": {
    "collapsed": true
   },
   "source": [
    "### 2) Logistic Regression vs. Linear SVM\n",
    "- Describe how logistic regression works (3 lines or less)\n",
    "- Describe how linear SVM works. Mention the role(s) of:\n",
    "    - support vectors\n",
    "    - margin\n",
    "    - slack variables\n",
    "    - kernels\n",
    "- Plot an example for SVM where the linear kernel is not enough to separate the data, but another kernel works"
   ]
  },
  {
   "cell_type": "code",
   "execution_count": 13,
   "metadata": {
    "collapsed": true
   },
   "outputs": [],
   "source": [
    "## YOUR ANSWER HERE - YOUR MAY USE MARKDOWN, LATEX, CODE, DIAGRAMS, ETC\n",
    "#logistic regression outputs only binary result by estimating probabilities using logistic function (often sigmoid),\n",
    "#training process finds weights by minimizing the logistic loss function, the weights will be applied \n",
    "#to the input of the sigmoid function\n",
    "\n",
    "#Support Vector Machines is a supervised ML algorithm used for both classfication and regression challenges. Each data item\n",
    "#is plotted as a point in n-D space where n is the number of features. We find the hyper-plane which differentiates the \n",
    "#two classes. Support vectors are the data points closest to the hyperplane, which will define the decision boundary.\n",
    "#First identify the best hyper-plane segregating classes well. This is achieved by lowing classification error and\n",
    "#maximizing the margin (distances between hyperplane and support vectors)\n",
    "\n",
    "#Sometimes data is not linearly seperable, slack variables can be introduced to measure the ratio of each data point's \n",
    "#distance from a marginal hyperplane to the magnitude of its hyperplane's normal vector. The model will optimize a function\n",
    "#to include both marjins and the sum of slack variables during training.\n",
    "#SVM can use kernels to make non-separable probelms separable by using kernels, which are functions to take \n",
    "#low dimensional input space and transform it to higher dimensional space. Kernels are very useful in non-linear separation\n",
    "#problems"
   ]
  },
  {
   "cell_type": "markdown",
   "metadata": {},
   "source": [
    "### 3) Linear SVM vs k-NN\n",
    "- K-Nearest Neighbours is a popular unsupervised learning algorithm. Explain the difference between supervised and unsupervised learning?\n",
    "- K-NN is an example of a lazy learning algorithm. Why is it called so. What could be a use case? Justify using a lazy learning algorithm in that case.\n",
    "- Outline the main steps for the KNN algorithm. Use text, code, plots, diagrams, etc as necessary.  \n",
    "- Plot a example dataset which works in an SVM classification and not k-NN classification. Repeat for the reverse scenario."
   ]
  },
  {
   "cell_type": "code",
   "execution_count": 31,
   "metadata": {},
   "outputs": [
    {
     "data": {
      "image/png": "[encoded data removed]",
      "text/plain": [
       "<Figure size 432x288 with 1 Axes>"
      ]
     },
     "metadata": {
      "needs_background": "light"
     },
     "output_type": "display_data"
    },
    {
     "data": {
      "image/png": "[encoded data removed]",
      "text/plain": [
       "<Figure size 432x288 with 1 Axes>"
      ]
     },
     "metadata": {
      "needs_background": "light"
     },
     "output_type": "display_data"
    }
   ],
   "source": [
    "## YOUR ANSWER HERE - YOUR MAY USE MARKDOWN, LATEX, CODE, DIAGRAMS, ETC\n",
    "#Supervised learning trains a model to predict output according to labelled data. On the other hand, unsupervised learning\n",
    "#is used for unlabeled data. The model will find patterns in features on its own.\n",
    "\n",
    "#K-NN is short for K-nearest neighbour algorithm. It is an algorithm in which the function is only approximated locally \n",
    "#and all computtation is deferred until classification. It does not do any generalization, i.e. no or minimal traning phase\n",
    "#so that all traning data is needed during the testing phase. A use case can be credit ratings. In nature, people who have \n",
    "#similar financial behaviours wil be given similar credit rating. Therefore, no extra training or calculation is needed,\n",
    "#and existing data base can be used to predict a new customer's credit rating.\n",
    "\n",
    "#First specify a value for hyperparameter k, which is the number of closest neighbours a test data will be compared against.\n",
    "#To get the predicted class, iterate from 1 to total number of training data points. First calculate the distance between\n",
    "#test data and each row of training data; then sort the calculated distance in ascending order, get top k rows from the\n",
    "#sorted array, get the most frequet class of these rows and finally return the predicted class.\n",
    "\n",
    "#sample dataset for SVM classification\n",
    "import numpy as np\n",
    "import matplotlib.pyplot as plt\n",
    "X = [num for num in range(20)]\n",
    "\n",
    "Y1 = [(num -3 + np.random.normal(-1,1)) for num in X]\n",
    "Y2 = [(num +3 + np.random.normal(-1,1)) for num in X]\n",
    "\n",
    "plt.scatter(X,Y1)\n",
    "plt.scatter(X,Y2)\n",
    "plt.show()\n",
    "\n",
    "#sample dataset for k-NN distribution\n",
    "X1 = np.random.rand(1,150)*5-3\n",
    "Y1 = np.random.rand(1,150)*3+5\n",
    "\n",
    "X2 = np.random.rand(1,100)-2\n",
    "Y2 = np.random.rand(1,100)*4+3\n",
    "\n",
    "plt.scatter(X1,Y1)\n",
    "plt.scatter(X2,Y2)\n",
    "plt.show()"
   ]
  },
  {
   "cell_type": "markdown",
   "metadata": {},
   "source": [
    "### 4) K-NN Implementation\n",
    "- Implement the K-NN algorithm by hand (ie. Don't use the sklearn implementation)."
   ]
  },
  {
   "cell_type": "code",
   "execution_count": 39,
   "metadata": {},
   "outputs": [
    {
     "name": "stderr",
     "output_type": "stream",
     "text": [
      "C:\\Users\\tsofr\\AppData\\Local\\Programs\\Python\\Python37\\lib\\site-packages\\ipykernel_launcher.py:30: SettingWithCopyWarning: \n",
      "A value is trying to be set on a copy of a slice from a DataFrame\n",
      "\n",
      "See the caveats in the documentation: http://pandas.pydata.org/pandas-docs/stable/indexing.html#indexing-view-versus-copy\n",
      "C:\\Users\\tsofr\\AppData\\Local\\Programs\\Python\\Python37\\lib\\site-packages\\ipykernel_launcher.py:33: SettingWithCopyWarning: \n",
      "A value is trying to be set on a copy of a slice from a DataFrame.\n",
      "Try using .loc[row_indexer,col_indexer] = value instead\n",
      "\n",
      "See the caveats in the documentation: http://pandas.pydata.org/pandas-docs/stable/indexing.html#indexing-view-versus-copy\n"
     ]
    },
    {
     "name": "stdout",
     "output_type": "stream",
     "text": [
      "predicted label: 1\n",
      "actual label: 2.0\n"
     ]
    }
   ],
   "source": [
    "# Implement kNN by hand. It might be useful to store all distances in one array/list\n",
    "\n",
    "import pandas as pd\n",
    "import numpy as np\n",
    "from sklearn.datasets import load_iris\n",
    "\n",
    "# loading dataset\n",
    "iris = load_iris()\n",
    "iris_df = pd.DataFrame(data= np.c_[iris['data'], iris['target']],\n",
    "                     columns= iris['feature_names'] + ['target'])\n",
    "\n",
    "# Preview dataset\n",
    "iris_df.head()\n",
    "\n",
    "## YOUR CODE HERE\n",
    "def distance (x,y):\n",
    "    dist=np.sqrt(np.power((x-y),2).sum())\n",
    "    return dist\n",
    "#choose test and train data\n",
    "test = iris_df.iloc[-1,:-2] #last row, last two columns\n",
    "data = iris_df.iloc[0:-1,:]\n",
    "\n",
    "# step 1: choose k\n",
    "k=10\n",
    "\n",
    "# step 2: loop through all data values and calculate distance\n",
    "\n",
    "for x in range (len(data)):\n",
    "    dist = distance(test,data.iloc[x, :-2])\n",
    "    data.iloc[x,-1] = dist\n",
    "    \n",
    "# step 3: sort distances\n",
    "    data['distance'] = np.nan\n",
    "    iris_sorted = data.sort_values(by='distance').reset_index(drop=True)\n",
    "    \n",
    "# step 4: find k closest neighbours\n",
    "neigh = iris_sorted.loc[:k,'target']\n",
    "\n",
    "# step 5: result\n",
    "labels = {}\n",
    "for x in range(len(neigh)):\n",
    "    label = neigh[x]\n",
    "    \n",
    "    if label in labels:\n",
    "        labels[label] += 1\n",
    "    else: \n",
    "        labels[label]=1\n",
    "        \n",
    "sorted_labels = sorted(labels.items())\n",
    "output = sorted_labels[1][1]\n",
    "\n",
    "print('predicted label: {}'.format(output))\n",
    "print('actual label: {}'.format(iris_df.iloc[-1,-1]))"
   ]
  },
  {
   "cell_type": "markdown",
   "metadata": {},
   "source": [
    "### 5) Ensemble Methods\n",
    "- Explain bagging and boosting. Clearly illustrate the difference between these methods. When would you use either one?\n",
    "- What is a decision tree? What is a random forest? Compare them and list 3 pros and cons of each?"
   ]
  },
  {
   "cell_type": "code",
   "execution_count": 3,
   "metadata": {},
   "outputs": [],
   "source": [
    "## YOUR ANSWER HERE - YOUR MAY USE MARKDOWN, LATEX, CODE, DIAGRAMS, ETC\n",
    "#Using ensembling techniques like bagging and boosting can both decrease the variance and increase robustness of the model\n",
    "\n",
    "#bagging is the application of bootstrap procedure to a high-variance machine learning algorithm.Suppose there are\n",
    "#N observations and M features. A sample from observations is randomly selected with replacement, this procedure is called \n",
    "#bootstraping. A subset of features are selected to create a model of sample of observations and subset of features.\n",
    "#Features from subset are selected to give the best split on training data. This is repeated to create many models, all\n",
    "#models are trained in parallel. Prediction is based on the aggregation of predictions from all models.\n",
    "\n",
    "#boosting is a group of algorithms in which each algorithm runs and predicts what feature the next model will focus on. \n",
    "\n",
    "#The difference between bagging and boosting is that in bagging each model work independently, and in boosting all models \n",
    "#work together.\n",
    "\n",
    "#Boosting is better suited if the single model gets a very low performance, since bagging will rarely get a better bias.\n",
    "#But boosting can generate a combined model with lower errors since it optimises the advantages and reduces the pitfalls\n",
    "#of single models\n",
    "#If the difficulty of the single model is over-fitting, then bagging is the better option because boosting cannot avoid it."
   ]
  },
  {
   "cell_type": "code",
   "execution_count": 5,
   "metadata": {},
   "outputs": [],
   "source": [
    "#Decision tree can be used for both classificaiton and regression. Tree answers questions in a sequential manner and \n",
    "#goes down a certain route. It behaves in \"if... then...\" manner.  Random Forest can also be used for both regression and\n",
    "#classification problems. This algorithm creates an ensemble of decision trees but make it random, and mostly trained with\n",
    "#bagging method. Random Forest merges multiple decision trees and get a more accurate and stable prediction.\n",
    "\n",
    "#DT Pros:\n",
    "#Straightforward internal working and reproducible.\n",
    "#Perform well on large datasets\n",
    "#Extremely Fast\n",
    "\n",
    "#DT Cons:\n",
    "#At each node it makes the most optimal decision, but does not consider the global optimum\n",
    "#Prone to overfitting, especially with large tree depth.\n",
    "#Instability: Perturb the dataset, change the root node of tree to start with a different variable, you will get a different\n",
    "#tree. Not robust to noise.\n",
    "\n",
    "#RF pros:\n",
    "#easy to use. Default hyperparameters often produce good prediction result.\n",
    "#Reduces variance. not prone to overfitting with many decision trees\n",
    "#Decorrelates trees, important when multiple features are correlated\n",
    "\n",
    "#RF cons:\n",
    "#Not as easy to visually interpret\n",
    "#Large number of trees may make algorithm slow. Fast to train but slow to predict.\n",
    "#Cannot learn non-linear low level representations easily like neural networks."
   ]
  },
  {
   "cell_type": "markdown",
   "metadata": {},
   "source": [
    "### 6) PCA vs Autoencoders\n",
    "- Describe how PCA achieves dimensionality reduction. Outline the main steps of the algorithm\n",
    "- What is the importance of eigenvectors and eigenvalues in the PCA algorithm above.\n",
    "- When we compute the covariance matrix in PCA, we have to subtract the mean. Why do we do this?\n",
    "- What is Autoencoder (compare it to PCA)? Why are autoencoders better in general.\n",
    "- When is the reduced dimension of an encoder equivalent to that of a PCA"
   ]
  },
  {
   "cell_type": "code",
   "execution_count": 6,
   "metadata": {},
   "outputs": [],
   "source": [
    "## YOUR ANSWER HERE - YOUR MAY USE MARKDOWN, LATEX, CODE, DIAGRAMS, ETC\n",
    "#First draw a line from the mean of x and y, every point will be projected on this axis. The two points at the end of line \n",
    "#gives the variance of the data. Connect each point to its projection, these lines representhe the errors of appxoximating\n",
    "#by its projection. The squared sum of the lengths of all these lines gives the total error in approximation. The angle \n",
    "#of axis which minimizes the squared sum of errors also maximizes the distance between the red points, called principle axis\n",
    "#Once we know a principal axis, we subtract the variance along this principal axis to obtain the remaining variance.\n",
    "#We apply the same procedure to find the next principal axis from the residual variance. Apart from being the direction of \n",
    "#maximum variance, next principal axis must be orthogonal to the other principal axes. Once, we get all the principal axes, \n",
    "#the dataset is projected onto these axes. The columns in the projected or transformed dataset are called principal \n",
    "#components\n",
    "\n",
    "#In the context of PCA, an eigenvector represents a direction or axis and the corresponding eigenvalue represents variance\n",
    "#along that eigenvector. First find the eigenvalues. Then arrange all eigenvalues in order. Once all eigenvectors are\n",
    "#arranged according to their eigenvalues in descending order. Now, we have to decide how many eigenvectors to retain. \n",
    "#Total variance explained and scree plot are two methods to achieve that. Last step is to project dataset to these principle\n",
    "#axes\n",
    "\n",
    "#subtracting the mean will produce the covariance matrix whose mean is zero, this scales the data to unit variance"
   ]
  },
  {
   "cell_type": "code",
   "execution_count": null,
   "metadata": {},
   "outputs": [],
   "source": [
    "#Autoencoder is a family of neural networks, its input is the same of the output. Autoencoders work by compressing the input\n",
    "#into a latent-space representation, and then reconstruct the output from this representation. The autoencoders has the \n",
    "#main advantage of mapping non-linear relationships while the PCA is restricted to linear mapping.\n",
    "#A single layer of neurons smaller than the input, autoencoder with linear transfer function is nearly equivalent to PCA."
   ]
  },
  {
   "cell_type": "markdown",
   "metadata": {},
   "source": [
    "### 7) Implementation\n",
    "\n",
    "In the 1980's', Alex 'Sandy' Pentland came up with 'EigenFaces'. A novel way for facial classification using dimensionality reduction. We are going to try replicate the experiment in this question. We have loaded the face dataset for you below. Here's some steps for you: \n",
    "\n",
    "- Use PCA to reduce its dimensionality.\n",
    "- Use any algorithm to train a classifier for the dataset. You may use sklearn or pytorch. (Refer to PCA demo notebook for hints)\n",
    "- (Optional) Use autoencoders for the dimensionality reduction, compare results to PCA. Any comments/conculsions?\n"
   ]
  },
  {
   "cell_type": "code",
   "execution_count": 8,
   "metadata": {},
   "outputs": [
    {
     "name": "stdout",
     "output_type": "stream",
     "text": [
      "Total dataset size:\n",
      "n_samples: 1288\n",
      "n_features: 1850\n",
      "n_classes: 7\n"
     ]
    }
   ],
   "source": [
    "# loading the faces dataset\n",
    "from sklearn.datasets import fetch_lfw_people\n",
    "\n",
    "# uncomment below to load dataset(takes ~5 mins to load data)\n",
    "lfw_people = fetch_lfw_people(min_faces_per_person=70, resize=0.4)\n",
    "\n",
    "# introspect the images arrays to find the shapes (for plotting)\n",
    "n_samples, h, w = lfw_people.images.shape\n",
    "\n",
    "# assigning features vectors\n",
    "X = lfw_people.data\n",
    "n_features = X.shape[1]\n",
    "\n",
    "# the label to predict is the id of the person\n",
    "y = lfw_people.target\n",
    "target_names = lfw_people.target_names\n",
    "n_classes = target_names.shape[0]\n",
    "\n",
    "print(\"Total dataset size:\")\n",
    "print(\"n_samples: %d\" % n_samples)\n",
    "print(\"n_features: %d\" % n_features)\n",
    "print(\"n_classes: %d\" % n_classes)\n"
   ]
  },
  {
   "cell_type": "code",
   "execution_count": 17,
   "metadata": {},
   "outputs": [
    {
     "name": "stdout",
     "output_type": "stream",
     "text": [
      "MLP accuracy with PCA: 0.49224806201550386\n"
     ]
    },
    {
     "data": {
      "image/png": "[encoded data removed]",
      "text/plain": [
       "<Figure size 432x288 with 1 Axes>"
      ]
     },
     "metadata": {
      "needs_background": "light"
     },
     "output_type": "display_data"
    }
   ],
   "source": [
    "import matplotlib.pyplot as plt\n",
    "# plot an example image\n",
    "plt.imshow(X[1].reshape(h,w), cmap = 'gray')\n",
    "\n",
    "### insert your code here ###\n",
    "from sklearn.neural_network import MLPClassifier\n",
    "from sklearn.metrics import accuracy_score\n",
    "from sklearn.decomposition import PCA\n",
    "\n",
    "pca = PCA(n_components = 50)\n",
    "pca.fit(X)\n",
    "\n",
    "X_pca = pca.transform(X)\n",
    "\n",
    "#split data 80-20\n",
    "x_train_pca = X_pca[:1030]\n",
    "y_train_pca = y[:1030]\n",
    "\n",
    "x_test_pca = X_pca[1030:]\n",
    "y_test_pca = y[1030:]\n",
    "\n",
    "clf = MLPClassifier(solver='lbfgs', alpha=1e-5, hidden_layer_sizes=(5, 2), random_state=1)\n",
    "clf.fit(x_train_pca, y_train_pca)                         \n",
    "MLPClassifier(activation='relu', alpha=1e-05, batch_size='auto',\n",
    "              beta_1=0.9, beta_2=0.999, early_stopping=False,\n",
    "              epsilon=1e-08, hidden_layer_sizes=(5, 2),\n",
    "              learning_rate='constant', learning_rate_init=0.001,\n",
    "              max_iter=200, momentum=0.9, n_iter_no_change=10,\n",
    "              nesterovs_momentum=True, power_t=0.5, random_state=1,\n",
    "              shuffle=True, solver='lbfgs', tol=0.0001,\n",
    "              validation_fraction=0.1, verbose=False, warm_start=False)\n",
    "y_pred_pca = clf.predict(x_test_pca)\n",
    "print('MLP accuracy with PCA: {}'.format(accuracy_score(y_test_pca, y_pred_pca)))"
   ]
  },
  {
   "cell_type": "code",
   "execution_count": null,
   "metadata": {},
   "outputs": [],
   "source": []
  },
  {
   "cell_type": "markdown",
   "metadata": {},
   "source": [
    "## Bonus Challenge! (Optional)\n",
    "\n",
    "This will take some time. However, trust that it is a rewarding experience. There will be a prize for whoever implements it correctly!\n",
    "\n",
    "- Implement a feed forward neural network with back proprogation using stochastic gradient descent by hand. \n",
    "- Use any dataset you want and test the accuracy"
   ]
  },
  {
   "cell_type": "code",
   "execution_count": 60,
   "metadata": {
    "collapsed": true
   },
   "outputs": [],
   "source": [
    "### your code below ###\n",
    "\n"
   ]
  }
 ],
 "metadata": {
  "kernelspec": {
   "display_name": "Python (MAIS-202)",
   "language": "python",
   "name": ".mais-env"
  },
  "language_info": {
   "codemirror_mode": {
    "name": "ipython",
    "version": 3
   },
   "file_extension": ".py",
   "mimetype": "text/x-python",
   "name": "python",
   "nbconvert_exporter": "python",
   "pygments_lexer": "ipython3",
   "version": "3.7.2"
  }
 },
 "nbformat": 4,
 "nbformat_minor": 2
}
