{
 "cells": [
  {
   "cell_type": "markdown",
   "metadata": {},
   "source": [
    "# Assignment 4: Mid Point Review"
   ]
  },
  {
   "cell_type": "markdown",
   "metadata": {},
   "source": [
    "Congratulations, you have reached the midpoint of the course! The rest of the course will be focused on more advanced state of the art machine learning techniques. However, before we dive into that, this assignment will be focused on ensuring you understand all the core concepts that have been covered so far. Keep in mind, these are questions that can be asked during machine learning internship interviews, so do make sure you understand them if you want to dive into this industry!"
   ]
  },
  {
   "cell_type": "markdown",
   "metadata": {},
   "source": [
    "### 1) Linear vs Polynomial Regression\n",
    "- Describe both Linear Regression and Polynomial Regression (3 lines or less each).\n",
    "\n",
    "- Describe overfitting vs underfitting with respect to parameters.  \n"
   ]
  },
  {
   "cell_type": "markdown",
   "metadata": {
    "collapsed": true
   },
   "source": [
    "_Answer:_\n",
    "\n",
    "\n",
    "- **Linear Regression**: Given a dataset, linear regression aims to model the relationship between a vector of the dependent variable ${\\mathbf {y}}$ and the matrix of independent variable ${\\mathbf {X}}$ by learning a vector of weights ${\\boldsymbol {\\beta }}$. This relationship is modelled with a vector of values ${\\mathbf {\\varepsilon}}$ that accounts for Gaussian noise. The model takes on the form ${\\mathbf {y} =X{\\boldsymbol {\\beta }}+{\\boldsymbol {\\varepsilon }}}$.\n",
    "\n",
    "\n",
    "- **Polynomial Regression**: Given a set of data, polynomial regression aims to model the relationship between the dependent variable $y$ and the independent variable $x$ using a polynomial of degree $n$. The relationship is modelled with a term $\\varepsilon$ that accounts for Gaussian noise. The model takes on the form $ y=\\beta _{0}+\\beta _{1}x+\\beta _{2}x^{2}+\\beta _{3}x^{3}+\\cdots +\\beta _{n}x^{n}+\\varepsilon $.\n",
    "\n",
    "\n",
    "- **Overfitting vs. Underfitting**: Overfitting occurs when a model learns too much complexity from the test data, and is not able to generalize towards other datasets. This could occur if a higher dimensional polynomial is used to model the data. One the other hand, Underfitting occurs when a model is not able to capture enough complexity from the data. This may occur if a lower dimensional polynomial is used to model the data. "
   ]
  },
  {
   "cell_type": "markdown",
   "metadata": {
    "collapsed": true
   },
   "source": [
    "### 2) Logistic Regression vs. Linear SVM\n",
    "- Describe how logistic regression works (3 lines or less)\n",
    "- Describe how linear SVM works. Mention the role(s) of:\n",
    "    - support vectors\n",
    "    - margin\n",
    "    - slack variables\n",
    "    - kernels\n",
    "- Plot an example for SVM where the linear kernel is not enough to separate the data, but another kernel works"
   ]
  },
  {
   "cell_type": "markdown",
   "metadata": {
    "collapsed": true
   },
   "source": [
    "_Answer:_\n",
    "\n",
    "- **Logistic Regression**: Given a set of data, logistic regression aims to model the relationship between a categorical depedendent variable $y$ and one or more indepedent variables $x$ by estimating the probability that $y$ belongs to a certain category through the use of the logistic function. \n",
    "\n",
    "\n",
    "- **Linear Support-Vector Machines**: Given a set of $n$ data points $({\\vec {x}}_{i},y_{i})$ for $i = 1 ... n$, each $y_{i}$ is either $1$ or $-1$, and each ${\\vec {x}}_{i}$ is a $p$-dimensional vector. A linear SVM aims to seperate the data points using a $(p-1)$-dimensional hyperplane (known as the maximum-margin hyperplane) that maximizes the **margin** between points ${\\vec {x}}_{i}$ for which $y_{i} = 1$, and the points ${\\vec {x}}_{i}$ for which $y_{i} = -1$. The maximum-margin hyperplane lies precisely in between two parallel hyperplanes that are selected to maximize the distance between them. The **support vectors** are the data points $({\\vec {x}}_{i},y_{i})$ that lie on either of the parallel hyperplanes that define this margin. In the case that the data points are not linearly seperable, **slack variables** are added to account for error. Moreover, when the data points are not linearly seperable, a non-linear classification rule can be learned by mapping the data points to a higher-dimensional feature space through the use of a **kernel function** $k$ which satisfies $k({\\vec {x}}_{i},{\\vec {x}}_{j})=\\varphi ({\\vec {x}}_{i})\\cdot \\varphi ({\\vec {x}}_{j})$."
   ]
  },
  {
   "cell_type": "code",
   "execution_count": 3,
   "metadata": {},
   "outputs": [
    {
     "data": {
      "image/png": "[encoded data removed]",
      "text/plain": [
       "<Figure size 432x288 with 1 Axes>"
      ]
     },
     "metadata": {
      "needs_background": "light"
     },
     "output_type": "display_data"
    },
    {
     "name": "stdout",
     "output_type": "stream",
     "text": [
      "SVM with linear kernel has 63% accuracy\n",
      "SVM with rbf kernel has 97% accuracy\n"
     ]
    }
   ],
   "source": [
    "import numpy as np\n",
    "import matplotlib.pyplot as plt\n",
    "from sklearn.svm import SVC\n",
    "from sklearn import metrics\n",
    "from sklearn.model_selection import train_test_split\n",
    "\n",
    "np.random.seed(0)\n",
    "X_xor = np.random.randn(1000, 2)\n",
    "y_xor = np.logical_xor(X_xor[:, 0] > 0, X_xor[:, 1] > 0)\n",
    "y_xor = np.where(y_xor, 1, -1)\n",
    "plt.scatter(X_xor[y_xor==1, 0], X_xor[y_xor==1, 1],\n",
    "c='b', marker='x', label='1')\n",
    "plt.scatter(X_xor[y_xor==-1, 0], X_xor[y_xor==-1, 1],\n",
    "c='r', marker='s', label='-1')\n",
    "plt.ylim(-3.0)\n",
    "plt.legend()\n",
    "plt.show()\n",
    "\n",
    "# \"train\" test split\n",
    "X_train, X_test, y_train, y_test = train_test_split(X_xor, y_xor, test_size=0.33, random_state=42)\n",
    "\n",
    "# SVM with linear kernel\n",
    "svm_lin = SVC(kernel='linear', random_state=0, gamma=0.10, C=10.0)\n",
    "svm_lin.fit(X_train, y_train)\n",
    "svm_lin_pred = svm_lin.predict(X_test)\n",
    "svm_lin_acc = metrics.accuracy_score(y_test, svm_lin_pred) * 100\n",
    "print('SVM with linear kernel has %d%% accuracy' % svm_lin_acc)\n",
    "\n",
    "# SVM with RBF kernel \n",
    "svm_rbf = SVC(kernel='rbf', random_state=0, gamma=0.10, C=10.0)\n",
    "svm_rbf.fit(X_train, y_train)\n",
    "svm_rbf_pred = svm_rbf.predict(X_test)\n",
    "svm_rbf_acc = metrics.accuracy_score(y_test, svm_rbf_pred) * 100\n",
    "print('SVM with rbf kernel has %d%% accuracy' % svm_rbf_acc)"
   ]
  },
  {
   "cell_type": "markdown",
   "metadata": {},
   "source": [
    "### 3) Linear SVM vs k-NN\n",
    "- K-Nearest Neighbours is a popular unsupervised learning algorithm. Explain the difference between supervised and unsupervised learning?\n",
    "- K-NN is an example of a lazy learning algorithm. Why is it called so. What could be a use case? Justify using a lazy learning algorithm in that case.\n",
    "- Outline the main steps for the KNN algorithm. Use text, code, plots, diagrams, etc as necessary.  \n",
    "- Plot a example dataset which works in an SVM classification and not k-NN classification. Repeat for the reverse scenario."
   ]
  },
  {
   "cell_type": "markdown",
   "metadata": {
    "collapsed": true
   },
   "source": [
    "_Answer:_\n",
    "\n",
    "- **Supervised learning** is performed with knowledge of what the desired outputs should be. The objective is to learn a function that best describes the relationship between the inputs and the outputs. In **unsupervised learning**, the outputs are not labeled. The aim is to discover commonalities in the feature space and so identify what the labels of the outputs should be. \n",
    "\n",
    "\n",
    "- K-NN is called a **lazy learning algorithm** because training only consists of storing the feature vectors and class labels of the training examples. The target function is learned locally, and generalization on the training data is delayed until classification is actually taking place. Lazy learning algorithms are utilized in online recommendation systems where the \"training data\" is continously updated. An algorithm like K-NN, which learns a new target function each time a recommendation query is made, will be able to categorize a dataset that is continously changing. \n",
    "\n",
    "\n",
    "- For training data set $X$, class labels $Y$, and unknown sample $x$, the **steps of the K-NN algorithm** are as follows:\n",
    "    - Initialize a value for $K$\n",
    "    - For $i = 1...n$ where $n$ is the total number of training examples, do:\n",
    "        - Calculate the distance between the unknown sample $x$ and each row of the training data $X_{i}$ (e.g. Euclidean distance)\n",
    "    - Compute the set $I$ containing the $k$-smallest distances calculated above\n",
    "    - Return the majority label for $Y_{i}$, where $ i \\in I$"
   ]
  },
  {
   "cell_type": "code",
   "execution_count": 59,
   "metadata": {},
   "outputs": [
    {
     "data": {
      "image/png": "[encoded data removed]",
      "text/plain": [
       "<Figure size 432x288 with 1 Axes>"
      ]
     },
     "metadata": {
      "needs_background": "light"
     },
     "output_type": "display_data"
    }
   ],
   "source": [
    "# SVM works, k-NN doesn't\n",
    "fig, ax = plt.subplots()\n",
    "\n",
    "x_1 = np.arange(-15, 15)\n",
    "y_1 = x_1**2\n",
    "\n",
    "x_2 = np.arange(-15, 15, 2)\n",
    "y_2 = x_2**2\n",
    "\n",
    "ax.scatter(x_1, y_1, c='g')\n",
    "ax.scatter(x_2, y_2, c='c')\n",
    "\n",
    "plt.show()"
   ]
  },
  {
   "cell_type": "code",
   "execution_count": 57,
   "metadata": {},
   "outputs": [
    {
     "data": {
      "image/png": "[encoded data removed]",
      "text/plain": [
       "<Figure size 432x288 with 1 Axes>"
      ]
     },
     "metadata": {
      "needs_background": "light"
     },
     "output_type": "display_data"
    }
   ],
   "source": [
    "# k-NN classification works, linear SVC doesn't\n",
    "from sklearn.datasets import make_moons\n",
    "from sklearn.model_selection import train_test_split\n",
    "from sklearn.svm import SVC\n",
    "from sklearn.neighbors import KNeighborsClassifier\n",
    "from sklearn import metrics\n",
    "\n",
    "X, y = make_moons(n_samples=100, noise=0.15, random_state=0)\n",
    "\n",
    "plt.scatter(X[y == 0, 0], X[y == 0, 1],\n",
    "            c='r', marker='o', label='Class 0')\n",
    "plt.scatter(X[y == 1, 0], X[y == 1, 1],\n",
    "            c='b', marker='s', label='Class 1')\n",
    "\n",
    "plt.xlim(X[:, 0].min()-1, X[:, 0].max()+1)\n",
    "plt.ylim(X[:, 1].min()-1, X[:, 1].max()+1)\n",
    "plt.tight_layout()\n",
    "plt.show()"
   ]
  },
  {
   "cell_type": "markdown",
   "metadata": {},
   "source": [
    "### 4) K-NN Implementation\n",
    "- Implement the K-NN algorithm by hand (ie. Don't use the sklearn implementation)."
   ]
  },
  {
   "cell_type": "code",
   "execution_count": 4,
   "metadata": {},
   "outputs": [
    {
     "name": "stdout",
     "output_type": "stream",
     "text": [
      "k-NN from scratch has 98% accuracy\n"
     ]
    }
   ],
   "source": [
    "# Implement kNN by hand. It might be useful to store all distances in one array/list\n",
    "\n",
    "import pandas as pd\n",
    "import numpy as np\n",
    "from sklearn.datasets import load_iris\n",
    "import collections\n",
    "from sklearn import metrics\n",
    "from sklearn.model_selection import train_test_split\n",
    "\n",
    "\n",
    "# loading dataset\n",
    "iris = load_iris()\n",
    "iris_df = pd.DataFrame(data= np.c_[iris['data'], iris['target']],\n",
    "                     columns= iris['feature_names'] + ['target'])\n",
    "\n",
    "# Preview dataset\n",
    "iris_df.head()\n",
    "\n",
    "# convert iris_df into X and Y np arrays\n",
    "X = np.array(iris_df.iloc[:, 0:4]) \n",
    "y = np.array(iris_df['target'])\n",
    "\n",
    "# \"train\" test split\n",
    "X_train, X_test, y_train, y_test = train_test_split(X, y, test_size=0.33, random_state=42)\n",
    "\n",
    "# function to make k-NN prediction when query is made\n",
    "def kNN_pred(X_train, y_train, x_test, k):\n",
    "    \n",
    "    # lists to hold euclidean distances, and target values\n",
    "    euc_dists = []\n",
    "    targets = []\n",
    "\n",
    "    # iterate over each row of the training data and computer euclidean distances between sample and data\n",
    "    for i in range(len(X_train)):\n",
    "        euc_dists.append([np.sqrt(np.sum(np.square(x_test - X_train[i, :]))), i])\n",
    "        \n",
    "    # sort the list\n",
    "    euc_dists = sorted(euc_dists)\n",
    "\n",
    "    # make a list of the k neighbors' targets\n",
    "    for i in range(k):\n",
    "        index = euc_dists[i][1]\n",
    "        targets.append(y_train[index])\n",
    "\n",
    "    # return majority label from list of targets\n",
    "    return collections.Counter(targets).most_common(1)[0][0]\n",
    "\n",
    "def kNN(X_train, y_train, X_test, preds, k):\n",
    "\n",
    "    for i in range(len(X_test)):\n",
    "        preds.append(kNN_pred(X_train, y_train, X_test[i, :], k))\n",
    "\n",
    "# list of predictions \n",
    "preds = []\n",
    "\n",
    "kNN(X_train, y_train, X_test, preds, 7)\n",
    "preds = np.asarray(preds)\n",
    "\n",
    "# evaluating accuracy\n",
    "accuracy = metrics.accuracy_score(y_test, preds) * 100\n",
    "print('k-NN from scratch has %d%% accuracy' % accuracy)"
   ]
  },
  {
   "cell_type": "markdown",
   "metadata": {},
   "source": [
    "### 5) Ensemble Methods\n",
    "- Explain bagging and boosting. Clearly illustrate the difference between these methods. When would you use either one?\n",
    "- What is a decision tree? What is a random forest? Compare them and list 3 pros and cons of each?"
   ]
  },
  {
   "cell_type": "markdown",
   "metadata": {
    "collapsed": true
   },
   "source": [
    "_Answer:_\n",
    "\n",
    "\n",
    "- Bagging and boosting are techniques used in **Ensemble Learning**. **Bagging** is an abbreviation for **Bootstrap aggregation** which describes a technique where a training set $D$ of size $n$ is sampled uniformly and with replacement forming $m$ new training sets $D_{i}$ of size $n'$. Effectively, each model in the ensemble is given equal weight. **Boosting** consists of incrementally building a classifier by training each new model with a focus on the training examples that previous models incorrectly classified. A use case for **bagging** would be if a single model in the ensemble is dominating, and overfitting the data as a result. A use case for **boosting** would be if a model is showing low performance and high bias.\n",
    "\n",
    "\n",
    "- A **decision tree** is a decision support structure consisting of internal nodes that represent attribute tests, branches that represent outcomes, and a leaves which represent labels. \n",
    "\n",
    "\n",
    "- **Pros:**\n",
    "    1. Easily interpretable  \n",
    "    2. Very fast at testing time\n",
    "    3. Handles irrelevant or noisy data well\n",
    " \n",
    " \n",
    "- **Cons:** \n",
    "    1. Sensitive to pertubations in the dataset \n",
    "    2. Greedy (might not find best tree)\n",
    "    3. Prone to overfitting\n",
    "\n",
    "\n",
    "- **Random forest** is an ensemble learning method where many decision trees are created at training time and the class that is predicted is the mode of all the classes of the individual trees, or in the case of **random forest regression**, the prediction is the mean prediction of all the individual trees. \n",
    "\n",
    "\n",
    "- **Pros:**\n",
    "    1. Maintains accuracy when large proportions of the data are missing\n",
    "    2. Reduces variance\n",
    "    3. Runs effeciently on large datasets \n",
    "    \n",
    "    \n",
    "- **Cons:**\n",
    "    1. Not easily interpretable\n",
    "    2. Bias towards higher number of levels when dealing with categorical data \n",
    "    3. Bias towards smaller groups when dealing with data that has groups of correlated features of equal relevance"
   ]
  },
  {
   "cell_type": "markdown",
   "metadata": {},
   "source": [
    "### 6) PCA vs Autoencoders\n",
    "- Describe how PCA achieves dimensionality reduction. Outline the main steps of the algorithm\n",
    "- What is the importance of eigenvectors and eigenvalues in the PCA algorithm above.\n",
    "- When we compute the covariance matrix in PCA, we have to subtract the mean. Why do we do this?\n",
    "- What is Autoencoder (compare it to PCA)? Why are autoencoders better in general.\n",
    "- When is the reduced dimension of an encoder equivalent to that of a PCA"
   ]
  },
  {
   "cell_type": "markdown",
   "metadata": {
    "collapsed": true
   },
   "source": [
    "_Answer:_\n",
    "\n",
    "\n",
    "- **PCA** is an orthogonal linear transformation that transforms a dataset, which may contain correlated variables, into a dataset of linearly uncorrelated variables called principal components.\n",
    "\n",
    "\n",
    "- Main steps of the PCA algorithm are as follows:\n",
    "    1. Take the dataset of $d$-dimensional samples, ignoring class labels.\n",
    "    2. Calculate the $d$-dimensional mean vector.\n",
    "    3. Calculate the covariance matrix of the dataset.\n",
    "    4. Compute the eigenvectors and eigenvalues of the dataset.\n",
    "    5. Sort the eigenvectors by decreasing eigenvalue.\n",
    "    6. Select the k-largest eigenvectors according to eigenvalue.\n",
    "    7. Using the eigen vectors from step 6, construct a $d \\times k$-dimensional matrix $W$. \n",
    "    8. Multiplying the data with $W$ linearly projects our matrix into a new vector subspace.\n",
    "\n",
    "\n",
    "- Eigenvectors and Eigenvalues ensure that the projected matrix is uncorrelated and its variables are linearly independent.\n",
    "\n",
    "\n",
    "- Subtraction by the mean is done to normalize the covariance matrix. This is important because PCA projects the original matrix into a vector subspace such that that variance is maximized. \n",
    "\n",
    "\n",
    "- PCA is a special case of an autoencoder that is limited to linear transformations. Autoencoders can project the data using non-linear encoders and decoders. \n",
    "\n",
    "\n",
    "- An autoencoder with a **single** linear transformation layer is equivalent to a PCA. "
   ]
  },
  {
   "cell_type": "markdown",
   "metadata": {},
   "source": [
    "### 7) Implementation\n",
    "\n",
    "In the 1980's', Alex 'Sandy' Pentland came up with 'EigenFaces'. A novel way for facial classification using dimensionality reduction. We are going to try replicate the experiment in this question. We have loaded the face dataset for you below. Here's some steps for you: \n",
    "\n",
    "- Use PCA to reduce its dimensionality.\n",
    "- Use any algorithm to train a classifier for the dataset. You may use sklearn or pytorch. (Refer to PCA demo notebook for hints)\n",
    "- (Optional) Use autoencoders for the dimensionality reduction, compare results to PCA. Any comments/conculsions?\n"
   ]
  },
  {
   "cell_type": "code",
   "execution_count": 5,
   "metadata": {},
   "outputs": [
    {
     "name": "stderr",
     "output_type": "stream",
     "text": [
      "Downloading LFW metadata: https://ndownloader.figshare.com/files/5976012\n",
      "Downloading LFW metadata: https://ndownloader.figshare.com/files/5976009\n",
      "Downloading LFW metadata: https://ndownloader.figshare.com/files/5976006\n",
      "Downloading LFW data (~200MB): https://ndownloader.figshare.com/files/5976015\n"
     ]
    },
    {
     "name": "stdout",
     "output_type": "stream",
     "text": [
      "Total dataset size:\n",
      "n_samples: 1288\n",
      "n_features: 1850\n",
      "n_classes: 7\n"
     ]
    }
   ],
   "source": [
    "# loading the faces dataset\n",
    "from sklearn.datasets import fetch_lfw_people\n",
    "\n",
    "# uncomment below to load dataset(takes ~5 mins to load data)\n",
    "lfw_people = fetch_lfw_people(min_faces_per_person=70, resize=0.4)\n",
    "\n",
    "# introspect the images arrays to find the shapes (for plotting)\n",
    "n_samples, h, w = lfw_people.images.shape\n",
    "\n",
    "# assigning features vectors\n",
    "X = lfw_people.data\n",
    "n_features = X.shape[1]\n",
    "\n",
    "# the label to predict is the id of the person\n",
    "y = lfw_people.target\n",
    "target_names = lfw_people.target_names\n",
    "n_classes = target_names.shape[0]\n",
    "\n",
    "print(\"Total dataset size:\")\n",
    "print(\"n_samples: %d\" % n_samples)\n",
    "print(\"n_features: %d\" % n_features)\n",
    "print(\"n_classes: %d\" % n_classes)\n"
   ]
  },
  {
   "cell_type": "code",
   "execution_count": 19,
   "metadata": {},
   "outputs": [
    {
     "data": {
      "text/plain": [
       "<matplotlib.image.AxesImage at 0x2970d2ab278>"
      ]
     },
     "execution_count": 19,
     "metadata": {},
     "output_type": "execute_result"
    },
    {
     "data": {
      "image/png": "[encoded data removed]",
      "text/plain": [
       "<Figure size 432x288 with 1 Axes>"
      ]
     },
     "metadata": {
      "needs_background": "light"
     },
     "output_type": "display_data"
    }
   ],
   "source": [
    "# plot an example image\n",
    "import matplotlib.pyplot as plt\n",
    "from sklearn.decomposition import PCA\n",
    "plt.imshow(X[1].reshape(h,w), cmap = 'gray')"
   ]
  },
  {
   "cell_type": "code",
   "execution_count": 20,
   "metadata": {},
   "outputs": [
    {
     "data": {
      "image/png": "[encoded data removed]",
      "text/plain": [
       "<Figure size 432x288 with 1 Axes>"
      ]
     },
     "metadata": {
      "needs_background": "light"
     },
     "output_type": "display_data"
    },
    {
     "data": {
      "image/png": "[encoded data removed]",
      "text/plain": [
       "<Figure size 432x288 with 1 Axes>"
      ]
     },
     "metadata": {
      "needs_background": "light"
     },
     "output_type": "display_data"
    },
    {
     "name": "stdout",
     "output_type": "stream",
     "text": [
      "Shape of data before PCA: (1288, 1850)\n",
      "Shape of data after PCA: (1288, 50)\n"
     ]
    }
   ],
   "source": [
    "X_average_row = np.average(X, axis=0)\n",
    "X_bar = X - X_average_row\n",
    "sigma = X_bar.T.dot(X_bar)\n",
    "\n",
    "eigenvalues, _ = np.linalg.eig(sigma)\n",
    "\n",
    "plt.plot(np.arange(len(eigenvalues)), eigenvalues)\n",
    "plt.show()\n",
    "\n",
    "plt.plot(np.arange(100), eigenvalues[:100])\n",
    "plt.show()\n",
    "\n",
    "pca = PCA(n_components=50)\n",
    "pca.fit(X)\n",
    "\n",
    "X_pca = pca.transform(X)\n",
    "print(\"Shape of data before PCA: {0}\".format(X.shape))\n",
    "print(\"Shape of data after PCA: {0}\".format(X_pca.shape))"
   ]
  },
  {
   "cell_type": "code",
   "execution_count": 29,
   "metadata": {},
   "outputs": [
    {
     "name": "stdout",
     "output_type": "stream",
     "text": [
      "MLP Traing Accuracy: 0.9704968944099379\n"
     ]
    }
   ],
   "source": [
    "from sklearn.decomposition import PCA\n",
    "from sklearn.neural_network import MLPClassifier\n",
    "from sklearn.metrics import accuracy_score\n",
    "\n",
    "pca = PCA(n_components=50)\n",
    "pca.fit(X)\n",
    "\n",
    "nn = MLPClassifier(hidden_layer_sizes=(1288,), batch_size=256, verbose=False, early_stopping=True)\n",
    "X_transformed = pca.transform(X)\n",
    "nn.fit(X_transformed, y)\n",
    "\n",
    "print(\"MLP Traing Accuracy: {}\".format(accuracy_score(nn.predict(X_transformed), y)))"
   ]
  },
  {
   "cell_type": "markdown",
   "metadata": {},
   "source": [
    "## Bonus Challenge! (Optional)\n",
    "\n",
    "This will take some time. However, trust that it is a rewarding experience. There will be a prize for whoever implements it correctly!\n",
    "\n",
    "- Implement a feed forward neural network with back proprogation using stochastic gradient descent by hand. \n",
    "- Use any dataset you want and test the accuracy"
   ]
  },
  {
   "cell_type": "code",
   "execution_count": null,
   "metadata": {},
   "outputs": [],
   "source": [
    "### your code below ###\n",
    "\n"
   ]
  }
 ],
 "metadata": {
  "kernelspec": {
   "display_name": "Python (MAIS-202)",
   "language": "python",
   "name": ".mais-env"
  },
  "language_info": {
   "codemirror_mode": {
    "name": "ipython",
    "version": 3
   },
   "file_extension": ".py",
   "mimetype": "text/x-python",
   "name": "python",
   "nbconvert_exporter": "python",
   "pygments_lexer": "ipython3",
   "version": "3.7.1"
  }
 },
 "nbformat": 4,
 "nbformat_minor": 2
}
