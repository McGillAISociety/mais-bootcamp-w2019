{
 "cells": [
  {
   "cell_type": "markdown",
   "metadata": {},
   "source": [
    "# Assignment 4: Mid Point Review"
   ]
  },
  {
   "cell_type": "markdown",
   "metadata": {},
   "source": [
    "Congratulations, you have reached the midpoint of the course! The rest of the course will be focused on more advanced state of the art machine learning techniques. However, before we dive into that, this assignment will be focused on ensuring you understand all the core concepts that have been covered so far. Keep in mind, these are questions that can be asked during machine learning internship interviews, so do make sure you understand them if you want to dive into this industry!"
   ]
  },
  {
   "cell_type": "markdown",
   "metadata": {},
   "source": [
    "### 1) Linear vs Polynomial Regression\n",
    "- Describe both Linear Regression and Polynomial Regression (3 lines or less each).\n",
    "\n",
    "- Describe overfitting vs underfitting with respect to parameters.  \n"
   ]
  },
  {
   "cell_type": "markdown",
   "metadata": {
    "collapsed": true
   },
   "source": [
    "# Linear Regression\n",
    "Linear regression is a regression of the form y = theta 1 x^1 +theta2 x^0+ epsilon. It can be used when the data we are trying to fit has a linear shape, i.e. a line, but it cannot fit a model in the form of a polynomial.\n",
    "# Polynomial Regression\n",
    "This is what the regression that allows the model to fit more complex data, based on the same initial set of data. By calling SKLearn Polynomial Features, we will be transforming the data in the following way. Assume we have 1D data of two inputs. [a,b], it will be transformed to [1,a^2,b^2,ab]. And we can fit our coefficients on those 4 inputs instead if 2. Assuming degree 2. That is.\n",
    "# Underfitting\n",
    "Underfitting means your model is not complex enough to capture completely your data. I.e. fitting a line through a (x^2) shape for instance.\n",
    "# Overfitting\n",
    "This means your model is way too complex, to capture what happened in the data. I.e. you are also fitting the noise of that data. I.e. Fitting a (x^2) with a polynomial of degree 10. It is akin to have memorized the data completely."
   ]
  },
  {
   "cell_type": "markdown",
   "metadata": {
    "collapsed": true
   },
   "source": [
    "### 2) Logistic Regression vs. Linear SVM\n",
    "- Describe how logistic regression works (3 lines or less)\n",
    "- Describe how linear SVM works. Mention the role(s) of:\n",
    "    - support vectors\n",
    "    - margin\n",
    "    - slack variables\n",
    "    - kernels\n",
    "- Plot an example for SVM where the linear kernel is not enough to separate the data, but another kernel works"
   ]
  },
  {
   "cell_type": "markdown",
   "metadata": {
    "collapsed": true
   },
   "source": [
    "# Logistic Regression\n",
    "It allows to classify data that cannot be modeled to a regression. Logistic Regression returns the probability of an event being to one class or another. Since probability cannot be more than 1, less than 0, regression cannot work, since the forbidden values are possible. It is basically done through a Sigmoid, Relu, TanH.\n",
    "\n",
    "# Linear SVM\n",
    "It is a plane create that maximize the margins between the data. The margins are calculate with the support vectors, i.e. the vectors that are on the margin of the hyperplane. However, is it not always possible to classify it with a linear kernel, but augmenting to a higher dimension will work. Slack variables are used to allow approximation and errors if the case that we do not want to use kernels to augment out dimension.\n",
    "\n",
    "# Link for Linear Kernel does not work\n",
    "https://en.wikipedia.org/wiki/Support-vector_machine#/media/File:Kernel_Machine.svg"
   ]
  },
  {
   "cell_type": "markdown",
   "metadata": {},
   "source": [
    "### 3) Linear SVM vs k-NN\n",
    "- K-Nearest Neighbours is a popular unsupervised learning algorithm. Explain the difference between supervised and unsupervised learning?\n",
    "- K-NN is an example of a lazy learning algorithm. Why is it called so. What could be a use case? Justify using a lazy learning algorithm in that case.\n",
    "- Outline the main steps for the KNN algorithm. Use text, code, plots, diagrams, etc as necessary.  \n",
    "- Plot a example dataset which works in an SVM classification and not k-NN classification. Repeat for the reverse scenario."
   ]
  },
  {
   "cell_type": "code",
   "execution_count": 14,
   "metadata": {
    "collapsed": true
   },
   "outputs": [],
   "source": [
    "#This Question"
   ]
  },
  {
   "cell_type": "markdown",
   "metadata": {},
   "source": [
    "### 4) K-NN Implementation\n",
    "- Implement the K-NN algorithm by hand (ie. Don't use the sklearn implementation)."
   ]
  },
  {
   "cell_type": "code",
   "execution_count": 120,
   "metadata": {},
   "outputs": [],
   "source": [
    "# Implement kNN by hand. It might be useful to store all distances in one array/list\n",
    "import csv\n",
    "import math\n",
    "import pandas as pd\n",
    "import numpy as np\n",
    "from sklearn.datasets import load_iris\n",
    "from sklearn.neighbors import KNeighborsClassifier as KNC\n",
    "from collections import Counter\n",
    "\n",
    "# loading dataset\n",
    "iris = load_iris()\n",
    "df = pd.DataFrame(data= np.c_[iris['data'], iris['target']],\n",
    "                     columns= iris['feature_names'] + ['target'])\n",
    "\n",
    "# Preview dataset 3 classies in total\n",
    "df.head()\n",
    "\n",
    "#Shuffle data. drop=True prevent from creating another feature column with previous index\n",
    "df = df.sample(frac=1).reset_index(drop=True)\n",
    "\n",
    "#Split into train test\n",
    "train=df.iloc[:100]\n",
    "test=df.iloc[100:]\n",
    "\n",
    "#split feature-target\n",
    "trainx = train.drop(columns = \"target\")\n",
    "trainy = train.target\n",
    "\n",
    "testx=test.drop(columns=\"target\")\n",
    "testy=test.target\n",
    "\n",
    "#Lets just try to fit the data\n",
    "knn1 = KNC(n_neighbors=3)\n",
    "knn1=knn1.fit(trainx,trainy)\n",
    "pred=knn1.predict(testx)"
   ]
  },
  {
   "cell_type": "code",
   "execution_count": 121,
   "metadata": {},
   "outputs": [
    {
     "data": {
      "text/html": [
       "<div>\n",
       "<style scoped>\n",
       "    .dataframe tbody tr th:only-of-type {\n",
       "        vertical-align: middle;\n",
       "    }\n",
       "\n",
       "    .dataframe tbody tr th {\n",
       "        vertical-align: top;\n",
       "    }\n",
       "\n",
       "    .dataframe thead th {\n",
       "        text-align: right;\n",
       "    }\n",
       "</style>\n",
       "<table border=\"1\" class=\"dataframe\">\n",
       "  <thead>\n",
       "    <tr style=\"text-align: right;\">\n",
       "      <th></th>\n",
       "      <th>sepal length (cm)</th>\n",
       "      <th>sepal width (cm)</th>\n",
       "      <th>petal length (cm)</th>\n",
       "      <th>petal width (cm)</th>\n",
       "      <th>target</th>\n",
       "    </tr>\n",
       "  </thead>\n",
       "  <tbody>\n",
       "    <tr>\n",
       "      <th>0</th>\n",
       "      <td>6.4</td>\n",
       "      <td>3.2</td>\n",
       "      <td>5.3</td>\n",
       "      <td>2.3</td>\n",
       "      <td>2.0</td>\n",
       "    </tr>\n",
       "    <tr>\n",
       "      <th>1</th>\n",
       "      <td>6.7</td>\n",
       "      <td>3.0</td>\n",
       "      <td>5.0</td>\n",
       "      <td>1.7</td>\n",
       "      <td>1.0</td>\n",
       "    </tr>\n",
       "    <tr>\n",
       "      <th>2</th>\n",
       "      <td>4.9</td>\n",
       "      <td>3.1</td>\n",
       "      <td>1.5</td>\n",
       "      <td>0.2</td>\n",
       "      <td>0.0</td>\n",
       "    </tr>\n",
       "    <tr>\n",
       "      <th>3</th>\n",
       "      <td>6.1</td>\n",
       "      <td>2.8</td>\n",
       "      <td>4.7</td>\n",
       "      <td>1.2</td>\n",
       "      <td>1.0</td>\n",
       "    </tr>\n",
       "    <tr>\n",
       "      <th>4</th>\n",
       "      <td>7.2</td>\n",
       "      <td>3.6</td>\n",
       "      <td>6.1</td>\n",
       "      <td>2.5</td>\n",
       "      <td>2.0</td>\n",
       "    </tr>\n",
       "  </tbody>\n",
       "</table>\n",
       "</div>"
      ],
      "text/plain": [
       "   sepal length (cm)  sepal width (cm)  petal length (cm)  petal width (cm)  \\\n",
       "0                6.4               3.2                5.3               2.3   \n",
       "1                6.7               3.0                5.0               1.7   \n",
       "2                4.9               3.1                1.5               0.2   \n",
       "3                6.1               2.8                4.7               1.2   \n",
       "4                7.2               3.6                6.1               2.5   \n",
       "\n",
       "   target  \n",
       "0     2.0  \n",
       "1     1.0  \n",
       "2     0.0  \n",
       "3     1.0  \n",
       "4     2.0  "
      ]
     },
     "execution_count": 121,
     "metadata": {},
     "output_type": "execute_result"
    }
   ],
   "source": [
    "df.head()"
   ]
  },
  {
   "cell_type": "code",
   "execution_count": 122,
   "metadata": {},
   "outputs": [],
   "source": [
    "#Define Accuracy function\n",
    "def accuracy(real, predict):\n",
    "    return (sum(real == predict) / float(real.size))*100"
   ]
  },
  {
   "cell_type": "code",
   "execution_count": 123,
   "metadata": {},
   "outputs": [
    {
     "name": "stdout",
     "output_type": "stream",
     "text": [
      "Accuracy of 96.0\n"
     ]
    }
   ],
   "source": [
    "print(\"Accuracy of\",accuracy(testy, pred))"
   ]
  },
  {
   "cell_type": "code",
   "execution_count": 124,
   "metadata": {},
   "outputs": [],
   "source": [
    "#Lets Implement it by hand"
   ]
  },
  {
   "cell_type": "code",
   "execution_count": 125,
   "metadata": {},
   "outputs": [],
   "source": [
    "#Step 1: Distance Calculation\n",
    "def distance(a,b):\n",
    "    return np.linalg.norm(a-b)"
   ]
  },
  {
   "cell_type": "code",
   "execution_count": 126,
   "metadata": {},
   "outputs": [],
   "source": [
    "#Step 2: For each point in test set, calculate the distance between each train point.\n",
    "\n",
    "def alldist(train,testelement): #calculate the distance for one element in the testset\n",
    "    dist=[]\n",
    "    for x in range(train.shape[0]): #loops through the entire trainset (panda dataframe)\n",
    "        temp=np.asarray(train.loc[x])\n",
    "        dist.append(distance(temp,testelement))\n",
    "    return dist\n"
   ]
  },
  {
   "cell_type": "code",
   "execution_count": 127,
   "metadata": {},
   "outputs": [],
   "source": [
    "def knn(trainx,trainy,testx,testy,k=1):\n",
    "    count = 0\n",
    "    for x in range(test.shape[0]):\n",
    "        a=np.asarray(testx.iloc[x])\n",
    "        temp=alldist(trainx,a)\n",
    "        temp=np.asarray(temp)\n",
    "        b=np.where(temp==np.amin(temp))[0][0]\n",
    "        if(trainy.iloc[b]==testy.iloc[x]):\n",
    "            count +=1\n",
    "    return count"
   ]
  },
  {
   "cell_type": "code",
   "execution_count": 132,
   "metadata": {},
   "outputs": [
    {
     "name": "stdout",
     "output_type": "stream",
     "text": [
      "Accuracy of self implemented knn is 96.0\n"
     ]
    }
   ],
   "source": [
    "print(\"Accuracy of self implemented knn is\",(knn(trainx,trainy,testx,testy)/test.shape[0]*100))"
   ]
  },
  {
   "cell_type": "code",
   "execution_count": null,
   "metadata": {},
   "outputs": [],
   "source": []
  },
  {
   "cell_type": "code",
   "execution_count": 103,
   "metadata": {},
   "outputs": [
    {
     "data": {
      "text/plain": [
       "0.2999999999999998"
      ]
     },
     "execution_count": 103,
     "metadata": {},
     "output_type": "execute_result"
    }
   ],
   "source": [
    "#np.amin(test)"
   ]
  },
  {
   "cell_type": "code",
   "execution_count": 104,
   "metadata": {},
   "outputs": [
    {
     "data": {
      "text/plain": [
       "46"
      ]
     },
     "execution_count": 104,
     "metadata": {},
     "output_type": "execute_result"
    }
   ],
   "source": [
    "#np.where(test==np.amin(test))[0][0]"
   ]
  },
  {
   "cell_type": "code",
   "execution_count": 77,
   "metadata": {},
   "outputs": [
    {
     "data": {
      "text/plain": [
       "2.0"
      ]
     },
     "execution_count": 77,
     "metadata": {},
     "output_type": "execute_result"
    }
   ],
   "source": [
    "#trainy.iloc[20]"
   ]
  },
  {
   "cell_type": "code",
   "execution_count": 87,
   "metadata": {},
   "outputs": [
    {
     "data": {
      "text/plain": [
       "2.0"
      ]
     },
     "execution_count": 87,
     "metadata": {},
     "output_type": "execute_result"
    }
   ],
   "source": [
    "#testy.iloc[1]"
   ]
  },
  {
   "cell_type": "code",
   "execution_count": 84,
   "metadata": {},
   "outputs": [
    {
     "data": {
      "text/plain": [
       "75     1.0\n",
       "76     2.0\n",
       "77     0.0\n",
       "78     2.0\n",
       "79     2.0\n",
       "80     2.0\n",
       "81     0.0\n",
       "82     1.0\n",
       "83     2.0\n",
       "84     0.0\n",
       "85     1.0\n",
       "86     2.0\n",
       "87     1.0\n",
       "88     0.0\n",
       "89     0.0\n",
       "90     0.0\n",
       "91     2.0\n",
       "92     0.0\n",
       "93     1.0\n",
       "94     1.0\n",
       "95     0.0\n",
       "96     2.0\n",
       "97     1.0\n",
       "98     0.0\n",
       "99     1.0\n",
       "100    2.0\n",
       "101    0.0\n",
       "102    2.0\n",
       "103    2.0\n",
       "104    2.0\n",
       "      ... \n",
       "120    0.0\n",
       "121    1.0\n",
       "122    0.0\n",
       "123    2.0\n",
       "124    1.0\n",
       "125    2.0\n",
       "126    1.0\n",
       "127    0.0\n",
       "128    1.0\n",
       "129    2.0\n",
       "130    1.0\n",
       "131    1.0\n",
       "132    0.0\n",
       "133    2.0\n",
       "134    2.0\n",
       "135    1.0\n",
       "136    2.0\n",
       "137    2.0\n",
       "138    0.0\n",
       "139    2.0\n",
       "140    0.0\n",
       "141    0.0\n",
       "142    0.0\n",
       "143    2.0\n",
       "144    2.0\n",
       "145    1.0\n",
       "146    2.0\n",
       "147    0.0\n",
       "148    1.0\n",
       "149    0.0\n",
       "Name: target, Length: 75, dtype: float64"
      ]
     },
     "execution_count": 84,
     "metadata": {},
     "output_type": "execute_result"
    }
   ],
   "source": [
    "#testy"
   ]
  },
  {
   "cell_type": "markdown",
   "metadata": {},
   "source": [
    "### 5) Ensemble Methods\n",
    "- Explain bagging and boosting. Clearly illustrate the difference between these methods. When would you use either one?\n",
    "- What is a decision tree? What is a random forest? Compare them and list 3 pros and cons of each?"
   ]
  },
  {
   "cell_type": "markdown",
   "metadata": {
    "collapsed": true
   },
   "source": [
    "# Bagging\n",
    "Bagging is the application of the Bootstrap procedure to a high-variance machine learning algorithm, typically decision trees.\n",
    "\n",
    "# Boosting\n",
    "Boosting refers to a group of algorithms that utilize weighted averages to make weak learners into stronger learners.\n",
    "\n",
    "# When to use\n",
    "Use Boosting for a better bias and bagging to prevent from overfitting.\n",
    "\n",
    "# Decision Tree\n",
    "It is a tree that classify thing starting from the biggest component to go to the smallest.\n",
    "\n",
    "# Random Forest\n",
    "It is a collection of decision trees.\n",
    "\n",
    "# Pros and cons\n",
    "## Decision Tree\n",
    "1. Easy to interpret and make for straightforward visualizations.\n",
    "2. The internal workings are capable of being observed and thus make it possible to reproduce work.\n",
    "3. Can handle both numerical and categorical data.\n",
    "\n",
    "1. Low Biase\n",
    "2. High Variance\n",
    "3. Overfitting\n",
    "\n",
    "## Random Forest\n",
    "1. There is no need for feature normalization.\n",
    "2. Individual decision trees can be trained in parallel.\n",
    "3. They reduce overfitting\n",
    "\n",
    "1. They’re not easily interpretable.\n",
    "2. They’re not a state-of-the-art algorithm.\n",
    "3. Fails on rare outcomes"
   ]
  },
  {
   "cell_type": "markdown",
   "metadata": {},
   "source": [
    "### 6) PCA vs Autoencoders\n",
    "- Describe how PCA achieves dimensionality reduction. Outline the main steps of the algorithm\n",
    "- What is the importance of eigenvectors and eigenvalues in the PCA algorithm above.\n",
    "- When we compute the covariance matrix in PCA, we have to subtract the mean. Why do we do this?\n",
    "- What is Autoencoder (compare it to PCA)? Why are autoencoders better in general.\n",
    "- When is the reduced dimension of an encoder equivalent to that of a PCA"
   ]
  },
  {
   "cell_type": "markdown",
   "metadata": {
    "collapsed": true
   },
   "source": [
    "# PCA\n",
    "A PCA creates new features based on the old features. I.e. a linear combination of old variables creates the new variable i.e. the best combination of original variables such that the variance between the new variables is the maximum.\n",
    "\n",
    "The eigenvector represents an axis and the eigen value is the variance along that eigen vector. So the higher the eigen value, the more variance we keep, so the more representable our new artificial variable is compared to the original variable. \n",
    "\n",
    "We substract the mean, to center our results so it has \"less variance(I guess??)\"\n",
    "\n",
    "Autoencoders are not restricted to linear map unlike PCA. The autoencoder goes both way. It is a type of artificial neural network used to efficiently encode the data in an unsupervised manner. It not only allow for dimension reducing (although it may sometime increase the dimension) - Encoding -, however, while encoding, it will also learn a decoding weights such that the encoded can be now decoded. \n",
    "\n",
    "It is similar when the autoencoder has a single layer. i.e. it is linear. \n"
   ]
  },
  {
   "cell_type": "markdown",
   "metadata": {},
   "source": [
    "### 7) Implementation\n",
    "\n",
    "In the 1980's', Alex 'Sandy' Pentland came up with 'EigenFaces'. A novel way for facial classification using dimensionality reduction. We are going to try replicate the experiment in this question. We have loaded the face dataset for you below. Here's some steps for you: \n",
    "\n",
    "- Use PCA to reduce its dimensionality.\n",
    "- Use any algorithm to train a classifier for the dataset. You may use sklearn or pytorch. (Refer to PCA demo notebook for hints)\n",
    "- (Optional) Use autoencoders for the dimensionality reduction, compare results to PCA. Any comments/conculsions?\n"
   ]
  },
  {
   "cell_type": "code",
   "execution_count": 70,
   "metadata": {},
   "outputs": [
    {
     "name": "stderr",
     "output_type": "stream",
     "text": [
      "Downloading LFW metadata: https://ndownloader.figshare.com/files/5976012\n",
      "Downloading LFW metadata: https://ndownloader.figshare.com/files/5976009\n",
      "Downloading LFW metadata: https://ndownloader.figshare.com/files/5976006\n",
      "Downloading LFW data (~200MB): https://ndownloader.figshare.com/files/5976015\n"
     ]
    },
    {
     "name": "stdout",
     "output_type": "stream",
     "text": [
      "Total dataset size:\n",
      "n_samples: 1288\n",
      "n_features: 1850\n",
      "n_classes: 7\n"
     ]
    }
   ],
   "source": [
    "# loading the faces dataset\n",
    "from sklearn.datasets import fetch_lfw_people\n",
    "\n",
    "# uncomment below to load dataset(takes ~5 mins to load data)\n",
    "lfw_people = fetch_lfw_people(min_faces_per_person=70, resize=0.4)\n",
    "\n",
    "# introspect the images arrays to find the shapes (for plotting)\n",
    "n_samples, h, w = lfw_people.images.shape\n",
    "\n",
    "# assigning features vectors\n",
    "X = lfw_people.data\n",
    "n_features = X.shape[1]\n",
    "\n",
    "# the label to predict is the id of the person\n",
    "y = lfw_people.target\n",
    "target_names = lfw_people.target_names\n",
    "n_classes = target_names.shape[0]\n",
    "\n",
    "print(\"Total dataset size:\")\n",
    "print(\"n_samples: %d\" % n_samples)\n",
    "print(\"n_features: %d\" % n_features)\n",
    "print(\"n_classes: %d\" % n_classes)\n"
   ]
  },
  {
   "cell_type": "code",
   "execution_count": 116,
   "metadata": {},
   "outputs": [
    {
     "data": {
      "image/png": "[encoded data removed]",
      "text/plain": [
       "<Figure size 432x288 with 1 Axes>"
      ]
     },
     "metadata": {
      "needs_background": "light"
     },
     "output_type": "display_data"
    }
   ],
   "source": [
    "# plot an example image\n",
    "import matplotlib.pyplot as plt\n",
    "plt.imshow(X[1].reshape(h,w), cmap = 'gray')\n",
    "plt.show()\n",
    "### insert your code here ###"
   ]
  },
  {
   "cell_type": "code",
   "execution_count": 121,
   "metadata": {},
   "outputs": [],
   "source": [
    "from sklearn.preprocessing import StandardScaler\n",
    "StdSc = StandardScaler()\n",
    "X=StdSc.fit_transform(X)"
   ]
  },
  {
   "cell_type": "code",
   "execution_count": 139,
   "metadata": {},
   "outputs": [],
   "source": [
    "from sklearn.decomposition import PCA\n",
    "pca = PCA(n_components=900)\n",
    "X = pca.fit_transform(X)"
   ]
  },
  {
   "cell_type": "code",
   "execution_count": 140,
   "metadata": {},
   "outputs": [],
   "source": [
    "trainx=X[:1000]\n",
    "trainy=y[:1000]\n",
    "testx=X[1000:]\n",
    "testy=y[1000:]"
   ]
  },
  {
   "cell_type": "code",
   "execution_count": 146,
   "metadata": {},
   "outputs": [
    {
     "name": "stdout",
     "output_type": "stream",
     "text": [
      "Accuracy of 62.84722222222222\n"
     ]
    }
   ],
   "source": [
    "knn1 = KNC(n_neighbors=5)\n",
    "knn1=knn1.fit(trainx,trainy)\n",
    "pred=knn1.predict(testx)\n",
    "print(\"Accuracy of\",accuracy(testy, pred))"
   ]
  },
  {
   "cell_type": "markdown",
   "metadata": {},
   "source": [
    "## Bonus Challenge! (Optional)\n",
    "\n",
    "This will take some time. However, trust that it is a rewarding experience. There will be a prize for whoever implements it correctly!\n",
    "\n",
    "- Implement a feed forward neural network with back proprogation using stochastic gradient descent by hand. \n",
    "- Use any dataset you want and test the accuracy"
   ]
  },
  {
   "cell_type": "code",
   "execution_count": 147,
   "metadata": {},
   "outputs": [],
   "source": [
    "### your code below ###"
   ]
  },
  {
   "cell_type": "code",
   "execution_count": null,
   "metadata": {},
   "outputs": [],
   "source": []
  },
  {
   "cell_type": "code",
   "execution_count": 87,
   "metadata": {},
   "outputs": [],
   "source": []
  },
  {
   "cell_type": "code",
   "execution_count": 88,
   "metadata": {},
   "outputs": [],
   "source": []
  },
  {
   "cell_type": "code",
   "execution_count": null,
   "metadata": {},
   "outputs": [],
   "source": []
  }
 ],
 "metadata": {
  "kernelspec": {
   "display_name": "Python 3",
   "language": "python",
   "name": "python3"
  },
  "language_info": {
   "codemirror_mode": {
    "name": "ipython",
    "version": 3
   },
   "file_extension": ".py",
   "mimetype": "text/x-python",
   "name": "python",
   "nbconvert_exporter": "python",
   "pygments_lexer": "ipython3",
   "version": "3.6.7"
  }
 },
 "nbformat": 4,
 "nbformat_minor": 2
}
