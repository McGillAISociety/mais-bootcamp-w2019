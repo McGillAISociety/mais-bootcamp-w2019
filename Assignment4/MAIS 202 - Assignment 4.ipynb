{
 "cells": [
  {
   "cell_type": "markdown",
   "metadata": {},
   "source": [
    "# Assignment 4: Mid Point Review"
   ]
  },
  {
   "cell_type": "markdown",
   "metadata": {},
   "source": [
    "Congratulations, you have reached the midpoint of the course! The rest of the course will be focused on more advanced state of the art machine learning techniques. However, before we dive into that, this assignment will be focused on ensuring you understand all the core concepts that have been covered so far. Keep in mind, these are questions that can be asked during machine learning internship interviews, so do make sure you understand them if you want to dive into this industry!"
   ]
  },
  {
   "cell_type": "markdown",
   "metadata": {},
   "source": [
    "### 1) Linear vs Polynomial Regression\n",
    "- Describe both Linear Regression and Polynomial Regression (3 lines or less each).\n",
    "\n",
    "- Describe overfitting vs underfitting with respect to parameters.  \n"
   ]
  },
  {
   "cell_type": "markdown",
   "metadata": {
    "collapsed": true
   },
   "source": [
    "Linear regression is when you model the relationship between the indepent variable (x) and dependent variable (y) of a data set. The most basic model for linear regression is $y = \\beta_0 + \\beta_1 x + \\epsilon$ where $\\epsilon$ is gaussian noise. Polynomial regression is a more complicated form of linear regression where $y = \\beta_0 + \\beta_1 x + \\beta_2 x^2 + ... + \\beta_n x^n + \\epsilon$. By treating $x, x^2, x^3...$ as separate independent variables this can be treated as a linear equation.\n",
    "\n",
    "Underfitting can occur when using a lower dimensional polynomial fit than is required. If the x and y data has some sort of polynomial relationship but is modeled with a 1st degree linear equation, it is impossible for that linear fit to properly model the data. However, if a polynomial fit with too high of a degree is used it can lead to overfitting. Overfitting in general is when the model starts to \"memorize\" the training set. It will score a very high accuracy on the training set, but when given a test set that wasn't part of its training it will behave poorly."
   ]
  },
  {
   "cell_type": "markdown",
   "metadata": {
    "collapsed": true
   },
   "source": [
    "### 2) Logistic Regression vs. Linear SVM\n",
    "- Describe how logistic regression works (3 lines or less)\n",
    "- Describe how linear SVM works. Mention the role(s) of:\n",
    "    - support vectors\n",
    "    - margin\n",
    "    - slack variables\n",
    "    - kernels\n",
    "- Plot an example for SVM where the linear kernel is not enough to separate the data, but another kernel works"
   ]
  },
  {
   "cell_type": "markdown",
   "metadata": {
    "collapsed": true
   },
   "source": [
    "Logistic regression works to categorize data. For each potential category which the data point can fall into, a probability between 0 and 1 is given. \n",
    "\n",
    "A linear SVM seeks to find a line (or hyperplane) which separates two types of data categories and attempts to maximize the margin between the hyperplane and the nearest datapoints. Datapoints which fall along the margin are called support vectors. \n",
    "The hyperplane is defined as $w^T \\cdot x + w_0 = 0$ for $x \\in \\mathbb{R}^n$ and the margin is defined as $y_i(w^T \\cdot x_i + w_0) \\ge 1$ for the datapoints ($x_i, y_i$). If the categories are mostly linearally separable except for some overlap, the margin can be defined as $y_i(w^T \\cdot x_i + w_0) \\ge 1 - \\epsilon_i$ where $\\epsilon_i$ is a slack variable which quantifies how much the $i$th datapoint goes past the margin. In this case, the sum of all $\\epsilon_i$ is minimized when finding the equation of the hyperplane. If the dataset is not linearally separable a kernel can be used to map the data into a different dimensional space where it can be separated."
   ]
  },
  {
   "cell_type": "code",
   "execution_count": 1,
   "metadata": {},
   "outputs": [
    {
     "data": {
      "text/plain": [
       "<Figure size 640x480 with 1 Axes>"
      ]
     },
     "metadata": {},
     "output_type": "display_data"
    },
    {
     "data": {
      "text/plain": [
       "<Figure size 640x480 with 1 Axes>"
      ]
     },
     "metadata": {},
     "output_type": "display_data"
    }
   ],
   "source": [
    "import matplotlib.pyplot as plt\n",
    "import numpy as np\n",
    "x_r = (np.random.rand(10) * 2) - 1\n",
    "y_r = (np.random.rand(10) * 2) - 1\n",
    "\n",
    "x_b = (np.random.rand(10) * 2) - 1\n",
    "x_b = np.array([x + 2 if x > 0 else x - 2 for x in x_b])\n",
    "y_b = (np.random.rand(10) * 2) - 1\n",
    "y_b = np.array([y + 2 if y > 0 else y - 2 for y in y_b])\n",
    "\n",
    "# Not linearally separable!\n",
    "plt.plot(x_r, y_r, color='r', linestyle='', marker='o')\n",
    "plt.plot(x_b, y_b, color='b', linestyle='', marker='o')\n",
    "plt.title(\"Not linearally separable\")\n",
    "plt.show()\n",
    "\n",
    "# Transform to make it separable\n",
    "def kernel(x, y):\n",
    "    return x, y**2\n",
    "\n",
    "plt.plot(*kernel(x_r, y_r), color='r', linestyle='', marker='o')\n",
    "plt.plot(*kernel(x_b, y_b), color='b', linestyle='', marker='o')\n",
    "plt.title(\"Linearally separable with kernel!\")\n",
    "plt.show()"
   ]
  },
  {
   "cell_type": "markdown",
   "metadata": {},
   "source": [
    "### 3) Linear SVM vs k-NN\n",
    "- K-Nearest Neighbours is a popular unsupervised learning algorithm. Explain the difference between supervised and unsupervised learning?\n",
    "- K-NN is an example of a lazy learning algorithm. Why is it called so. What could be a use case? Justify using a lazy learning algorithm in that case.\n",
    "- Outline the main steps for the KNN algorithm. Use text, code, plots, diagrams, etc as necessary.  \n",
    "- Plot a example dataset which works in an SVM classification and not k-NN classification. Repeat for the reverse scenario."
   ]
  },
  {
   "cell_type": "markdown",
   "metadata": {
    "collapsed": true
   },
   "source": [
    "K-NN is a lazy learnng algorithm because the model does not have to be trained prior to being used. Using k-NN is good for distinguishing the class of things which are similar to each other. \n",
    "\n",
    "K-NN works by first taking in a training set of data points and normalizing its features so that they have values from 0 to 1. This makes it so that the variation in all the features are weighted equally. Then to predict the label of a new datapoint, the distance between it and all the training set data points is calculated in the feature space. In my implementation I modeled this using euclidean distance. The first k training set data points with the smallest distance are considered as its k nearest neighbours. The most common label amongst these k known points is used as the prediction."
   ]
  },
  {
   "cell_type": "code",
   "execution_count": 2,
   "metadata": {},
   "outputs": [
    {
     "data": {
      "image/png": "[encoded data removed]",
      "text/plain": [
       "<Figure size 432x288 with 1 Axes>"
      ]
     },
     "metadata": {},
     "output_type": "display_data"
    },
    {
     "data": {
      "image/png": "[encoded data removed]",
      "text/plain": [
       "<Figure size 432x288 with 1 Axes>"
      ]
     },
     "metadata": {},
     "output_type": "display_data"
    }
   ],
   "source": [
    "x = np.linspace(0, 1, 5)\n",
    "x_r = x + np.random.rand(5) * 0.1\n",
    "x_b = x + np.random.rand(5) * 0.1\n",
    "y_r = x + np.random.rand(5) * 0.1 + 0.1\n",
    "y_b = x + np.random.rand(5) * 0.1 - 0.1\n",
    "\n",
    "plt.plot(x_r, y_r, color='r', marker='o', linestyle='')\n",
    "plt.plot(x_b, y_b, color='b', marker='o', linestyle='')\n",
    "plt.title('Linearally separable with SVM (good) but bad for k-NN \\n (few datapoints, nearest neighbours not necessarily right label)')\n",
    "plt.show()\n",
    "\n",
    "x_r = (np.random.rand(10) * 2) - 1\n",
    "y_r = (np.random.rand(10) * 2) - 1\n",
    "\n",
    "x_b = (np.random.rand(10) * 2) - 1\n",
    "x_b = np.array([x + 2 if x > 0 else x - 2 for x in x_b])\n",
    "y_b = (np.random.rand(10) * 2) - 1\n",
    "y_b = np.array([y + 2 if y > 0 else y - 2 for y in y_b])\n",
    "\n",
    "# Not linearally separable!\n",
    "plt.plot(x_r, y_r, color='r', linestyle='', marker='o')\n",
    "plt.plot(x_b, y_b, color='b', linestyle='', marker='o')\n",
    "plt.title(\"Easy with k-NN (clumped), bad for SVM (without using kernel at least)\")\n",
    "plt.show()"
   ]
  },
  {
   "cell_type": "markdown",
   "metadata": {},
   "source": [
    "### 4) K-NN Implementation\n",
    "- Implement the K-NN algorithm by hand (ie. Don't use the sklearn implementation)."
   ]
  },
  {
   "cell_type": "code",
   "execution_count": 3,
   "metadata": {},
   "outputs": [
    {
     "name": "stdout",
     "output_type": "stream",
     "text": [
      "(135, 5) (135,) (15, 5) (15,)\n"
     ]
    }
   ],
   "source": [
    "# Implement kNN by hand. It might be useful to store all distances in one array/list\n",
    "\n",
    "import pandas as pd\n",
    "import numpy as np\n",
    "from sklearn.datasets import load_iris\n",
    "from sklearn.utils import shuffle\n",
    "\n",
    "# loading dataset\n",
    "iris = load_iris()\n",
    "iris_df = pd.DataFrame(data= np.c_[iris['data'], iris['target']],\n",
    "                     columns= iris['feature_names'] + ['target'])\n",
    "\n",
    "# Randomize order of data\n",
    "iris_df = shuffle(iris_df).reset_index()\n",
    "\n",
    "# Split dataset into test and validation sets\n",
    "split = int(len(iris_df.index) * 0.9) # Take 90% of data as training, 10% for validation\n",
    "train_X = iris_df.drop('target', axis=1).head(split)\n",
    "train_y = iris_df['target'].head(split)\n",
    "\n",
    "test_X = iris_df.drop('target', axis=1).tail(len(iris_df.index) - split)\n",
    "test_y = iris_df['target'].tail(len(iris_df.index) - split)\n",
    "\n",
    "print(train_X.shape, train_y.shape, test_X.shape, test_y.shape)"
   ]
  },
  {
   "cell_type": "code",
   "execution_count": 4,
   "metadata": {},
   "outputs": [
    {
     "name": "stdout",
     "output_type": "stream",
     "text": [
      "0.8666666666666667\n"
     ]
    }
   ],
   "source": [
    "class KNN:\n",
    "    def __init__(self, k):\n",
    "        self.k = k\n",
    "    \n",
    "    def fit(self, X, y):\n",
    "        '''\n",
    "        Dataframe X, series y\n",
    "        '''\n",
    "        # Create dictionary to store normalization data for features in X\n",
    "        self.min_dict, self.max_dict = {}, {}\n",
    "        for X_col in X:\n",
    "            self.min_dict[X_col] = X[X_col].min()\n",
    "            self.max_dict[X_col] = X[X_col].max()\n",
    "        \n",
    "        # Normalize X\n",
    "        self.__normalize(X)\n",
    "        \n",
    "        # Save X and y\n",
    "        self.X = X\n",
    "        self.y = y\n",
    "    \n",
    "    def predict(self, x):\n",
    "        '''\n",
    "        Predict Y for point X\n",
    "        '''\n",
    "        \n",
    "        # Normalize x\n",
    "        self.__normalize(x)\n",
    "        \n",
    "        # Rank euclidean distance of each X_i in X to x\n",
    "        # Iterate over rows in X\n",
    "        dist = np.array([])\n",
    "        for index, row in self.X.iterrows():\n",
    "            dist = np.append(dist, self.__dist(x.values, row.values))\n",
    "\n",
    "        # Get most common label in k nearest neighbours\n",
    "        nearest = [self.y[i] for i in np.argsort(dist)[:self.k]]\n",
    "        values, counts = np.unique(nearest,return_counts=True)\n",
    "        ind = np.argmax(counts)\n",
    "        return values[ind]\n",
    "        \n",
    "    def __dist(self, x1, x2):\n",
    "        # Except x1 and x2 to be an array of their features\n",
    "        # Saving computational complexity by using the square of the distance, since we just care about minimizing it\n",
    "        return sum(*[(x1_i - x2_i)**2 for x1_i, x2_i in zip(x1, x2)])\n",
    "            \n",
    "    def __normalize(self, X):\n",
    "        for X_col in X:\n",
    "            X[X_col] = (X[X_col] - self.min_dict[X_col]) / (self.max_dict[X_col] - self.min_dict[X_col])\n",
    "\n",
    "# 'Train' K-NN\n",
    "knn_classifier = KNN(5)\n",
    "knn_classifier.fit(train_X, train_y)\n",
    "\n",
    "# Keep track of accuracy\n",
    "a = 0\n",
    "# Test each point in the test set\n",
    "for index, row in test_X.iterrows():\n",
    "    label = knn_classifier.predict(row.to_frame().transpose())\n",
    "    if(label == test_y[index]):\n",
    "        a+= 1\n",
    "        \n",
    "# Fraction of test data that was correctly classified.\n",
    "print(a/float(len(test_X)))"
   ]
  },
  {
   "cell_type": "markdown",
   "metadata": {},
   "source": [
    "### 5) Ensemble Methods\n",
    "- Explain bagging and boosting. Clearly illustrate the difference between these methods. When would you use either one?\n",
    "- What is a decision tree? What is a random forest? Compare them and list 3 pros and cons of each?"
   ]
  },
  {
   "cell_type": "markdown",
   "metadata": {
    "collapsed": true
   },
   "source": [
    "Bagging and boosting are when you use a single type of machine learning model multiple times, and take some combination of their outputs as the final result. When bagging, each instance of the model gets a random selection of the data set to train on and all results are equally weighted. In boosting, certain elements of the data set are weighted to appear more often, and the combined result of all their outputs is weighted based on their errors (lower error is weighted more). Boosting is better than bagging when the model has bad performance but can lead to overfitting. Bagging can be better when overfitting is a big issue, as it reduces the overfitting of the model.\n",
    "\n",
    "A decision tree is used to classify a data point. There is a condition at each node of the tree which relates to the features of the data, and depending on the binary answer to the node's condition you go to one of the node's 2 children. This is continued until a leaf is reached, which will have the label which coresponds to the datapoint.\n",
    "\n",
    "A random forest is when you take the average of many decision trees, where each tree is trained on a random subset of the total data.\n",
    "\n",
    "Pros/cons\n",
    "Decision tree:\n",
    "Pros:\n",
    "<ul>\n",
    "    <li>Good for classifying</li> \n",
    "    <li>Easy to interpret</li>\n",
    "</ul>\n",
    "Cons:\n",
    "<ul>\n",
    "    <li>Prone to overfitting</li>\n",
    "</ul>\n",
    "\n",
    "Random forest\n",
    "Pros:\n",
    "<ul>\n",
    "    <li>Good for classifying</li>\n",
    "    <li>Less overfitting</li>\n",
    "    <li>Can reduce error</li>\n",
    "</ul>\n",
    "Cons:\n",
    "<ul>\n",
    "    <li>Difficult to interpret</li>\n",
    "</ul>\n"
   ]
  },
  {
   "cell_type": "markdown",
   "metadata": {},
   "source": [
    "### 6) PCA vs Autoencoders\n",
    "- Describe how PCA achieves dimensionality reduction. Outline the main steps of the algorithm\n",
    "- What is the importance of eigenvectors and eigenvalues in the PCA algorithm above.\n",
    "- When we compute the covariance matrix in PCA, we have to subtract the mean. Why do we do this?\n",
    "- What is Autoencoder (compare it to PCA)? Why are autoencoders better in general.\n",
    "- When is the reduced dimension of an encoder equivalent to that of a PCA"
   ]
  },
  {
   "cell_type": "markdown",
   "metadata": {
    "collapsed": true
   },
   "source": [
    "PCAs achieve dimensionality reduction by computing the covariance of its various features. If two features rely heavily on each other they can be combined and replaced by a new feature. In this way, the dimensionality is reduced whithout getting rid of important information. The eigenvectors and eigenvalues come up in PCA when trying to separate correlated features. Given a covariance matrix of the features, transforming it such that its axes correspond to its eigenvectors will remove covariance and make it such that the variance on each feature is equal to the eigenvalues. When finding the covariance matrix the mean must first be subtracted in order to center the data around the origin.\n",
    "\n",
    "Autoencoders are neural networks where a large input set is bottlenecked into one or more smaller hidden layers (encoded). They're trained by having them output a layer with the same dimensions as the input, and comparing the output to the original image. This trains it to best encode and decode the data. PCAs rely upon linear transformations in order to reduce dimensionality, whereas autoencoders can work non-linearally. They can also work faster than PCAs on larger data sets. An autoencoder can be equivalent to a PCA when there is a single hidden layer and when only linear functions are used."
   ]
  },
  {
   "cell_type": "markdown",
   "metadata": {},
   "source": [
    "### 7) Implementation\n",
    "\n",
    "In the 1980's', Alex 'Sandy' Pentland came up with 'EigenFaces'. A novel way for facial classification using dimensionality reduction. We are going to try replicate the experiment in this question. We have loaded the face dataset for you below. Here's some steps for you: \n",
    "\n",
    "- Use PCA to reduce its dimensionality.\n",
    "- Use any algorithm to train a classifier for the dataset. You may use sklearn or pytorch. (Refer to PCA demo notebook for hints)\n",
    "- (Optional) Use autoencoders for the dimensionality reduction, compare results to PCA. Any comments/conculsions?\n"
   ]
  },
  {
   "cell_type": "code",
   "execution_count": 5,
   "metadata": {},
   "outputs": [
    {
     "name": "stdout",
     "output_type": "stream",
     "text": [
      "Total dataset size:\n",
      "n_samples: 1288\n",
      "n_features: 1850\n",
      "n_classes: 7\n"
     ]
    }
   ],
   "source": [
    "# loading the faces dataset\n",
    "from sklearn.datasets import fetch_lfw_people\n",
    "\n",
    "# uncomment below to load dataset(takes ~5 mins to load data)\n",
    "lfw_people = fetch_lfw_people(min_faces_per_person=70, resize=0.4)\n",
    "\n",
    "# introspect the images arrays to find the shapes (for plotting)\n",
    "n_samples, h, w = lfw_people.images.shape\n",
    "\n",
    "# assigning features vectors\n",
    "X = lfw_people.data\n",
    "n_features = X.shape[1]\n",
    "\n",
    "# the label to predict is the id of the person\n",
    "y = lfw_people.target\n",
    "target_names = lfw_people.target_names\n",
    "n_classes = target_names.shape[0]\n",
    "\n",
    "print(\"Total dataset size:\")\n",
    "print(\"n_samples: %d\" % n_samples)\n",
    "print(\"n_features: %d\" % n_features)\n",
    "print(\"n_classes: %d\" % n_classes)\n"
   ]
  },
  {
   "cell_type": "code",
   "execution_count": 6,
   "metadata": {},
   "outputs": [
    {
     "data": {
      "image/png": "[encoded data removed]",
      "text/plain": [
       "<Figure size 432x288 with 1 Axes>"
      ]
     },
     "metadata": {},
     "output_type": "display_data"
    },
    {
     "name": "stdout",
     "output_type": "stream",
     "text": [
      "Accuracy with reduced dimensionality:  0.5891472868217055\n",
      "Accuracy with original dimensionality:  0.5891472868217055\n"
     ]
    }
   ],
   "source": [
    "import matplotlib.pyplot as plt\n",
    "import numpy as np\n",
    "from sklearn.decomposition import PCA\n",
    "from sklearn.metrics import accuracy_score \n",
    "from sklearn.neighbors import KNeighborsClassifier\n",
    "\n",
    "# plot an example image\n",
    "plt.imshow(X[1].reshape(h,w), cmap = 'gray')\n",
    "plt.show()\n",
    "\n",
    "# Split dataset\n",
    "split = int(len(X) * 0.9) # Take 90% of data as training, 10% for validation\n",
    "train_X = X[:split]\n",
    "train_y = y[:split]\n",
    "test_X = X[split:]\n",
    "test_y = y[split:]\n",
    "\n",
    "# Using 50 components\n",
    "pca = PCA(n_components=50)\n",
    "pca.fit(X)\n",
    "\n",
    "train_X_pca = pca.transform(train_X)\n",
    "test_X_pca = pca.transform(test_X)\n",
    "\n",
    "# KNN with reduced dimensionality\n",
    "knn_pca = KNeighborsClassifier(n_neighbors=3)\n",
    "knn_pca.fit(train_X_pca, train_y)\n",
    "print(\"Accuracy with reduced dimensionality: \", accuracy_score(test_y, knn_pca.predict(test_X_pca)))\n",
    "\n",
    "# KNN with original dimensionality\n",
    "knn = KNeighborsClassifier(n_neighbors=3)\n",
    "knn.fit(train_X, train_y)\n",
    "print(\"Accuracy with original dimensionality: \", accuracy_score(test_y, knn.predict(test_X)))\n",
    "\n",
    "# I train a neural network on this data better, which makes for a much better classifier"
   ]
  },
  {
   "cell_type": "markdown",
   "metadata": {},
   "source": [
    "## Bonus Challenge! (Optional)\n",
    "\n",
    "This will take some time. However, trust that it is a rewarding experience. There will be a prize for whoever implements it correctly!\n",
    "\n",
    "- Implement a feed forward neural network with back proprogation using stochastic gradient descent by hand. \n",
    "- Use any dataset you want and test the accuracy"
   ]
  },
  {
   "cell_type": "code",
   "execution_count": 7,
   "metadata": {},
   "outputs": [],
   "source": [
    "class NN:\n",
    "    def __init__(self, X, y, hidden_size1, hidden_size2, learning_rate):\n",
    "        self.X = X\n",
    "        self.y = y\n",
    "        self.learning_rate = learning_rate\n",
    "        \n",
    "        self.w1 = np.random.rand(X.shape[1], hidden_size1)\n",
    "        self.b1 = np.random.rand(hidden_size1)\n",
    "        \n",
    "        self.w2 = np.random.rand(hidden_size1, hidden_size2)\n",
    "        self.b2 = np.random.rand(hidden_size2)\n",
    "        \n",
    "        self.w3 = np.random.rand(hidden_size2, y.shape[1])\n",
    "        self.b3 = np.random.rand(y.shape[1])\n",
    "        \n",
    "    def sigmoid(self, x):\n",
    "        return 1.0 / (1.0 + np.e**(-x))\n",
    "    \n",
    "    def dsigmoid(self, x):\n",
    "        return self.sigmoid(x) * (1.0 - self.sigmoid(x))\n",
    "        \n",
    "    def feedforward(self):\n",
    "        # Linear function, then activation function\n",
    "        # Layer 1\n",
    "        self.z1 = (np.dot(self.X, self.w1) + self.b1)\n",
    "        self.a1 = self.sigmoid(self.z1)\n",
    "        \n",
    "        # Layer 2\n",
    "        self.z2 = (np.dot(self.a1, self.w2) + self.b2)\n",
    "        self.a2 = self.sigmoid(self.z2)\n",
    "        \n",
    "        # Layer 3\n",
    "        self.z3 = (np.dot(self.a2, self.w3) + self.b3)\n",
    "        self.a3 = self.sigmoid(self.z3)\n",
    "        \n",
    "    def predict(self, x):\n",
    "        # Same as feedforward\n",
    "        z1 = (np.dot(x, self.w1) + self.b1)\n",
    "        a1 = self.sigmoid(z1)\n",
    "        \n",
    "        z2 = (np.dot(a1, self.w2) + self.b2)\n",
    "        a2 = self.sigmoid(z2)  \n",
    "        \n",
    "        z3 = (np.dot(a2, self.w3) + self.b3)\n",
    "        a3 = self.sigmoid(z3)  \n",
    "        return a3\n",
    "        \n",
    "    def backpropagate(self):             \n",
    "        # Layer 3\n",
    "        da3 = 2 * (self.a3 - self.y)\n",
    "        dz3 = da3 * self.dsigmoid(self.z3)\n",
    "        \n",
    "        dw3 = np.dot(np.transpose(self.a2), dz3)\n",
    "        db3 = sum(dz3)\n",
    "\n",
    "        # Layer 2\n",
    "        da2 = np.dot(dz3, np.transpose(self.w3))\n",
    "        dz2 = da2 * self.dsigmoid(self.z2)\n",
    "        \n",
    "        dw2 = np.dot(np.transpose(self.a1), dz2)\n",
    "        db2 = sum(dz2)\n",
    "        \n",
    "        # Layer 1\n",
    "        da1 = np.dot(dz2, np.transpose(self.w2))\n",
    "        dz1 = da1 * self.dsigmoid(self.z1)\n",
    "        \n",
    "        dw1 = np.dot(np.transpose(self.X), dz1)\n",
    "        db1 = sum(dz1)\n",
    "        \n",
    "        # Update weights\n",
    "\n",
    "        self.w3 -= dw3 * self.learning_rate\n",
    "        self.b3 -= db3 * self.learning_rate\n",
    "        \n",
    "        self.w2 -= dw2 * self.learning_rate\n",
    "        self.b2 -= db2 * self.learning_rate\n",
    "        \n",
    "        self.w1 -= dw1 * self.learning_rate\n",
    "        self.b1 -= db1 * self.learning_rate   \n",
    "        \n",
    "    def loss(self):\n",
    "        return sum(sum((self.a3 - self.y)**2))\n",
    "    \n",
    "    def train(self, iterations, print_loss=False):\n",
    "        for i in range(0, iterations + 1):\n",
    "            self.feedforward()\n",
    "            self.backpropagate()\n",
    "            if print_loss and i % 500 == 0:\n",
    "                print(\"Epoch:\\t\", i, \" Loss:\\t\", self.loss())    \n",
    "                \n",
    "    def save(self, filename):\n",
    "        np.save(filename, [self.w1, self.b1, self.w2, self.b2, self.w3, self.b3])\n",
    "    \n",
    "    def load(self, filename):\n",
    "        self.w1, self.b1, self.w2, self.b2, self.w3, self.b3 = np.load(filename)"
   ]
  },
  {
   "cell_type": "code",
   "execution_count": 8,
   "metadata": {},
   "outputs": [
    {
     "name": "stdout",
     "output_type": "stream",
     "text": [
      "(160, 14) (160, 3) (18, 14) (18, 3)\n"
     ]
    }
   ],
   "source": [
    "from sklearn.datasets import load_wine\n",
    "from sklearn.utils import shuffle\n",
    "from sklearn import preprocessing\n",
    "import pandas\n",
    "\n",
    "# loading dataset\n",
    "wine = load_wine()\n",
    "wine_df = pd.DataFrame(data= np.c_[wine['data'], wine['target']],\n",
    "                     columns= wine['feature_names'] + ['target'])\n",
    "\n",
    "# Randomize order of data\n",
    "wine_df = shuffle(wine_df).reset_index()\n",
    "\n",
    "# Split dataset into test and validation sets\n",
    "split = int(len(wine_df.index) * 0.9) # Take 90% of data as training, 10% for validation\n",
    "\n",
    "# One hot encode y\n",
    "y = wine_df['target']\n",
    "maximum = np.max(y)\n",
    "encoded_y = np.zeros(shape=(len(y), int(maximum) + 1))\n",
    "for i in range(0, len(y)):\n",
    "    encoded_y[i][int(y[i])] = 1\n",
    "train_y = encoded_y[:split]\n",
    "test_y = encoded_y[split:]\n",
    "\n",
    "X = wine_df.drop('target', axis=1).values\n",
    "X = preprocessing.MinMaxScaler().fit_transform(X) # Normalize\n",
    "\n",
    "train_X = X[:split]\n",
    "test_X = X[split:]\n",
    "\n",
    "print(train_X.shape, train_y.shape, test_X.shape, test_y.shape)"
   ]
  },
  {
   "cell_type": "code",
   "execution_count": 10,
   "metadata": {},
   "outputs": [
    {
     "name": "stdout",
     "output_type": "stream",
     "text": [
      "Epoch:\t 0  Loss:\t 297.57198346896143\n",
      "Epoch:\t 500  Loss:\t 105.29145881758926\n",
      "Epoch:\t 1000  Loss:\t 105.2874482329344\n",
      "Epoch:\t 1500  Loss:\t 105.28343584448362\n",
      "Epoch:\t 2000  Loss:\t 105.27890381040282\n",
      "Epoch:\t 2500  Loss:\t 105.27316514043348\n",
      "Epoch:\t 3000  Loss:\t 105.26497598057776\n",
      "Epoch:\t 3500  Loss:\t 105.25141803422827\n",
      "Epoch:\t 4000  Loss:\t 105.22282199580458\n",
      "Epoch:\t 4500  Loss:\t 105.10603972259013\n",
      "Epoch:\t 5000  Loss:\t 66.33227195535012\n",
      "Epoch:\t 5500  Loss:\t 40.65116423600559\n",
      "Epoch:\t 6000  Loss:\t 2.7897964481371984\n",
      "Epoch:\t 6500  Loss:\t 1.1200254548387538\n",
      "Epoch:\t 7000  Loss:\t 0.6642872937864881\n",
      "Epoch:\t 7500  Loss:\t 0.4641526173713433\n",
      "Epoch:\t 8000  Loss:\t 0.3539903128791857\n",
      "Epoch:\t 8500  Loss:\t 0.28491570658430143\n",
      "Epoch:\t 9000  Loss:\t 0.23780020351476494\n",
      "Epoch:\t 9500  Loss:\t 0.2037188876771229\n",
      "Epoch:\t 10000  Loss:\t 0.1779761631176114\n"
     ]
    }
   ],
   "source": [
    "nn = NN(train_X, train_y, 9, 6, 0.005)\n",
    "nn.train(10000, print_loss=True)\n",
    "nn.save(\"wine-10000-epochs\")"
   ]
  },
  {
   "cell_type": "code",
   "execution_count": 15,
   "metadata": {},
   "outputs": [
    {
     "name": "stdout",
     "output_type": "stream",
     "text": [
      "Accuracy on training set:\t 1.0\n",
      "Accuracy on test set:\t\t 1.0\n"
     ]
    }
   ],
   "source": [
    "def accuracy(predicted, expected):\n",
    "    acc = 0\n",
    "    n = len(predicted)\n",
    "    for i in range(0, n):\n",
    "        if predicted[i] == expected[i]:\n",
    "            acc += 1\n",
    "    return acc / float(n)\n",
    "\n",
    "# Check accuracy on training data\n",
    "train_pred = [np.argmax(p) for p in nn.predict(train_X)]\n",
    "train_expected = [np.argmax(p) for p in train_y]\n",
    "print(\"Accuracy on training set:\\t\", accuracy(train_pred, train_expected))\n",
    "\n",
    "# Check accuracy on test data\n",
    "test_pred = [np.argmax(p) for p in nn.predict(test_X)]\n",
    "test_expected = [np.argmax(p) for p in test_y]\n",
    "print(\"Accuracy on test set:\\t\\t\", accuracy(test_pred, test_expected))"
   ]
  },
  {
   "cell_type": "code",
   "execution_count": 27,
   "metadata": {},
   "outputs": [
    {
     "name": "stdout",
     "output_type": "stream",
     "text": [
      "(901, 50) (901, 7) (387, 50) (387, 7)\n"
     ]
    }
   ],
   "source": [
    "# Using neural network on PCA dimension reduced face data because why not\n",
    "\n",
    "# introspect the images arrays to find the shapes (for plotting)\n",
    "n_samples, h, w = lfw_people.images.shape\n",
    "\n",
    "# assigning features vectors\n",
    "X = lfw_people.data\n",
    "n_features = X.shape[1]\n",
    "\n",
    "# the label to predict is the id of the person\n",
    "y = lfw_people.target\n",
    "target_names = lfw_people.target_names\n",
    "n_classes = target_names.shape[0]\n",
    "\n",
    "# One hot encode y\n",
    "maximum = np.max(y)\n",
    "encoded_y = np.zeros(shape=(len(y), int(maximum) + 1))\n",
    "for i in range(0, len(y)):\n",
    "    encoded_y[i][int(y[i])] = 1\n",
    "y = encoded_y\n",
    "\n",
    "X = preprocessing.MinMaxScaler().fit_transform(X) # Normalize\n",
    "\n",
    "# Split dataset\n",
    "split = int(len(X) * 0.7) # Take 70% of data as training, 30% for validation\n",
    "train_X = X[:split]\n",
    "train_y = y[:split]\n",
    "test_X = X[split:]\n",
    "test_y = y[split:]\n",
    "\n",
    "# Using 50 components\n",
    "pca = PCA(n_components=50)\n",
    "pca.fit(X)\n",
    "\n",
    "train_X_pca = pca.transform(train_X)\n",
    "test_X_pca = pca.transform(test_X)\n",
    "\n",
    "print(train_X_pca.shape, train_y.shape, test_X_pca.shape, test_y.shape)"
   ]
  },
  {
   "cell_type": "code",
   "execution_count": 28,
   "metadata": {},
   "outputs": [
    {
     "name": "stdout",
     "output_type": "stream",
     "text": [
      "Epoch:\t 0  Loss:\t 5372.43503632278\n",
      "Epoch:\t 500  Loss:\t 683.55368820368\n",
      "Epoch:\t 1000  Loss:\t 670.8841746454426\n",
      "Epoch:\t 1500  Loss:\t 516.169420713695\n",
      "Epoch:\t 2000  Loss:\t 446.0288747029418\n",
      "Epoch:\t 2500  Loss:\t 388.5005662445497\n",
      "Epoch:\t 3000  Loss:\t 337.6599575049302\n",
      "Epoch:\t 3500  Loss:\t 308.8134462408023\n",
      "Epoch:\t 4000  Loss:\t 269.4416220221973\n",
      "Epoch:\t 4500  Loss:\t 217.17378416944342\n",
      "Epoch:\t 5000  Loss:\t 159.31338521650667\n",
      "Epoch:\t 5500  Loss:\t 109.95509160095716\n",
      "Epoch:\t 6000  Loss:\t 77.98474426773348\n",
      "Epoch:\t 6500  Loss:\t 56.78634309727281\n",
      "Epoch:\t 7000  Loss:\t 44.72022234261813\n",
      "Epoch:\t 7500  Loss:\t 37.46640288841016\n",
      "Epoch:\t 8000  Loss:\t 32.46947226492428\n",
      "Epoch:\t 8500  Loss:\t 28.957977442445298\n",
      "Epoch:\t 9000  Loss:\t 26.63806993593584\n",
      "Epoch:\t 9500  Loss:\t 24.892008873003327\n",
      "Epoch:\t 10000  Loss:\t 23.329892941194526\n"
     ]
    }
   ],
   "source": [
    "nn2 = NN(train_X_pca, train_y, 35, 14, 0.001)\n",
    "nn2.train(10000, print_loss=True)\n",
    "nn2.save(\"PCA-Faces-10000-epochs\")"
   ]
  },
  {
   "cell_type": "code",
   "execution_count": 29,
   "metadata": {},
   "outputs": [
    {
     "name": "stdout",
     "output_type": "stream",
     "text": [
      "Accuracy on training set:\t 0.9822419533851277\n",
      "Accuracy on test set:\t\t 0.6821705426356589\n"
     ]
    }
   ],
   "source": [
    "# Check accuracy on training data\n",
    "train_pred = [np.argmax(p) for p in nn2.predict(train_X_pca)]\n",
    "train_expected = [np.argmax(p) for p in train_y]\n",
    "print(\"Accuracy on training set:\\t\", accuracy(train_pred, train_expected))\n",
    "\n",
    "# Check accuracy on test data\n",
    "test_pred = [np.argmax(p) for p in nn2.predict(test_X_pca)]\n",
    "test_expected = [np.argmax(p) for p in test_y]\n",
    "print(\"Accuracy on test set:\\t\\t\", accuracy(test_pred, test_expected))"
   ]
  }
 ],
 "metadata": {
  "kernelspec": {
   "display_name": "Python 3",
   "language": "python",
   "name": "python3"
  },
  "language_info": {
   "codemirror_mode": {
    "name": "ipython",
    "version": 3
   },
   "file_extension": ".py",
   "mimetype": "text/x-python",
   "name": "python",
   "nbconvert_exporter": "python",
   "pygments_lexer": "ipython3",
   "version": "3.6.5"
  }
 },
 "nbformat": 4,
 "nbformat_minor": 2
}
