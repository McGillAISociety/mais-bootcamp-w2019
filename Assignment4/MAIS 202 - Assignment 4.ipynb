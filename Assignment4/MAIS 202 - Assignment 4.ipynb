{
 "cells": [
  {
   "cell_type": "markdown",
   "metadata": {},
   "source": [
    "# Assignment 4: Mid Point Review"
   ]
  },
  {
   "cell_type": "code",
   "execution_count": 70,
   "metadata": {},
   "outputs": [],
   "source": [
    "import pandas as pd\n",
    "import numpy as np\n",
    "from scipy import stats\n",
    "from sklearn.datasets import load_iris\n",
    "import matplotlib\n",
    "import matplotlib.pyplot as plt"
   ]
  },
  {
   "cell_type": "markdown",
   "metadata": {},
   "source": [
    "Congratulations, you have reached the midpoint of the course! The rest of the course will be focused on more advanced state of the art machine learning techniques. However, before we dive into that, this assignment will be focused on ensuring you understand all the core concepts that have been covered so far. Keep in mind, these are questions that can be asked during machine learning internship interviews, so do make sure you understand them if you want to dive into this industry!"
   ]
  },
  {
   "cell_type": "markdown",
   "metadata": {},
   "source": [
    "### 1) Linear vs Polynomial Regression\n",
    "- Describe both Linear Regression and Polynomial Regression (3 lines or less each).\n",
    "\n",
    "- Describe overfitting vs underfitting with respect to parameters.  \n"
   ]
  },
  {
   "cell_type": "markdown",
   "metadata": {
    "collapsed": true
   },
   "source": [
    "#### Linear Regression\n",
    "Assume the some data is modelled after a linear function plus some gaussian noise. We wish to find parameters $a_1, a_2, \\cdots, a_n, b$ such that\n",
    "the function $$ \\hat y = f(x_1, \\cdots, x_n) = a_1 x_1 + \\cdots + a_n x_n + b $$\n",
    "most closely fits the observed value $ y $.\n",
    "Define the loss as $$L(y, \\hat y) = \\sum_{i=1}^n (y - \\hat y)^2$$\n",
    "That is we wish to find\n",
    "$$ \\operatorname*{argmin}_{a_1, \\cdots, a_n, b} L(y, \\hat y) $$\n",
    "And we can rewrite the problem as trying to find $w$ such that $\\hat y = w^T x$ minimizes the loss.\n",
    "If the dimensions of $X$ are small enough, we can use the closed form solution $$ \\hat w = (X^T X)^{-1} X^T y,$$ otherwise we can do gradient descent on the loss defined above.\n",
    "\n",
    "#### Polynomial Regression\n",
    "Given some input data $X$, we can add new features in the form of powers of components of $X$ in order to have an some expanded data $X'$.\n",
    "We then perform linear regression on $X'$.\n",
    "\n",
    "#### Overfitting\n",
    "Overfitting is the phenomenon where some model fits the training data so well that it fails to generalize.\n",
    "In effect, the model is almost perfectly able to predict all the data is has seen, but fails to correctly predict data it has never seen before.\n",
    "It usually happens where there are too many parameters in the model.\n",
    "\n",
    "#### Underfiting\n",
    "Underfitting is the phenomenon where some model is unable to learn the training data.\n",
    "This is usually due to the fact that the model is not complex enough to capture the patterns in the data.\n",
    "It usually happens where there are not enough parameters in the model."
   ]
  },
  {
   "cell_type": "markdown",
   "metadata": {
    "collapsed": true
   },
   "source": [
    "### 2) Logistic Regression vs. Linear SVM\n",
    "- Describe how logistic regression works (3 lines or less)\n",
    "- Describe how linear SVM works. Mention the role(s) of:\n",
    "    - support vectors\n",
    "    - margin\n",
    "    - slack variables\n",
    "    - kernels\n",
    "- Plot an example for SVM where the linear kernel is not enough to separate the data, but another kernel works"
   ]
  },
  {
   "cell_type": "markdown",
   "metadata": {
    "collapsed": true
   },
   "source": [
    "#### Logistic Regression\n",
    "We apply logistic regression when the input data is continuous but the output data is discrete.\n",
    "We define a log-odds function which is linear in $X$, the input data.\n",
    "Then, we define a function (maximum likelihood) which is multiplicative in the probabilities, so that taking the logarithm results in a loss function which is a summation (logistic loss).\n",
    "Then, doing we apply gradient descent on the logistic loss to train the classifier.\n",
    "\n",
    "#### Linear SVM\n",
    "Given a set of training dataset $D$ of the form $(x_1, y_1), \\cdots, (x_n, y_n)$ where $x_i \\in \\mathbb R^n, y \\in \\{0, 1\\}$, we wish to learn a way to classify points in $\\mathbb R^n$.\n",
    "If the data is linearly separable, we wish the find the best hyperplane which separates the two classes in $\\mathbb R^n$.\n",
    "Geometrically speaking, this hyperplane is completely determined by the points in $D$ which lie closest to it.\n",
    "These are called the support vectors.\n",
    "The margin is the subset of $\\mathbb R^n$ which is between the two parallel hyperplanes which seperate the two classes.\n",
    "If a dataset is not linearly separable, we add a slack variable to relax the contraints of the problem in order to find the best hyperplane which satisfies our relaxed contraints.\n",
    "Another way to deal with dataset which are not linearly separable is to expand the data in a way similar to polynomial regression.\n",
    "That is, we transform the dataset into a potentially higher dimensional space in which the data is linearly separable."
   ]
  },
  {
   "cell_type": "code",
   "execution_count": 71,
   "metadata": {},
   "outputs": [
    {
     "data": {
      "image/png": "[encoded data removed]",
      "text/plain": [
       "<Figure size 432x288 with 1 Axes>"
      ]
     },
     "metadata": {
      "needs_background": "light"
     },
     "output_type": "display_data"
    }
   ],
   "source": [
    "n = 300\n",
    "l = 4.0\n",
    "x_red = np.concatenate((np.random.normal(loc=-l,size=n), np.random.normal(loc=l,size=n)), axis=None)\n",
    "y_red = np.concatenate((np.random.normal(loc=-l,size=n), np.random.normal(loc=l,size=n)), axis=None)\n",
    "x_blue = np.concatenate((np.random.normal(loc=l,size=n), np.random.normal(loc=-l,size=n)), axis=None)\n",
    "y_blue = np.concatenate((np.random.normal(loc=-l,size=n), np.random.normal(loc=l,size=n)), axis=None)\n",
    "\n",
    "\n",
    "fig, ax = plt.subplots()\n",
    "ax.scatter(x_red, y_red, c='r')\n",
    "ax.scatter(x_blue, y_blue, c='b')\n",
    "\n",
    "ax.grid()\n",
    "\n",
    "plt.show()"
   ]
  },
  {
   "cell_type": "markdown",
   "metadata": {},
   "source": [
    "The kernel $$ \\phi\\left(\\begin{pmatrix} x \\\\ y \\end{pmatrix} \\right) = \\begin{pmatrix} x \\\\ y \\\\ x \\cdot y \\end{pmatrix} $$ does the job."
   ]
  },
  {
   "cell_type": "markdown",
   "metadata": {},
   "source": [
    "### 3) Linear SVM vs k-NN\n",
    "- K-Nearest Neighbours is a popular supervised learning algorithm. Explain the difference between supervised and unsupervised learning?\n",
    "- K-NN is an example of a lazy learning algorithm. Why is it called so. What could be a use case? Justify using a lazy learning algorithm in that case.\n",
    "- Outline the main steps for the KNN algorithm. Use text, code, plots, diagrams, etc as necessary.  \n",
    "- Plot a example dataset which works in an SVM classification and not k-NN classification. Repeat for the reverse scenario."
   ]
  },
  {
   "cell_type": "markdown",
   "metadata": {
    "collapsed": true
   },
   "source": [
    "#### Supervised vs Unsupervised Learning\n",
    "Supervised learning is the problem where we wish to approximate a function $ f: A \\to B $ given a subset of $ A \\times B $ of the form $ D = \\{ (x_1, y_1), \\cdots, (x_n, y_n) \\}. $\n",
    "Unsupervised learning is the problem where we wish to find patterns within a set $ Y = \\{y_1, \\cdots, y_n\\} \\subseteq B $, e.g. by finding lower dimensional representation of points in $ Y $.\n",
    "\n",
    "#### Lazy learning algorithm\n",
    "A lazy learning algorithm is one that roughly speaking does not have a 'training' phase, it only solves the machine learning problem when given a query.\n",
    "The K-NN algorithm is lazy, since it simply decides the output of a classification by computing the plurality class of the $ k $ nearest points in $ Y $.\n",
    "\n",
    "#### The K-NN Algorithm\n",
    "The K-NN algorithm is as follows\n",
    "```\n",
    "K-NN(data, target, x, k)\n",
    "    Find the k closest points in data to x\n",
    "    Output the mode class of those points\n",
    "```"
   ]
  },
  {
   "cell_type": "code",
   "execution_count": 72,
   "metadata": {},
   "outputs": [
    {
     "data": {
      "image/png": "[encoded data removed]",
      "text/plain": [
       "<Figure size 432x288 with 1 Axes>"
      ]
     },
     "metadata": {
      "needs_background": "light"
     },
     "output_type": "display_data"
    }
   ],
   "source": [
    "# The following dataset works in a Linear SVM classification but not a k-NN classification\n",
    "n = 25\n",
    "x_blue = np.arange(1, n)\n",
    "y_blue = np.arange(1, n) + 0.5\n",
    "\n",
    "x_red = np.arange(1, n, 4)\n",
    "y_red = np.arange(1, n, 4) - 0.5\n",
    "\n",
    "fig, ax = plt.subplots()\n",
    "ax.scatter(x_red, y_red, c='r')\n",
    "ax.scatter(x_blue, y_blue, c='b')\n",
    "\n",
    "ax.grid()\n",
    "\n",
    "plt.show()"
   ]
  },
  {
   "cell_type": "code",
   "execution_count": 73,
   "metadata": {},
   "outputs": [
    {
     "data": {
      "image/png": "[encoded data removed]",
      "text/plain": [
       "<Figure size 432x288 with 1 Axes>"
      ]
     },
     "metadata": {
      "needs_background": "light"
     },
     "output_type": "display_data"
    }
   ],
   "source": [
    "# the following dataset works in a k-NN classification but not an Linear SVM classification\n",
    "m = 20\n",
    "l = 40\n",
    "fig, ax = plt.subplots()\n",
    "\n",
    "\n",
    "for i in range(8):\n",
    "    n = m * i\n",
    "    a = np.random.uniform(low=0, high=2 * np.pi, size=2 * n)\n",
    "    r = np.random.normal(loc=i*l,scale=l/6,size=2 * n)\n",
    "    x = np.multiply(r, np.cos(a))\n",
    "    y = np.multiply(r, np.sin(a))\n",
    "    ax.scatter(x, y, c=('b'if i % 2 else 'r'))\n",
    "\n",
    "ax.grid()\n",
    "\n",
    "plt.show()"
   ]
  },
  {
   "cell_type": "markdown",
   "metadata": {},
   "source": [
    "### 4) K-NN Implementation\n",
    "- Implement the K-NN algorithm by hand (ie. Don't use the sklearn implementation)."
   ]
  },
  {
   "cell_type": "code",
   "execution_count": 74,
   "metadata": {},
   "outputs": [
    {
     "data": {
      "image/png": "[encoded data removed]",
      "text/plain": [
       "<Figure size 432x288 with 1 Axes>"
      ]
     },
     "metadata": {
      "needs_background": "light"
     },
     "output_type": "display_data"
    },
    {
     "name": "stdout",
     "output_type": "stream",
     "text": [
      "Best Accuracy: 0.9676190476190476, Best k: 21\n"
     ]
    }
   ],
   "source": [
    "# loading dataset\n",
    "iris = load_iris()\n",
    "iris_df = pd.DataFrame(data= np.c_[iris['data'], iris['target']],\n",
    "                     columns= iris['feature_names'] + ['target'])\n",
    "\n",
    "data = iris['data']\n",
    "target = iris['target']\n",
    "\n",
    "def KNN(data, target, x, k):\n",
    "    return stats.mode(np.take(target,np.argpartition(\n",
    "            np.linalg.norm(data - x, axis=1), k)[:k]))[0][0]\n",
    "\n",
    "tot, correct = 0, 0\n",
    "best_acc, best_k = float('-inf'), None\n",
    "acc = []\n",
    "for k in range(1, len(data)-1):\n",
    "    for i, (x, y) in enumerate(zip(data, target)):\n",
    "        y_ = KNN(np.delete(data, i, axis=0), np.delete(target, i), x, k)\n",
    "        tot, correct = (tot + 1, correct + (y == y_))\n",
    "    cur_acc = correct/tot\n",
    "    if cur_acc > best_acc:\n",
    "        best_acc = cur_acc\n",
    "        best_k = k\n",
    "    acc.append(cur_acc)\n",
    "\n",
    "fig, ax = plt.subplots()\n",
    "ax.plot(np.arange(1, len(data)-1), acc)\n",
    "ax.plot([1, len(data)-1], [best_acc, best_acc])\n",
    "\n",
    "ax.set(xlabel='$k$', ylabel='Accuracy',\n",
    "       title='Accuracy vs $k$')\n",
    "ax.grid()\n",
    "\n",
    "plt.show()\n",
    "\n",
    "print(\"Best Accuracy: {}, Best k: {}\".format(best_acc, best_k))"
   ]
  },
  {
   "cell_type": "markdown",
   "metadata": {},
   "source": [
    "### 5) Ensemble Methods\n",
    "- Explain bagging and boosting. Clearly illustrate the difference between these methods. When would you use either one?\n",
    "- What is a decision tree? What is a random forest? Compare them and list 3 pros and cons of each?"
   ]
  },
  {
   "cell_type": "markdown",
   "metadata": {
    "collapsed": true
   },
   "source": [
    "#### Bagging vs Boosting\n",
    "Bagging is a technique we train many different models on randomnly selected subsets of the data and then combine the predictions of all these models to obtain a final prediction. Boosting is a technique where we have a set of \"weak\" learners and we combine them to create a strong learner. We would use baggin when We are using an unstable machine learning algorithm (i.e. a small change in the dataset may cause large changes in the learned model) and we wish to avoid overfitting. We use boosting if we already have \"weak\" learners and wish to combine them for form a \"strong\" learner.\n",
    "#### Decision Trees and Random Forests\n",
    "A decision tree is a machine learning model which attempts to find the best questions at each node of the tree in order to classify a given input.\n",
    "A random forest is a collection of decision trees each trained on a subset of the features, where the output of the forest is the mode of the outputs of the decision trees.\n",
    "Training a single decision tree is faster and inference is also fast.\n",
    "Furthermore, the prediction of a decision tree is simpler to understand compared to other models.\n",
    "However, decision trees are unstable.\n",
    "The problem of finding the best decision tree is computationally expensive so we often use heuristics such as a greedy algorithm to find a \"good enough\" decision tree.\n",
    "They often don't perform well in many tasks.\n",
    "On the other hand, random forests tend to perform better than a single decision tree.\n",
    "They are more stable since they take the mode of a lot of smaller decision trees.\n",
    "The training and inference can be done in parallel.\n",
    "On the other hand, if it is not possible to train or infer in parallel, random forests need to query each tree one by one.\n",
    "It is harder to understand the decision of a random forest."
   ]
  },
  {
   "cell_type": "markdown",
   "metadata": {},
   "source": [
    "### 6) PCA vs Autoencoders\n",
    "- Describe how PCA achieves dimensionality reduction. Outline the main steps of the algorithm\n",
    "- What is the importance of eigenvectors and eigenvalues in the PCA algorithm above.\n",
    "- When we compute the covariance matrix in PCA, we have to subtract the mean. Why do we do this?\n",
    "- What is Autoencoder (compare it to PCA)? Why are autoencoders better in general.\n",
    "- When is the reduced dimension of an encoder equivalent to that of a PCA"
   ]
  },
  {
   "cell_type": "markdown",
   "metadata": {
    "collapsed": true
   },
   "source": [
    "#### PCA and Dimensionality Reduction\n",
    "The goal of PCA is to find a much smaller number of features which preserve as much \"information\" about the original data as possible.\n",
    "We first center the examples by subtracting the mean.\n",
    "Then we compute the covariance matrix of the centered data.\n",
    "Then, we compute the matrix W, whose columns are the eigenvectors of the covariance matrix and pick the most relevant components.\n",
    "\n",
    "#### Eigenvectors and Eigenvalues\n",
    "The eigenvectors are going to form the basis of the lower dimensional space representation of the data.\n",
    "\n",
    "#### Subtracting the Mean\n",
    "Subtracting the mean simplifies the equation of the covariance matrix.\n",
    "\n",
    "#### Autoencoders vs PCA\n",
    "An autoencoders is a neural network that learn features that can be used for future tasks.\n",
    "They achieve this by using a \"bottleneck\" shape.\n",
    "They are generally better than PCA because they are able to learn non-linear compression.\n",
    "\n",
    "#### Equivalence\n",
    "If the autoencoder uses linear activation functions, the vector space it learns is the same as the one found by PCA.\n",
    "However, the basis vectors are not the same. Indeed, unlike PCA, autoencoders are not contrained to find an orthonomal basis."
   ]
  },
  {
   "cell_type": "markdown",
   "metadata": {},
   "source": [
    "### 7) Implementation\n",
    "\n",
    "In the 1980's', Alex 'Sandy' Pentland came up with 'EigenFaces'. A novel way for facial classification using dimensionality reduction. We are going to try replicate the experiment in this question. We have loaded the face dataset for you below. Here's some steps for you: \n",
    "\n",
    "- Use PCA to reduce its dimensionality.\n",
    "- Use any algorithm to train a classifier for the dataset. You may use sklearn or pytorch. (Refer to PCA demo notebook for hints)\n",
    "- (Optional) Use autoencoders for the dimensionality reduction, compare results to PCA. Any comments/conculsions?\n"
   ]
  },
  {
   "cell_type": "code",
   "execution_count": 75,
   "metadata": {},
   "outputs": [
    {
     "name": "stdout",
     "output_type": "stream",
     "text": [
      "Total dataset size:\n",
      "n_samples: 1288\n",
      "n_features: 1850\n",
      "n_classes: 7\n"
     ]
    }
   ],
   "source": [
    "# loading the faces dataset\n",
    "from sklearn.datasets import fetch_lfw_people\n",
    "\n",
    "# uncomment below to load dataset(takes ~5 mins to load data)\n",
    "lfw_people = fetch_lfw_people(min_faces_per_person=70, resize=0.4)\n",
    "\n",
    "# introspect the images arrays to find the shapes (for plotting)\n",
    "n_samples, h, w = lfw_people.images.shape\n",
    "\n",
    "# assigning features vectors\n",
    "X = lfw_people.data\n",
    "n_features = X.shape[1]\n",
    "\n",
    "# the label to predict is the id of the person\n",
    "y = lfw_people.target\n",
    "target_names = lfw_people.target_names\n",
    "n_classes = target_names.shape[0]\n",
    "\n",
    "print(\"Total dataset size:\")\n",
    "print(\"n_samples: %d\" % n_samples)\n",
    "print(\"n_features: %d\" % n_features)\n",
    "print(\"n_classes: %d\" % n_classes)\n"
   ]
  },
  {
   "cell_type": "code",
   "execution_count": 80,
   "metadata": {},
   "outputs": [
    {
     "name": "stdout",
     "output_type": "stream",
     "text": [
      "Iteration 1, loss = 16.29029962\n",
      "Iteration 2, loss = 15.78219464\n",
      "Iteration 3, loss = 15.26622208\n",
      "Iteration 4, loss = 14.74700174\n",
      "Iteration 5, loss = 14.28826960\n",
      "Iteration 6, loss = 13.81959134\n",
      "Iteration 7, loss = 13.40193601\n",
      "Iteration 8, loss = 12.98716133\n",
      "Iteration 9, loss = 12.51109175\n",
      "Iteration 10, loss = 12.08154000\n",
      "Iteration 11, loss = 11.94100750\n",
      "Iteration 12, loss = 11.65955092\n",
      "Iteration 13, loss = 11.28560750\n",
      "Iteration 14, loss = 10.90341493\n",
      "Iteration 15, loss = 10.63341371\n",
      "Iteration 16, loss = 10.26452590\n",
      "Iteration 17, loss = 9.90003354\n",
      "Iteration 18, loss = 9.63238302\n",
      "Iteration 19, loss = 9.38456978\n",
      "Iteration 20, loss = 9.10069041\n",
      "Iteration 21, loss = 8.74652015\n",
      "Iteration 22, loss = 8.46893995\n",
      "Iteration 23, loss = 8.25354699\n",
      "Iteration 24, loss = 7.98564452\n",
      "Iteration 25, loss = 7.74400781\n",
      "Iteration 26, loss = 7.56343013\n",
      "Iteration 27, loss = 7.39967731\n",
      "Iteration 28, loss = 7.16458913\n",
      "Iteration 29, loss = 6.97615316\n",
      "Iteration 30, loss = 6.82352871\n",
      "Iteration 31, loss = 6.69145605\n",
      "Iteration 32, loss = 6.52962268\n",
      "Iteration 33, loss = 6.39786921\n",
      "Iteration 34, loss = 6.26179704\n",
      "Iteration 35, loss = 6.13316243\n",
      "Iteration 36, loss = 5.97856435\n",
      "Iteration 37, loss = 5.83317482\n",
      "Iteration 38, loss = 5.70962250\n",
      "Iteration 39, loss = 5.56599138\n",
      "Iteration 40, loss = 5.42721406\n",
      "Iteration 41, loss = 5.32372351\n",
      "Iteration 42, loss = 5.18639661\n",
      "Iteration 43, loss = 5.05058572\n",
      "Iteration 44, loss = 4.93663706\n",
      "Iteration 45, loss = 4.81529428\n",
      "Iteration 46, loss = 4.69160193\n",
      "Iteration 47, loss = 4.57999242\n",
      "Iteration 48, loss = 4.47794921\n",
      "Iteration 49, loss = 4.38001558\n",
      "Iteration 50, loss = 4.28081310\n",
      "Iteration 51, loss = 4.17150119\n",
      "Iteration 52, loss = 4.06321127\n",
      "Iteration 53, loss = 3.96688133\n",
      "Iteration 54, loss = 3.88204002\n",
      "Iteration 55, loss = 3.78457807\n",
      "Iteration 56, loss = 3.69338076\n",
      "Iteration 57, loss = 3.62028911\n",
      "Iteration 58, loss = 3.52779243\n",
      "Iteration 59, loss = 3.43411250\n",
      "Iteration 60, loss = 3.34937026\n",
      "Iteration 61, loss = 3.27580776\n",
      "Iteration 62, loss = 3.18990839\n",
      "Iteration 63, loss = 3.11934082\n",
      "Iteration 64, loss = 3.04414841\n",
      "Iteration 65, loss = 2.97440024\n",
      "Iteration 66, loss = 2.90238293\n",
      "Iteration 67, loss = 2.85684965\n",
      "Iteration 68, loss = 2.78153809\n",
      "Iteration 69, loss = 2.72498104\n",
      "Iteration 70, loss = 2.66769814\n",
      "Iteration 71, loss = 2.59741244\n",
      "Iteration 72, loss = 2.53896377\n",
      "Iteration 73, loss = 2.48645758\n",
      "Iteration 74, loss = 2.43028672\n",
      "Iteration 75, loss = 2.39181656\n",
      "Iteration 76, loss = 2.34512463\n",
      "Iteration 77, loss = 2.28486271\n",
      "Iteration 78, loss = 2.23697026\n",
      "Iteration 79, loss = 2.18820904\n",
      "Iteration 80, loss = 2.14214048\n",
      "Iteration 81, loss = 2.10492317\n",
      "Iteration 82, loss = 2.06832585\n",
      "Iteration 83, loss = 2.03055102\n",
      "Iteration 84, loss = 1.98920901\n",
      "Iteration 85, loss = 1.95344563\n",
      "Iteration 86, loss = 1.91622222\n",
      "Iteration 87, loss = 1.88578287\n",
      "Iteration 88, loss = 1.84869212\n",
      "Iteration 89, loss = 1.80996062\n",
      "Iteration 90, loss = 1.77266919\n",
      "Iteration 91, loss = 1.73314771\n",
      "Iteration 92, loss = 1.70091416\n",
      "Iteration 93, loss = 1.66785211\n",
      "Iteration 94, loss = 1.63798509\n",
      "Iteration 95, loss = 1.60999672\n",
      "Iteration 96, loss = 1.57661563\n",
      "Iteration 97, loss = 1.53910961\n",
      "Iteration 98, loss = 1.50990592\n",
      "Iteration 99, loss = 1.48382837\n",
      "Iteration 100, loss = 1.45788091\n",
      "Iteration 101, loss = 1.42923331\n",
      "Iteration 102, loss = 1.40985594\n",
      "Iteration 103, loss = 1.38401837\n",
      "Iteration 104, loss = 1.36023931\n",
      "Iteration 105, loss = 1.33866258\n",
      "Iteration 106, loss = 1.31244520\n",
      "Iteration 107, loss = 1.29240870\n",
      "Iteration 108, loss = 1.26935959\n",
      "Iteration 109, loss = 1.25280975\n",
      "Iteration 110, loss = 1.22857506\n",
      "Iteration 111, loss = 1.20774801\n",
      "Iteration 112, loss = 1.19059102\n",
      "Iteration 113, loss = 1.17476270\n",
      "Iteration 114, loss = 1.15554605\n",
      "Iteration 115, loss = 1.13693965\n",
      "Iteration 116, loss = 1.12283967\n",
      "Iteration 117, loss = 1.10720800\n",
      "Iteration 118, loss = 1.09166912\n",
      "Iteration 119, loss = 1.07983620\n",
      "Iteration 120, loss = 1.06552393\n",
      "Iteration 121, loss = 1.05328778\n",
      "Iteration 122, loss = 1.03683346\n",
      "Iteration 123, loss = 1.02490259\n",
      "Iteration 124, loss = 1.01935245\n",
      "Iteration 125, loss = 1.00461087\n",
      "Iteration 126, loss = 0.98657893\n",
      "Iteration 127, loss = 0.97621438\n",
      "Iteration 128, loss = 0.96190853\n",
      "Iteration 129, loss = 0.95060185\n",
      "Iteration 130, loss = 0.93722504\n",
      "Iteration 131, loss = 0.92606647\n",
      "Iteration 132, loss = 0.91039766\n",
      "Iteration 133, loss = 0.89741583\n",
      "Iteration 134, loss = 0.88425956\n",
      "Iteration 135, loss = 0.87469320\n",
      "Iteration 136, loss = 0.86611610\n",
      "Iteration 137, loss = 0.85678076\n",
      "Iteration 138, loss = 0.84643162\n",
      "Iteration 139, loss = 0.83839421\n",
      "Iteration 140, loss = 0.83052176\n",
      "Iteration 141, loss = 0.82335113\n",
      "Iteration 142, loss = 0.81526756\n",
      "Iteration 143, loss = 0.80856858\n",
      "Iteration 144, loss = 0.80065966\n",
      "Iteration 145, loss = 0.79423526\n",
      "Iteration 146, loss = 0.78500668\n",
      "Iteration 147, loss = 0.77757415\n",
      "Iteration 148, loss = 0.77353594\n",
      "Iteration 149, loss = 0.76323256\n",
      "Iteration 150, loss = 0.75803224\n",
      "Iteration 151, loss = 0.75191048\n",
      "Iteration 152, loss = 0.74468389\n",
      "Iteration 153, loss = 0.73847098\n",
      "Iteration 154, loss = 0.73378940\n",
      "Iteration 155, loss = 0.72764234\n",
      "Iteration 156, loss = 0.72236253\n",
      "Iteration 157, loss = 0.71610630\n",
      "Iteration 158, loss = 0.70849693\n",
      "Iteration 159, loss = 0.70131891\n",
      "Iteration 160, loss = 0.69644865\n",
      "Iteration 161, loss = 0.69069749\n",
      "Iteration 162, loss = 0.68366901\n",
      "Iteration 163, loss = 0.67715333\n",
      "Iteration 164, loss = 0.67177777\n",
      "Iteration 165, loss = 0.66989338\n",
      "Iteration 166, loss = 0.66316112\n",
      "Iteration 167, loss = 0.65886958\n",
      "Iteration 168, loss = 0.65178503\n",
      "Iteration 169, loss = 0.64888992\n",
      "Iteration 170, loss = 0.64194101\n",
      "Iteration 171, loss = 0.63690955\n",
      "Iteration 172, loss = 0.63103197\n",
      "Iteration 173, loss = 0.62648812\n",
      "Iteration 174, loss = 0.62108264\n",
      "Iteration 175, loss = 0.61700613\n",
      "Iteration 176, loss = 0.61282900\n",
      "Iteration 177, loss = 0.60738742\n",
      "Iteration 178, loss = 0.60294556\n",
      "Iteration 179, loss = 0.59660588\n",
      "Iteration 180, loss = 0.59322582\n",
      "Iteration 181, loss = 0.58764421\n",
      "Iteration 182, loss = 0.58420323\n",
      "Iteration 183, loss = 0.57749034\n",
      "Iteration 184, loss = 0.57358694\n",
      "Iteration 185, loss = 0.56848523\n",
      "Iteration 186, loss = 0.56508128\n",
      "Iteration 187, loss = 0.56083442\n",
      "Iteration 188, loss = 0.55626710\n",
      "Iteration 189, loss = 0.55146965\n",
      "Iteration 190, loss = 0.54761420\n",
      "Iteration 191, loss = 0.54408009\n",
      "Iteration 192, loss = 0.54257611\n",
      "Iteration 193, loss = 0.53799875\n",
      "Iteration 194, loss = 0.53168837\n",
      "Iteration 195, loss = 0.52814706\n",
      "Iteration 196, loss = 0.52414168\n",
      "Iteration 197, loss = 0.52051996\n",
      "Iteration 198, loss = 0.51705541\n",
      "Iteration 199, loss = 0.51218104\n",
      "Iteration 200, loss = 0.50987911\n",
      "Traing Accuracy: 0.8175465838509317\n"
     ]
    },
    {
     "name": "stderr",
     "output_type": "stream",
     "text": [
      "/home/lopdie101_gmail_com/anaconda3/lib/python3.7/site-packages/sklearn/neural_network/multilayer_perceptron.py:562: ConvergenceWarning: Stochastic Optimizer: Maximum iterations (200) reached and the optimization hasn't converged yet.\n",
      "  % self.max_iter, ConvergenceWarning)\n"
     ]
    },
    {
     "data": {
      "image/png": "[encoded data removed]",
      "text/plain": [
       "<Figure size 432x288 with 1 Axes>"
      ]
     },
     "metadata": {
      "needs_background": "light"
     },
     "output_type": "display_data"
    }
   ],
   "source": [
    "from sklearn.decomposition import PCA\n",
    "from sklearn.neural_network import MLPClassifier\n",
    "from sklearn.metrics import accuracy_score\n",
    "\n",
    "# plot an example image\n",
    "plt.imshow(X[1].reshape(h,w), cmap = 'gray')\n",
    "\n",
    "### insert your code here ###\n",
    "pca = PCA(n_components=30)\n",
    "pca.fit(X)\n",
    "\n",
    "nn = MLPClassifier(hidden_layer_sizes=(25, 15), solver='adam', verbose=1)\n",
    "X_transformed = pca.transform(X)\n",
    "nn.fit(X_transformed, y)\n",
    "\n",
    "print(\"Traing Accuracy: {}\".format(accuracy_score(nn.predict(X_transformed), y)))\n"
   ]
  },
  {
   "cell_type": "markdown",
   "metadata": {},
   "source": [
    "## Bonus Challenge! (Optional)\n",
    "\n",
    "This will take some time. However, trust that it is a rewarding experience. There will be a prize for whoever implements it correctly!\n",
    "\n",
    "- Implement a feed forward neural network with back proprogation using stochastic gradient descent by hand. \n",
    "- Use any dataset you want and test the accuracy"
   ]
  },
  {
   "cell_type": "code",
   "execution_count": 77,
   "metadata": {},
   "outputs": [],
   "source": [
    "### your code below ###"
   ]
  }
 ],
 "metadata": {
  "kernelspec": {
   "display_name": "Python 3",
   "language": "python",
   "name": "python3"
  },
  "language_info": {
   "codemirror_mode": {
    "name": "ipython",
    "version": 3
   },
   "file_extension": ".py",
   "mimetype": "text/x-python",
   "name": "python",
   "nbconvert_exporter": "python",
   "pygments_lexer": "ipython3",
   "version": "3.7.1"
  }
 },
 "nbformat": 4,
 "nbformat_minor": 2
}
