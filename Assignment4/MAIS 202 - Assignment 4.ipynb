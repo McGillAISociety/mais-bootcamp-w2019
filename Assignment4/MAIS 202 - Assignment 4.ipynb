{
 "cells": [
  {
   "cell_type": "markdown",
   "metadata": {},
   "source": [
    "# Assignment 4: Mid Point Review"
   ]
  },
  {
   "cell_type": "markdown",
   "metadata": {},
   "source": [
    "Congratulations, you have reached the midpoint of the course! The rest of the course will be focused on more advanced state of the art machine learning techniques. However, before we dive into that, this assignment will be focused on ensuring you understand all the core concepts that have been covered so far. Keep in mind, these are questions that can be asked during machine learning internship interviews, so do make sure you understand them if you want to dive into this industry!"
   ]
  },
  {
   "cell_type": "markdown",
   "metadata": {},
   "source": [
    "### 1) Linear vs Polynomial Regression\n",
    "- Describe both Linear Regression and Polynomial Regression (3 lines or less each).\n",
    "\n",
    "- Describe overfitting vs underfitting with respect to parameters.  \n"
   ]
  },
  {
   "cell_type": "markdown",
   "metadata": {
    "collapsed": true
   },
   "source": [
    "##### a) linear regression\n",
    "A linear regression model predicts an output as a linear combination of the inputs, with the learned weights as the coefficients for the linear combination. It assumes that the data is normally distributed around the line of best fit (the data's distance from the line of best fit can be thought of as a Gaussian measurement error). The model is trained by minimizing the residual sum of squares equation.\n",
    "\n",
    "##### b) polynomial regression\n",
    "\n",
    "Polynomial regression is useful when the output is a linear combination of the inputs, the inputs raised to an exponent, or a product of the inputs. The model is suited for problems that are too complicated to be captured with a linear regression, but the training process of minimizing RSS is the same (once the transformed inputs are obtained). However, the model is more prone to overfitting as the polynomial degree increases.\n",
    "\n",
    "##### c) overfitting\n",
    "Overfitting occurs when a model learns the patterns of the training set so well that it can no longer predict correct outputs for an arbitrary dataset (the validation set). Because all data points have a degree of error, fitting a model too closely to training data means its parameters are not generalized enough for the model to make predictions on data with errors it has never seen before.\n",
    "\n",
    "##### d) underfitting\n",
    "Underfitting means the model hasn't learned the patterns to the problem well enough. As a result, it performs poorly on both the training data and the validation (or new) data."
   ]
  },
  {
   "cell_type": "markdown",
   "metadata": {
    "collapsed": true
   },
   "source": [
    "### 2) Logistic Regression vs. Linear SVM\n",
    "- Describe how logistic regression works (3 lines or less)\n",
    "- Describe how linear SVM works. Mention the role(s) of:\n",
    "    - support vectors\n",
    "    - margin\n",
    "    - slack variables\n",
    "    - kernels\n",
    "- Plot an example for SVM where the linear kernel is not enough to separate the data, but another kernel works"
   ]
  },
  {
   "cell_type": "markdown",
   "metadata": {
    "collapsed": true
   },
   "source": [
    "##### a) logistic regression\n",
    "\n",
    "A logistic regression produces a model that can perform binary classification using the sigmoid function. The training process minimizes the logistic loss function to find weights (which are linear with respect to the input parameters), that are applied to the input of the sigmoid function.\n",
    "\n",
    "##### b) SVMs\n",
    "A linear support vector machine (SVM) is a classification model that separates data points with a hyperplane.\n",
    "\n",
    "For a data distribution that is linearly separable, there exists an infinite number of hyperplanes that could separate it; however, some are better than others. The hyperplane that would provide us with the most confidence in its classification is the one that maximizes its distance from all the data points (and in particular the data points closest to the decision boundary).\n",
    "\n",
    "Support vectors are the data points closest to the hyperplane, and they define the decision boundary. The distances between support vectors and the hyperplane are called the margins. During training, we maximize our margins within the constraints of linear separability.\n",
    "\n",
    "In the case where our data has noise and isn't perfectly linearly separable (there might be a bit of overlap), we introduce slack variables so our model doesn't fail. Each data point has a slack variable that measures the ratio of its distance from a marginal hyperplane to the magnitude of its hyperplane's normal vector. During training, the model now optimizes a function that includes both the distance between the margins and the sum of the slack variables (the error).\n",
    "\n",
    "Lastly, we use kernels to transform linearly inseparable data to a new feature space where the data is linearly separable. In particular, they add new features that are functions of our other input variables to reveal similarities that make the data linearly separable\n",
    "\n",
    "##### c) example where we need a non-linear kernel for SVMs\n",
    "\n",
    "We can transform the graph below with the radial basis kernel."
   ]
  },
  {
   "cell_type": "code",
   "execution_count": 49,
   "metadata": {},
   "outputs": [
    {
     "name": "stderr",
     "output_type": "stream",
     "text": [
      "C:\\Users\\Cheng Lin\\Anaconda3\\lib\\site-packages\\ipykernel_launcher.py:13: RuntimeWarning: invalid value encountered in sqrt\n",
      "  del sys.path[0]\n"
     ]
    },
    {
     "data": {
      "image/png": "[encoded data removed]",
      "text/plain": [
       "<Figure size 432x288 with 1 Axes>"
      ]
     },
     "metadata": {
      "needs_background": "light"
     },
     "output_type": "display_data"
    }
   ],
   "source": [
    "import numpy as np\n",
    "import matplotlib.pyplot as plt\n",
    "\n",
    "#create group A data points\n",
    "x1_temp = [(val + np.random.uniform(-2,2)) for val in range(-25,26)]\n",
    "y1_temp = [(np.sqrt(np.power(26,2)-np.power(val,2))+np.random.uniform(-2,2)) for val in x1_temp]\n",
    "\n",
    "x1 = x1_temp+x1_temp\n",
    "y1 = y1_temp+[(val*(-1)+np.random.uniform(-2,2)) for val in y1_temp]\n",
    "\n",
    "#create group B data points\n",
    "x2_temp = [(val + np.random.uniform(-1,1)) for val in range(-10,11)]\n",
    "y2_temp = [(np.sqrt(np.power(10,2)-np.power(val,2))+np.random.uniform(-2,2)) for val in x2_temp]\n",
    "\n",
    "x2 = x2_temp+x2_temp\n",
    "y2 = y2_temp+[(val*(-1)+np.random.uniform(-1,1)) for val in y2_temp]\n",
    "\n",
    "plt.scatter(x1, y1)\n",
    "plt.scatter(x2,y2)\n",
    "plt.show()"
   ]
  },
  {
   "cell_type": "markdown",
   "metadata": {},
   "source": [
    "### 3) Linear SVM vs k-NN\n",
    "- K-Nearest Neighbours is a popular unsupervised learning algorithm. Explain the difference between supervised and unsupervised learning?\n",
    "- K-NN is an example of a lazy learning algorithm. Why is it called so. What could be a use case? Justify using a lazy learning algorithm in that case.\n",
    "- Outline the main steps for the KNN algorithm. Use text, code, plots, diagrams, etc as necessary.  \n",
    "- Plot a example dataset which works in an SVM classification and not k-NN classification. Repeat for the reverse scenario."
   ]
  },
  {
   "cell_type": "markdown",
   "metadata": {
    "collapsed": true
   },
   "source": [
    "##### a) supervised vs. unsupervised learning\n",
    "\n",
    "Supervised learning trains a model using a labelled dataset. The training process involves validating a learned function against labels to achieve the best model. In contrast, unsupervised learning involves unlabelled data. During training, the model finds patterns within the feature space itself.\n",
    "\n",
    "##### b) K-NN training and testing phases\n",
    "\n",
    "The K-nearest neighbours algorithm operates under the assumption that members of the same class lie near eachother in the feature space.\n",
    "\n",
    "We start by specifying a value for the hyperparameter k, the number of closest neighbours. The training phase of k-NN only involves reading in the data and its labels.\n",
    "\n",
    "Then, during the testing phase, a new data point is added to the feature space. The model finds the distance (Euclidean, cosine similarity, etc.) between that data point and every other data point in the feature space, and takes the nearest k points as the cluster associated with the new point. In a classification problem, the new data point is given the label that appears the most out of the k points. (We can also extend this and give each point's vote a weight that is inversely proportional to its distance from the data point.)\n",
    "\n",
    "Lastly, to determine the correct value of k, we can train and  test our model with different values of k, and observe which k seems to perform the best."
   ]
  },
  {
   "cell_type": "markdown",
   "metadata": {},
   "source": [
    "##### c) example dataset that works with SVM but not k-NN\n",
    "\n",
    "Two roughly parallel lines are linearly separable (compatible with SVMs), but do not work with k-NN. This is because any test data point along the decision boundary would be equally close to both groups, and its classification could be incorrectly influenced by outliers that lie within the margins.",
"\n",
	"### 4) K-NN Implementation\n",
    "- Implement the K-NN algorithm by hand (ie. Don't use the sklearn implementation)."
   ]
  },
  {
   "cell_type": "code",
   "execution_count": 54,
   "metadata": {},
   "outputs": [
    {
     "data": {
      "image/png": "[encoded data removed]",
      "text/plain": [
       "<Figure size 432x288 with 1 Axes>"
      ]
     },
     "metadata": {
      "needs_background": "light"
     },
     "output_type": "display_data"
    }
   ],
   "source": [
    "x = [val for val in range(20)]\n",
    "\n",
    "#define group A data points\n",
    "y1 = [(val+4+np.random.uniform(-2.5,2.5)) for val in x]\n",
    "\n",
    "#define group B data points\n",
    "y2 = [(val-4+np.random.uniform(-2.5,2.5)) for val in x]\n",
    "\n",
    "plt.scatter(x, y1)\n",
    "plt.scatter(x, y2)\n",
    "plt.show()"
   ]
  },
  {
   "cell_type": "markdown",
   "metadata": {},
   "source": [
    "##### d) example dataset that works with k-NN but not SVM\n",
    "\n",
    "k-NNs favour datasets that clearly appear in clusters/groups."
   ]
  },
  {
   "cell_type": "code",
   "execution_count": 109,
   "metadata": {},
   "outputs": [
    {
     "data": {
      "image/png": "[encoded data removed]",
      "text/plain": [
       "<Figure size 432x288 with 1 Axes>"
      ]
     },
     "metadata": {
      "needs_background": "light"
     },
     "output_type": "display_data"
    }
   ],
   "source": [
    "x1 = np.random.rand(1,50)*1.5-1\n",
    "y1 = np.random.rand(1,50)*2+3\n",
    "\n",
    "x2 = np.random.rand(1,150)*3-1.5\n",
    "y2 = np.power(x2,2)+np.random.rand(1,150)*3\n",
    "\n",
    "\n",
    "plt.scatter(x1,y1)\n",
    "plt.scatter(x2,y2)\n",
    "plt.show()"
   ]
  },
  {
   "cell_type": "markdown",
   "metadata": {},
   "source": [
    "### 4) k-NN Implementation\n",
    "- Implement the \"training\" phase of a k-NN algorithm by hand (ie. Don't use the sklearn implementation)."
   ]
  },
  {
   "cell_type": "code",
   "execution_count": 49,
   "metadata": {
    "scrolled": true
   },
   "outputs": [
    {
     "name": "stderr",
     "output_type": "stream",
     "text": [
      "C:\\Users\\Cheng Lin\\Anaconda3\\envs\\env_data2\\lib\\site-packages\\ipykernel_launcher.py:27: SettingWithCopyWarning: \n",
      "A value is trying to be set on a copy of a slice from a DataFrame.\n",
      "Try using .loc[row_indexer,col_indexer] = value instead\n",
      "\n",
      "See the caveats in the documentation: http://pandas.pydata.org/pandas-docs/stable/indexing.html#indexing-view-versus-copy\n",
      "C:\\Users\\Cheng Lin\\Anaconda3\\envs\\env_data2\\lib\\site-packages\\ipykernel_launcher.py:31: SettingWithCopyWarning: \n",
      "A value is trying to be set on a copy of a slice from a DataFrame\n",
      "\n",
      "See the caveats in the documentation: http://pandas.pydata.org/pandas-docs/stable/indexing.html#indexing-view-versus-copy\n"
     ]
    },
    {
     "name": "stdout",
     "output_type": "stream",
     "text": [
      "predicted label: 0.0\n",
      "actual label: 0.0\n"
     ]
    }
   ],
   "source": [
    "# Implement kNN by hand. It might be useful to store all distances in one array/list\n",
    "import pandas as pd\n",
    "import numpy as np\n",
    "from sklearn.datasets import load_iris\n",
    "\n",
    "# loading dataset\n",
    "iris = load_iris()\n",
    "iris_df = pd.DataFrame(data= np.c_[iris['data'], iris['target']],\n",
    "                     columns= iris['feature_names'] + ['target'])\n",
    "\n",
    "# Preview dataset\n",
    "iris_df.head()\n",
    "\n",
    "## YOUR CODE HERE\n",
    "\n",
    "# step 1: choose test data point, choose the value of k\n",
    "test_instance = iris_df.iloc[0,:-2]\n",
    "df_iris_data = iris_df.iloc[1:,:]\n",
    "\n",
    "k=25\n",
    "\n",
    "# step 2: define a function to calculate distance\n",
    "def euclid_distance(data1, data2):\n",
    "    return np.sqrt(np.power((data1-data2),2).sum())\n",
    "\n",
    "# step 3: loop through all data values and calculate distance\n",
    "df_iris_data['distance'] = np.nan\n",
    "\n",
    "for x in range(len(df_iris_data)):\n",
    "    dist = euclid_distance(test_instance, df_iris_data.iloc[x, 0:-2])\n",
    "    df_iris_data.iloc[x, -1] = dist\n",
    "\n",
    "# step 4: sort distances\n",
    "df_sorted = df_iris_data.sort_values(by='distance').reset_index(drop=True)\n",
    "\n",
    "# step 5: find labels of k closest neighbours\n",
    "neighbours = df_sorted.loc[0:k,'target']\n",
    "\n",
    "# step 6: determine data point's class\n",
    "labels={}\n",
    "for x in range(len(neighbours)):\n",
    "        label = neighbours[x]\n",
    " \n",
    "        if label in labels:\n",
    "            labels[label] += 1\n",
    "        else:\n",
    "            labels[label] = 1\n",
    "        \n",
    "sorted_labels = sorted(labels.items())\n",
    "output = sorted_labels[0][0]\n",
    "\n",
    "print('predicted label: {}'.format(output))\n",
    "print('actual label: {}'.format(iris_df.iloc[0,-1]))"
   ]
  },
  {
   "cell_type": "markdown",
   "metadata": {},
   "source": [
    "### 5) Ensemble Methods\n",
    "- Explain bagging and boosting. Clearly illustrate the difference between these methods. When would you use either one?\n",
    "- What is a decision tree? What is a random forest? Compare them and list 3 pros and cons of each?"
   ]
  },
  {
   "cell_type": "markdown",
   "metadata": {
    "collapsed": true
   },
   "source": [
    "##### a) bagging\n",
    "\n",
    "Bagging involves generating multiple versions of a predictor and using the versions to get an aggregated predictor. It reduces variance from models that tend to overfit.\n",
    "\n",
    "Specifically, bagging involves training models on a subset of the data, created through sampling with replacement. Training on subsets introduces even more variance into the datasets, and as such the aggregate predictor will be an average of models that have been trained on very different populations. Each of these models \"votes\" (or is averaged) to produce a final model. This results in an aggregate predictor that is generalized to all possible data distributions and is less likely to be overfitted.\n",
    "\n",
    "##### b) boosting\n",
    "\n",
    "Boosting is a method that also involves bootstrapping (dividing) the data into subsets, but the multiple models are trained one after the other. Each subset is trained and tested, and the data points that are the most misclassified are given heavier weights for the following training  (i.e. the misclassified data will have a larger effect on the classification for the next iteration). The reasoning is that cases with higher error are considered to be more complex and require more iterations.\n",
    "\n",
    "Lastly, when \"voting\" occurs to create the aggregate model, better models are given greater weights in the weighted average."
   ]
  },
  {
   "cell_type": "code",
   "execution_count": 121,
   "metadata": {},
   "outputs": [
    {
     "name": "stdout",
     "output_type": "stream",
     "text": [
      "Training phase for single, bagging, and boosting\n",
      "Notice how the weights of points are updated each iteration in boosting\n"
     ]
    },
    {
     "data": {
      "text/html": [
       "<img src=\"https://quantdare.com/wp-content/uploads/2016/04/bb3-800x307.png\"/>"
      ],
      "text/plain": [
       "<IPython.core.display.Image object>"
      ]
     },
     "metadata": {},
     "output_type": "display_data"
    },
    {
     "name": "stdout",
     "output_type": "stream",
     "text": [
      "\n",
      "Testing/voting phase for single, bagging, boosting\n",
      "Notice how in boosting we take a weighted average vote\n"
     ]
    },
    {
     "data": {
      "text/html": [
       "<img src=\"https://quantdare.com/wp-content/uploads/2016/04/bb4-800x307.png\"/>"
      ],
      "text/plain": [
       "<IPython.core.display.Image object>"
      ]
     },
     "metadata": {},
     "output_type": "display_data"
    }
   ],
   "source": [
    "from IPython.display import Image, display\n",
    "\n",
    "print('Training phase for single, bagging, and boosting')\n",
    "print('Notice how the weights of points are updated each iteration in boosting')\n",
    "display(Image(url= \"https://quantdare.com/wp-content/uploads/2016/04/bb3-800x307.png\"))\n",
    "\n",
    "print('\\nTesting/voting phase for single, bagging, boosting')\n",
    "print('Notice how in boosting we take a weighted average vote')\n",
    "display(Image(url='https://quantdare.com/wp-content/uploads/2016/04/bb4-800x307.png'))"
   ]
  },
  {
   "cell_type": "markdown",
   "metadata": {},
   "source": [
    "##### c) decision tree vs random forest\n",
    "\n",
    "A decision tree is a model that classifies using layers of if-else (binary) tests performed in a specific order, usually involving one feature at a time. Each node of a tree applies a test to one of the data point's features, and the data point traverses down the tree until it reaches a node that classifies it.\n",
    "\n",
    "Decision trees are helpful because they are easy to interpret for visualizations, fast, and can handle categorical inputs. However, they are prone to overfitting (especially when a tree is deep) and they use a greedy approach (so they might not choose the best splits in the long run).\n",
    "\n",
    "A random forest is an example of an ensemble model. It is a collection of decision trees whose results are aggregated into one final result. Each member of the forest is trained on different samples of the data and the aggregate model is found by voting.\n",
    "\n",
    "Random forests are good because they prevent overfitting without increasing error due to bias. However, random forests are more like a \"black box\" so they're harder to interpret than a single tree."
   ]
  },
  {
   "cell_type": "markdown",
   "metadata": {},
   "source": [
    "### 6) PCA vs Autoencoders\n",
    "- Describe how PCA achieves dimensionality reduction. Outline the main steps of the algorithm\n",
    "- What is the importance of eigenvectors and eigenvalues in the PCA algorithm above.\n",
    "- When we compute the covariance matrix in PCA, we have to subtract the mean. Why do we do this?\n",
    "- What is Autoencoder (compare it to PCA)? Why are autoencoders better in general.\n",
    "- When is the reduced dimension of an encoder equivalent to that of a PCA"
   ]
  },
  {
   "cell_type": "markdown",
   "metadata": {
    "collapsed": true
   },
   "source": [
    "##### a) PCA\n",
    "Principal Component Analysis is a process to project data (with m features) into a lower dimension subspace (with m' features). It assumes that the data can be meaningfully projected onto a linear subspace. We start by subtracting the mean of each feature from their respective data points, and calculating the covariance matrix of every feature. Then, we find the m' greatest eigenvalues and their eigenvectors. Lastly, we use these vectors as the W matrix and transform the data.\n",
    "\n",
    "The number of the features in the transformed subspace, m', can be found through cross-validation.\n",
    "\n",
    "##### b) importance of eigenvectors and eigenvalues in PCA\n",
    "\n",
    "The eigenvectors and eigenvalues of the covariance matrix give us the directions in the feature space that maximize data variance. Once the data is projected on this subspace, the eigenvectors are the axes of the transformed feature space.\n",
    "\n",
    "##### c) subtracting mean from covariance matrix in PCA\n",
    "Subtracting the mean gives us a clean equation to compute the covariance matrix with (X_bar_trans * X_bar)\n",
    "\n",
    "##### d) autoencoders\n",
    "Autoencoders are a neural network with a \"bottle neck\" hidden layer that decreases the dimensionality of the dataset. During training, the autoencoder is fed the data and uses its weights to encode, and then decode, each input. The encoder learns by validating its output against the original image. Because neural networks can have non-linear transfer functions, autoencoders are able to find non-linearl subspaces to project the feature space onto, while PCAs can't.\n",
    "\n",
    "##### e) reduced dimension of encoder eq. to PCA\n",
    "The reduced dimension of an encoder would be the same as that of PCA when the transfer function of the encoder's nodes is a linear function."
   ]
  },
  {
   "cell_type": "markdown",
   "metadata": {},
   "source": [
    "### 7) Implementation\n",
    "\n",
    "In the 1980's', Alex 'Sandy' Pentland came up with 'EigenFaces'. A novel way for facial classification using dimensionality reduction. We are going to try replicate the experiment in this question. We have loaded the face dataset for you below. Here's some steps for you: \n",
    "\n",
    "- Use PCA to reduce its dimensionality.\n",
    "- Use any algorithm to train a classifier for the dataset. You may use sklearn or pytorch. (Refer to PCA demo notebook for hints)\n",
    "- (Optional) Use autoencoders for the dimensionality reduction, compare results to PCA. Any comments/conculsions?\n"
   ]
  },
  {
   "cell_type": "code",
   "execution_count": 51,
   "metadata": {},
   "outputs": [
    {
     "name": "stdout",
     "output_type": "stream",
     "text": [
      "Total dataset size:\n",
      "n_samples: 1288\n",
      "n_features: 1850\n",
      "n_classes: 7\n"
     ]
    }
   ],
   "source": [
    "# loading the faces dataset\n",
    "from sklearn.datasets import fetch_lfw_people\n",
    "\n",
    "# uncomment below to load dataset(takes ~5 mins to load data)\n",
    "lfw_people = fetch_lfw_people(min_faces_per_person=70, resize=0.4)\n",
    "\n",
    "# introspect the images arrays to find the shapes (for plotting)\n",
    "n_samples, h, w = lfw_people.images.shape\n",
    "\n",
    "# assigning features vectors\n",
    "X = lfw_people.data\n",
    "n_features = X.shape[1]\n",
    "\n",
    "# the label to predict is the id of the person\n",
    "y = lfw_people.target\n",
    "target_names = lfw_people.target_names\n",
    "n_classes = target_names.shape[0]\n",
    "\n",
    "print(\"Total dataset size:\")\n",
    "print(\"n_samples: %d\" % n_samples)\n",
    "print(\"n_features: %d\" % n_features)\n",
    "print(\"n_classes: %d\" % n_classes)"
   ]
  },
  {
   "cell_type": "code",
   "execution_count": 6,
   "metadata": {},
   "outputs": [
    {
     "data": {
      "text/plain": [
       "<matplotlib.image.AxesImage at 0x29e07734358>"
      ]
     },
     "execution_count": 6,
     "metadata": {},
     "output_type": "execute_result"
    },
    {
     "data": {
      "image/png": "[encoded data removed]",
      "text/plain": [
       "<Figure size 432x288 with 1 Axes>"
      ]
     },
     "metadata": {
      "needs_background": "light"
     },
     "output_type": "display_data"
    }
   ],
   "source": [
    "import matplotlib.pyplot as plt\n",
    "\n",
    "# plot an example image\n",
    "plt.imshow(X[1].reshape(h,w), cmap = 'gray')"
   ]
  },
  {
   "cell_type": "code",
   "execution_count": 53,
   "metadata": {},
   "outputs": [
    {
     "name": "stdout",
     "output_type": "stream",
     "text": [
      "SVM accuracy with PCA: 0.4108527131782946\n"
     ]
    }
   ],
   "source": [
    "### insert your code here ###\n",
    "import numpy as np\n",
    "from sklearn.svm import SVC\n",
    "from sklearn.metrics import accuracy_score\n",
    "from sklearn.decomposition import PCA\n",
    "\n",
    "#perform PCA\n",
    "#our feature space is currently 37*50 = 1850\n",
    "pca = PCA(n_components=50)\n",
    "pca.fit(X)\n",
    "\n",
    "X_pca = pca.transform(X) #feature space is now 50\n",
    "\n",
    "#train a classifier\n",
    "#split data\n",
    "x_train_pca = X_pca[:1030]\n",
    "y_train_pca = y[:1030]\n",
    "\n",
    "x_test_pca = X_pca[1030:]\n",
    "y_test_pca = y[1030:]\n",
    "\n",
    "#create and train the model\n",
    "model_svc = SVC(gamma=0.001)\n",
    "model_svc.fit(x_train_pca, y_train_pca)\n",
    "\n",
    "#calculate accuracy\n",
    "y_pred_pca = model_svc.predict(x_test_pca)\n",
    "print('SVM accuracy with PCA: {}'.format(accuracy_score(y_test_pca, y_pred_pca)))\n",
    "\n",
    "#SVM accuracy with PCA: 0.4108527131782946"
   ]
  },
  {
   "cell_type": "code",
   "execution_count": 12,
   "metadata": {},
   "outputs": [],
   "source": [
    "import torch.nn as nn\n",
    "from torch.utils.data import DataLoader\n",
    "\n",
    "#define convolutional autoencoder\n",
    "class Autoencoder(nn.Module):\n",
    "    def __init__(self, m):\n",
    "        super(Autoencoder,self).__init__()\n",
    "        \n",
    "        self.encoder = nn.Sequential(\n",
    "            nn.Linear(m, 128),\n",
    "            nn.ReLU(True),\n",
    "            nn.Linear(128, 64),\n",
    "            nn.ReLU(True),\n",
    "            nn.Linear(64, 12),\n",
    "            nn.ReLU(True),\n",
    "            nn.Linear(12, 3))\n",
    "        \n",
    "        self.decoder = nn.Sequential(\n",
    "            nn.Linear(3, 12),\n",
    "            nn.ReLU(True),\n",
    "            nn.Linear(12, 64),\n",
    "            nn.ReLU(True),\n",
    "            nn.Linear(64, 128),\n",
    "            nn.ReLU(True),\n",
    "            nn.Linear(128, m),\n",
    "            nn.Tanh())\n",
    "        \n",
    "    def forward(self,x):\n",
    "        x = self.encoder(x)\n",
    "        x = self.decoder(x)\n",
    "        return x\n",
    "\n",
    "#instantiate loader\n",
    "dataloader = DataLoader(X, batch_size = 100, shuffle=True)"
   ]
  },
  {
   "cell_type": "code",
   "execution_count": 57,
   "metadata": {},
   "outputs": [
    {
     "name": "stdout",
     "output_type": "stream",
     "text": [
      "epoch [1/6], loss:19028.0645\n",
      "epoch [2/6], loss:18982.8223\n",
      "epoch [3/6], loss:19918.0293\n",
      "epoch [4/6], loss:19340.5547\n",
      "epoch [5/6], loss:19118.4980\n",
      "epoch [6/6], loss:19299.3770\n"
     ]
    }
   ],
   "source": [
    "#perform autoencoding\n",
    "\n",
    "#train autoencoder\n",
    "num_epoch = 6\n",
    "learning_rate = 1e-3\n",
    "\n",
    "ae = Autoencoder(m=1850).cpu()\n",
    "distance = nn.MSELoss()\n",
    "optimizer = torch.optim.Adam(ae.parameters(),\n",
    "                             lr=learning_rate, weight_decay=1e-5)\n",
    "\n",
    "for epoch in range(num_epoch):\n",
    "    for data in dataloader:\n",
    "        \n",
    "        #run model\n",
    "        output = ae(data)\n",
    "        loss = distance(output, data)\n",
    "        \n",
    "        #update weights\n",
    "        optimizer.zero_grad()\n",
    "        loss.backward()\n",
    "        optimizer.step()\n",
    "    \n",
    "    print('epoch [{}/{}], loss:{:.4f}'\n",
    "          .format(epoch + 1, num_epoch, loss.data))"
   ]
  },
  {
   "cell_type": "code",
   "execution_count": 58,
   "metadata": {},
   "outputs": [],
   "source": [
    "#run SVM on autoencoded data\n",
    "#encode data and split\n",
    "X_ae = ae.encoder(torch.tensor(X)).detach().numpy()\n",
    "\n",
    "x_train_ae = X_ae[:1030]\n",
    "y_train_ae = y[:1030]\n",
    "x_test_ae = X_ae[1030:]\n",
    "y_test_ae = y[1030:]"
   ]
  },
  {
   "cell_type": "code",
   "execution_count": 60,
   "metadata": {},
   "outputs": [
    {
     "name": "stdout",
     "output_type": "stream",
     "text": [
      "SVM accuracy with autoencoding: 0.4069767441860465\n"
     ]
    }
   ],
   "source": [
    "#train model\n",
    "#create and train the model\n",
    "model_ae = SVC(gamma=0.001)\n",
    "model_ae.fit(x_train_ae, y_train_ae)\n",
    "\n",
    "#calculate accuracy\n",
    "y_pred_ae = model_ae.predict(x_test_ae)\n",
    "print('SVM accuracy with autoencoding: {}'.format(accuracy_score(y_test_ae, y_pred_ae)))\n",
    "\n",
    "#SVM accuracy with autoencoding: 0.4069767441860465"
   ]
  },
  {
   "cell_type": "markdown",
   "metadata": {},
   "source": [
    "## Bonus Challenge! (Optional)\n",
    "\n",
    "This will take some time. However, trust that it is a rewarding experience. There will be a prize for whoever implements it correctly!\n",
    "\n",
    "- Implement a feed forward neural network with back proprogation using stochastic gradient descent by hand. \n",
    "- Use any dataset you want and test the accuracy"
   ]
  },
  {
   "cell_type": "code",
   "execution_count": 1,
   "metadata": {},
   "outputs": [],
   "source": [
    "### your code below ###\n",
    "\n",
    "#Really sorry but too many midterms :(\n"
   ]
  }
 ],
 "metadata": {
  "kernelspec": {
   "display_name": "Python (env_data2)",
   "language": "python",
   "name": "env_data2"
  },
  "language_info": {
   "codemirror_mode": {
    "name": "ipython",
    "version": 3
   },
   "file_extension": ".py",
   "mimetype": "text/x-python",
   "name": "python",
   "nbconvert_exporter": "python",
   "pygments_lexer": "ipython3",
   "version": "3.6.7"
  }
 },
 "nbformat": 4,
 "nbformat_minor": 2
}
