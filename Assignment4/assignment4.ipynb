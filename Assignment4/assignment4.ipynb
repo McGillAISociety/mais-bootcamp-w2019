{
 "cells": [
  {
   "cell_type": "markdown",
   "metadata": {},
   "source": [
    "# Assignment 4: Mid Point Review"
   ]
  },
  {
   "cell_type": "markdown",
   "metadata": {},
   "source": [
    "Congratulations, you have reached the midpoint of the course! The rest of the course will be focused on more advanced state of the art machine learning techniques. However, before we dive into that, this assignment will be focused on ensuring you understand all the core concepts that have been covered so far. Keep in mind, these are questions that can be asked during machine learning internship interviews, so do make sure you understand them if you want to dive into this industry!"
   ]
  },
  {
   "cell_type": "markdown",
   "metadata": {},
   "source": [
    "### 1) Linear vs Polynomial Regression\n",
    "- Describe both Linear Regression and Polynomial Regression (3 lines or less each).\n",
    "\n",
    "- Describe overfitting vs underfitting with respect to parameters.  \n"
   ]
  },
  {
   "cell_type": "markdown",
   "metadata": {
    "collapsed": true
   },
   "source": [
    "## YOUR ANSWER HERE - YOUR MAY USE MARKDOWN, LATEX, CODE, DIAGRAMS, ETC\n",
    "\n",
    "Linear regression is the process of determining what constants m and b allow a linear equation of the form y = mx + b to minimize the error across all training datapoints.\n",
    "\n",
    "Polynomial regression performs pretty much the same task, however it deals with a polynomial with x's from degree 1 to n and n + 1 constants.\n",
    "\n",
    "Overfitting occurs when a model starts to learn too many details of the data it is being trained on and makes predictions based off the noise in the data. The model essentially memorizes the training data but has low accuracy when it predicts with data it hasn't encountered yet. Underfitting is roughly the opposite, when a model is unable to represent enough of the variation/trends and so fails to predict accurately."
   ]
  },
  {
   "cell_type": "markdown",
   "metadata": {
    "collapsed": true
   },
   "source": [
    "### 2) Logistic Regression vs. Linear SVM\n",
    "- Describe how logistic regression works (3 lines or less)\n",
    "- Describe how linear SVM works. Mention the role(s) of:\n",
    "    - support vectors\n",
    "    - margin\n",
    "    - slack variables\n",
    "    - kernels\n",
    "- Plot an example for SVM where the linear kernel is not enough to separate the data, but another kernel works"
   ]
  },
  {
   "cell_type": "markdown",
   "metadata": {
    "collapsed": true
   },
   "source": [
    "## YOUR ANSWER HERE - YOUR MAY USE MARKDOWN, LATEX, CODE, DIAGRAMS, ETC\n",
    "\n",
    "Logisic regression uses a sigmoid or logistic function to make predictions where the outcome should be one of a discrete set of classes. This form of regression performs similar optimization to linear/polynomial, however the constants are used in an equation which generates a term for the sigmoid/logistic function.\n",
    "\n",
    "Linear SVM determines the best way to separate data in n-dimensional (where n is the number of features) space using a hyperplane. The basic concept can be summarized in 2D space with a line separating different groups of data points; however as the data becomes more complicated, it is sometimes necessary to represent the data with an additional axis and separate the points in this dimension. In this higher dimension, the goal is to maximize the distance from the nearest point of each class to the separation plane (which should be equidistant to the nearest point of both). The distance from the nearest point of each class to the plane is the margin, thus the goal is to maximize the margin. The plane that is determined from this is defined relative to these nearest points, the vectos to these points are called \"support vectors\". Sometimes it isn't possible/reasonable to have all training points of a class on one side of a plane, in this case we allow for \"slack variables\" which are present within the margin or in the wrong class's region. We obviously want to minimize the presence of these. Finally, predictions are made using the optimized plane, in order to compare the n-dimensional points to a high-dimension plane we use a kernel which performs linear algebra to translate between the two spaces.\n",
    "\n",
    "This data doesn't work with a linear kernel, but can be accurate separated with an RBF kernel.\n",
    "![YXSMs.png](https://i.stack.imgur.com/YXSMs.png)"
   ]
  },
  {
   "cell_type": "markdown",
   "metadata": {},
   "source": [
    "### 3) Linear SVM vs k-NN\n",
    "- K-Nearest Neighbours is a popular unsupervised learning algorithm. Explain the difference between supervised and unsupervised learning?\n",
    "- K-NN is an example of a lazy learning algorithm. Why is it called so. What could be a use case? Justify using a lazy learning algorithm in that case.\n",
    "- Outline the main steps for the KNN algorithm. Use text, code, plots, diagrams, etc as necessary.\n",
    "- Plot a example dataset which works in an SVM classification and not k-NN classification. Repeat for the reverse scenario."
   ]
  },
  {
   "cell_type": "markdown",
   "metadata": {
    "collapsed": true
   },
   "source": [
    "## YOUR ANSWER HERE - YOUR MAY USE MARKDOWN, LATEX, CODE, DIAGRAMS, ETC\n",
    "\n",
    "Supervised learning is when you train a model using data with known classes or values which can be used to influence the improvement of the model. Unsupervised learning identifies trends and patterns in data without any known classes or values.\n",
    "\n",
    "A lazy learning algorithm like K-NN never actually learns a function which describes the output data, these simply \"memorize\" the dataset. \n",
    "\n",
    "When a k-NN model is given a datapoint, it runs through all the stored datapoints and calculates it's similarity to them. A group of k items with the greatest similarity are selected. From these items, the probability of each class is determined; ie the fraction of the set which is made up of a given class. The class with the greatest probability is assigned to the input data.\n",
    "\n",
    "A K-NN model works better on the data below as separating multiple classes can be difficult with SVM.\n",
    "![GoodForKnn.png](https://cdn-images-1.medium.com/max/1200/1*mqRILg7L9KkJjiKc9TwGVg.png)\n",
    "\n",
    "An SVM model would work work well on the below data as the points of each class are heavily mixed and not grouped well, however distinct separation paths can be identified.\n",
    "![GoodForSVM](https://gyires.inf.unideb.hu/GyBITT/06/images/svm_exp6-data.png)"
   ]
  },
  {
   "cell_type": "markdown",
   "metadata": {},
   "source": [
    "### 4) k-NN Implementation\n",
    "- Implement thea k-NN algorithm by hand (ie. Don't use the sklearn implementation)."
   ]
  },
  {
   "cell_type": "code",
   "execution_count": 45,
   "metadata": {},
   "outputs": [
    {
     "name": "stdout",
     "output_type": "stream",
     "text": [
      "   sepal length (cm)  sepal width (cm)  petal length (cm)  petal width (cm)  \\\n",
      "0                5.1               3.5                1.4               0.2   \n",
      "1                4.9               3.0                1.4               0.2   \n",
      "2                4.7               3.2                1.3               0.2   \n",
      "3                4.6               3.1                1.5               0.2   \n",
      "4                5.0               3.6                1.4               0.2   \n",
      "\n",
      "   target  \n",
      "0     0.0  \n",
      "1     0.0  \n",
      "2     0.0  \n",
      "3     0.0  \n",
      "4     0.0  \n"
     ]
    },
    {
     "ename": "NameError",
     "evalue": "name 'testSet' is not defined",
     "output_type": "error",
     "traceback": [
      "\u001b[0;31m---------------------------------------------------------------------------\u001b[0m",
      "\u001b[0;31mNameError\u001b[0m                                 Traceback (most recent call last)",
      "\u001b[0;32m<ipython-input-45-31bb71575aa5>\u001b[0m in \u001b[0;36m<module>\u001b[0;34m\u001b[0m\n\u001b[1;32m     28\u001b[0m \u001b[0mdistances\u001b[0m \u001b[0;34m=\u001b[0m \u001b[0mnp\u001b[0m\u001b[0;34m.\u001b[0m\u001b[0mempty\u001b[0m\u001b[0;34m(\u001b[0m\u001b[0;36m0\u001b[0m\u001b[0;34m)\u001b[0m\u001b[0;34m\u001b[0m\u001b[0;34m\u001b[0m\u001b[0m\n\u001b[1;32m     29\u001b[0m \u001b[0;34m\u001b[0m\u001b[0m\n\u001b[0;32m---> 30\u001b[0;31m \u001b[0;32mfor\u001b[0m \u001b[0mdata\u001b[0m \u001b[0;32min\u001b[0m \u001b[0mtestSet\u001b[0m\u001b[0;34m:\u001b[0m\u001b[0;34m\u001b[0m\u001b[0;34m\u001b[0m\u001b[0m\n\u001b[0m\u001b[1;32m     31\u001b[0m     \u001b[0mdistance\u001b[0m \u001b[0;34m=\u001b[0m \u001b[0mgetEuclideanDist\u001b[0m\u001b[0;34m(\u001b[0m\u001b[0mdata\u001b[0m\u001b[0;34m,\u001b[0m \u001b[0mtrainSet\u001b[0m\u001b[0;34m)\u001b[0m\u001b[0;34m\u001b[0m\u001b[0;34m\u001b[0m\u001b[0m\n\u001b[1;32m     32\u001b[0m     \u001b[0mnp\u001b[0m\u001b[0;34m.\u001b[0m\u001b[0mappend\u001b[0m\u001b[0;34m(\u001b[0m\u001b[0mdistances\u001b[0m\u001b[0;34m,\u001b[0m \u001b[0mdistance\u001b[0m\u001b[0;34m)\u001b[0m\u001b[0;34m\u001b[0m\u001b[0;34m\u001b[0m\u001b[0m\n",
      "\u001b[0;31mNameError\u001b[0m: name 'testSet' is not defined"
     ]
    }
   ],
   "source": [
    "'''\n",
    "So I just kinda ran into a roadblock and ran outta time. I know this is entirely incomplete and largely incorrect, \n",
    "but I felt I should cut my losses and submit before the dealine. If completion of this portion is necessary to \n",
    "complete the course let me know and I will finish it as soon as possible\n",
    "'''\n",
    "# Implement kNN by hand. It might be useful to store all distances in one array/list\n",
    "\n",
    "import pandas as pd\n",
    "import numpy as np\n",
    "from sklearn.datasets import load_iris\n",
    "from sklearn.model_selection import train_test_split\n",
    "import operator\n",
    "\n",
    "# loading dataset\n",
    "iris = load_iris()\n",
    "iris_df = pd.DataFrame(data= np.c_[iris['data'], iris['target']],\n",
    "                     columns= iris['feature_names'] + ['target'])\n",
    "\n",
    "# Preview dataset\n",
    "print(iris_df.head())\n",
    "#xTrain, xTest, yTrain, yTest = train_test_split(iris_df.drop('target'), iris_df['target'], test_size=35, random_state=42)\n",
    "\n",
    "\n",
    "\n",
    "## YOUR CODE HERE\n",
    "\n",
    "def getEuclideanDist(dataA, dataB) :\n",
    "    for valA, valB in dataA, dataB:\n",
    "        distance += pow(valA - valB, 2)\n",
    "        \n",
    "    return np.sqrt(distance)\n",
    "\n",
    "def findType(distances) :\n",
    "    \n",
    "    \n",
    "    \n",
    "    return pred\n",
    "\n",
    "# step 1: \n",
    "distances = np.empty(0)\n",
    "\n",
    "for data in testSet:\n",
    "    distance = getEuclideanDist(data, trainSet)\n",
    "    np.append(distances, (distance, ))\n",
    "# step 2:\n",
    "distances.sort()\n",
    "# step 3:\n",
    "\n",
    "for \n",
    "\n",
    "# ..."
   ]
  },
  {
   "cell_type": "markdown",
   "metadata": {},
   "source": [
    "### 5) Ensemble Methods\n",
    "- Explain bagging and boosting. Clearly illustrate the difference between these methods. When would you use either one?\n",
    "- What is a decision tree? What is a random forest? Compare them and list 3 pros and cons of each?"
   ]
  },
  {
   "cell_type": "markdown",
   "metadata": {
    "collapsed": true
   },
   "source": [
    "## YOUR ANSWER HERE - YOUR MAY USE MARKDOWN, LATEX, CODE, DIAGRAMS, ETC\n",
    "\n",
    "Bagging involves using different subsets of the training data (and subests of the features) to train multiple models and predict based on the aggregation of these models' predictions. Boosting also involves the training of multiple models, however this uses weighted data which indicates which features each model should focus on. Bagging is useful when a model is overfitting as it \"smoothes\" the predicted function as it decreases the effect of variance in the data. Boosting is useful when a model continously misclassifies certain data cue to larger trends in the dataset, it is good at combatting bias.\n",
    "\n",
    "A decision tree is a tree (in the cs sense) where each internal node consists of a case and the leaves contain the class to assign a datapoint which reaches it. Random forests is essentially just using the decision tree model with bagging heavily applied.\n",
    "\n",
    "DT\n",
    "  - Pros:\n",
    "    - Easy to understand/visualize\n",
    "    - Can handle numerical or categorical data\n",
    "    - Efficient on large datasets\n",
    "    \n",
    "  - Cons:\n",
    "    - Prone to overfitting\n",
    "    - Greedy (doesn't always find best option)\n",
    "    - Can't really extrapolate\n",
    "    \n",
    "RF\n",
    "  - Pros:\n",
    "    - Can handle numerical or categorical data\n",
    "    - Decrease overfitting\n",
    "    - Efficient on large datasets\n",
    "    \n",
    "  - Cons:\n",
    "    - Difficult to interpret visually\n",
    "    - Can still overfit on noisy data\n",
    "    - Can't really extrapolate\n",
    "    "
   ]
  },
  {
   "cell_type": "markdown",
   "metadata": {},
   "source": [
    "### 6) PCA vs Autoencoders\n",
    "- Describe how PCA achieves dimensionality reduction. Outline the main steps of the algorithm\n",
    "- What is the importance of eigenvectors and eigenvalues in the PCA algorithm above.\n",
    "- When we compute the covariance matrix in PCA, we have to subtract the mean. Why do we do this?\n",
    "- What is Autoencoder (compare it to PCA)? Why are autoencoders better in general.\n",
    "- When is the reduced dimension of an encoder equivalent to that of a PCA"
   ]
  },
  {
   "cell_type": "markdown",
   "metadata": {
    "collapsed": true
   },
   "source": [
    "## YOUR ANSWER HERE - YOUR MAY USE MARKDOWN, LATEX, CODE, DIAGRAMS, ETC\n",
    "\n",
    "The dimensionality reductiion begins with the calculation of the covariance matrix which gives insight into the relationship between features. We determine the size and direction of the variance in this matrix in the form of eigen values and eigen vectors. The features with the greatest variace are identified and the original dataset is transformed.\n",
    "\n",
    "Eigen vectors and eigen values are what allow us to determine the variance in the covariance matrix.\n",
    "\n",
    "By subtracting the mean we centre the data which makes the data easier to interpret and the covariance matrix easier to define.\n",
    "\n",
    "Autoencoders are neural networks where the target values are equal to the inputs and so attempt to learn an approximate identity funtion (as opposed to a process to simply reduce the dimensionality of the dataset). Autoencoders can handle non-linear data.\n",
    "\n",
    "If you force the autoencoer to provide a linear output, the reduced dimension will be equivalent to that of a PCA."
   ]
  },
  {
   "cell_type": "markdown",
   "metadata": {},
   "source": [
    "### 7) Implementation\n",
    "\n",
    "In the 1980's', Alex 'Sandy' Pentland came up with 'EigenFaces'. A novel way for facial classification using dimensionality reduction. We are going to try replicate the experiment in this question. We have loaded the face dataset for you below. Here's some steps for you: \n",
    "\n",
    "- Use PCA to reduce its dimensionality.\n",
    "- Use any algorithm to train a classifier for the dataset. You may use sklearn or pytorch. (Refer to PCA demo notebook for hints)\n",
    "- (Optional) Use autoencoders for the dimensionality reduction, compare results to PCA. Any comments/conculsions?\n"
   ]
  },
  {
   "cell_type": "code",
   "execution_count": 6,
   "metadata": {},
   "outputs": [
    {
     "name": "stdout",
     "output_type": "stream",
     "text": [
      "Total dataset size:\n",
      "n_samples: 1288\n",
      "n_features: 1850\n",
      "n_classes: 7\n"
     ]
    }
   ],
   "source": [
    "# loading the faces dataset\n",
    "from sklearn.datasets import fetch_lfw_people\n",
    "import matplotlib.pyplot as plt\n",
    "import image\n",
    "\n",
    "# uncomment below to load dataset(takes ~5 mins to load data)\n",
    "lfw_people = fetch_lfw_people(min_faces_per_person=70, resize=0.4)\n",
    "\n",
    "# introspect the images arrays to find the shapes (for plotting)\n",
    "n_samples, h, w = lfw_people.images.shape\n",
    "\n",
    "# assigning features vectors\n",
    "X = lfw_people.data\n",
    "n_features = X.shape[1]\n",
    "\n",
    "# the label to predict is the id of the person\n",
    "y = lfw_people.target\n",
    "target_names = lfw_people.target_names\n",
    "n_classes = target_names.shape[0]\n",
    "\n",
    "print(\"Total dataset size:\")\n",
    "print(\"n_samples: %d\" % n_samples)\n",
    "print(\"n_features: %d\" % n_features)\n",
    "print(\"n_classes: %d\" % n_classes)\n"
   ]
  },
  {
   "cell_type": "code",
   "execution_count": 37,
   "metadata": {},
   "outputs": [
    {
     "name": "stdout",
     "output_type": "stream",
     "text": [
      "Iteration 1, loss = 13.76386860\n",
      "Iteration 2, loss = 6.05924725\n",
      "Iteration 3, loss = 3.86331589\n",
      "Iteration 4, loss = 2.36662724\n",
      "Iteration 5, loss = 1.45927268\n",
      "Iteration 6, loss = 1.11139005\n",
      "Iteration 7, loss = 0.35684340\n",
      "Iteration 8, loss = 0.23863808\n",
      "Iteration 9, loss = 0.17161194\n",
      "Iteration 10, loss = 0.14111891\n",
      "Iteration 11, loss = 0.05323483\n",
      "Iteration 12, loss = 0.02461023\n",
      "Iteration 13, loss = 0.00530301\n",
      "Iteration 14, loss = 0.00435665\n",
      "Iteration 15, loss = 0.00021979\n",
      "Iteration 16, loss = 0.00036737\n",
      "Iteration 17, loss = 0.00020409\n",
      "Iteration 18, loss = 0.00010840\n",
      "Iteration 19, loss = 0.00006193\n",
      "Iteration 20, loss = 0.00005618\n",
      "Iteration 21, loss = 0.00005082\n",
      "Iteration 22, loss = 0.00004871\n",
      "Iteration 23, loss = 0.00004682\n",
      "Iteration 24, loss = 0.00004571\n",
      "Iteration 25, loss = 0.00004455\n",
      "Iteration 26, loss = 0.00004380\n",
      "Training loss did not improve more than tol=0.000100 for 10 consecutive epochs. Stopping.\n",
      "train acc:  1.0\n",
      "test acc:  0.8\n"
     ]
    },
    {
     "data": {
      "image/png": "[encoded data removed]",
      "text/plain": [
       "<Figure size 432x288 with 1 Axes>"
      ]
     },
     "metadata": {
      "needs_background": "light"
     },
     "output_type": "display_data"
    }
   ],
   "source": [
    "# plot an example image\n",
    "plt.imshow(X[1].reshape(h,w), cmap = 'gray')\n",
    "\n",
    "### insert your code here ###\n",
    "from sklearn.decomposition import PCA\n",
    "from sklearn.model_selection import train_test_split\n",
    "from sklearn.neural_network import MLPClassifier\n",
    "\n",
    "pca = PCA(n_components=50)\n",
    "X_resized = pca.fit_transform(X)\n",
    "\n",
    "xTrain, xTest, yTrain, yTest = train_test_split(X_resized, y, test_size=35, random_state=42)\n",
    "\n",
    "#neural net cause sure why not\n",
    "nn = MLPClassifier(hidden_layer_sizes=(800,), solver='adam', verbose=1)\n",
    "nn.fit(xTrain, yTrain)\n",
    "\n",
    "print('train acc: ', accuracy_score(nn.predict(xTrain), yTrain))\n",
    "print('test acc: ', accuracy_score(nn.predict(xTest), yTest))"
   ]
  },
  {
   "cell_type": "markdown",
   "metadata": {},
   "source": [
    "## Bonus Challenge! (Optional)\n",
    "\n",
    "This will take some time. However, trust that it is a rewarding experience. There will be a prize for whoever implements it correctly!\n",
    "\n",
    "- Implement a feed forward neural network with back proprogation using stochastic gradient descent by hand. \n",
    "- Use any dataset you want and test the accuracy"
   ]
  },
  {
   "cell_type": "code",
   "execution_count": 36,
   "metadata": {},
   "outputs": [],
   "source": [
    "### your code below ###\n",
    "\n"
   ]
  },
  {
   "cell_type": "code",
   "execution_count": null,
   "metadata": {},
   "outputs": [],
   "source": []
  }
 ],
 "metadata": {
  "kernelspec": {
   "display_name": "Python 3",
   "language": "python",
   "name": "python3"
  },
  "language_info": {
   "codemirror_mode": {
    "name": "ipython",
    "version": 3
   },
   "file_extension": ".py",
   "mimetype": "text/x-python",
   "name": "python",
   "nbconvert_exporter": "python",
   "pygments_lexer": "ipython3",
   "version": "3.7.1"
  }
 },
 "nbformat": 4,
 "nbformat_minor": 2
}
