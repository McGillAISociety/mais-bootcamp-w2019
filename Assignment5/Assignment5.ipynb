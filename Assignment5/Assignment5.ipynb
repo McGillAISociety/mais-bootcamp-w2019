{
  "nbformat": 4,
  "nbformat_minor": 0,
  "metadata": {
    "colab": {
      "name": "Assignment5.ipynb",
      "version": "0.3.2",
      "provenance": []
    },
    "kernelspec": {
      "name": "python3",
      "display_name": "Python 3"
    },
    "accelerator": "GPU"
  },
  "cells": [
    {
      "metadata": {
        "id": "TPvhBDGjpqCL",
        "colab_type": "code",
        "colab": {
          "base_uri": "https://localhost:8080/",
          "height": 34
        },
        "outputId": "73731d6c-9039-4e8d-dd3e-1c595f6375ba"
      },
      "cell_type": "code",
      "source": [
        "# Python imports\n",
        "import os\n",
        "\n",
        "# Data manipulation imports\n",
        "%matplotlib inline\n",
        "import matplotlib.pyplot as plt\n",
        "import numpy as np\n",
        "import pandas as pd\n",
        "from sklearn.model_selection import train_test_split\n",
        "from sklearn.metrics import accuracy_score\n",
        "\n",
        "\n",
        "# ML Imports\n",
        "import tensorflow as tf\n",
        "import keras\n",
        "from keras.models import Sequential, load_model\n",
        "from keras.layers import InputLayer\n",
        "from keras.layers import Reshape, MaxPooling2D, ZeroPadding2D, Dropout\n",
        "from keras.layers import Conv2D, Dense, Flatten\n",
        "from keras.utils import to_categorical\n",
        "\n",
        "# IPython display\n",
        "from IPython.display import display"
      ],
      "execution_count": 4,
      "outputs": [
        {
          "output_type": "stream",
          "text": [
            "Using TensorFlow backend.\n"
          ],
          "name": "stderr"
        }
      ]
    },
    {
      "metadata": {
        "id": "4KawWZoAufY-",
        "colab_type": "code",
        "colab": {
          "base_uri": "https://localhost:8080/",
          "height": 94
        },
        "outputId": "b9e6654a-8055-4fea-f0ba-410320075050"
      },
      "cell_type": "code",
      "source": [
        "from google.colab import drive\n",
        "drive.mount('/content/gdrive')\n",
        "X = pd.read_csv('gdrive/My Drive/mnis/modified_mnist_x.csv', dtype=np.float32)\n",
        "y = pd.read_csv('gdrive/My Drive/mnis/modified_mnist_y.csv', dtype=np.float32)\n"
      ],
      "execution_count": 7,
      "outputs": [
        {
          "output_type": "stream",
          "text": [
            "Drive already mounted at /content/gdrive; to attempt to forcibly remount, call drive.mount(\"/content/gdrive\", force_remount=True).\n"
          ],
          "name": "stdout"
        }
      ]
    },
    {
      "metadata": {
        "id": "4sEWf8qJpseC",
        "colab_type": "code",
        "colab": {}
      },
      "cell_type": "code",
      "source": [
        "BATCH_SIZE = 512 # Reduce this to 256, 128, 64, etc if your computer is too slow\n",
        "IMG_SIZE = 64 # Images are 64x64\n",
        "NUM_CHANNELS = 1 # Images can have multiple channels eg. rgb. These images are grayscale so we have just 1 channel\n",
        "NUM_CLASSES = 10 # Digits 0-9, so we have 10 classes\n",
        "\n",
        "IMG_SIZE_FLAT = IMG_SIZE ** 2 # 64^2 = 4096, the number of pixels per image\n",
        "IMG_SHAPE = (IMG_SIZE, IMG_SIZE)\n",
        "IMG_SHAPE_CHANNELS = (IMG_SIZE, IMG_SIZE, NUM_CHANNELS)\n",
        "INPUT_SHAPE = (-1, IMG_SIZE, IMG_SIZE, NUM_CHANNELS)"
      ],
      "execution_count": 0,
      "outputs": []
    },
    {
      "metadata": {
        "id": "XvHZUbtqpvIt",
        "colab_type": "code",
        "colab": {}
      },
      "cell_type": "code",
      "source": [
        "def preprocess(x):\n",
        "    '''\n",
        "    Simple preprocessing function that removes the background from the images and normalizes pixel values between 0 and 1\n",
        "    :param x: Input array or dataframe\n",
        "    '''\n",
        "    x[x < 255] = 0 # Remove background\n",
        "    return x / 255.0 # normalize\n",
        "\n",
        "def show_data(X, y_true=None, y_pred=None, n_examples=10, shape=IMG_SHAPE):\n",
        "    '''\n",
        "    Displays the images X along with actual and predicted labels if provided.\n",
        "    :param X: The array of images.\n",
        "    :param y_true: The true labels\n",
        "    :param y_pred: The predicted labels\n",
        "    :param n_examples: The number of images to show.\n",
        "    :param shape: If images are flattened, reshapes to shape\n",
        "    :return: None\n",
        "    '''\n",
        "    for i in range(n_examples):\n",
        "        image = np.array(X[i], dtype=np.float32)\n",
        "        pixels = image.reshape(shape)\n",
        "        plt.imshow(pixels, cmap='binary')\n",
        "        plt.xlabel('Actual: {} Pred: {}'.format(y_true[i] if y_true is not None else None, \n",
        "                                                y_pred[i] if y_pred is not None else None))\n",
        "        plt.show()\n",
        "\n",
        "def predict(model, X):\n",
        "    '''\n",
        "    Given a Keras model, performs prediction and computes the labels\n",
        "    :param model: Keras model\n",
        "    :param X: Input features\n",
        "    :return: Predicted labels\n",
        "    '''\n",
        "    y_pred = model.predict(X)\n",
        "    y_pred = np.argmax(y_pred, axis=1)\n",
        "    return y_pred"
      ],
      "execution_count": 0,
      "outputs": []
    },
    {
      "metadata": {
        "id": "rcw24kOEpyl2",
        "colab_type": "code",
        "colab": {
          "base_uri": "https://localhost:8080/",
          "height": 460
        },
        "outputId": "0efeac42-bbe1-4f2b-8835-bcff2d323bf2"
      },
      "cell_type": "code",
      "source": [
        "display(X.head())\n",
        "display(y.head())"
      ],
      "execution_count": 10,
      "outputs": [
        {
          "output_type": "display_data",
          "data": {
            "text/html": [
              "<div>\n",
              "<style scoped>\n",
              "    .dataframe tbody tr th:only-of-type {\n",
              "        vertical-align: middle;\n",
              "    }\n",
              "\n",
              "    .dataframe tbody tr th {\n",
              "        vertical-align: top;\n",
              "    }\n",
              "\n",
              "    .dataframe thead th {\n",
              "        text-align: right;\n",
              "    }\n",
              "</style>\n",
              "<table border=\"1\" class=\"dataframe\">\n",
              "  <thead>\n",
              "    <tr style=\"text-align: right;\">\n",
              "      <th></th>\n",
              "      <th>149.000000</th>\n",
              "      <th>155.000000</th>\n",
              "      <th>154.000000</th>\n",
              "      <th>158.000000</th>\n",
              "      <th>158.000000.1</th>\n",
              "      <th>156.000000</th>\n",
              "      <th>156.000000.1</th>\n",
              "      <th>158.000000.2</th>\n",
              "      <th>156.000000.2</th>\n",
              "      <th>153.000000</th>\n",
              "      <th>...</th>\n",
              "      <th>182.000000.30</th>\n",
              "      <th>179.000000.109</th>\n",
              "      <th>173.000000.140</th>\n",
              "      <th>181.000000.67</th>\n",
              "      <th>185.000000.17</th>\n",
              "      <th>184.000000.19</th>\n",
              "      <th>181.000000.68</th>\n",
              "      <th>177.000000.119</th>\n",
              "      <th>174.000000.129</th>\n",
              "      <th>173.000000.141</th>\n",
              "    </tr>\n",
              "  </thead>\n",
              "  <tbody>\n",
              "    <tr>\n",
              "      <th>0</th>\n",
              "      <td>52.0</td>\n",
              "      <td>54.0</td>\n",
              "      <td>55.0</td>\n",
              "      <td>37.0</td>\n",
              "      <td>37.0</td>\n",
              "      <td>37.0</td>\n",
              "      <td>37.0</td>\n",
              "      <td>38.0</td>\n",
              "      <td>38.0</td>\n",
              "      <td>38.0</td>\n",
              "      <td>...</td>\n",
              "      <td>36.0</td>\n",
              "      <td>39.0</td>\n",
              "      <td>40.0</td>\n",
              "      <td>38.0</td>\n",
              "      <td>37.0</td>\n",
              "      <td>40.0</td>\n",
              "      <td>43.0</td>\n",
              "      <td>42.0</td>\n",
              "      <td>55.0</td>\n",
              "      <td>55.0</td>\n",
              "    </tr>\n",
              "    <tr>\n",
              "      <th>1</th>\n",
              "      <td>109.0</td>\n",
              "      <td>113.0</td>\n",
              "      <td>117.0</td>\n",
              "      <td>116.0</td>\n",
              "      <td>110.0</td>\n",
              "      <td>102.0</td>\n",
              "      <td>94.0</td>\n",
              "      <td>91.0</td>\n",
              "      <td>101.0</td>\n",
              "      <td>109.0</td>\n",
              "      <td>...</td>\n",
              "      <td>82.0</td>\n",
              "      <td>85.0</td>\n",
              "      <td>86.0</td>\n",
              "      <td>96.0</td>\n",
              "      <td>118.0</td>\n",
              "      <td>119.0</td>\n",
              "      <td>108.0</td>\n",
              "      <td>95.0</td>\n",
              "      <td>74.0</td>\n",
              "      <td>71.0</td>\n",
              "    </tr>\n",
              "    <tr>\n",
              "      <th>2</th>\n",
              "      <td>176.0</td>\n",
              "      <td>177.0</td>\n",
              "      <td>177.0</td>\n",
              "      <td>177.0</td>\n",
              "      <td>169.0</td>\n",
              "      <td>159.0</td>\n",
              "      <td>158.0</td>\n",
              "      <td>167.0</td>\n",
              "      <td>175.0</td>\n",
              "      <td>188.0</td>\n",
              "      <td>...</td>\n",
              "      <td>170.0</td>\n",
              "      <td>171.0</td>\n",
              "      <td>142.0</td>\n",
              "      <td>118.0</td>\n",
              "      <td>115.0</td>\n",
              "      <td>120.0</td>\n",
              "      <td>108.0</td>\n",
              "      <td>80.0</td>\n",
              "      <td>41.0</td>\n",
              "      <td>29.0</td>\n",
              "    </tr>\n",
              "    <tr>\n",
              "      <th>3</th>\n",
              "      <td>64.0</td>\n",
              "      <td>29.0</td>\n",
              "      <td>30.0</td>\n",
              "      <td>30.0</td>\n",
              "      <td>32.0</td>\n",
              "      <td>32.0</td>\n",
              "      <td>32.0</td>\n",
              "      <td>35.0</td>\n",
              "      <td>30.0</td>\n",
              "      <td>32.0</td>\n",
              "      <td>...</td>\n",
              "      <td>35.0</td>\n",
              "      <td>37.0</td>\n",
              "      <td>38.0</td>\n",
              "      <td>33.0</td>\n",
              "      <td>119.0</td>\n",
              "      <td>101.0</td>\n",
              "      <td>39.0</td>\n",
              "      <td>45.0</td>\n",
              "      <td>48.0</td>\n",
              "      <td>52.0</td>\n",
              "    </tr>\n",
              "    <tr>\n",
              "      <th>4</th>\n",
              "      <td>123.0</td>\n",
              "      <td>123.0</td>\n",
              "      <td>123.0</td>\n",
              "      <td>121.0</td>\n",
              "      <td>117.0</td>\n",
              "      <td>111.0</td>\n",
              "      <td>105.0</td>\n",
              "      <td>101.0</td>\n",
              "      <td>100.0</td>\n",
              "      <td>115.0</td>\n",
              "      <td>...</td>\n",
              "      <td>61.0</td>\n",
              "      <td>56.0</td>\n",
              "      <td>58.0</td>\n",
              "      <td>57.0</td>\n",
              "      <td>57.0</td>\n",
              "      <td>57.0</td>\n",
              "      <td>57.0</td>\n",
              "      <td>55.0</td>\n",
              "      <td>51.0</td>\n",
              "      <td>49.0</td>\n",
              "    </tr>\n",
              "  </tbody>\n",
              "</table>\n",
              "<p>5 rows × 4096 columns</p>\n",
              "</div>"
            ],
            "text/plain": [
              "   149.000000  155.000000  154.000000  158.000000  158.000000.1  156.000000  \\\n",
              "0        52.0        54.0        55.0        37.0          37.0        37.0   \n",
              "1       109.0       113.0       117.0       116.0         110.0       102.0   \n",
              "2       176.0       177.0       177.0       177.0         169.0       159.0   \n",
              "3        64.0        29.0        30.0        30.0          32.0        32.0   \n",
              "4       123.0       123.0       123.0       121.0         117.0       111.0   \n",
              "\n",
              "   156.000000.1  158.000000.2  156.000000.2  153.000000       ...        \\\n",
              "0          37.0          38.0          38.0        38.0       ...         \n",
              "1          94.0          91.0         101.0       109.0       ...         \n",
              "2         158.0         167.0         175.0       188.0       ...         \n",
              "3          32.0          35.0          30.0        32.0       ...         \n",
              "4         105.0         101.0         100.0       115.0       ...         \n",
              "\n",
              "   182.000000.30  179.000000.109  173.000000.140  181.000000.67  \\\n",
              "0           36.0            39.0            40.0           38.0   \n",
              "1           82.0            85.0            86.0           96.0   \n",
              "2          170.0           171.0           142.0          118.0   \n",
              "3           35.0            37.0            38.0           33.0   \n",
              "4           61.0            56.0            58.0           57.0   \n",
              "\n",
              "   185.000000.17  184.000000.19  181.000000.68  177.000000.119  \\\n",
              "0           37.0           40.0           43.0            42.0   \n",
              "1          118.0          119.0          108.0            95.0   \n",
              "2          115.0          120.0          108.0            80.0   \n",
              "3          119.0          101.0           39.0            45.0   \n",
              "4           57.0           57.0           57.0            55.0   \n",
              "\n",
              "   174.000000.129  173.000000.141  \n",
              "0            55.0            55.0  \n",
              "1            74.0            71.0  \n",
              "2            41.0            29.0  \n",
              "3            48.0            52.0  \n",
              "4            51.0            49.0  \n",
              "\n",
              "[5 rows x 4096 columns]"
            ]
          },
          "metadata": {
            "tags": []
          }
        },
        {
          "output_type": "display_data",
          "data": {
            "text/html": [
              "<div>\n",
              "<style scoped>\n",
              "    .dataframe tbody tr th:only-of-type {\n",
              "        vertical-align: middle;\n",
              "    }\n",
              "\n",
              "    .dataframe tbody tr th {\n",
              "        vertical-align: top;\n",
              "    }\n",
              "\n",
              "    .dataframe thead th {\n",
              "        text-align: right;\n",
              "    }\n",
              "</style>\n",
              "<table border=\"1\" class=\"dataframe\">\n",
              "  <thead>\n",
              "    <tr style=\"text-align: right;\">\n",
              "      <th></th>\n",
              "      <th>4</th>\n",
              "    </tr>\n",
              "  </thead>\n",
              "  <tbody>\n",
              "    <tr>\n",
              "      <th>0</th>\n",
              "      <td>7.0</td>\n",
              "    </tr>\n",
              "    <tr>\n",
              "      <th>1</th>\n",
              "      <td>1.0</td>\n",
              "    </tr>\n",
              "    <tr>\n",
              "      <th>2</th>\n",
              "      <td>0.0</td>\n",
              "    </tr>\n",
              "    <tr>\n",
              "      <th>3</th>\n",
              "      <td>8.0</td>\n",
              "    </tr>\n",
              "    <tr>\n",
              "      <th>4</th>\n",
              "      <td>7.0</td>\n",
              "    </tr>\n",
              "  </tbody>\n",
              "</table>\n",
              "</div>"
            ],
            "text/plain": [
              "     4\n",
              "0  7.0\n",
              "1  1.0\n",
              "2  0.0\n",
              "3  8.0\n",
              "4  7.0"
            ]
          },
          "metadata": {
            "tags": []
          }
        }
      ]
    },
    {
      "metadata": {
        "id": "cxKVzGxMpzrT",
        "colab_type": "code",
        "colab": {}
      },
      "cell_type": "code",
      "source": [
        "X_train, X_test, y_train, y_test = train_test_split(X, y, test_size=0.2, stratify=y)"
      ],
      "execution_count": 0,
      "outputs": []
    },
    {
      "metadata": {
        "id": "4PD3mnG-p2OE",
        "colab_type": "code",
        "colab": {
          "base_uri": "https://localhost:8080/",
          "height": 51
        },
        "outputId": "13eb2169-4d42-4f39-ac00-ce9158d2214f"
      },
      "cell_type": "code",
      "source": [
        "display(X_train.shape)\n",
        "display(X_test.shape)"
      ],
      "execution_count": 12,
      "outputs": [
        {
          "output_type": "display_data",
          "data": {
            "text/plain": [
              "(39999, 4096)"
            ]
          },
          "metadata": {
            "tags": []
          }
        },
        {
          "output_type": "display_data",
          "data": {
            "text/plain": [
              "(10000, 4096)"
            ]
          },
          "metadata": {
            "tags": []
          }
        }
      ]
    },
    {
      "metadata": {
        "id": "mXpr9tB-p2q8",
        "colab_type": "code",
        "colab": {}
      },
      "cell_type": "code",
      "source": [
        "X_train = np.reshape(X_train.values, INPUT_SHAPE)\n",
        "X_test = np.reshape(X_test.values, INPUT_SHAPE)\n",
        "y_train = y_train.values\n",
        "y_test = y_test.values"
      ],
      "execution_count": 0,
      "outputs": []
    },
    {
      "metadata": {
        "id": "xi8VWEUKp4Gl",
        "colab_type": "code",
        "colab": {}
      },
      "cell_type": "code",
      "source": [
        "X_train = preprocess(X_train)\n",
        "X_test = preprocess(X_test)"
      ],
      "execution_count": 0,
      "outputs": []
    },
    {
      "metadata": {
        "id": "Gj5foUxGp6u5",
        "colab_type": "code",
        "colab": {
          "base_uri": "https://localhost:8080/",
          "height": 51
        },
        "outputId": "bd0d8ca8-055b-475f-9af1-1a4cacbceb07"
      },
      "cell_type": "code",
      "source": [
        "display(X_train.shape) # Now our inputs have been reshaped, so we have a 4D array, with each item representing an image.\n",
        "display(X_test.shape)"
      ],
      "execution_count": 15,
      "outputs": [
        {
          "output_type": "display_data",
          "data": {
            "text/plain": [
              "(39999, 64, 64, 1)"
            ]
          },
          "metadata": {
            "tags": []
          }
        },
        {
          "output_type": "display_data",
          "data": {
            "text/plain": [
              "(10000, 64, 64, 1)"
            ]
          },
          "metadata": {
            "tags": []
          }
        }
      ]
    },
    {
      "metadata": {
        "id": "h6S02Aqpp8Pc",
        "colab_type": "code",
        "colab": {}
      },
      "cell_type": "code",
      "source": [
        "y_train_enc = to_categorical(y_train, NUM_CLASSES)\n",
        "y_test_enc = to_categorical(y_test, NUM_CLASSES)"
      ],
      "execution_count": 0,
      "outputs": []
    },
    {
      "metadata": {
        "id": "uAJzOUMrp-Oj",
        "colab_type": "code",
        "colab": {}
      },
      "cell_type": "code",
      "source": [
        "def create_model():\n",
        "    # TODO: Create your model here\n",
        "    model = Sequential()\n",
        "    model.add(Conv2D(32, (5, 5), padding='same', activation='relu', input_shape=IMG_SHAPE_CHANNELS))\n",
        "    model.add(Dropout(0.20))\n",
        "    model.add(MaxPooling2D(pool_size=(2, 2)))\n",
        "\n",
        "    model.add(Conv2D(64, (5, 5), padding='same', activation='relu'))\n",
        "    model.add(Dropout(0.20))\n",
        "    model.add(MaxPooling2D(pool_size=(2, 2)))\n",
        "\n",
        "    model.add(Conv2D(128, (5, 5), padding='same', activation='relu'))\n",
        "    model.add(Dropout(0.20))\n",
        "    model.add(MaxPooling2D(pool_size=(2, 2)))\n",
        "\n",
        "    model.add(Conv2D(256, (5, 5), padding='same', activation='relu'))\n",
        "    model.add(Dropout(0.30))\n",
        "    model.add(MaxPooling2D(pool_size=(2, 2)))\n",
        "\n",
        "    model.add(Flatten())\n",
        "    model.add(Dense(1024, activation='relu'))\n",
        "    model.add(Dropout(0.40))\n",
        "\n",
        "    model.add(Dense(1024, activation='relu'))\n",
        "\n",
        "    model.add(Dense(NUM_CLASSES, activation='softmax'))\n",
        "    return model"
      ],
      "execution_count": 0,
      "outputs": []
    },
    {
      "metadata": {
        "id": "FtivTHB4qBl4",
        "colab_type": "code",
        "colab": {
          "base_uri": "https://localhost:8080/",
          "height": 179
        },
        "outputId": "621ff892-4bd6-4a8c-abee-ba6ba1204dfe"
      },
      "cell_type": "code",
      "source": [
        "model = create_model()\n",
        "# TODO: Compile your model\n",
        "model.compile(optimizer='rmsprop', loss='categorical_crossentropy', metrics=['accuracy'])"
      ],
      "execution_count": 18,
      "outputs": [
        {
          "output_type": "stream",
          "text": [
            "WARNING:tensorflow:From /usr/local/lib/python3.6/dist-packages/tensorflow/python/framework/op_def_library.py:263: colocate_with (from tensorflow.python.framework.ops) is deprecated and will be removed in a future version.\n",
            "Instructions for updating:\n",
            "Colocations handled automatically by placer.\n",
            "WARNING:tensorflow:From /usr/local/lib/python3.6/dist-packages/keras/backend/tensorflow_backend.py:3445: calling dropout (from tensorflow.python.ops.nn_ops) with keep_prob is deprecated and will be removed in a future version.\n",
            "Instructions for updating:\n",
            "Please use `rate` instead of `keep_prob`. Rate should be set to `rate = 1 - keep_prob`.\n"
          ],
          "name": "stdout"
        }
      ]
    },
    {
      "metadata": {
        "id": "dEoT0oBBqDb6",
        "colab_type": "code",
        "colab": {
          "base_uri": "https://localhost:8080/",
          "height": 1020
        },
        "outputId": "ff02cced-87db-4a4a-d5a7-ab4adda8ed56"
      },
      "cell_type": "code",
      "source": [
        "# TODO: fit your model to the training set\n",
        "model.fit(x=X_train, y=y_train_enc, epochs=10, batch_size=BATCH_SIZE)"
      ],
      "execution_count": 19,
      "outputs": [
        {
          "output_type": "stream",
          "text": [
            "WARNING:tensorflow:From /usr/local/lib/python3.6/dist-packages/tensorflow/python/ops/math_ops.py:3066: to_int32 (from tensorflow.python.ops.math_ops) is deprecated and will be removed in a future version.\n",
            "Instructions for updating:\n",
            "Use tf.cast instead.\n",
            "Epoch 1/10\n",
            "39999/39999 [==============================] - 36s 893us/step - loss: 2.4435 - acc: 0.1135\n",
            "Epoch 2/10\n",
            "39999/39999 [==============================] - 29s 725us/step - loss: 2.3024 - acc: 0.1428\n",
            "Epoch 3/10\n",
            "39999/39999 [==============================] - 29s 725us/step - loss: 1.9515 - acc: 0.2890\n",
            "Epoch 4/10\n",
            "39999/39999 [==============================] - 29s 725us/step - loss: 1.2102 - acc: 0.5901\n",
            "Epoch 5/10\n",
            "39999/39999 [==============================] - 29s 725us/step - loss: 0.5941 - acc: 0.8162\n",
            "Epoch 6/10\n",
            "39999/39999 [==============================] - 29s 723us/step - loss: 0.3750 - acc: 0.8861\n",
            "Epoch 7/10\n",
            "39999/39999 [==============================] - 29s 722us/step - loss: 0.2869 - acc: 0.9142\n",
            "Epoch 8/10\n",
            "39999/39999 [==============================] - 29s 726us/step - loss: 0.2236 - acc: 0.9321\n",
            "Epoch 9/10\n",
            "39999/39999 [==============================] - 29s 725us/step - loss: 0.1664 - acc: 0.9482\n",
            "Epoch 10/10\n",
            "39999/39999 [==============================] - 29s 726us/step - loss: 0.1436 - acc: 0.9562\n"
          ],
          "name": "stdout"
        },
        {
          "output_type": "execute_result",
          "data": {
            "text/plain": [
              "<keras.callbacks.History at 0x7f95c5dbb668>"
            ]
          },
          "metadata": {
            "tags": []
          },
          "execution_count": 19
        }
      ]
    },
    {
      "metadata": {
        "id": "-4tZK7xfqE15",
        "colab_type": "code",
        "colab": {
          "base_uri": "https://localhost:8080/",
          "height": 34
        },
        "outputId": "cbac68b5-b44d-44a8-b268-c5087eadb6c4"
      },
      "cell_type": "code",
      "source": [
        "y_pred = predict(model, X_test)\n",
        "print('Your accuracy is:', accuracy_score(y_test, y_pred))"
      ],
      "execution_count": 21,
      "outputs": [
        {
          "output_type": "stream",
          "text": [
            "Your accuracy is: 0.9457\n"
          ],
          "name": "stdout"
        }
      ]
    },
    {
      "metadata": {
        "id": "BbNH4-DsqGei",
        "colab_type": "code",
        "colab": {}
      },
      "cell_type": "code",
      "source": [
        ""
      ],
      "execution_count": 0,
      "outputs": []
    }
  ]
}