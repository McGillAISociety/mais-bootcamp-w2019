{
  "nbformat": 4,
  "nbformat_minor": 0,
  "metadata": {
    "colab": {
      "name": "Assignment5.ipynb",
      "version": "0.3.2",
      "provenance": [],
      "collapsed_sections": []
    },
    "kernelspec": {
      "name": "python3",
      "display_name": "Python 3"
    },
    "accelerator": "GPU"
  },
  "cells": [
    {
      "metadata": {
        "id": "_DxzbrnR4Qgm",
        "colab_type": "text"
      },
      "cell_type": "markdown",
      "source": [
        "# Assignment 5\n",
        "\n",
        "### Intro\n",
        "In this assignment, you will design a Convolutional Neural Network (CNN) based algorithm that can automatically identify hand-written digits.\n",
        "\n",
        "We will be using the Keras API to design our CNN. Keras is a high-level library that builds on top of lower-level libraries like Tensorflow and Theano. In other words, Keras can be thought of as a front-end API which uses a backend engine for its computations. For example, we can use Keras with a Tensorflow or Theano backend. Since Keras does not yet support PyTorch, we will be using the Tensorflow backend (Theano is not widely used anymore). Follow the README to install both Tensorflow and Keras.\n",
        "\n",
        "The nice thing about APIs like Keras is that we can create models quickly without having to worry about the underlying implementation. However, for highly customzed algorithms it is usually necessary to work with the lower-level libraries like PyTorch or Tensorflow.\n",
        "\n",
        "You should definitely read this before attempting this assignment: https://keras.io/getting-started/sequential-model-guide/\n",
        "\n",
        "Essentially Keras has two ways of defining a model: Sequentially or Functionally. We use the sequential approach in this assignment but you are more than welcome to try the functional approach as this is more commonly used.\n",
        "\n",
        "### Background\n",
        "The dataset we will use is a variant of the orignal MNIST handwritten digit dataset. In this variant, each image (input) contains two or three digits from the original MNIST dataset randomly scaled to 40/60/80/100/120 percent of the original digit size and spliced together at different angles.\n",
        "\n",
        "For each image in the modified dataset, the correct label corresponds to the digit with the maximum area. More precisely, this area refers to area of the rectangle which encompasses the digit.\n",
        "\n",
        "We will use 39999 images for training and 10000 images for testing.\n",
        "\n",
        "Download the dataset files here:\n",
        "\n",
        "[Features](https://drive.google.com/file/d/1ZWQN6Y4Pm70k25ONmDOgbZOwVGhBITov/view?usp=sharing)\n",
        "\n",
        "[Labels](https://drive.google.com/file/d/11I7RgSYMhF5bWGDMRFOiEkeQ-DyZjhAj/view?usp=sharing)\n",
        "\n",
        "### Your task\n",
        "Your task for this assignment is to improve the base model and achieve an accuracy of 95% or above on the test set. You will do this by making the model more complex by doing the following:\n",
        "1. Changing the architecture of the model by adding Conv2d, Dense(feed-forward), Pooling, [Dropout](https://medium.com/@amarbudhiraja/https-medium-com-amarbudhiraja-learning-less-to-learn-better-dropout-in-deep-machine-learning-74334da4bfc5), and any other layers that make sense.\n",
        "2. Playing around the parameters of the layers. Do some quick research to see what kind of pooling, for example, could be effective in this task and experiment!\n",
        "3. Modify the preprocess function if you think you can do better\n",
        "\n",
        "### Note:\n",
        "This assignment may take a while to complete (mostly due to training time). If you find that it is taking too long, reduce the batch size (to some lower power of 2) and reduce the number of epochs from 10 to a lower number. Whatever accuracy you end up with does not matter as long as we see that you have tried you complete this assignment :)"
      ]
    },
    {
      "metadata": {
        "id": "IMuzTjYQyi-x",
        "colab_type": "code",
        "outputId": "619ace18-ba9f-4c8a-f032-4af6f464a5fe",
        "colab": {
          "base_uri": "https://localhost:8080/",
          "height": 122
        }
      },
      "cell_type": "code",
      "source": [
        "from google.colab import drive\n",
        "drive.mount('/content/gdrive')"
      ],
      "execution_count": 1,
      "outputs": [
        {
          "output_type": "stream",
          "text": [
            "Go to this URL in a browser: https://accounts.google.com/o/oauth2/auth?client_id=947318989803-6bn6qk8qdgf4n4g3pfee6491hc0brc4i.apps.googleusercontent.com&redirect_uri=urn%3Aietf%3Awg%3Aoauth%3A2.0%3Aoob&scope=email%20https%3A%2F%2Fwww.googleapis.com%2Fauth%2Fdocs.test%20https%3A%2F%2Fwww.googleapis.com%2Fauth%2Fdrive%20https%3A%2F%2Fwww.googleapis.com%2Fauth%2Fdrive.photos.readonly%20https%3A%2F%2Fwww.googleapis.com%2Fauth%2Fpeopleapi.readonly&response_type=code\n",
            "\n",
            "Enter your authorization code:\n",
            "··········\n",
            "Mounted at /content/gdrive\n"
          ],
          "name": "stdout"
        }
      ]
    },
    {
      "metadata": {
        "id": "sjjAaq9a4Qgs",
        "colab_type": "code",
        "colab": {
          "base_uri": "https://localhost:8080/",
          "height": 34
        },
        "outputId": "89e4c7e6-6aac-4be3-9ba4-252b11c5eea1"
      },
      "cell_type": "code",
      "source": [
        "# Python imports\n",
        "import os\n",
        "\n",
        "# Data manipulation imports\n",
        "%matplotlib inline\n",
        "import matplotlib.pyplot as plt\n",
        "import numpy as np\n",
        "import pandas as pd\n",
        "from sklearn.model_selection import train_test_split\n",
        "from sklearn.metrics import accuracy_score\n",
        "\n",
        "\n",
        "# ML Imports\n",
        "from keras.layers.normalization import BatchNormalization\n",
        "import tensorflow as tf\n",
        "from tensorflow import keras\n",
        "from keras.models import Sequential, load_model\n",
        "from keras.layers import InputLayer\n",
        "from keras.layers import Reshape, MaxPooling2D, ZeroPadding2D, Dropout, AveragePooling2D\n",
        "from keras.layers import Conv2D, Dense, Flatten , Activation\n",
        "from keras.utils import to_categorical\n",
        "\n",
        "# IPython display\n",
        "from IPython.display import display\n",
        "\n",
        "import pprint"
      ],
      "execution_count": 2,
      "outputs": [
        {
          "output_type": "stream",
          "text": [
            "Using TensorFlow backend.\n"
          ],
          "name": "stderr"
        }
      ]
    },
    {
      "metadata": {
        "id": "EsgRpJDw4Qg3",
        "colab_type": "text"
      },
      "cell_type": "markdown",
      "source": [
        "### First we declare some constants relating to our input and training"
      ]
    },
    {
      "metadata": {
        "id": "0ydb2xes4Qg5",
        "colab_type": "code",
        "colab": {}
      },
      "cell_type": "code",
      "source": [
        "BATCH_SIZE = 512 # Reduce this to 256, 128, 64, etc if your computer is too slow\n",
        "IMG_SIZE = 64 # Images are 64x64\n",
        "NUM_CHANNELS = 1 # Images can have multiple channels eg. rgb. These images are grayscale so we have just 1 channel\n",
        "NUM_CLASSES = 10 # Digits 0-9, so we have 10 classes\n",
        "\n",
        "IMG_SIZE_FLAT = IMG_SIZE ** 2 # 64^2 = 4096, the number of pixels per image\n",
        "IMG_SHAPE = (IMG_SIZE, IMG_SIZE)\n",
        "IMG_SHAPE_CHANNELS = (IMG_SIZE, IMG_SIZE, NUM_CHANNELS)\n",
        "INPUT_SHAPE = (-1, IMG_SIZE, IMG_SIZE, NUM_CHANNELS)"
      ],
      "execution_count": 0,
      "outputs": []
    },
    {
      "metadata": {
        "id": "JdBNr_XY4Qg9",
        "colab_type": "text"
      },
      "cell_type": "markdown",
      "source": [
        "### Helper functions"
      ]
    },
    {
      "metadata": {
        "id": "mrUP6oUX4Qg_",
        "colab_type": "code",
        "colab": {}
      },
      "cell_type": "code",
      "source": [
        "def preprocess(x):\n",
        "    '''\n",
        "    Simple preprocessing function that removes the background from the images and normalizes pixel values between 0 and 1\n",
        "    :param x: Input array or dataframe\n",
        "    '''\n",
        "    x[x < 255] = 0 # Remove background\n",
        "    return x / 255.0 # normalize\n",
        "\n",
        "def show_data(X, y_true=None, y_pred=None, n_examples=10, shape=IMG_SHAPE):\n",
        "    '''\n",
        "    Displays the images X along with actual and predicted labels if provided.\n",
        "    :param X: The array of images.\n",
        "    :param y_true: The true labels\n",
        "    :param y_pred: The predicted labels\n",
        "    :param n_examples: The number of images to show.\n",
        "    :param shape: If images are flattened, reshapes to shape\n",
        "    :return: None\n",
        "    '''\n",
        "    for i in range(n_examples):\n",
        "        image = np.array(X[i], dtype=np.float32)\n",
        "        pixels = image.reshape(shape)\n",
        "        plt.imshow(pixels, cmap='binary')\n",
        "        plt.xlabel('Actual: {} Pred: {}'.format(y_true[i] if y_true is not None else None, \n",
        "                                                y_pred[i] if y_pred is not None else None))\n",
        "        plt.show()\n",
        "\n",
        "def predict(model, X):\n",
        "    '''\n",
        "    Given a Keras model, performs prediction and computes the labels\n",
        "    :param model: Keras model\n",
        "    :param X: Input features\n",
        "    :return: Predicted labels\n",
        "    '''\n",
        "    y_pred = model.predict(X)\n",
        "    y_pred = np.argmax(y_pred, axis=1)\n",
        "    return y_pred"
      ],
      "execution_count": 0,
      "outputs": []
    },
    {
      "metadata": {
        "id": "HnG0KDyy4QhC",
        "colab_type": "code",
        "colab": {}
      },
      "cell_type": "code",
      "source": [
        "X = pd.read_csv('gdrive/My Drive/Colab Notebooks/modified_mnist_x.csv', dtype=np.float32)\n",
        "y = pd.read_csv('gdrive/My Drive/Colab Notebooks/modified_mnist_y.csv', dtype=np.float32)"
      ],
      "execution_count": 0,
      "outputs": []
    },
    {
      "metadata": {
        "id": "gzTzbIaU4QhF",
        "colab_type": "code",
        "outputId": "b9103318-98f8-48f5-be19-481377c58a75",
        "colab": {
          "base_uri": "https://localhost:8080/",
          "height": 420
        }
      },
      "cell_type": "code",
      "source": [
        "display(X.head())\n",
        "display(y.head())"
      ],
      "execution_count": 6,
      "outputs": [
        {
          "output_type": "display_data",
          "data": {
            "text/html": [
              "<div>\n",
              "<style scoped>\n",
              "    .dataframe tbody tr th:only-of-type {\n",
              "        vertical-align: middle;\n",
              "    }\n",
              "\n",
              "    .dataframe tbody tr th {\n",
              "        vertical-align: top;\n",
              "    }\n",
              "\n",
              "    .dataframe thead th {\n",
              "        text-align: right;\n",
              "    }\n",
              "</style>\n",
              "<table border=\"1\" class=\"dataframe\">\n",
              "  <thead>\n",
              "    <tr style=\"text-align: right;\">\n",
              "      <th></th>\n",
              "      <th>149.000000</th>\n",
              "      <th>155.000000</th>\n",
              "      <th>154.000000</th>\n",
              "      <th>158.000000</th>\n",
              "      <th>158.000000.1</th>\n",
              "      <th>156.000000</th>\n",
              "      <th>156.000000.1</th>\n",
              "      <th>158.000000.2</th>\n",
              "      <th>156.000000.2</th>\n",
              "      <th>153.000000</th>\n",
              "      <th>...</th>\n",
              "      <th>182.000000.30</th>\n",
              "      <th>179.000000.109</th>\n",
              "      <th>173.000000.140</th>\n",
              "      <th>181.000000.67</th>\n",
              "      <th>185.000000.17</th>\n",
              "      <th>184.000000.19</th>\n",
              "      <th>181.000000.68</th>\n",
              "      <th>177.000000.119</th>\n",
              "      <th>174.000000.129</th>\n",
              "      <th>173.000000.141</th>\n",
              "    </tr>\n",
              "  </thead>\n",
              "  <tbody>\n",
              "    <tr>\n",
              "      <th>0</th>\n",
              "      <td>52.0</td>\n",
              "      <td>54.0</td>\n",
              "      <td>55.0</td>\n",
              "      <td>37.0</td>\n",
              "      <td>37.0</td>\n",
              "      <td>37.0</td>\n",
              "      <td>37.0</td>\n",
              "      <td>38.0</td>\n",
              "      <td>38.0</td>\n",
              "      <td>38.0</td>\n",
              "      <td>...</td>\n",
              "      <td>36.0</td>\n",
              "      <td>39.0</td>\n",
              "      <td>40.0</td>\n",
              "      <td>38.0</td>\n",
              "      <td>37.0</td>\n",
              "      <td>40.0</td>\n",
              "      <td>43.0</td>\n",
              "      <td>42.0</td>\n",
              "      <td>55.0</td>\n",
              "      <td>55.0</td>\n",
              "    </tr>\n",
              "    <tr>\n",
              "      <th>1</th>\n",
              "      <td>109.0</td>\n",
              "      <td>113.0</td>\n",
              "      <td>117.0</td>\n",
              "      <td>116.0</td>\n",
              "      <td>110.0</td>\n",
              "      <td>102.0</td>\n",
              "      <td>94.0</td>\n",
              "      <td>91.0</td>\n",
              "      <td>101.0</td>\n",
              "      <td>109.0</td>\n",
              "      <td>...</td>\n",
              "      <td>82.0</td>\n",
              "      <td>85.0</td>\n",
              "      <td>86.0</td>\n",
              "      <td>96.0</td>\n",
              "      <td>118.0</td>\n",
              "      <td>119.0</td>\n",
              "      <td>108.0</td>\n",
              "      <td>95.0</td>\n",
              "      <td>74.0</td>\n",
              "      <td>71.0</td>\n",
              "    </tr>\n",
              "    <tr>\n",
              "      <th>2</th>\n",
              "      <td>176.0</td>\n",
              "      <td>177.0</td>\n",
              "      <td>177.0</td>\n",
              "      <td>177.0</td>\n",
              "      <td>169.0</td>\n",
              "      <td>159.0</td>\n",
              "      <td>158.0</td>\n",
              "      <td>167.0</td>\n",
              "      <td>175.0</td>\n",
              "      <td>188.0</td>\n",
              "      <td>...</td>\n",
              "      <td>170.0</td>\n",
              "      <td>171.0</td>\n",
              "      <td>142.0</td>\n",
              "      <td>118.0</td>\n",
              "      <td>115.0</td>\n",
              "      <td>120.0</td>\n",
              "      <td>108.0</td>\n",
              "      <td>80.0</td>\n",
              "      <td>41.0</td>\n",
              "      <td>29.0</td>\n",
              "    </tr>\n",
              "    <tr>\n",
              "      <th>3</th>\n",
              "      <td>64.0</td>\n",
              "      <td>29.0</td>\n",
              "      <td>30.0</td>\n",
              "      <td>30.0</td>\n",
              "      <td>32.0</td>\n",
              "      <td>32.0</td>\n",
              "      <td>32.0</td>\n",
              "      <td>35.0</td>\n",
              "      <td>30.0</td>\n",
              "      <td>32.0</td>\n",
              "      <td>...</td>\n",
              "      <td>35.0</td>\n",
              "      <td>37.0</td>\n",
              "      <td>38.0</td>\n",
              "      <td>33.0</td>\n",
              "      <td>119.0</td>\n",
              "      <td>101.0</td>\n",
              "      <td>39.0</td>\n",
              "      <td>45.0</td>\n",
              "      <td>48.0</td>\n",
              "      <td>52.0</td>\n",
              "    </tr>\n",
              "    <tr>\n",
              "      <th>4</th>\n",
              "      <td>123.0</td>\n",
              "      <td>123.0</td>\n",
              "      <td>123.0</td>\n",
              "      <td>121.0</td>\n",
              "      <td>117.0</td>\n",
              "      <td>111.0</td>\n",
              "      <td>105.0</td>\n",
              "      <td>101.0</td>\n",
              "      <td>100.0</td>\n",
              "      <td>115.0</td>\n",
              "      <td>...</td>\n",
              "      <td>61.0</td>\n",
              "      <td>56.0</td>\n",
              "      <td>58.0</td>\n",
              "      <td>57.0</td>\n",
              "      <td>57.0</td>\n",
              "      <td>57.0</td>\n",
              "      <td>57.0</td>\n",
              "      <td>55.0</td>\n",
              "      <td>51.0</td>\n",
              "      <td>49.0</td>\n",
              "    </tr>\n",
              "  </tbody>\n",
              "</table>\n",
              "<p>5 rows × 4096 columns</p>\n",
              "</div>"
            ],
            "text/plain": [
              "   149.000000  155.000000  154.000000  158.000000  158.000000.1  156.000000  \\\n",
              "0        52.0        54.0        55.0        37.0          37.0        37.0   \n",
              "1       109.0       113.0       117.0       116.0         110.0       102.0   \n",
              "2       176.0       177.0       177.0       177.0         169.0       159.0   \n",
              "3        64.0        29.0        30.0        30.0          32.0        32.0   \n",
              "4       123.0       123.0       123.0       121.0         117.0       111.0   \n",
              "\n",
              "   156.000000.1  158.000000.2  156.000000.2  153.000000       ...        \\\n",
              "0          37.0          38.0          38.0        38.0       ...         \n",
              "1          94.0          91.0         101.0       109.0       ...         \n",
              "2         158.0         167.0         175.0       188.0       ...         \n",
              "3          32.0          35.0          30.0        32.0       ...         \n",
              "4         105.0         101.0         100.0       115.0       ...         \n",
              "\n",
              "   182.000000.30  179.000000.109  173.000000.140  181.000000.67  \\\n",
              "0           36.0            39.0            40.0           38.0   \n",
              "1           82.0            85.0            86.0           96.0   \n",
              "2          170.0           171.0           142.0          118.0   \n",
              "3           35.0            37.0            38.0           33.0   \n",
              "4           61.0            56.0            58.0           57.0   \n",
              "\n",
              "   185.000000.17  184.000000.19  181.000000.68  177.000000.119  \\\n",
              "0           37.0           40.0           43.0            42.0   \n",
              "1          118.0          119.0          108.0            95.0   \n",
              "2          115.0          120.0          108.0            80.0   \n",
              "3          119.0          101.0           39.0            45.0   \n",
              "4           57.0           57.0           57.0            55.0   \n",
              "\n",
              "   174.000000.129  173.000000.141  \n",
              "0            55.0            55.0  \n",
              "1            74.0            71.0  \n",
              "2            41.0            29.0  \n",
              "3            48.0            52.0  \n",
              "4            51.0            49.0  \n",
              "\n",
              "[5 rows x 4096 columns]"
            ]
          },
          "metadata": {
            "tags": []
          }
        },
        {
          "output_type": "display_data",
          "data": {
            "text/html": [
              "<div>\n",
              "<style scoped>\n",
              "    .dataframe tbody tr th:only-of-type {\n",
              "        vertical-align: middle;\n",
              "    }\n",
              "\n",
              "    .dataframe tbody tr th {\n",
              "        vertical-align: top;\n",
              "    }\n",
              "\n",
              "    .dataframe thead th {\n",
              "        text-align: right;\n",
              "    }\n",
              "</style>\n",
              "<table border=\"1\" class=\"dataframe\">\n",
              "  <thead>\n",
              "    <tr style=\"text-align: right;\">\n",
              "      <th></th>\n",
              "      <th>4</th>\n",
              "    </tr>\n",
              "  </thead>\n",
              "  <tbody>\n",
              "    <tr>\n",
              "      <th>0</th>\n",
              "      <td>7.0</td>\n",
              "    </tr>\n",
              "    <tr>\n",
              "      <th>1</th>\n",
              "      <td>1.0</td>\n",
              "    </tr>\n",
              "    <tr>\n",
              "      <th>2</th>\n",
              "      <td>0.0</td>\n",
              "    </tr>\n",
              "    <tr>\n",
              "      <th>3</th>\n",
              "      <td>8.0</td>\n",
              "    </tr>\n",
              "    <tr>\n",
              "      <th>4</th>\n",
              "      <td>7.0</td>\n",
              "    </tr>\n",
              "  </tbody>\n",
              "</table>\n",
              "</div>"
            ],
            "text/plain": [
              "     4\n",
              "0  7.0\n",
              "1  1.0\n",
              "2  0.0\n",
              "3  8.0\n",
              "4  7.0"
            ]
          },
          "metadata": {
            "tags": []
          }
        }
      ]
    },
    {
      "metadata": {
        "id": "40qZGHwK4QhK",
        "colab_type": "code",
        "colab": {}
      },
      "cell_type": "code",
      "source": [
        "X_train, X_test, y_train, y_test = train_test_split(X, y, test_size=0.2, stratify=y)"
      ],
      "execution_count": 0,
      "outputs": []
    },
    {
      "metadata": {
        "id": "XmbD6RGj4QhP",
        "colab_type": "code",
        "outputId": "5c38de1a-9b84-4498-9189-49d9b9d40f2a",
        "colab": {
          "base_uri": "https://localhost:8080/",
          "height": 51
        }
      },
      "cell_type": "code",
      "source": [
        "display(X_train.shape)\n",
        "display(X_test.shape)"
      ],
      "execution_count": 8,
      "outputs": [
        {
          "output_type": "display_data",
          "data": {
            "text/plain": [
              "(39999, 4096)"
            ]
          },
          "metadata": {
            "tags": []
          }
        },
        {
          "output_type": "display_data",
          "data": {
            "text/plain": [
              "(10000, 4096)"
            ]
          },
          "metadata": {
            "tags": []
          }
        }
      ]
    },
    {
      "metadata": {
        "id": "jZ-HWcRX4QhT",
        "colab_type": "text"
      },
      "cell_type": "markdown",
      "source": [
        "### First we reshape the flattenend images into 64x64x1 (The 1 is because we have 1 channel. If we had rgb, then it would be 64x64x3)"
      ]
    },
    {
      "metadata": {
        "id": "NexK5nQR4QhU",
        "colab_type": "code",
        "colab": {}
      },
      "cell_type": "code",
      "source": [
        "X_train = np.reshape(X_train.values, INPUT_SHAPE)\n",
        "X_test = np.reshape(X_test.values, INPUT_SHAPE)\n",
        "y_train = y_train.values\n",
        "y_test = y_test.values"
      ],
      "execution_count": 0,
      "outputs": []
    },
    {
      "metadata": {
        "id": "mjdrrBTA4QhX",
        "colab_type": "text"
      },
      "cell_type": "markdown",
      "source": [
        "### Let's take a look at our data"
      ]
    },
    {
      "metadata": {
        "id": "4YggZToT4QhY",
        "colab_type": "code",
        "outputId": "a42442a3-21ca-4989-d108-f2e22f5ffaa3",
        "colab": {
          "base_uri": "https://localhost:8080/",
          "height": 2667
        }
      },
      "cell_type": "code",
      "source": [
        "show_data(X_train, y_train)"
      ],
      "execution_count": 10,
      "outputs": [
        {
          "output_type": "display_data",
          "data": {
            "image/png": "[encoded data removed]",
            "text/plain": [
              "<Figure size 432x288 with 1 Axes>"
            ]
          },
          "metadata": {
            "tags": []
          }
        },
        {
          "output_type": "display_data",
          "data": {
            "image/png": "[encoded data removed]",
            "text/plain": [
              "<Figure size 432x288 with 1 Axes>"
            ]
          },
          "metadata": {
            "tags": []
          }
        },
        {
          "output_type": "display_data",
          "data": {
            "image/png": "[encoded data removed]",
            "text/plain": [
              "<Figure size 432x288 with 1 Axes>"
            ]
          },
          "metadata": {
            "tags": []
          }
        },
        {
          "output_type": "display_data",
          "data": {
            "image/png": "[encoded data removed]",
            "text/plain": [
              "<Figure size 432x288 with 1 Axes>"
            ]
          },
          "metadata": {
            "tags": []
          }
        },
        {
          "output_type": "display_data",
          "data": {
            "image/png": "[encoded data removed]",
            "text/plain": [
              "<Figure size 432x288 with 1 Axes>"
            ]
          },
          "metadata": {
            "tags": []
          }
        },
        {
          "output_type": "display_data",
          "data": {
            "image/png": "[encoded data removed]",
            "text/plain": [
              "<Figure size 432x288 with 1 Axes>"
            ]
          },
          "metadata": {
            "tags": []
          }
        },
        {
          "output_type": "display_data",
          "data": {
            "image/png": "[encoded data removed]",
            "text/plain": [
              "<Figure size 432x288 with 1 Axes>"
            ]
          },
          "metadata": {
            "tags": []
          }
        },
        {
          "output_type": "display_data",
          "data": {
            "image/png": "[encoded data removed]",
            "text/plain": [
              "<Figure size 432x288 with 1 Axes>"
            ]
          },
          "metadata": {
            "tags": []
          }
        },
        {
          "output_type": "display_data",
          "data": {
            "image/png": "[encoded data removed]",
            "text/plain": [
              "<Figure size 432x288 with 1 Axes>"
            ]
          },
          "metadata": {
            "tags": []
          }
        },
        {
          "output_type": "display_data",
          "data": {
            "image/png": "[encoded data removed]",
            "text/plain": [
              "<Figure size 432x288 with 1 Axes>"
            ]
          },
          "metadata": {
            "tags": []
          }
        }
      ]
    },
    {
      "metadata": {
        "id": "mLbWukD74Qhe",
        "colab_type": "text"
      },
      "cell_type": "markdown",
      "source": [
        "### We notice that the digits themselves are always black, and the backgrounds are of a different shade. This implies we could remove the background. Let's do that"
      ]
    },
    {
      "metadata": {
        "id": "q1MeanRK4Qhg",
        "colab_type": "code",
        "colab": {}
      },
      "cell_type": "code",
      "source": [
        "X_train = preprocess(X_train)\n",
        "X_test = preprocess(X_test)"
      ],
      "execution_count": 0,
      "outputs": []
    },
    {
      "metadata": {
        "id": "wuUsJ_qK4Qhj",
        "colab_type": "code",
        "outputId": "c555ca94-40dc-4c5f-b36f-5180ef892e63",
        "colab": {
          "base_uri": "https://localhost:8080/",
          "height": 51
        }
      },
      "cell_type": "code",
      "source": [
        "display(X_train.shape) # Now our inputs have been reshaped, so we have a 4D array, with each item representing an image.\n",
        "display(X_test.shape)"
      ],
      "execution_count": 12,
      "outputs": [
        {
          "output_type": "display_data",
          "data": {
            "text/plain": [
              "(39999, 64, 64, 1)"
            ]
          },
          "metadata": {
            "tags": []
          }
        },
        {
          "output_type": "display_data",
          "data": {
            "text/plain": [
              "(10000, 64, 64, 1)"
            ]
          },
          "metadata": {
            "tags": []
          }
        }
      ]
    },
    {
      "metadata": {
        "id": "Nn7CD_AQ4Qhn",
        "colab_type": "text"
      },
      "cell_type": "markdown",
      "source": [
        "### Categorical labels should always be one-hot encoded"
      ]
    },
    {
      "metadata": {
        "id": "vrnv6pau4Qhp",
        "colab_type": "code",
        "colab": {}
      },
      "cell_type": "code",
      "source": [
        "y_train_enc = to_categorical(y_train, NUM_CLASSES)\n",
        "y_test_enc = to_categorical(y_test, NUM_CLASSES)"
      ],
      "execution_count": 0,
      "outputs": []
    },
    {
      "metadata": {
        "id": "cQPk4nN64Qht",
        "colab_type": "code",
        "outputId": "c8a34a22-2e44-4bf1-eb6b-68baef479fa8",
        "colab": {
          "base_uri": "https://localhost:8080/",
          "height": 2667
        }
      },
      "cell_type": "code",
      "source": [
        "show_data(X_train, y_train)"
      ],
      "execution_count": 14,
      "outputs": [
        {
          "output_type": "display_data",
          "data": {
            "image/png": "[encoded data removed]",
            "text/plain": [
              "<Figure size 432x288 with 1 Axes>"
            ]
          },
          "metadata": {
            "tags": []
          }
        },
        {
          "output_type": "display_data",
          "data": {
            "image/png": "[encoded data removed]",
            "text/plain": [
              "<Figure size 432x288 with 1 Axes>"
            ]
          },
          "metadata": {
            "tags": []
          }
        },
        {
          "output_type": "display_data",
          "data": {
            "image/png": "[encoded data removed]",
            "text/plain": [
              "<Figure size 432x288 with 1 Axes>"
            ]
          },
          "metadata": {
            "tags": []
          }
        },
        {
          "output_type": "display_data",
          "data": {
            "image/png": "[encoded data removed]",
            "text/plain": [
              "<Figure size 432x288 with 1 Axes>"
            ]
          },
          "metadata": {
            "tags": []
          }
        },
        {
          "output_type": "display_data",
          "data": {
            "image/png": "[encoded data removed]",
            "text/plain": [
              "<Figure size 432x288 with 1 Axes>"
            ]
          },
          "metadata": {
            "tags": []
          }
        },
        {
          "output_type": "display_data",
          "data": {
            "image/png": "[encoded data removed]",
            "text/plain": [
              "<Figure size 432x288 with 1 Axes>"
            ]
          },
          "metadata": {
            "tags": []
          }
        },
        {
          "output_type": "display_data",
          "data": {
            "image/png": "[encoded data removed]",
            "text/plain": [
              "<Figure size 432x288 with 1 Axes>"
            ]
          },
          "metadata": {
            "tags": []
          }
        },
        {
          "output_type": "display_data",
          "data": {
            "image/png": "[encoded data removed]",
            "text/plain": [
              "<Figure size 432x288 with 1 Axes>"
            ]
          },
          "metadata": {
            "tags": []
          }
        },
        {
          "output_type": "display_data",
          "data": {
            "image/png": "[encoded data removed]",
            "text/plain": [
              "<Figure size 432x288 with 1 Axes>"
            ]
          },
          "metadata": {
            "tags": []
          }
        },
        {
          "output_type": "display_data",
          "data": {
            "image/png": "[encoded data removed]",
            "text/plain": [
              "<Figure size 432x288 with 1 Axes>"
            ]
          },
          "metadata": {
            "tags": []
          }
        }
      ]
    },
    {
      "metadata": {
        "id": "eDLMLd324Qh0",
        "colab_type": "code",
        "outputId": "b669a892-fb44-4649-f239-2d03fdb147df",
        "colab": {
          "base_uri": "https://localhost:8080/",
          "height": 2667
        }
      },
      "cell_type": "code",
      "source": [
        "show_data(X_test, y_test)"
      ],
      "execution_count": 15,
      "outputs": [
        {
          "output_type": "display_data",
          "data": {
            "image/png": "[encoded data removed]",
            "text/plain": [
              "<Figure size 432x288 with 1 Axes>"
            ]
          },
          "metadata": {
            "tags": []
          }
        },
        {
          "output_type": "display_data",
          "data": {
            "image/png": "[encoded data removed]",
            "text/plain": [
              "<Figure size 432x288 with 1 Axes>"
            ]
          },
          "metadata": {
            "tags": []
          }
        },
        {
          "output_type": "display_data",
          "data": {
            "image/png": "[encoded data removed]",
            "text/plain": [
              "<Figure size 432x288 with 1 Axes>"
            ]
          },
          "metadata": {
            "tags": []
          }
        },
        {
          "output_type": "display_data",
          "data": {
            "image/png": "[encoded data removed]",
            "text/plain": [
              "<Figure size 432x288 with 1 Axes>"
            ]
          },
          "metadata": {
            "tags": []
          }
        },
        {
          "output_type": "display_data",
          "data": {
            "image/png": "[encoded data removed]",
            "text/plain": [
              "<Figure size 432x288 with 1 Axes>"
            ]
          },
          "metadata": {
            "tags": []
          }
        },
        {
          "output_type": "display_data",
          "data": {
            "image/png": "[encoded data removed]",
            "text/plain": [
              "<Figure size 432x288 with 1 Axes>"
            ]
          },
          "metadata": {
            "tags": []
          }
        },
        {
          "output_type": "display_data",
          "data": {
            "image/png": "[encoded data removed]",
            "text/plain": [
              "<Figure size 432x288 with 1 Axes>"
            ]
          },
          "metadata": {
            "tags": []
          }
        },
        {
          "output_type": "display_data",
          "data": {
            "image/png": "[encoded data removed]",
            "text/plain": [
              "<Figure size 432x288 with 1 Axes>"
            ]
          },
          "metadata": {
            "tags": []
          }
        },
        {
          "output_type": "display_data",
          "data": {
            "image/png": "[encoded data removed]",
            "text/plain": [
              "<Figure size 432x288 with 1 Axes>"
            ]
          },
          "metadata": {
            "tags": []
          }
        },
        {
          "output_type": "display_data",
          "data": {
            "image/png": "[encoded data removed]",
            "text/plain": [
              "<Figure size 432x288 with 1 Axes>"
            ]
          },
          "metadata": {
            "tags": []
          }
        }
      ]
    },
    {
      "metadata": {
        "id": "HJspezBd4Qh9",
        "colab_type": "text"
      },
      "cell_type": "markdown",
      "source": [
        "### Now we define our base model\n",
        "\n",
        "This is a very simple CNN architecture similar to what you learned in the lecture. We have cascading blocks of convolutional layers followed by pooling layers."
      ]
    },
    {
      "metadata": {
        "id": "f00Ssuxe4Qh_",
        "colab_type": "code",
        "colab": {}
      },
      "cell_type": "code",
      "source": [
        "def create_base_model():\n",
        "    model = Sequential()\n",
        "\n",
        "    model.add(Conv2D(32, (3, 3), padding='same', activation='relu', input_shape=IMG_SHAPE_CHANNELS))\n",
        "    model.add(MaxPooling2D(pool_size=(2, 2)))\n",
        "\n",
        "    model.add(Conv2D(64, (3, 3), padding='same', activation='relu'))\n",
        "    model.add(MaxPooling2D(pool_size=(2, 2)))\n",
        "\n",
        "    model.add(Conv2D(128, (3, 3), padding='same', activation='relu'))\n",
        "    model.add(MaxPooling2D(pool_size=(2, 2)))\n",
        "\n",
        "    model.add(Conv2D(256, (3, 3), padding='same', activation='relu'))\n",
        "    model.add(MaxPooling2D(pool_size=(2, 2)))\n",
        "\n",
        "    model.add(Flatten())\n",
        "    model.add(Dense(1024, activation='relu'))\n",
        "\n",
        "    model.add(Dense(1024, activation='relu'))\n",
        "\n",
        "    model.add(Dense(NUM_CLASSES, activation='softmax'))\n",
        "\n",
        "    return model"
      ],
      "execution_count": 0,
      "outputs": []
    },
    {
      "metadata": {
        "id": "wQGVAtLh4QiF",
        "colab_type": "code",
        "outputId": "37998958-cc2f-44f9-eca7-6a4c09dac381",
        "colab": {
          "base_uri": "https://localhost:8080/",
          "height": 88
        }
      },
      "cell_type": "code",
      "source": [
        "model_base = create_base_model()\n",
        "model_base.compile(optimizer='rmsprop', loss='categorical_crossentropy', metrics=['accuracy'])"
      ],
      "execution_count": 0,
      "outputs": [
        {
          "output_type": "stream",
          "text": [
            "WARNING:tensorflow:From /usr/local/lib/python3.6/dist-packages/tensorflow/python/framework/op_def_library.py:263: colocate_with (from tensorflow.python.framework.ops) is deprecated and will be removed in a future version.\n",
            "Instructions for updating:\n",
            "Colocations handled automatically by placer.\n"
          ],
          "name": "stdout"
        }
      ]
    },
    {
      "metadata": {
        "id": "CJJKWPPI8L66",
        "colab_type": "text"
      },
      "cell_type": "markdown",
      "source": [
        " Convert the model to TPU for faster training"
      ]
    },
    {
      "metadata": {
        "id": "ZNAwLyBS8Kyd",
        "colab_type": "code",
        "outputId": "d4b6ba76-7098-4713-85de-3fd50f32d587",
        "colab": {
          "base_uri": "https://localhost:8080/",
          "height": 54
        }
      },
      "cell_type": "code",
      "source": [
        "'''\n",
        "use_tpu = True #@param {type:\"boolean\"}\n",
        "\n",
        "if use_tpu:\n",
        "    assert 'COLAB_TPU_ADDR' in os.environ, 'Missing TPU; did you request a TPU in Notebook Settings?'\n",
        "\n",
        "if 'COLAB_TPU_ADDR' in os.environ:\n",
        "  TF_MASTER = 'grpc://{}'.format(os.environ['COLAB_TPU_ADDR'])\n",
        "else:\n",
        "  TF_MASTER=''\n",
        "\n",
        "with tf.Session(TF_MASTER) as session:\n",
        "  print ('List of devices:')\n",
        "  pprint.pprint(session.list_devices())\n",
        "  \n",
        "# TPU address\n",
        "tpu_address = TF_MASTER\n",
        "\n",
        "tpu_model = tf.contrib.tpu.keras_to_tpu_model(\n",
        "    model_base,\n",
        "    strategy=tf.contrib.tpu.TPUDistributionStrategy(\n",
        "        tf.contrib.cluster_resolver.TPUClusterResolver(TF_MASTER)))\n",
        "\n",
        "tpu_model.summary()\n",
        "'''"
      ],
      "execution_count": 0,
      "outputs": [
        {
          "output_type": "execute_result",
          "data": {
            "text/plain": [
              "'\\nuse_tpu = True #@param {type:\"boolean\"}\\n\\nif use_tpu:\\n    assert \\'COLAB_TPU_ADDR\\' in os.environ, \\'Missing TPU; did you request a TPU in Notebook Settings?\\'\\n\\nif \\'COLAB_TPU_ADDR\\' in os.environ:\\n  TF_MASTER = \\'grpc://{}\\'.format(os.environ[\\'COLAB_TPU_ADDR\\'])\\nelse:\\n  TF_MASTER=\\'\\'\\n\\nwith tf.Session(TF_MASTER) as session:\\n  print (\\'List of devices:\\')\\n  pprint.pprint(session.list_devices())\\n  \\n# TPU address\\ntpu_address = TF_MASTER\\n\\ntpu_model = tf.contrib.tpu.keras_to_tpu_model(\\n    model_base,\\n    strategy=tf.contrib.tpu.TPUDistributionStrategy(\\n        tf.contrib.cluster_resolver.TPUClusterResolver(TF_MASTER)))\\n\\ntpu_model.summary()\\n'"
            ]
          },
          "metadata": {
            "tags": []
          },
          "execution_count": 18
        }
      ]
    },
    {
      "metadata": {
        "id": "zLZukSM24QiJ",
        "colab_type": "code",
        "outputId": "5490b9ee-7d9d-422e-c7b5-874ef5c0750c",
        "colab": {
          "base_uri": "https://localhost:8080/",
          "height": 425
        }
      },
      "cell_type": "code",
      "source": [
        "model_base.fit(x=X_train, y=y_train_enc, epochs=10, batch_size=BATCH_SIZE)"
      ],
      "execution_count": 0,
      "outputs": [
        {
          "output_type": "stream",
          "text": [
            "WARNING:tensorflow:From /usr/local/lib/python3.6/dist-packages/tensorflow/python/ops/math_ops.py:3066: to_int32 (from tensorflow.python.ops.math_ops) is deprecated and will be removed in a future version.\n",
            "Instructions for updating:\n",
            "Use tf.cast instead.\n",
            "Epoch 1/10\n",
            "39999/39999 [==============================] - 21s 522us/step - loss: 2.3561 - acc: 0.1156\n",
            "Epoch 2/10\n",
            "39999/39999 [==============================] - 18s 444us/step - loss: 2.2838 - acc: 0.1536\n",
            "Epoch 3/10\n",
            "39999/39999 [==============================] - 17s 435us/step - loss: 2.1702 - acc: 0.2114\n",
            "Epoch 4/10\n",
            "39999/39999 [==============================] - 17s 434us/step - loss: 1.6833 - acc: 0.4008\n",
            "Epoch 5/10\n",
            "39999/39999 [==============================] - 17s 434us/step - loss: 1.1110 - acc: 0.6291\n",
            "Epoch 6/10\n",
            "39999/39999 [==============================] - 18s 442us/step - loss: 0.6341 - acc: 0.7953\n",
            "Epoch 7/10\n",
            "39999/39999 [==============================] - 17s 437us/step - loss: 0.3735 - acc: 0.8807\n",
            "Epoch 8/10\n",
            "39999/39999 [==============================] - 17s 437us/step - loss: 0.2386 - acc: 0.9244\n",
            "Epoch 9/10\n",
            "39999/39999 [==============================] - 18s 438us/step - loss: 0.1457 - acc: 0.9537\n",
            "Epoch 10/10\n",
            "39999/39999 [==============================] - 17s 437us/step - loss: 0.0902 - acc: 0.9723\n"
          ],
          "name": "stdout"
        },
        {
          "output_type": "execute_result",
          "data": {
            "text/plain": [
              "<keras.callbacks.History at 0x7f1e84cc17f0>"
            ]
          },
          "metadata": {
            "tags": []
          },
          "execution_count": 19
        }
      ]
    },
    {
      "metadata": {
        "id": "tW1p8rUo4QiN",
        "colab_type": "code",
        "outputId": "38bc9470-cfa1-461c-c4a2-750e060a73b1",
        "colab": {
          "base_uri": "https://localhost:8080/",
          "height": 34
        }
      },
      "cell_type": "code",
      "source": [
        "y_pred = predict(model_base, X_test)\n",
        "print('Your accuracy is:', accuracy_score(y_test, y_pred))"
      ],
      "execution_count": 0,
      "outputs": [
        {
          "output_type": "stream",
          "text": [
            "Your accuracy is: 0.8855\n"
          ],
          "name": "stdout"
        }
      ]
    },
    {
      "metadata": {
        "id": "vavfb2aw4QiQ",
        "colab_type": "text"
      },
      "cell_type": "markdown",
      "source": [
        "## Your task\n",
        "\n",
        "Complete the create_model function which will return a Keras model. You may use either the Sequential or Functional Keras API.\n",
        "\n",
        "Compile your model and fit the training set as shown above. Predict on the test set and check your accuracy.\n"
      ]
    },
    {
      "metadata": {
        "id": "wJbJ29iW4QiR",
        "colab_type": "code",
        "colab": {}
      },
      "cell_type": "code",
      "source": [
        "def create_model():\n",
        "    model = Sequential()\n",
        "\n",
        "    model.add(Conv2D(32, (5, 5), padding='same', input_shape=IMG_SHAPE_CHANNELS))\n",
        "    #model.add(BatchNormalization())\n",
        "    model.add(Activation('relu'))\n",
        "    model.add(Dropout(0.20))\n",
        "    model.add(MaxPooling2D(pool_size=(2, 2)))\n",
        "\n",
        "    model.add(Conv2D(64, (5, 5), padding='same'))\n",
        "    #model.add(BatchNormalization())\n",
        "    model.add(Activation('relu'))\n",
        "    model.add(Dropout(0.20))\n",
        "    model.add(MaxPooling2D(pool_size=(2, 2)))\n",
        "\n",
        "    model.add(Conv2D(128, (5, 5), padding='same'))\n",
        "    #model.add(BatchNormalization())\n",
        "    model.add(Activation('relu'))\n",
        "    model.add(Dropout(0.30))\n",
        "    model.add(MaxPooling2D(pool_size=(2, 2)))\n",
        "\n",
        "    model.add(Conv2D(256, (5, 5), padding='same'))\n",
        "    #model.add(BatchNormalization())\n",
        "    model.add(Activation('relu'))\n",
        "    model.add(Dropout(0.4))\n",
        "    model.add(MaxPooling2D(pool_size=(2, 2)))\n",
        "\n",
        "    model.add(Flatten())\n",
        "    model.add(Dense(1024, activation='relu'))\n",
        "    model.add(Dropout(0.4))\n",
        "\n",
        "    model.add(Dense(1024, activation='relu'))\n",
        "    #model.add(BatchNormalization())\n",
        "    model.add(Dropout(0.45))\n",
        "\n",
        "    model.add(Dense(NUM_CLASSES, activation='softmax'))\n",
        "\n",
        "    return model\n",
        "    \n",
        "# 7 - 75.58\n",
        "# 8 - 75.08\n",
        "# 9 - 85.85\n",
        "# 10 - 83.14\n",
        "# 11 - 87.66\n",
        "# 12 - 86.4\n",
        "# 13 - 87\n",
        "# 14 - 83.08"
      ],
      "execution_count": 0,
      "outputs": []
    },
    {
      "metadata": {
        "id": "v1qwrDd04QiU",
        "colab_type": "code",
        "colab": {
          "base_uri": "https://localhost:8080/",
          "height": 119
        },
        "outputId": "f9945417-2eab-4126-a491-8ed8c25d2212"
      },
      "cell_type": "code",
      "source": [
        "model = create_model()\n",
        "model.compile(optimizer='rmsprop', loss='categorical_crossentropy', metrics=['accuracy'])"
      ],
      "execution_count": 17,
      "outputs": [
        {
          "output_type": "stream",
          "text": [
            "WARNING:tensorflow:From /usr/local/lib/python3.6/dist-packages/tensorflow/python/framework/op_def_library.py:263: colocate_with (from tensorflow.python.framework.ops) is deprecated and will be removed in a future version.\n",
            "Instructions for updating:\n",
            "Colocations handled automatically by placer.\n",
            "WARNING:tensorflow:From /usr/local/lib/python3.6/dist-packages/keras/backend/tensorflow_backend.py:3445: calling dropout (from tensorflow.python.ops.nn_ops) with keep_prob is deprecated and will be removed in a future version.\n",
            "Instructions for updating:\n",
            "Please use `rate` instead of `keep_prob`. Rate should be set to `rate = 1 - keep_prob`.\n"
          ],
          "name": "stdout"
        }
      ]
    },
    {
      "metadata": {
        "id": "N7dnHPT74QiX",
        "colab_type": "code",
        "outputId": "28924115-8640-4d7c-fc96-eaeb6767dd30",
        "colab": {
          "base_uri": "https://localhost:8080/",
          "height": 425
        }
      },
      "cell_type": "code",
      "source": [
        "# TODO: fit your model to the training set\n",
        "model.fit(x=X_train, y=y_train_enc, epochs=10, batch_size=BATCH_SIZE)\n",
        "y_pred = predict(model, X_test)\n",
        "print('Your accuracy is:', accuracy_score(y_test, y_pred))"
      ],
      "execution_count": 18,
      "outputs": [
        {
          "output_type": "stream",
          "text": [
            "WARNING:tensorflow:From /usr/local/lib/python3.6/dist-packages/tensorflow/python/ops/math_ops.py:3066: to_int32 (from tensorflow.python.ops.math_ops) is deprecated and will be removed in a future version.\n",
            "Instructions for updating:\n",
            "Use tf.cast instead.\n",
            "Epoch 1/10\n",
            "39999/39999 [==============================] - 37s 919us/step - loss: 2.4225 - acc: 0.1124\n",
            "Epoch 2/10\n",
            "39999/39999 [==============================] - 30s 750us/step - loss: 2.3708 - acc: 0.1261\n",
            "Epoch 3/10\n",
            "39999/39999 [==============================] - 30s 750us/step - loss: 2.3378 - acc: 0.1567\n",
            "Epoch 4/10\n",
            "39999/39999 [==============================] - 30s 746us/step - loss: 1.9852 - acc: 0.2903\n",
            "Epoch 5/10\n",
            "39999/39999 [==============================] - 30s 746us/step - loss: 1.3017 - acc: 0.5489\n",
            "Epoch 6/10\n",
            "39999/39999 [==============================] - 30s 749us/step - loss: 0.7123 - acc: 0.7840\n",
            "Epoch 7/10\n",
            "39999/39999 [==============================] - 30s 749us/step - loss: 0.4131 - acc: 0.8784\n",
            "Epoch 8/10\n",
            "39999/39999 [==============================] - 30s 750us/step - loss: 0.2966 - acc: 0.9130\n",
            "Epoch 9/10\n",
            "39999/39999 [==============================] - 30s 749us/step - loss: 0.2357 - acc: 0.9304\n",
            "Epoch 10/10\n",
            "39999/39999 [==============================] - 30s 751us/step - loss: 0.1982 - acc: 0.9416\n",
            "Your accuracy is: 0.9406\n"
          ],
          "name": "stdout"
        }
      ]
    },
    {
      "metadata": {
        "id": "GnA5MkaQ4QiZ",
        "colab_type": "code",
        "outputId": "8f30a5cf-9605-4566-bcb3-ae725638595c",
        "colab": {
          "base_uri": "https://localhost:8080/",
          "height": 68
        }
      },
      "cell_type": "code",
      "source": [
        "model.fit(x=X_train, y=y_train_enc, epochs=1, batch_size=BATCH_SIZE) \n",
        "y_pred = predict(model, X_test)\n",
        "print('Your accuracy is:', accuracy_score(y_pred, y_test))"
      ],
      "execution_count": 26,
      "outputs": [
        {
          "output_type": "stream",
          "text": [
            "Epoch 1/1\n",
            "39999/39999 [==============================] - 30s 748us/step - loss: 0.0894 - acc: 0.9733\n",
            "Your accuracy is: 0.9526\n"
          ],
          "name": "stdout"
        }
      ]
    },
    {
      "metadata": {
        "id": "ClCQwu88YsZh",
        "colab_type": "code",
        "outputId": "5b6ed80a-1d90-460e-c74d-b8a739764d13",
        "colab": {
          "base_uri": "https://localhost:8080/",
          "height": 68
        }
      },
      "cell_type": "code",
      "source": [
        "model.fit(x=X_train, y=y_train_enc, epochs=1, batch_size=BATCH_SIZE)\n",
        "y_pred = predict(model, X_test)\n",
        "print('Your accuracy is:', accuracy_score(y_pred, y_test))"
      ],
      "execution_count": 29,
      "outputs": [
        {
          "output_type": "stream",
          "text": [
            "Epoch 1/1\n",
            "39999/39999 [==============================] - 30s 748us/step - loss: 0.0812 - acc: 0.9767\n",
            "Your accuracy is: 0.9577\n"
          ],
          "name": "stdout"
        }
      ]
    },
    {
      "metadata": {
        "id": "0_iZKcA3Loqy",
        "colab_type": "text"
      },
      "cell_type": "markdown",
      "source": [
        "def create_model():\n",
        "    model = Sequential()\n",
        "\n",
        "    model.add(Conv2D(32, (3, 3), padding='same',input_shape=IMG_SHAPE_CHANNELS))\n",
        "    #model.add(BatchNormalization())\n",
        "    model.add(Activation('relu'))\n",
        "    \n",
        "    model.add(Conv2D(64, (3, 3), padding='same'))\n",
        "    model.add(BatchNormalization())\n",
        "    model.add(Activation('relu'))\n",
        "    model.add(MaxPooling2D(pool_size=(2, 2)))\n",
        "    model.add(Dropout(0.25))\n",
        "    \n",
        "    \n",
        "    \n",
        "    model.add(Conv2D(128, (3, 3), padding='same',input_shape=IMG_SHAPE_CHANNELS))\n",
        "    model.add(BatchNormalization())\n",
        "    model.add(Activation('relu'))\n",
        "    \n",
        "    model.add(Conv2D(256, (3, 3), padding='same'))\n",
        "    model.add(BatchNormalization())\n",
        "    model.add(Activation('relu'))\n",
        "    model.add(MaxPooling2D(pool_size=(2, 2)))\n",
        "    model.add(Dropout(0.25))\n",
        "    \n",
        "\n",
        "    model.add(Flatten())\n",
        "    model.add(Dense(1024))\n",
        "    model.add(BatchNormalization())\n",
        "    model.add(Activation('relu'))\n",
        "    model.add(Dropout(0.25))\n",
        "    model.add(Dense(1024))\n",
        "    model.add(BatchNormalization())\n",
        "    model.add(Activation('relu'))\n",
        "    model.add(Dropout(0.25))\n",
        "    model.add(Dense(NUM_CLASSES, activation='softmax'))\n",
        "    return model"
      ]
    },
    {
      "metadata": {
        "id": "Mas0hyoPNXBe",
        "colab_type": "text"
      },
      "cell_type": "markdown",
      "source": [
        "def create_model():\n",
        "    model = Sequential()\n",
        "  \n",
        "    #Lets Try VGG19\n",
        "    \n",
        "    model.add(Conv2D(64, (3, 3), padding='same',input_shape=IMG_SHAPE_CHANNELS))\n",
        "    model.add(BatchNormalization())\n",
        "    model.add(Activation('relu'))\n",
        "    #model.add(AveragePooling2D(pool_size=(2, 2)))\n",
        "    \n",
        "    model.add(Conv2D(64, (3, 3), padding='same',input_shape=IMG_SHAPE_CHANNELS))\n",
        "    model.add(BatchNormalization())\n",
        "    model.add(Activation('relu'))\n",
        "    #model.add(AveragePooling2D(pool_size=(2, 2)))\n",
        "    \n",
        "    model.add(MaxPooling2D(pool_size=(2, 2)))\n",
        "    \n",
        "    model.add(Conv2D(128, (3, 3), padding='same',input_shape=IMG_SHAPE_CHANNELS))\n",
        "    model.add(BatchNormalization())\n",
        "    model.add(Activation('relu'))\n",
        "    #model.add(AveragePooling2D(pool_size=(2, 2)))\n",
        "    \n",
        "    model.add(Conv2D(128, (3, 3), padding='same',input_shape=IMG_SHAPE_CHANNELS))\n",
        "    model.add(BatchNormalization())\n",
        "    model.add(Activation('relu'))\n",
        "    #model.add(AveragePooling2D(pool_size=(2, 2)))\n",
        "    \n",
        "    model.add(MaxPooling2D(pool_size=(2, 2)))\n",
        "    \n",
        "    model.add(Conv2D(256, (3, 3), padding='same',input_shape=IMG_SHAPE_CHANNELS))\n",
        "    model.add(BatchNormalization())\n",
        "    model.add(Activation('relu'))\n",
        "    #model.add(AveragePooling2D(pool_size=(2, 2)))\n",
        "    \n",
        "    model.add(Conv2D(256, (3, 3), padding='same',input_shape=IMG_SHAPE_CHANNELS))\n",
        "    model.add(BatchNormalization())\n",
        "    model.add(Activation('relu'))\n",
        "    #model.add(AveragePooling2D(pool_size=(2, 2)))\n",
        "    \n",
        "    model.add(Conv2D(256, (3, 3), padding='same',input_shape=IMG_SHAPE_CHANNELS))\n",
        "    model.add(BatchNormalization())\n",
        "    model.add(Activation('relu'))\n",
        "    #model.add(AveragePooling2D(pool_size=(2, 2)))\n",
        "    \n",
        "    model.add(Conv2D(256, (3, 3), padding='same',input_shape=IMG_SHAPE_CHANNELS))\n",
        "    model.add(BatchNormalization())\n",
        "    model.add(Activation('relu'))\n",
        "    #model.add(AveragePooling2D(pool_size=(2, 2)))\n",
        "    \n",
        "    model.add(MaxPooling2D(pool_size=(2, 2)))\n",
        "    \n",
        "    \n",
        "    model.add(Conv2D(512, (3, 3), padding='same',input_shape=IMG_SHAPE_CHANNELS))\n",
        "    model.add(BatchNormalization())\n",
        "    model.add(Activation('relu'))\n",
        "    #model.add(AveragePooling2D(pool_size=(2, 2)))\n",
        "    \n",
        "    model.add(Conv2D(512, (3, 3), padding='same',input_shape=IMG_SHAPE_CHANNELS))\n",
        "    model.add(BatchNormalization())\n",
        "    model.add(Activation('relu'))\n",
        "    #model.add(AveragePooling2D(pool_size=(2, 2)))\n",
        "    \n",
        "    model.add(Conv2D(512, (3, 3), padding='same',input_shape=IMG_SHAPE_CHANNELS))\n",
        "    model.add(BatchNormalization())\n",
        "    model.add(Activation('relu'))\n",
        "    #model.add(AveragePooling2D(pool_size=(2, 2)))\n",
        "    \n",
        "    model.add(Conv2D(512, (3, 3), padding='same',input_shape=IMG_SHAPE_CHANNELS))\n",
        "    model.add(BatchNormalization())\n",
        "    model.add(Activation('relu'))\n",
        "    #model.add(AveragePooling2D(pool_size=(2, 2)))\n",
        "    \n",
        "    model.add(MaxPooling2D(pool_size=(2, 2)))    \n",
        "    \n",
        "\n",
        "    model.add(Conv2D(512, (3, 3), padding='same',input_shape=IMG_SHAPE_CHANNELS))\n",
        "    model.add(BatchNormalization())\n",
        "    model.add(Activation('relu'))\n",
        "    #model.add(AveragePooling2D(pool_size=(2, 2)))\n",
        "    \n",
        "    model.add(Conv2D(512, (3, 3), padding='same',input_shape=IMG_SHAPE_CHANNELS))\n",
        "    model.add(BatchNormalization())\n",
        "    model.add(Activation('relu'))\n",
        "    #model.add(AveragePooling2D(pool_size=(2, 2)))\n",
        "    \n",
        "    model.add(Conv2D(512, (3, 3), padding='same',input_shape=IMG_SHAPE_CHANNELS))\n",
        "    model.add(BatchNormalization())\n",
        "    model.add(Activation('relu'))\n",
        "    #model.add(AveragePooling2D(pool_size=(2, 2)))\n",
        "    \n",
        "    model.add(Conv2D(512, (3, 3), padding='same',input_shape=IMG_SHAPE_CHANNELS))\n",
        "    model.add(BatchNormalization())\n",
        "    model.add(Activation('relu'))\n",
        "    #model.add(AveragePooling2D(pool_size=(2, 2)))\n",
        "    \n",
        "    model.add(MaxPooling2D(pool_size=(2, 2)))   \n",
        "    \n",
        "    \n",
        "    model.add(Flatten())\n",
        "    #model.add(Dense(1024))\n",
        "    #model.add(BatchNormalization())\n",
        "    #model.add(Activation('relu'))\n",
        "    #model.add(Dropout(0.25))\n",
        "    #model.add(Dense(1024))\n",
        "    #model.add(BatchNormalization())\n",
        "    #model.add(Activation('relu'))\n",
        "    #model.add(Dropout(0.25))\n",
        "    model.add(Dense(NUM_CLASSES, activation='softmax'))\n",
        "    return model\n",
        "\n",
        "#10 epoch = 68.94\n",
        "#11 epoch = 60.02\n",
        "#12 epoch = 52.22\n",
        "#13 epoch = 45.24\n",
        "#14 epoch = 54.22\n",
        "#15 epoch = 82.65\n",
        "#16 epoch = 69.28\n",
        "#17 epoch = 72.71\n",
        "\n",
        "#18 epoch = 50.06\n",
        "#19 epoch = 63.28\n",
        "#20 epoch = 79.32\n"
      ]
    },
    {
      "metadata": {
        "id": "SOidkgC2NXi8",
        "colab_type": "code",
        "colab": {}
      },
      "cell_type": "code",
      "source": [
        ""
      ],
      "execution_count": 0,
      "outputs": []
    },
    {
      "metadata": {
        "id": "6m_IRKFEQ4GL",
        "colab_type": "text"
      },
      "cell_type": "markdown",
      "source": [
        "def create_model():\n",
        "    model = Sequential()\n",
        "\n",
        "    model.add(Conv2D(32, (3, 3), padding='same', activation='relu', input_shape=IMG_SHAPE_CHANNELS))\n",
        "    model.add(Dropout(0.25))\n",
        "    model.add(MaxPooling2D(pool_size=(2, 2)))\n",
        "\n",
        "    model.add(Conv2D(64, (3, 3), padding='same', activation='relu'))\n",
        "    model.add(Dropout(0.25))\n",
        "    model.add(MaxPooling2D(pool_size=(2, 2)))\n",
        "\n",
        "    model.add(Conv2D(128, (3, 3), padding='same', activation='relu'))\n",
        "    model.add(Dropout(0.25))\n",
        "    model.add(MaxPooling2D(pool_size=(2, 2)))\n",
        "\n",
        "    model.add(Conv2D(256, (3, 3), padding='same', activation='relu'))\n",
        "    model.add(Dropout(0.25))\n",
        "    model.add(MaxPooling2D(pool_size=(2, 2)))\n",
        "\n",
        "    model.add(Flatten())\n",
        "    model.add(Dense(1024, activation='relu'))\n",
        "    model.add(Dropout(0.25))\n",
        "\n",
        "    model.add(Dense(1024, activation='relu'))\n",
        "    model.add(Dropout(0.25))\n",
        "\n",
        "    model.add(Dense(NUM_CLASSES, activation='softmax'))\n",
        "\n",
        "    return model\n",
        "    \n",
        "   # 91% Accuracy"
      ]
    },
    {
      "metadata": {
        "id": "Z1AOTsosTVRL",
        "colab_type": "text"
      },
      "cell_type": "markdown",
      "source": [
        "def create_model():\n",
        "    model = Sequential()\n",
        "\n",
        "    model.add(Conv2D(32, (3, 3), padding='same', input_shape=IMG_SHAPE_CHANNELS))\n",
        "    model.add(BatchNormalization())\n",
        "    model.add(Activation('relu'))\n",
        "    model.add(Dropout(0.25))\n",
        "    model.add(MaxPooling2D(pool_size=(2, 2)))\n",
        "\n",
        "    model.add(Conv2D(64, (3, 3), padding='same'))\n",
        "    model.add(BatchNormalization())\n",
        "    model.add(Activation('relu'))\n",
        "    model.add(Dropout(0.25))\n",
        "    model.add(MaxPooling2D(pool_size=(2, 2)))\n",
        "\n",
        "    model.add(Conv2D(128, (3, 3), padding='same'))\n",
        "    #model.add(BatchNormalization())\n",
        "    model.add(Activation('relu'))\n",
        "    model.add(Dropout(0.25))\n",
        "    model.add(MaxPooling2D(pool_size=(2, 2)))\n",
        "\n",
        "    model.add(Conv2D(256, (3, 3), padding='same'))\n",
        "    #model.add(BatchNormalization())\n",
        "    model.add(Activation('relu'))\n",
        "    model.add(Dropout(0.25))\n",
        "    model.add(MaxPooling2D(pool_size=(2, 2)))\n",
        "\n",
        "    model.add(Flatten())\n",
        "    model.add(Dense(1024, activation='relu'))\n",
        "    model.add(Dropout(0.25))\n",
        "\n",
        "    model.add(Dense(1024, activation='relu'))\n",
        "    model.add(Dropout(0.25))\n",
        "\n",
        "    model.add(Dense(NUM_CLASSES, activation='softmax'))\n",
        "\n",
        "    return model\n",
        "    \n",
        "    \n",
        "    \n",
        "# The above code with 17 or so epoch gives 92.5% accuracy.\n",
        "# AT 18 epoch, it decreases"
      ]
    },
    {
      "metadata": {
        "id": "bH0ItfLLbmBM",
        "colab_type": "text"
      },
      "cell_type": "markdown",
      "source": [
        "def create_model():\n",
        "    model = Sequential()\n",
        "\n",
        "    model.add(Conv2D(32, (3, 3), padding='same', input_shape=IMG_SHAPE_CHANNELS))\n",
        "    model.add(BatchNormalization())\n",
        "    model.add(Activation('relu'))\n",
        "    #model.add(Dropout(0.25))\n",
        "    model.add(MaxPooling2D(pool_size=(2, 2)))\n",
        "\n",
        "    model.add(Conv2D(64, (3, 3), padding='same'))\n",
        "    #model.add(BatchNormalization())\n",
        "    model.add(Activation('relu'))\n",
        "    model.add(Dropout(0.25))\n",
        "    model.add(MaxPooling2D(pool_size=(2, 2)))\n",
        "\n",
        "    model.add(Conv2D(128, (3, 3), padding='same'))\n",
        "    model.add(BatchNormalization())\n",
        "    model.add(Activation('relu'))\n",
        "    #model.add(Dropout(0.25))\n",
        "    model.add(MaxPooling2D(pool_size=(2, 2)))\n",
        "\n",
        "    model.add(Conv2D(256, (3, 3), padding='same'))\n",
        "    #model.add(BatchNormalization())\n",
        "    model.add(Activation('relu'))\n",
        "    model.add(Dropout(0.25))\n",
        "    model.add(MaxPooling2D(pool_size=(2, 2)))\n",
        "\n",
        "    model.add(Flatten())\n",
        "    model.add(Dense(1024))\n",
        "    model.add(BatchNormalization())\n",
        "    model.add(Activation('relu'))\n",
        "    #model.add(Dropout(0.25))\n",
        "\n",
        "    model.add(Dense(1024, activation='relu'))\n",
        "    model.add(Dropout(0.3))\n",
        "\n",
        "    model.add(Dense(NUM_CLASSES, activation='softmax'))\n",
        "\n",
        "    return model\n",
        "  \n",
        "#14 epoch = 90.29 - 72????\n",
        "#15 epoch = 91.97 - 87????\n",
        "#16 epoch = 92.27 - 86????\n",
        "#17 epoch = 91.55"
      ]
    },
    {
      "metadata": {
        "id": "9pViA-PVbsM4",
        "colab_type": "text"
      },
      "cell_type": "markdown",
      "source": [
        "def create_model():\n",
        "    model = Sequential()\n",
        "\n",
        "    model.add(Conv2D(32, (3, 3), padding='same', input_shape=IMG_SHAPE_CHANNELS))\n",
        "    model.add(BatchNormalization())\n",
        "    model.add(Activation('relu'))\n",
        "    model.add(Dropout(0.25))\n",
        "    model.add(MaxPooling2D(pool_size=(2, 2)))\n",
        "\n",
        "    model.add(Conv2D(64, (3, 3), padding='same'))\n",
        "    #model.add(BatchNormalization())\n",
        "    model.add(Activation('relu'))\n",
        "    model.add(Dropout(0.25))\n",
        "    model.add(MaxPooling2D(pool_size=(2, 2)))\n",
        "\n",
        "    model.add(Conv2D(128, (3, 3), padding='same'))\n",
        "    #model.add(BatchNormalization())\n",
        "    model.add(Activation('relu'))\n",
        "    model.add(Dropout(0.25))\n",
        "    model.add(MaxPooling2D(pool_size=(2, 2)))\n",
        "\n",
        "    model.add(Conv2D(256, (3, 3), padding='same'))\n",
        "    model.add(BatchNormalization())\n",
        "    model.add(Activation('relu'))\n",
        "    model.add(Dropout(0.25))\n",
        "    model.add(MaxPooling2D(pool_size=(2, 2)))\n",
        "\n",
        "    model.add(Flatten())\n",
        "    model.add(Dense(1024))\n",
        "    model.add(BatchNormalization())\n",
        "    model.add(Activation('relu'))\n",
        "    model.add(Dropout(0.25))\n",
        "\n",
        "    model.add(Dense(1024, activation='relu'))\n",
        "    model.add(Dropout(0.3))\n",
        "\n",
        "    model.add(Dense(NUM_CLASSES, activation='softmax'))\n",
        "\n",
        "    return model\n",
        "  \n",
        "#14 epoch - 87.42\n",
        "#15 epoch = 89.15\n",
        "#17 = 86.99"
      ]
    },
    {
      "metadata": {
        "id": "j9hhwcfffqnA",
        "colab_type": "text"
      },
      "cell_type": "markdown",
      "source": [
        "def create_model():\n",
        "    model = Sequential()\n",
        "\n",
        "    model.add(Conv2D(32, (3, 3), padding='same', input_shape=IMG_SHAPE_CHANNELS))\n",
        "    model.add(BatchNormalization())\n",
        "    model.add(Activation('relu'))\n",
        "    model.add(Dropout(0.25))\n",
        "    model.add(MaxPooling2D(pool_size=(2, 2)))\n",
        "\n",
        "    model.add(Conv2D(64, (3, 3), padding='same'))\n",
        "    #model.add(BatchNormalization())\n",
        "    model.add(Activation('relu'))\n",
        "    #model.add(Dropout(0.25))\n",
        "    model.add(MaxPooling2D(pool_size=(2, 2)))\n",
        "\n",
        "    model.add(Conv2D(128, (3, 3), padding='same'))\n",
        "    model.add(BatchNormalization())\n",
        "    model.add(Activation('relu'))\n",
        "    model.add(Dropout(0.5))\n",
        "    model.add(MaxPooling2D(pool_size=(2, 2)))\n",
        "\n",
        "    model.add(Conv2D(256, (3, 3), padding='same'))\n",
        "    #model.add(BatchNormalization())\n",
        "    model.add(Activation('relu'))\n",
        "    model.add(Dropout(0.15))\n",
        "    model.add(MaxPooling2D(pool_size=(2, 2)))\n",
        "\n",
        "    model.add(Flatten())\n",
        "    model.add(Dense(1024))\n",
        "    model.add(BatchNormalization())\n",
        "    model.add(Activation('relu'))\n",
        "    #model.add(Dropout(0.25))\n",
        "\n",
        "    model.add(Dense(1024, activation='relu'))\n",
        "    model.add(Dropout(0.3))\n",
        "\n",
        "    model.add(Dense(NUM_CLASSES, activation='softmax'))\n",
        "\n",
        "    return model\n",
        "  \n",
        "\n",
        "#10 epoch = 84.56%\n",
        "#11 epoch = 85.33%\n",
        "#12 epoch = 80.62\n",
        "#13 epoch = 80.92\n",
        "#14 epoch = 85.46\n",
        "#15 epoch = 88.18\n",
        "#16 epoch = 90.2\n",
        "#17 epoch = 85.79\n",
        "#18 epoch = 87.11\n",
        "#19 epoch = 88.42\n",
        "#20 epoch = 87.9"
      ]
    },
    {
      "metadata": {
        "id": "08yUWKjyjVOD",
        "colab_type": "text"
      },
      "cell_type": "markdown",
      "source": [
        "def create_model():\n",
        "    model = Sequential()\n",
        "\n",
        "    model.add(Conv2D(32, (3, 3), padding='same', input_shape=IMG_SHAPE_CHANNELS))\n",
        "    model.add(BatchNormalization())\n",
        "    model.add(Activation('relu'))\n",
        "    model.add(Dropout(0.20))\n",
        "    model.add(MaxPooling2D(pool_size=(2, 2)))\n",
        "\n",
        "    model.add(Conv2D(64, (3, 3), padding='same'))\n",
        "    model.add(BatchNormalization())\n",
        "    model.add(Activation('relu'))\n",
        "    model.add(Dropout(0.20))\n",
        "    model.add(MaxPooling2D(pool_size=(2, 2)))\n",
        "\n",
        "    model.add(Conv2D(128, (3, 3), padding='same'))\n",
        "    model.add(BatchNormalization())\n",
        "    model.add(Activation('relu'))\n",
        "    model.add(Dropout(0.2))\n",
        "    model.add(MaxPooling2D(pool_size=(2, 2)))\n",
        "\n",
        "    model.add(Conv2D(256, (3, 3), padding='same'))\n",
        "    model.add(BatchNormalization())\n",
        "    model.add(Activation('relu'))\n",
        "    model.add(Dropout(0.2))\n",
        "    model.add(MaxPooling2D(pool_size=(2, 2)))\n",
        "\n",
        "    model.add(Flatten())\n",
        "    model.add(Dense(1024))\n",
        "    model.add(BatchNormalization())\n",
        "    model.add(Activation('relu'))\n",
        "    model.add(Dropout(0.2))\n",
        "\n",
        "    model.add(Dense(1024, activation='relu'))\n",
        "    model.add(Dropout(0.2))\n",
        "\n",
        "    model.add(Dense(NUM_CLASSES, activation='softmax'))\n",
        "\n",
        "    return model\n",
        "  \n",
        "\n",
        "#10 epoch = 65.53\n",
        "#11 epoch = 73.07\n",
        "#12 epoch = 78.36\n",
        "#13 epoch = 72.59\n",
        "#14 epoch = 80.6\n",
        "#15 epoch = 73.22\n",
        "#16 epoch = 83.6\n",
        "#17 epoch = 79\n",
        "#18 epoch = 72.06\n",
        "#19 epoch = \n",
        "#20 epoch = "
      ]
    },
    {
      "metadata": {
        "id": "MyUd0E8UbstU",
        "colab_type": "code",
        "colab": {}
      },
      "cell_type": "code",
      "source": [
        ""
      ],
      "execution_count": 0,
      "outputs": []
    }
  ]
}