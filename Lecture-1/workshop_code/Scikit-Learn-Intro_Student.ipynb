{
 "cells": [
  {
   "cell_type": "markdown",
   "metadata": {},
   "source": [
    "# Intro to Scikit-Learn "
   ]
  },
  {
   "cell_type": "markdown",
   "metadata": {},
   "source": [
    "What is Scikit-Learn:\n",
    "\n",
    "A free library that provides tools that makes it super easy to perform data analysis. Great for getting started with learning the basics of machine learning models!\n"
   ]
  },
  {
   "cell_type": "markdown",
   "metadata": {},
   "source": [
    "To DO:\n",
    "    *Data Representation\n",
    "    *Load Data\n",
    "    *Choose a model\n",
    "    *Intantiate Model\n",
    "    *Pick Hyperparamters\n",
    "    *Graph "
   ]
  },
  {
   "cell_type": "markdown",
   "metadata": {},
   "source": [
    "Lets start off by loading one of the most famous scikit learn datasets and see what it looks like. Go ahead and take a moment to look up the Iris Dataset with scikit learn.\n"
   ]
  },
  {
   "cell_type": "markdown",
   "metadata": {},
   "source": [
    "*waits a few minute* "
   ]
  },
  {
   "cell_type": "markdown",
   "metadata": {},
   "source": [
    "## Loading Data from a Library"
   ]
  },
  {
   "cell_type": "code",
   "execution_count": 10,
   "metadata": {},
   "outputs": [],
   "source": [
    "#insert dataset name after import statement\n",
    "from sklearn import datasets"
   ]
  },
  {
   "cell_type": "markdown",
   "metadata": {},
   "source": [
    "Great now that we've imported the data we can load it. "
   ]
  },
  {
   "cell_type": "code",
   "execution_count": 11,
   "metadata": {},
   "outputs": [],
   "source": [
    "iris = datasets.load_iris()"
   ]
  },
  {
   "cell_type": "markdown",
   "metadata": {},
   "source": [
    "Try printing out iris and examine what information we have in the data set and explore how it's stored"
   ]
  },
  {
   "cell_type": "code",
   "execution_count": 12,
   "metadata": {},
   "outputs": [
    {
     "name": "stdout",
     "output_type": "stream",
     "text": [
      "{'data': array([[5.1, 3.5, 1.4, 0.2],\n",
      "       [4.9, 3. , 1.4, 0.2],\n",
      "       [4.7, 3.2, 1.3, 0.2],\n",
      "       [4.6, 3.1, 1.5, 0.2],\n",
      "       [5. , 3.6, 1.4, 0.2],\n",
      "       [5.4, 3.9, 1.7, 0.4],\n",
      "       [4.6, 3.4, 1.4, 0.3],\n",
      "       [5. , 3.4, 1.5, 0.2],\n",
      "       [4.4, 2.9, 1.4, 0.2],\n",
      "       [4.9, 3.1, 1.5, 0.1],\n",
      "       [5.4, 3.7, 1.5, 0.2],\n",
      "       [4.8, 3.4, 1.6, 0.2],\n",
      "       [4.8, 3. , 1.4, 0.1],\n",
      "       [4.3, 3. , 1.1, 0.1],\n",
      "       [5.8, 4. , 1.2, 0.2],\n",
      "       [5.7, 4.4, 1.5, 0.4],\n",
      "       [5.4, 3.9, 1.3, 0.4],\n",
      "       [5.1, 3.5, 1.4, 0.3],\n",
      "       [5.7, 3.8, 1.7, 0.3],\n",
      "       [5.1, 3.8, 1.5, 0.3],\n",
      "       [5.4, 3.4, 1.7, 0.2],\n",
      "       [5.1, 3.7, 1.5, 0.4],\n",
      "       [4.6, 3.6, 1. , 0.2],\n",
      "       [5.1, 3.3, 1.7, 0.5],\n",
      "       [4.8, 3.4, 1.9, 0.2],\n",
      "       [5. , 3. , 1.6, 0.2],\n",
      "       [5. , 3.4, 1.6, 0.4],\n",
      "       [5.2, 3.5, 1.5, 0.2],\n",
      "       [5.2, 3.4, 1.4, 0.2],\n",
      "       [4.7, 3.2, 1.6, 0.2],\n",
      "       [4.8, 3.1, 1.6, 0.2],\n",
      "       [5.4, 3.4, 1.5, 0.4],\n",
      "       [5.2, 4.1, 1.5, 0.1],\n",
      "       [5.5, 4.2, 1.4, 0.2],\n",
      "       [4.9, 3.1, 1.5, 0.2],\n",
      "       [5. , 3.2, 1.2, 0.2],\n",
      "       [5.5, 3.5, 1.3, 0.2],\n",
      "       [4.9, 3.6, 1.4, 0.1],\n",
      "       [4.4, 3. , 1.3, 0.2],\n",
      "       [5.1, 3.4, 1.5, 0.2],\n",
      "       [5. , 3.5, 1.3, 0.3],\n",
      "       [4.5, 2.3, 1.3, 0.3],\n",
      "       [4.4, 3.2, 1.3, 0.2],\n",
      "       [5. , 3.5, 1.6, 0.6],\n",
      "       [5.1, 3.8, 1.9, 0.4],\n",
      "       [4.8, 3. , 1.4, 0.3],\n",
      "       [5.1, 3.8, 1.6, 0.2],\n",
      "       [4.6, 3.2, 1.4, 0.2],\n",
      "       [5.3, 3.7, 1.5, 0.2],\n",
      "       [5. , 3.3, 1.4, 0.2],\n",
      "       [7. , 3.2, 4.7, 1.4],\n",
      "       [6.4, 3.2, 4.5, 1.5],\n",
      "       [6.9, 3.1, 4.9, 1.5],\n",
      "       [5.5, 2.3, 4. , 1.3],\n",
      "       [6.5, 2.8, 4.6, 1.5],\n",
      "       [5.7, 2.8, 4.5, 1.3],\n",
      "       [6.3, 3.3, 4.7, 1.6],\n",
      "       [4.9, 2.4, 3.3, 1. ],\n",
      "       [6.6, 2.9, 4.6, 1.3],\n",
      "       [5.2, 2.7, 3.9, 1.4],\n",
      "       [5. , 2. , 3.5, 1. ],\n",
      "       [5.9, 3. , 4.2, 1.5],\n",
      "       [6. , 2.2, 4. , 1. ],\n",
      "       [6.1, 2.9, 4.7, 1.4],\n",
      "       [5.6, 2.9, 3.6, 1.3],\n",
      "       [6.7, 3.1, 4.4, 1.4],\n",
      "       [5.6, 3. , 4.5, 1.5],\n",
      "       [5.8, 2.7, 4.1, 1. ],\n",
      "       [6.2, 2.2, 4.5, 1.5],\n",
      "       [5.6, 2.5, 3.9, 1.1],\n",
      "       [5.9, 3.2, 4.8, 1.8],\n",
      "       [6.1, 2.8, 4. , 1.3],\n",
      "       [6.3, 2.5, 4.9, 1.5],\n",
      "       [6.1, 2.8, 4.7, 1.2],\n",
      "       [6.4, 2.9, 4.3, 1.3],\n",
      "       [6.6, 3. , 4.4, 1.4],\n",
      "       [6.8, 2.8, 4.8, 1.4],\n",
      "       [6.7, 3. , 5. , 1.7],\n",
      "       [6. , 2.9, 4.5, 1.5],\n",
      "       [5.7, 2.6, 3.5, 1. ],\n",
      "       [5.5, 2.4, 3.8, 1.1],\n",
      "       [5.5, 2.4, 3.7, 1. ],\n",
      "       [5.8, 2.7, 3.9, 1.2],\n",
      "       [6. , 2.7, 5.1, 1.6],\n",
      "       [5.4, 3. , 4.5, 1.5],\n",
      "       [6. , 3.4, 4.5, 1.6],\n",
      "       [6.7, 3.1, 4.7, 1.5],\n",
      "       [6.3, 2.3, 4.4, 1.3],\n",
      "       [5.6, 3. , 4.1, 1.3],\n",
      "       [5.5, 2.5, 4. , 1.3],\n",
      "       [5.5, 2.6, 4.4, 1.2],\n",
      "       [6.1, 3. , 4.6, 1.4],\n",
      "       [5.8, 2.6, 4. , 1.2],\n",
      "       [5. , 2.3, 3.3, 1. ],\n",
      "       [5.6, 2.7, 4.2, 1.3],\n",
      "       [5.7, 3. , 4.2, 1.2],\n",
      "       [5.7, 2.9, 4.2, 1.3],\n",
      "       [6.2, 2.9, 4.3, 1.3],\n",
      "       [5.1, 2.5, 3. , 1.1],\n",
      "       [5.7, 2.8, 4.1, 1.3],\n",
      "       [6.3, 3.3, 6. , 2.5],\n",
      "       [5.8, 2.7, 5.1, 1.9],\n",
      "       [7.1, 3. , 5.9, 2.1],\n",
      "       [6.3, 2.9, 5.6, 1.8],\n",
      "       [6.5, 3. , 5.8, 2.2],\n",
      "       [7.6, 3. , 6.6, 2.1],\n",
      "       [4.9, 2.5, 4.5, 1.7],\n",
      "       [7.3, 2.9, 6.3, 1.8],\n",
      "       [6.7, 2.5, 5.8, 1.8],\n",
      "       [7.2, 3.6, 6.1, 2.5],\n",
      "       [6.5, 3.2, 5.1, 2. ],\n",
      "       [6.4, 2.7, 5.3, 1.9],\n",
      "       [6.8, 3. , 5.5, 2.1],\n",
      "       [5.7, 2.5, 5. , 2. ],\n",
      "       [5.8, 2.8, 5.1, 2.4],\n",
      "       [6.4, 3.2, 5.3, 2.3],\n",
      "       [6.5, 3. , 5.5, 1.8],\n",
      "       [7.7, 3.8, 6.7, 2.2],\n",
      "       [7.7, 2.6, 6.9, 2.3],\n",
      "       [6. , 2.2, 5. , 1.5],\n",
      "       [6.9, 3.2, 5.7, 2.3],\n",
      "       [5.6, 2.8, 4.9, 2. ],\n",
      "       [7.7, 2.8, 6.7, 2. ],\n",
      "       [6.3, 2.7, 4.9, 1.8],\n",
      "       [6.7, 3.3, 5.7, 2.1],\n",
      "       [7.2, 3.2, 6. , 1.8],\n",
      "       [6.2, 2.8, 4.8, 1.8],\n",
      "       [6.1, 3. , 4.9, 1.8],\n",
      "       [6.4, 2.8, 5.6, 2.1],\n",
      "       [7.2, 3. , 5.8, 1.6],\n",
      "       [7.4, 2.8, 6.1, 1.9],\n",
      "       [7.9, 3.8, 6.4, 2. ],\n",
      "       [6.4, 2.8, 5.6, 2.2],\n",
      "       [6.3, 2.8, 5.1, 1.5],\n",
      "       [6.1, 2.6, 5.6, 1.4],\n",
      "       [7.7, 3. , 6.1, 2.3],\n",
      "       [6.3, 3.4, 5.6, 2.4],\n",
      "       [6.4, 3.1, 5.5, 1.8],\n",
      "       [6. , 3. , 4.8, 1.8],\n",
      "       [6.9, 3.1, 5.4, 2.1],\n",
      "       [6.7, 3.1, 5.6, 2.4],\n",
      "       [6.9, 3.1, 5.1, 2.3],\n",
      "       [5.8, 2.7, 5.1, 1.9],\n",
      "       [6.8, 3.2, 5.9, 2.3],\n",
      "       [6.7, 3.3, 5.7, 2.5],\n",
      "       [6.7, 3. , 5.2, 2.3],\n",
      "       [6.3, 2.5, 5. , 1.9],\n",
      "       [6.5, 3. , 5.2, 2. ],\n",
      "       [6.2, 3.4, 5.4, 2.3],\n",
      "       [5.9, 3. , 5.1, 1.8]]), 'target': array([0, 0, 0, 0, 0, 0, 0, 0, 0, 0, 0, 0, 0, 0, 0, 0, 0, 0, 0, 0, 0, 0,\n",
      "       0, 0, 0, 0, 0, 0, 0, 0, 0, 0, 0, 0, 0, 0, 0, 0, 0, 0, 0, 0, 0, 0,\n",
      "       0, 0, 0, 0, 0, 0, 1, 1, 1, 1, 1, 1, 1, 1, 1, 1, 1, 1, 1, 1, 1, 1,\n",
      "       1, 1, 1, 1, 1, 1, 1, 1, 1, 1, 1, 1, 1, 1, 1, 1, 1, 1, 1, 1, 1, 1,\n",
      "       1, 1, 1, 1, 1, 1, 1, 1, 1, 1, 1, 1, 2, 2, 2, 2, 2, 2, 2, 2, 2, 2,\n",
      "       2, 2, 2, 2, 2, 2, 2, 2, 2, 2, 2, 2, 2, 2, 2, 2, 2, 2, 2, 2, 2, 2,\n",
      "       2, 2, 2, 2, 2, 2, 2, 2, 2, 2, 2, 2, 2, 2, 2, 2, 2, 2]), 'target_names': array(['setosa', 'versicolor', 'virginica'], dtype='<U10'), 'DESCR': '.. _iris_dataset:\\n\\nIris plants dataset\\n--------------------\\n\\n**Data Set Characteristics:**\\n\\n    :Number of Instances: 150 (50 in each of three classes)\\n    :Number of Attributes: 4 numeric, predictive attributes and the class\\n    :Attribute Information:\\n        - sepal length in cm\\n        - sepal width in cm\\n        - petal length in cm\\n        - petal width in cm\\n        - class:\\n                - Iris-Setosa\\n                - Iris-Versicolour\\n                - Iris-Virginica\\n                \\n    :Summary Statistics:\\n\\n    ============== ==== ==== ======= ===== ====================\\n                    Min  Max   Mean    SD   Class Correlation\\n    ============== ==== ==== ======= ===== ====================\\n    sepal length:   4.3  7.9   5.84   0.83    0.7826\\n    sepal width:    2.0  4.4   3.05   0.43   -0.4194\\n    petal length:   1.0  6.9   3.76   1.76    0.9490  (high!)\\n    petal width:    0.1  2.5   1.20   0.76    0.9565  (high!)\\n    ============== ==== ==== ======= ===== ====================\\n\\n    :Missing Attribute Values: None\\n    :Class Distribution: 33.3% for each of 3 classes.\\n    :Creator: R.A. Fisher\\n    :Donor: Michael Marshall (MARSHALL%PLU@io.arc.nasa.gov)\\n    :Date: July, 1988\\n\\nThe famous Iris database, first used by Sir R.A. Fisher. The dataset is taken\\nfrom Fisher\\'s paper. Note that it\\'s the same as in R, but not as in the UCI\\nMachine Learning Repository, which has two wrong data points.\\n\\nThis is perhaps the best known database to be found in the\\npattern recognition literature.  Fisher\\'s paper is a classic in the field and\\nis referenced frequently to this day.  (See Duda & Hart, for example.)  The\\ndata set contains 3 classes of 50 instances each, where each class refers to a\\ntype of iris plant.  One class is linearly separable from the other 2; the\\nlatter are NOT linearly separable from each other.\\n\\n.. topic:: References\\n\\n   - Fisher, R.A. \"The use of multiple measurements in taxonomic problems\"\\n     Annual Eugenics, 7, Part II, 179-188 (1936); also in \"Contributions to\\n     Mathematical Statistics\" (John Wiley, NY, 1950).\\n   - Duda, R.O., & Hart, P.E. (1973) Pattern Classification and Scene Analysis.\\n     (Q327.D83) John Wiley & Sons.  ISBN 0-471-22361-1.  See page 218.\\n   - Dasarathy, B.V. (1980) \"Nosing Around the Neighborhood: A New System\\n     Structure and Classification Rule for Recognition in Partially Exposed\\n     Environments\".  IEEE Transactions on Pattern Analysis and Machine\\n     Intelligence, Vol. PAMI-2, No. 1, 67-71.\\n   - Gates, G.W. (1972) \"The Reduced Nearest Neighbor Rule\".  IEEE Transactions\\n     on Information Theory, May 1972, 431-433.\\n   - See also: 1988 MLC Proceedings, 54-64.  Cheeseman et al\"s AUTOCLASS II\\n     conceptual clustering system finds 3 classes in the data.\\n   - Many, many more ...', 'feature_names': ['sepal length (cm)', 'sepal width (cm)', 'petal length (cm)', 'petal width (cm)'], 'filename': '/Users/philiptam/Projects/Mais/mais-bootcamp-w2019/.mais-env/lib/python3.6/site-packages/sklearn/datasets/data/iris.csv'}\n"
     ]
    }
   ],
   "source": [
    "print(iris)"
   ]
  },
  {
   "cell_type": "markdown",
   "metadata": {},
   "source": []
  },
  {
   "cell_type": "code",
   "execution_count": 13,
   "metadata": {},
   "outputs": [
    {
     "name": "stdout",
     "output_type": "stream",
     "text": [
      "(150, 4)\n"
     ]
    }
   ],
   "source": [
    "# print the iris data\n",
    "print(iris.data.shape)\n"
   ]
  },
  {
   "cell_type": "markdown",
   "metadata": {},
   "source": [
    "#### Some quick terminology\n",
    "The data above just loooks like just a bunch of numbers right? Let's try to better understand what it means. \n",
    "\n",
    "    *Each row is a sample (also known as: observation, example, instance, record)\n",
    "    *Each column is a feature (also known as: predictor, attribute, independent variable, input, regressor, covariate)"
   ]
  },
  {
   "cell_type": "markdown",
   "metadata": {},
   "source": [
    "Let's try printing out the features and samples."
   ]
  },
  {
   "cell_type": "code",
   "execution_count": 14,
   "metadata": {},
   "outputs": [
    {
     "name": "stdout",
     "output_type": "stream",
     "text": [
      "['sepal length (cm)', 'sepal width (cm)', 'petal length (cm)', 'petal width (cm)']\n",
      "[0 0 0 0 0 0 0 0 0 0 0 0 0 0 0 0 0 0 0 0 0 0 0 0 0 0 0 0 0 0 0 0 0 0 0 0 0\n",
      " 0 0 0 0 0 0 0 0 0 0 0 0 0 1 1 1 1 1 1 1 1 1 1 1 1 1 1 1 1 1 1 1 1 1 1 1 1\n",
      " 1 1 1 1 1 1 1 1 1 1 1 1 1 1 1 1 1 1 1 1 1 1 1 1 1 1 2 2 2 2 2 2 2 2 2 2 2\n",
      " 2 2 2 2 2 2 2 2 2 2 2 2 2 2 2 2 2 2 2 2 2 2 2 2 2 2 2 2 2 2 2 2 2 2 2 2 2\n",
      " 2 2]\n",
      "['setosa' 'versicolor' 'virginica']\n"
     ]
    }
   ],
   "source": [
    "# print the names of the four features called feature_names\n",
    "print(iris.feature_names)\n",
    "# print integers representing the species of each observation called target\n",
    "print(iris.target)\n",
    "print(iris.target_names)\n",
    "# print the encoding scheme for species: 0 = setosa, 1 = versicolor, 2 = virginica called target_names\n",
    "# print(iris)"
   ]
  },
  {
   "cell_type": "markdown",
   "metadata": {},
   "source": [
    "So now we see that each column represents a different feature, in this case sepal lenght, sepal width, petal length and petal width! We also know each row represents one example. \n",
    "\n",
    "Run the next cell to see a snippet of the code in a table that may look more familiar"
   ]
  },
  {
   "cell_type": "code",
   "execution_count": 15,
   "metadata": {},
   "outputs": [
    {
     "data": {
      "image/png": "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\n",
      "text/plain": [
       "<IPython.core.display.Image object>"
      ]
     },
     "execution_count": 15,
     "metadata": {},
     "output_type": "execute_result"
    }
   ],
   "source": [
    "from IPython.display import Image\n",
    "Image(filename='iris.png')"
   ]
  },
  {
   "cell_type": "markdown",
   "metadata": {},
   "source": [
    "Remember all that stuff we learned with numpy? Comes in handy again here since scikit-learn is built on top of numpy, so we can use all the stuff we learned on our data here! Let's try playing around with the data. "
   ]
  },
  {
   "cell_type": "code",
   "execution_count": 16,
   "metadata": {},
   "outputs": [
    {
     "name": "stdout",
     "output_type": "stream",
     "text": [
      "<class 'numpy.ndarray'>\n",
      "<class 'list'>\n",
      "<class 'numpy.ndarray'>\n"
     ]
    }
   ],
   "source": [
    "#print out the types \n",
    "print(type(iris.data))\n",
    "#print out the type of the feature_names\n",
    "print(type(iris.feature_names))\n",
    "#print out the type of the targets \n",
    "print(type(iris.target_names))"
   ]
  },
  {
   "cell_type": "code",
   "execution_count": 17,
   "metadata": {},
   "outputs": [
    {
     "name": "stdout",
     "output_type": "stream",
     "text": [
      "(150, 4)\n",
      "['setosa' 'versicolor' 'virginica']\n"
     ]
    }
   ],
   "source": [
    "#print out the shape of the data\n",
    "print(iris.data.shape)\n",
    "\n",
    "#print out the shape of the target_name\n",
    "print(iris.target_names)"
   ]
  },
  {
   "cell_type": "markdown",
   "metadata": {},
   "source": [
    "Notice if we try and print out the shape of feature_names we get an error! The type is a list, therefore cannot call shape on the data"
   ]
  },
  {
   "cell_type": "markdown",
   "metadata": {},
   "source": [
    "Usually when we have data we'll save it to a variable (X) and the labeled response to (Y). In this case what would we assign as X? What would we assign as Y? "
   ]
  },
  {
   "cell_type": "code",
   "execution_count": 18,
   "metadata": {},
   "outputs": [],
   "source": [
    "#Fil in here how we'd load the data \n",
    "\n",
    "#Hint: X usually corresponds to the data we have \n",
    "X = iris.data\n",
    "\n",
    "#Hint: Y usually corresponds to the labels we have\n",
    "Y = iris.target"
   ]
  },
  {
   "cell_type": "markdown",
   "metadata": {},
   "source": [
    "## Scikit-Learn API Basics "
   ]
  },
  {
   "cell_type": "markdown",
   "metadata": {},
   "source": [
    "Great! Now that we know how to load data, let's dive a little deeper and look at some of the basics of the API. \n",
    "    1. Choose a class of model by importing the appropriate estimator class from Scikit-Learn.\n",
    "    2. Choose model hyperparameters by instantiating this class with desired values.\n",
    "    3. Arrange data into a features matrix and target vector following the discussion above.\n",
    "    4. Fit the model to your data by calling the fit() method of the model instance\n",
    "    5. Apply the Model to new data, can use predict() or transform() \n",
    "\n",
    "Lets go ahead and look at a simple example, loading a linear regression classifier with some random made up data.\n",
    "\n",
    "Don't worry if you're not familiar with linear regression, lets just note that it'll be our model of choice that helps us model points that tend to follow the pattern of a line! "
   ]
  },
  {
   "cell_type": "code",
   "execution_count": 19,
   "metadata": {},
   "outputs": [
    {
     "data": {
      "image/png": "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\n",
      "text/plain": [
       "<Figure size 576x576 with 1 Axes>"
      ]
     },
     "metadata": {
      "needs_background": "light"
     },
     "output_type": "display_data"
    }
   ],
   "source": [
    "import matplotlib.pyplot as plt\n",
    "import numpy as np\n",
    "\n",
    "#Lets make some random data! \n",
    "\n",
    "rng = np.random.RandomState(42)\n",
    "x = 10 * rng.rand(50)\n",
    "y = 2 * x - 1 + rng.randn(50)\n",
    "plt.figure(figsize=(8,8))\n",
    "plt.scatter(x, y);\n",
    "plt.show()"
   ]
  },
  {
   "cell_type": "markdown",
   "metadata": {},
   "source": [
    "Cool now we have some data to work with. Now lets go ahead and choose a model, remember how we imported a dataset before? With the same intuition let's import a model"
   ]
  },
  {
   "cell_type": "code",
   "execution_count": 20,
   "metadata": {},
   "outputs": [],
   "source": [
    "#Try looking at this documentation and figuring out how to import the Linear Regression Model: \n",
    "# http://scikit-learn.org/stable/supervised_learning.html\n",
    "from sklearn.linear_model import LinearRegression as LR"
   ]
  },
  {
   "cell_type": "markdown",
   "metadata": {},
   "source": [
    "Once we have decided on our model class, there are still some options open to us. Depending on the model class we are working with, we might need to answer one or more questions like the following:\n",
    "    \n",
    "    *Would we like to fit for the offset (i.e., y-intercept)?\n",
    "    *Would we like the model to be normalized?\n",
    "    *Would we like to preprocess our features to add model flexibility?\n",
    "    *What degree of regularization would we like to use in our model?\n",
    "    *How many model components would we like to use?\n",
    "\n",
    "These are examples of the important choices that must be made once the model class is selected. These choices are often represented as hyperparameters, or parameters that must be set before the model is fit to data. \n",
    "\n",
    "Throughout the course of this decal you're going to learn more about each of these questions and how to answer them! For now don't worry too much we're just showing you an example!"
   ]
  },
  {
   "cell_type": "code",
   "execution_count": 21,
   "metadata": {},
   "outputs": [
    {
     "data": {
      "text/plain": [
       "LinearRegression(copy_X=True, fit_intercept=True, n_jobs=None,\n",
       "         normalize=False)"
      ]
     },
     "execution_count": 21,
     "metadata": {},
     "output_type": "execute_result"
    }
   ],
   "source": [
    "model = LR(fit_intercept=True)\n",
    "model "
   ]
  },
  {
   "cell_type": "markdown",
   "metadata": {},
   "source": [
    "Here our target variable y is already in the correct form (a length-n_samples array). Think about how iris.target looked? Same idea! "
   ]
  },
  {
   "cell_type": "code",
   "execution_count": 24,
   "metadata": {},
   "outputs": [
    {
     "name": "stdout",
     "output_type": "stream",
     "text": [
      "[ 7.22926896 18.18565441 13.52423055 10.67206599  0.64185082  1.4000462\n",
      " -0.29896653 17.38064514 11.36591852 11.3984114  -0.26422614 18.01311476\n",
      " 14.97193082  3.8584585   3.66749887  3.59937032  4.24562734  9.18591626\n",
      "  7.9701638   5.80012793 10.75788366  1.60421824  3.736558    5.13103024\n",
      "  8.93392551 16.05975926  2.92146552 10.28822167 11.2099274  -0.7161115\n",
      " 11.51229264  3.94851904  0.26520582 19.5423544  15.69289556 15.98984947\n",
      "  5.17932245  0.65443493 12.77642131  5.81548096  1.22109281  9.26065077\n",
      "  1.16566447 16.66813782  3.36710603 11.74868864  6.14962364  9.73011153\n",
      "  9.40444538  3.21035654]\n",
      "(50,)\n"
     ]
    }
   ],
   "source": [
    "print(y)\n",
    "print(y.shape)"
   ]
  },
  {
   "cell_type": "markdown",
   "metadata": {},
   "source": [
    "Although think back to the Iris dataset, every example was its own row. Currently our X data is just one long row. We'll need to fix this and make the data x a matrix of [n_samples, n_features]. \n",
    "\n",
    "In this case we have 50 samples, and 1 feature so we'll need a matrix of shape (50, 1)! Can you figure out how to reshape the data? "
   ]
  },
  {
   "cell_type": "code",
   "execution_count": 41,
   "metadata": {},
   "outputs": [
    {
     "name": "stdout",
     "output_type": "stream",
     "text": [
      "[3.74540119 9.50714306 7.31993942 5.98658484 1.5601864  1.5599452\n",
      " 0.58083612 8.66176146 6.01115012 7.08072578 0.20584494 9.69909852\n",
      " 8.32442641 2.12339111 1.81824967 1.8340451  3.04242243 5.24756432\n",
      " 4.31945019 2.9122914  6.11852895 1.39493861 2.92144649 3.66361843\n",
      " 4.56069984 7.85175961 1.99673782 5.14234438 5.92414569 0.46450413\n",
      " 6.07544852 1.70524124 0.65051593 9.48885537 9.65632033 8.08397348\n",
      " 3.04613769 0.97672114 6.84233027 4.40152494 1.22038235 4.9517691\n",
      " 0.34388521 9.09320402 2.58779982 6.62522284 3.11711076 5.20068021\n",
      " 5.46710279 1.84854456]\n",
      "(50,)\n",
      "[[3.74540119]\n",
      " [9.50714306]\n",
      " [7.31993942]\n",
      " [5.98658484]\n",
      " [1.5601864 ]\n",
      " [1.5599452 ]\n",
      " [0.58083612]\n",
      " [8.66176146]\n",
      " [6.01115012]\n",
      " [7.08072578]\n",
      " [0.20584494]\n",
      " [9.69909852]\n",
      " [8.32442641]\n",
      " [2.12339111]\n",
      " [1.81824967]\n",
      " [1.8340451 ]\n",
      " [3.04242243]\n",
      " [5.24756432]\n",
      " [4.31945019]\n",
      " [2.9122914 ]\n",
      " [6.11852895]\n",
      " [1.39493861]\n",
      " [2.92144649]\n",
      " [3.66361843]\n",
      " [4.56069984]\n",
      " [7.85175961]\n",
      " [1.99673782]\n",
      " [5.14234438]\n",
      " [5.92414569]\n",
      " [0.46450413]\n",
      " [6.07544852]\n",
      " [1.70524124]\n",
      " [0.65051593]\n",
      " [9.48885537]\n",
      " [9.65632033]\n",
      " [8.08397348]\n",
      " [3.04613769]\n",
      " [0.97672114]\n",
      " [6.84233027]\n",
      " [4.40152494]\n",
      " [1.22038235]\n",
      " [4.9517691 ]\n",
      " [0.34388521]\n",
      " [9.09320402]\n",
      " [2.58779982]\n",
      " [6.62522284]\n",
      " [3.11711076]\n",
      " [5.20068021]\n",
      " [5.46710279]\n",
      " [1.84854456]]\n",
      "(50, 1)\n",
      "[3.74540119 9.50714306 7.31993942 5.98658484 1.5601864  1.5599452\n",
      " 0.58083612 8.66176146 6.01115012 7.08072578]\n"
     ]
    }
   ],
   "source": [
    "print(x)\n",
    "print(x.shape)\n",
    "# Hint: Look up how to transpose a 1-D Matrix\n",
    "X = x[:,np.newaxis]\n",
    "print(X)\n",
    "print(X.shape)\n",
    "z = x[:10]\n",
    "print(z)"
   ]
  },
  {
   "cell_type": "code",
   "execution_count": null,
   "metadata": {
    "collapsed": true
   },
   "outputs": [],
   "source": [
    "Now lets apply the model to our data, we can do this by calling model.fit() with our paramters x and y"
   ]
  },
  {
   "cell_type": "code",
   "execution_count": 34,
   "metadata": {},
   "outputs": [
    {
     "data": {
      "text/plain": [
       "LinearRegression(copy_X=True, fit_intercept=True, n_jobs=None,\n",
       "         normalize=False)"
      ]
     },
     "execution_count": 34,
     "metadata": {},
     "output_type": "execute_result"
    }
   ],
   "source": [
    "## Fill in your paramters here! \n",
    "model.fit(X,y)"
   ]
  },
  {
   "cell_type": "markdown",
   "metadata": {},
   "source": [
    "That's it, and yep it's that easy! Now let's take a look at what the model actually fit to. "
   ]
  },
  {
   "cell_type": "code",
   "execution_count": 35,
   "metadata": {},
   "outputs": [
    {
     "data": {
      "text/plain": [
       "array([1.9776566])"
      ]
     },
     "execution_count": 35,
     "metadata": {},
     "output_type": "execute_result"
    }
   ],
   "source": [
    "model.coef_"
   ]
  },
  {
   "cell_type": "code",
   "execution_count": 36,
   "metadata": {},
   "outputs": [
    {
     "data": {
      "text/plain": [
       "-0.9033107255311146"
      ]
     },
     "execution_count": 36,
     "metadata": {},
     "output_type": "execute_result"
    }
   ],
   "source": [
    "model.intercept_"
   ]
  },
  {
   "cell_type": "markdown",
   "metadata": {},
   "source": [
    "These two parameters represent the slope and intercept of the simple linear fit to the data. Comparing to the data definition, we see that they are very close to the input slope of 2 and intercept of -1.\n",
    "\n",
    "Now lets plot these results and see what it looks like!"
   ]
  },
  {
   "cell_type": "code",
   "execution_count": 44,
   "metadata": {},
   "outputs": [
    {
     "data": {
      "image/png": "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\n",
      "text/plain": [
       "<Figure size 432x288 with 1 Axes>"
      ]
     },
     "metadata": {
      "needs_background": "light"
     },
     "output_type": "display_data"
    }
   ],
   "source": [
    "## np.linspace returns us nice evely distrubuted values \n",
    "xfit = np.linspace(-1, 11)\n",
    "## Rember what np.newaxis does? \n",
    "Xfit = xfit[:, np.newaxis]\n",
    "yfit = model.predict(Xfit)\n",
    "\n",
    "#Let's plot this bad boy!\n",
    "plt.figure(figsize=(10,10))\n",
    "plt.scatter(x, y)\n",
    "plt.plot(xfit, yfit, \"r\");\n",
    "plt.show()"
   ]
  },
  {
   "cell_type": "raw",
   "metadata": {},
   "source": [
    "Cool! Now let's take the basics we just learned and see if we can classify digits!"
   ]
  },
  {
   "cell_type": "markdown",
   "metadata": {},
   "source": [
    "# Classifying MNIST Digits"
   ]
  },
  {
   "cell_type": "markdown",
   "metadata": {},
   "source": [
    "The MNIST digit data set is a very famous and widely used dataset! Lucky for us Scikit learn has already preformatted the data, so it's super easy to use! Let's go ahead and load the data. "
   ]
  },
  {
   "cell_type": "code",
   "execution_count": 45,
   "metadata": {},
   "outputs": [
    {
     "data": {
      "text/plain": [
       "(1797, 8, 8)"
      ]
     },
     "execution_count": 45,
     "metadata": {},
     "output_type": "execute_result"
    }
   ],
   "source": [
    "from sklearn.datasets import load_digits\n",
    "digits = load_digits()\n",
    "digits.images.shape"
   ]
  },
  {
   "cell_type": "code",
   "execution_count": 46,
   "metadata": {},
   "outputs": [
    {
     "name": "stdout",
     "output_type": "stream",
     "text": [
      "(1797, 64)\n",
      "(1797,)\n"
     ]
    }
   ],
   "source": [
    "#What do you think X would be based on our last example?  \n",
    "X = digits.data\n",
    "print(X.shape)\n",
    "y = digits.target\n",
    "print(y.shape) "
   ]
  },
  {
   "cell_type": "code",
   "execution_count": null,
   "metadata": {},
   "outputs": [],
   "source": []
  },
  {
   "cell_type": "markdown",
   "metadata": {},
   "source": [
    "Now lets actually visualize what this data looks like, run the cell below! "
   ]
  },
  {
   "cell_type": "code",
   "execution_count": 50,
   "metadata": {},
   "outputs": [
    {
     "data": {
      "image/png": "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\n",
      "text/plain": [
       "<Figure size 576x576 with 100 Axes>"
      ]
     },
     "metadata": {},
     "output_type": "display_data"
    }
   ],
   "source": [
    "import matplotlib.pyplot as plt\n",
    "\n",
    "fig, axes = plt.subplots(10, 10, figsize=(8, 8),\n",
    "                         subplot_kw={'xticks':[], 'yticks':[]},\n",
    "                         gridspec_kw=dict(hspace=0.1, wspace=0.1))\n",
    "\n",
    "for i, ax in enumerate(axes.flat):\n",
    "    ax.imshow(digits.images[i], cmap='binary', interpolation='nearest')\n",
    "    ax.text(0.05, 0.05, str(digits.target[i]),\n",
    "            transform=ax.transAxes, color='red')\n",
    "    \n",
    "plt.show()"
   ]
  },
  {
   "cell_type": "markdown",
   "metadata": {},
   "source": [
    "Cool,  Now that we have some data! Unlike before though, this data cannot be directly plotted on a 2D graph. It's pretty hard to visualize this data on a 64 dimensional paramter space so lets use a technique called Manifold Learning. Don't worry too much about this, the gist is that we can we can reduce the data to a 2D space to better visuaize it. "
   ]
  },
  {
   "cell_type": "code",
   "execution_count": 53,
   "metadata": {},
   "outputs": [
    {
     "data": {
      "text/plain": [
       "(1797, 2)"
      ]
     },
     "execution_count": 53,
     "metadata": {},
     "output_type": "execute_result"
    }
   ],
   "source": [
    "from sklearn.manifold import Isomap\n",
    "iso = Isomap(n_components=2)\n",
    "iso.fit(digits.data)\n",
    "data_projected = iso.transform(digits.data)\n",
    "data_projected.shape"
   ]
  },
  {
   "cell_type": "markdown",
   "metadata": {},
   "source": [
    "Hey! Now our data is 2D, coolio let's plot this bad boy. "
   ]
  },
  {
   "cell_type": "code",
   "execution_count": 60,
   "metadata": {},
   "outputs": [
    {
     "data": {
      "image/png": "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\n",
      "text/plain": [
       "<Figure size 432x288 with 2 Axes>"
      ]
     },
     "metadata": {
      "needs_background": "light"
     },
     "output_type": "display_data"
    }
   ],
   "source": [
    "plt.figure(figsize=(8,6))\n",
    "plt.scatter(data_projected[:, 0], data_projected[:, 1], c=digits.target,\n",
    "            edgecolor='none', alpha=0.5,\n",
    "            cmap=plt.cm.get_cmap('Spectral', 10))\n",
    "plt.colorbar(label='digit label', ticks=range(10))\n",
    "plt.clim(-0.5, 9.5);\n",
    "plt.show()"
   ]
  },
  {
   "cell_type": "markdown",
   "metadata": {},
   "source": [
    "Wowza what a world of color. Now what does this mean? Lets compare two digs, zeros and ones!\n",
    "\n",
    "Zeros (in black) and ones (in purple) have very little overlap in parameter space. Intuitively, this makes sense: a zero is empty in the middle of the image, while a one will generally have ink in the middle. \n",
    "\n",
    "Now thik about 5 (bright green) and 6 (lime colored green). Their data points seem to be really close! Why is this? Think about a 5 and a 6, they definitely share some overlap. "
   ]
  },
  {
   "cell_type": "markdown",
   "metadata": {},
   "source": [
    "Cool! Now that we've better visualized our data lets actually clasify these digits. \n",
    "\n",
    "We're going to split up our data. We'll use some of it to train a model and some of it to test the accurarcy of the model. Again don't worry too much about these concepts they'll be covered way more in depth throughout the course of this decal! "
   ]
  },
  {
   "cell_type": "code",
   "execution_count": 83,
   "metadata": {},
   "outputs": [],
   "source": [
    "from sklearn.model_selection import train_test_split\n",
    "\n",
    "Xtrain, Xtest, ytrain, ytest = train_test_split(X, y)"
   ]
  },
  {
   "cell_type": "code",
   "execution_count": 78,
   "metadata": {},
   "outputs": [
    {
     "name": "stdout",
     "output_type": "stream",
     "text": [
      "(1347, 64)\n",
      "(450, 64)\n",
      "(1347,)\n",
      "(450,)\n"
     ]
    }
   ],
   "source": [
    "print(Xtrain.shape)\n",
    "print(Xtest.shape)\n",
    "print(ytrain.shape)\n",
    "print(ytest.shape)"
   ]
  },
  {
   "cell_type": "markdown",
   "metadata": {},
   "source": [
    "Now let's choose a model. For this we're going ot choose a Gaussian naive Bayes model with model.fit()"
   ]
  },
  {
   "cell_type": "code",
   "execution_count": 84,
   "metadata": {
    "scrolled": false
   },
   "outputs": [
    {
     "data": {
      "text/plain": [
       "GaussianNB(priors=None, var_smoothing=1e-09)"
      ]
     },
     "execution_count": 84,
     "metadata": {},
     "output_type": "execute_result"
    }
   ],
   "source": [
    "from sklearn.naive_bayes import GaussianNB\n",
    "model = GaussianNB()\n",
    "\n",
    "#Think about what X and Y we would use here as our paramters! \n",
    "model.fit(Xtrain, ytrain)"
   ]
  },
  {
   "cell_type": "markdown",
   "metadata": {},
   "source": [
    "Now let's use the model.predict method to see what values our model predict for the data. We'll use the X test data we set aside a few cells before. "
   ]
  },
  {
   "cell_type": "code",
   "execution_count": 85,
   "metadata": {},
   "outputs": [],
   "source": [
    "# Make sure we predict on data the model hasn't seen before! \n",
    "\n",
    "y_model = model.predict(Xtest)"
   ]
  },
  {
   "cell_type": "markdown",
   "metadata": {},
   "source": [
    "Great, now lets use y_model and compare it to the test data we set aside and see how our model performed!"
   ]
  },
  {
   "cell_type": "code",
   "execution_count": 100,
   "metadata": {},
   "outputs": [
    {
     "data": {
      "text/plain": [
       "0.8622222222222222"
      ]
     },
     "execution_count": 100,
     "metadata": {},
     "output_type": "execute_result"
    }
   ],
   "source": [
    "from sklearn.metrics import accuracy_score\n",
    "\n",
    "##Let's compare the he actual y test values to the results of our model \n",
    "accuracy_score(ytest, y_model) "
   ]
  },
  {
   "cell_type": "markdown",
   "metadata": {},
   "source": [
    "Not too shabby of results for just a few lines of code! One fun thing we can use to visualize results are a confusion matrix. This will tell us which digits were misclassified the most in a nice visually pleasing chart. "
   ]
  },
  {
   "cell_type": "code",
   "execution_count": 102,
   "metadata": {},
   "outputs": [
    {
     "data": {
      "image/png": "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\n",
      "text/plain": [
       "<Figure size 432x288 with 1 Axes>"
      ]
     },
     "metadata": {
      "needs_background": "light"
     },
     "output_type": "display_data"
    }
   ],
   "source": [
    "from sklearn.metrics import confusion_matrix\n",
    "import seaborn as sns\n",
    "\n",
    "mat = confusion_matrix(ytest, y_model)\n",
    "\n",
    "sns.heatmap(mat, square=True, annot=True, cbar=False)\n",
    "plt.xlabel('predicted value')\n",
    "plt.ylabel('true value');\n",
    "\n",
    "plt.show()"
   ]
  },
  {
   "cell_type": "markdown",
   "metadata": {
    "collapsed": true
   },
   "source": [
    "Cool! Now we can see where our model messes up. We can see for example, ones and twos are sometimes predicted as eights! "
   ]
  },
  {
   "cell_type": "markdown",
   "metadata": {},
   "source": [
    "###  Congrats! You made it!\n",
    "It's okay if you don't understand everything that happend in this lab! What we wanted was for everyone to get familiar with using a library and the process of of loading data, visualizing that data, picking a model and actually applying the model! "
   ]
  }
 ],
 "metadata": {
  "anaconda-cloud": {},
  "kernelspec": {
   "display_name": "Python 3",
   "language": "python",
   "name": "python3"
  },
  "language_info": {
   "codemirror_mode": {
    "name": "ipython",
    "version": 3
   },
   "file_extension": ".py",
   "mimetype": "text/x-python",
   "name": "python",
   "nbconvert_exporter": "python",
   "pygments_lexer": "ipython3",
<<<<<<< HEAD
   "version": "3.6.5"
=======
   "version": "3.7.1"
>>>>>>> 362598b1dcc8eb54e86c0109d338177dfbd6b2f8
  }
 },
 "nbformat": 4,
 "nbformat_minor": 1
}
